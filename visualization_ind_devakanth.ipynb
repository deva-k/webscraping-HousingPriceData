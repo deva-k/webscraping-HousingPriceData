{
 "cells": [
  {
   "cell_type": "markdown",
   "metadata": {},
   "source": [
    "# Visualization"
   ]
  },
  {
   "cell_type": "code",
   "execution_count": null,
   "metadata": {},
   "outputs": [],
   "source": [
    "Name : DEVAKANTH KALAPATI"
   ]
  },
  {
   "cell_type": "code",
   "execution_count": null,
   "metadata": {},
   "outputs": [],
   "source": [
    "______________________________________________________ VISUALIZATION ___________________________________________________________"
   ]
  },
  {
   "cell_type": "code",
   "execution_count": null,
   "metadata": {},
   "outputs": [],
   "source": [
    "pip install bokeh"
   ]
  },
  {
   "cell_type": "code",
   "execution_count": null,
   "metadata": {},
   "outputs": [],
   "source": [
    "import pandas as pd \n",
    "import time\n",
    "import numpy as np"
   ]
  },
  {
   "cell_type": "code",
   "execution_count": null,
   "metadata": {},
   "outputs": [],
   "source": [
    "import os\n",
    "from os.path import dirname, join"
   ]
  },
  {
   "cell_type": "code",
   "execution_count": null,
   "metadata": {},
   "outputs": [],
   "source": [
    "datah = pd.read_csv(join(os.path.dirname(\"__file__\"), \"ind_data_latest.csv\"))"
   ]
  },
  {
   "cell_type": "code",
   "execution_count": null,
   "metadata": {},
   "outputs": [],
   "source": [
    "datah = datah.sort_values('price',ascending=False)"
   ]
  },
  {
   "cell_type": "code",
   "execution_count": null,
   "metadata": {},
   "outputs": [],
   "source": [
    "from bokeh.plotting import figure, output_file, show, ColumnDataSource\n",
    "from bokeh.models.tools import HoverTool\n",
    "from bokeh.models import FuncTickFormatter,Div, Select, Slider, TextInput\n",
    "from bokeh.models import BasicTickFormatter\n",
    "from bokeh.models import NumeralTickFormatter\n",
    "from bokeh.transform import factor_cmap, factor_mark\n",
    "import ipywidgets\n",
    "from bokeh.io import push_notebook,output_notebook\n",
    "from bokeh.layouts import column, layout,row\n",
    "from bokeh.models.widgets import Panel, Tabs\n",
    "from bokeh.io import curdoc\n",
    "from bokeh.models.callbacks import CustomJS"
   ]
  },
  {
   "cell_type": "code",
   "execution_count": null,
   "metadata": {},
   "outputs": [],
   "source": [
    "from bokeh.models import LinearColorMapper, ColorBar\n",
    "from bokeh.transform import transform"
   ]
  },
  {
   "cell_type": "code",
   "execution_count": null,
   "metadata": {},
   "outputs": [],
   "source": [
    "output_file(\"devakanth_individual.html\")"
   ]
  },
  {
   "cell_type": "markdown",
   "metadata": {},
   "source": [
    "# Chart1"
   ]
  },
  {
   "cell_type": "code",
   "execution_count": null,
   "metadata": {},
   "outputs": [],
   "source": [
    "#data for graph1"
   ]
  },
  {
   "cell_type": "code",
   "execution_count": null,
   "metadata": {},
   "outputs": [],
   "source": [
    "groupdatadf = datah[[\"city\",\"Type\",\"serial\"]].groupby(['city','Type'],as_index=False).agg(\"count\")"
   ]
  },
  {
   "cell_type": "code",
   "execution_count": null,
   "metadata": {},
   "outputs": [],
   "source": [
    "groupdatadf = groupdatadf.pivot(index='city',columns='Type',values='serial')"
   ]
  },
  {
   "cell_type": "code",
   "execution_count": null,
   "metadata": {},
   "outputs": [],
   "source": [
    "groupdatadf.columns.name = None\n",
    "groupdatadf = groupdatadf.reset_index()\n",
    "groupdatadf"
   ]
  },
  {
   "cell_type": "code",
   "execution_count": null,
   "metadata": {},
   "outputs": [],
   "source": [
    "#chart1 using bokeh"
   ]
  },
  {
   "cell_type": "code",
   "execution_count": null,
   "metadata": {},
   "outputs": [],
   "source": [
    "from bokeh.transform import dodge\n",
    "\n",
    "\n",
    "\n",
    "dt = ColumnDataSource(groupdatadf)\n",
    "\n",
    "\n",
    "pl = figure(x_range = groupdatadf['city'], plot_height=400, title=\"Types per City\",  x_axis_label = 'City',\n",
    "    y_axis_label = 'No. of Houses',\n",
    "           toolbar_location=None, tools=\"pan,box_select,zoom_in,zoom_out\")\n",
    "\n",
    "\n",
    "pl.vbar(x=dodge('city', 0.15, range=pl.x_range), top='Appartement', width=0.3 ,source=dt,\n",
    "       color=\"orangered\", muted_color='orangered', muted_alpha=0.2, legend=\"appartement\")\n",
    "\n",
    "pl.vbar(x=dodge('city', -0.15,  range=pl.x_range), top='Maison', width=0.3, source=dt,\n",
    "       color=\"orange\", muted_color='orange', muted_alpha=0.2, legend=\"maison\")\n",
    "\n",
    "\n",
    "tab1 = Panel(child=pl, title=\"Types per City\")\n",
    "\n",
    "#pl.legend.location = \"top_left\"\n",
    "pl.legend.orientation = \"horizontal\"\n",
    "pl.legend.click_policy=\"mute\"\n",
    "output_notebook()\n",
    "push_notebook()\n",
    "\n",
    "\n",
    "show(pl,notebook_handle=True)\n"
   ]
  },
  {
   "cell_type": "markdown",
   "metadata": {},
   "source": [
    "# Chart2"
   ]
  },
  {
   "cell_type": "code",
   "execution_count": null,
   "metadata": {},
   "outputs": [],
   "source": [
    "#data for chart2"
   ]
  },
  {
   "cell_type": "code",
   "execution_count": null,
   "metadata": {},
   "outputs": [],
   "source": [
    "mean_area = datah[[\"city\",\"Type\",\"area\"]].groupby(['city','Type'],as_index=False).agg(\"mean\")"
   ]
  },
  {
   "cell_type": "code",
   "execution_count": null,
   "metadata": {},
   "outputs": [],
   "source": [
    "mean_area = mean_area.pivot(index='city',columns='Type',values='area')"
   ]
  },
  {
   "cell_type": "code",
   "execution_count": null,
   "metadata": {},
   "outputs": [],
   "source": [
    "mean_area"
   ]
  },
  {
   "cell_type": "code",
   "execution_count": null,
   "metadata": {},
   "outputs": [],
   "source": [
    "mean_area.columns.name = None\n",
    "mean_area = mean_area.reset_index()\n",
    "mean_area"
   ]
  },
  {
   "cell_type": "code",
   "execution_count": null,
   "metadata": {},
   "outputs": [],
   "source": [
    "#chart2"
   ]
  },
  {
   "cell_type": "code",
   "execution_count": null,
   "metadata": {},
   "outputs": [],
   "source": [
    "from bokeh.transform import dodge\n",
    "\n",
    "dt2 = ColumnDataSource(mean_area)\n",
    "\n",
    "\n",
    "pl1 = figure(x_range = mean_area['city'], plot_height=400, title=\"Average Area(m²) per City\",  x_axis_label = 'City',\n",
    "    y_axis_label = 'Avg Area',\n",
    "           toolbar_location=None, tools=\"pan,box_select,zoom_in,zoom_out\")\n",
    "\n",
    "\n",
    "pl1.vbar(x=dodge('city', 0.15, range=pl1.x_range), top='Appartement', width=0.3 ,source=dt2,\n",
    "       color=\"orangered\", muted_color='orangered', muted_alpha=0.2, legend=\"appartement\")\n",
    "\n",
    "pl1.vbar(x=dodge('city', -0.15,  range=pl1.x_range), top='Maison', width=0.3, source=dt2,\n",
    "       color=\"orange\", muted_color='orange', muted_alpha=0.2, legend=\"maison\")\n",
    "\n",
    "tab2 = Panel(child=pl1, title=\"Average area per City\")\n",
    "\n",
    "\n",
    "pl1.legend.orientation = \"horizontal\"\n",
    "pl1.legend.click_policy=\"mute\"\n",
    "\n",
    "show(pl1,notebook_handle=True)\n"
   ]
  },
  {
   "cell_type": "markdown",
   "metadata": {},
   "source": [
    "# Chart3"
   ]
  },
  {
   "cell_type": "code",
   "execution_count": null,
   "metadata": {},
   "outputs": [],
   "source": [
    "#data for chart3"
   ]
  },
  {
   "cell_type": "code",
   "execution_count": null,
   "metadata": {},
   "outputs": [],
   "source": [
    "mean_price = datah[[\"city\",\"Type\",\"price\"]].groupby(['city','Type'],as_index=False).agg(\"mean\")"
   ]
  },
  {
   "cell_type": "code",
   "execution_count": null,
   "metadata": {},
   "outputs": [],
   "source": [
    "mean_price = mean_price.pivot(index='city',columns='Type',values='price')"
   ]
  },
  {
   "cell_type": "code",
   "execution_count": null,
   "metadata": {},
   "outputs": [],
   "source": [
    "mean_price.columns.name = None\n",
    "mean_price = mean_price.reset_index()\n",
    "mean_price[\"Maison\"] = round(mean_price[\"Maison\"])\n",
    "mean_price[\"Appartement\"] = round(mean_price[\"Appartement\"])\n",
    "mean_price"
   ]
  },
  {
   "cell_type": "code",
   "execution_count": null,
   "metadata": {},
   "outputs": [],
   "source": [
    "#chart3"
   ]
  },
  {
   "cell_type": "code",
   "execution_count": null,
   "metadata": {},
   "outputs": [],
   "source": [
    "\n",
    "dt3 = ColumnDataSource(mean_price)\n",
    "\n",
    "\n",
    "pl3 = figure(x_range = mean_area['city'], plot_height=400, title=\"Average price per City\",  x_axis_label = 'City',\n",
    "    y_axis_label = 'Avg price',\n",
    "           toolbar_location=None, tools=\"pan,box_select,zoom_in,zoom_out\")\n",
    "\n",
    "\n",
    "pl3.vbar(x=dodge('city', 0.15, range=pl3.x_range), top='Appartement', width=0.3 ,source=dt3,\n",
    "       color=\"orangered\", muted_color='orangered', muted_alpha=0.2, legend=\"appartement\")\n",
    "\n",
    "pl3.vbar(x=dodge('city', -0.15,  range=pl3.x_range), top='Maison', width=0.3, source=dt3,\n",
    "       color=\"orange\", muted_color='orange', muted_alpha=0.2, legend=\"maison\")\n",
    "\n",
    "pl3.yaxis.formatter = BasicTickFormatter(use_scientific=False)\n",
    "\n",
    "\n",
    "tab3 = Panel(child=pl3, title=\"Average price per City\")\n",
    "\n",
    "\n",
    "pl3.legend.orientation = \"horizontal\"\n",
    "pl3.legend.click_policy=\"mute\"\n",
    "\n",
    "show(pl3,notebook_handle=True)"
   ]
  },
  {
   "cell_type": "markdown",
   "metadata": {},
   "source": [
    "# Chart4"
   ]
  },
  {
   "cell_type": "code",
   "execution_count": null,
   "metadata": {},
   "outputs": [],
   "source": [
    "cmp = ColumnDataSource(datah)\n",
    "\n",
    "\n",
    "color_mapper = LinearColorMapper(palette='Viridis7', low=datah.price.min(), high=datah.price.max())\n",
    "\n",
    "\n",
    "#use the html file desc2 and save it in the os default directory\n",
    "\n",
    "desc2 = Div(text=open(join(os.path.dirname(\"__file__\"), \"desc2.html\")).read(), sizing_mode=\"stretch_width\")\n",
    "\n",
    "\n",
    "\n",
    "#graph1\n",
    "\n",
    "cmp1 = figure(plot_height=300, plot_width=400, title=\"Area vs Price\", toolbar_location=None,x_axis_label = \"Area (m²)\", y_axis_label = \"Price\" ,sizing_mode=\"scale_both\")\n",
    "cmp1.circle(x=\"area\", y=\"price\", source=cmp, size=7, color=transform('price', color_mapper), line_color=None)\n",
    "cmp1.yaxis.formatter = BasicTickFormatter(use_scientific=False)\n",
    "cmp1.yaxis.visible = None\n",
    "\n",
    "color_bar1 = ColorBar(color_mapper=color_mapper, label_standoff=12, location=(0,0), title='Price')\n",
    "color_bar1.formatter = BasicTickFormatter(use_scientific=False)\n",
    "cmp1.add_layout(color_bar1, 'right')\n",
    "\n",
    "hovercmp1 = HoverTool()\n",
    "hovercmp1.tooltips = \"\"\"\n",
    "<div>\n",
    "    <h3>@city</h3>\n",
    "    <div><strong>Area(m²): @area</div></strong>\n",
    "    <div><strong>Price(€): @price</div></strong>\n",
    "</div>\n",
    "\"\"\"\n",
    "cmp1.add_tools(hovercmp1)\n",
    "\n",
    "\n",
    "\n",
    "#graph2\n",
    "\n",
    "\n",
    "cmp2 = figure(plot_height=300, plot_width=400, title=\"Rooms vs Price\", toolbar_location=None,x_axis_label = \"Number of rooms\", y_axis_label = \"Price\" , sizing_mode=\"scale_both\")\n",
    "cmp2.circle(x=\"nbr_rooms\", y=\"price\", source=cmp, size=7, color=transform('price', color_mapper), line_color=None)\n",
    "cmp2.yaxis.formatter = BasicTickFormatter(use_scientific=False)\n",
    "cmp2.yaxis.visible = None\n",
    "\n",
    "color_bar2 = ColorBar(color_mapper=color_mapper, label_standoff=12, location=(0,0), title='Price')\n",
    "color_bar2.formatter = BasicTickFormatter(use_scientific=False)\n",
    "cmp2.add_layout(color_bar2, 'right')\n",
    "\n",
    "hovercmp2 = HoverTool()\n",
    "hovercmp2.tooltips = \"\"\"\n",
    "<div>\n",
    "    <h3>@city</h3>\n",
    "    <div><strong>Number of rooms: @nbr_rooms</div></strong>\n",
    "    <div><strong>Price(€): @price</div></strong>\n",
    "</div>\n",
    "\"\"\"\n",
    "cmp2.add_tools(hovercmp2)\n",
    "\n",
    "\n",
    "\n",
    "\n",
    "#graph3\n",
    "\n",
    "\n",
    "color_mapper3 = LinearColorMapper(palette='Inferno5', low=datah.nbr_rooms.min(), high=datah.nbr_rooms.max())\n",
    "\n",
    "cmp3 = figure(plot_height=300, plot_width=400, title=\"Area vs Rooms\", toolbar_location=None, x_axis_label = \"Area (m²)\", y_axis_label = \"Number of rooms\" ,sizing_mode=\"scale_both\")\n",
    "cmp3.circle(x=\"area\", y=\"nbr_rooms\", source=cmp, size=7, color=transform('nbr_rooms', color_mapper3), line_color=None)\n",
    "cmp3.yaxis.formatter = BasicTickFormatter(use_scientific=False)\n",
    "cmp3.yaxis.visible = None\n",
    "\n",
    "color_bar3 = ColorBar(color_mapper=color_mapper3, label_standoff=12, location=(0,0), title='Rooms')\n",
    "cmp3.add_layout(color_bar3, 'right')\n",
    "\n",
    "hovercmp3 = HoverTool()\n",
    "hovercmp3.tooltips = \"\"\"\n",
    "<div>\n",
    "    <h3>@city</h3>\n",
    "    <div><strong>Area(m²): @area</div></strong>\n",
    "    <div><strong>Number of rooms: @nbr_rooms</div></strong>\n",
    "</div>\n",
    "\"\"\"\n",
    "cmp3.add_tools(hovercmp3)\n",
    "\n",
    "\n",
    "\n",
    "f = row(cmp1,cmp2,cmp3)\n",
    "\n",
    "l1 = layout([\n",
    "    [desc2],\n",
    "    [f],\n",
    "])\n",
    "\n",
    "\n",
    "tab4 = Panel(child=l1, title=\"Correlation\")\n",
    "\n",
    "show(l1)"
   ]
  },
  {
   "cell_type": "markdown",
   "metadata": {},
   "source": [
    "# Chart5"
   ]
  },
  {
   "cell_type": "code",
   "execution_count": null,
   "metadata": {},
   "outputs": [],
   "source": [
    "\n",
    "\n",
    "#use the html file desc1 and save it in the os default directory\n",
    "\n",
    "desc1 = Div(text=open(join(os.path.dirname(\"__file__\"), \"desc1.html\")).read(), sizing_mode=\"stretch_width\")\n",
    "\n",
    "\n",
    "\n",
    "Type = [\"Maison\",\"Appartement\"]\n",
    "markers = [\"hex\",\"triangle\"]\n",
    "\n",
    "\n",
    "\n",
    "\n",
    "dat = ColumnDataSource(datah)\n",
    "plot = figure(plot_width=900, plot_height=400,   x_axis_label = 'Area',\n",
    "    y_axis_label = 'Price',title = 'Area vs Price',background_fill_color='#efefef')\n",
    "#plot.xaxis.visible = None\n",
    "\n",
    "\n",
    "#colormap = {'Appartement': 'red', 'Maison': 'green','Studio' : 'blue'}\n",
    "#colors = [colormap[x] for x in datah['Type']]\n",
    "\n",
    "plot.scatter(x='area', y='price', size=20,\n",
    "                   color=factor_cmap(field_name = 'Type', palette = 'Dark2_3', factors = Type),marker = factor_mark('Type',markers,Type), line_width=2,legend = 'Type',source = dat)\n",
    "\n",
    "#tab5 = Panel(child=plot,title = \"Playground\")\n",
    "\n",
    "#plot.xgrid.grid_line_color = None\n",
    "#plot.ygrid.grid_line_color = None\n",
    "\n",
    "#plot.yaxis.ticker = [60000,260000,460000,660000,860000,1060000,1260000,1460000,1660000]\n",
    "\n",
    "plot.yaxis.formatter = BasicTickFormatter(use_scientific=False)\n",
    "\n",
    "plot.yaxis.formatter = NumeralTickFormatter(format=\"€0\")\n",
    "\n",
    "hover1 = HoverTool()\n",
    "hover1.tooltips = \"\"\"\n",
    "<div>\n",
    "    <h3>@address</h3>\n",
    "    <div><img src=\"@image_link\" alt=\"\" /></div>\n",
    "    <div><strong>Type: @Type</div></strong>\n",
    "    <div><strong>Price(€): @price</div></strong>\n",
    "    <div><strong>City: @city</div></strong>\n",
    "    <div><strong>Rooms: @nbr_rooms</div></strong>\n",
    "    <div><strong>Area(m²): @area</div></strong>\n",
    "</div>\n",
    "\"\"\"\n",
    "\n",
    "\n",
    "plot.add_tools(hover1)\n",
    "\n",
    "plot.legend.location = \"top_left\"\n",
    "plot.legend.click_policy=\"mute\"\n",
    "output_notebook()\n",
    "#push_notebook()\n",
    "\n",
    "l = layout([\n",
    "    [desc1],\n",
    "    [plot],\n",
    "])\n",
    "\n",
    "show(l, notebook_handle=True)\n",
    "tab5 = Panel(child=l,title = \"Playground\")\n",
    "\n"
   ]
  },
  {
   "cell_type": "markdown",
   "metadata": {},
   "source": [
    "# All the graphs in one panel"
   ]
  },
  {
   "cell_type": "code",
   "execution_count": null,
   "metadata": {},
   "outputs": [],
   "source": [
    "tabs = Tabs(tabs=[ tab1, tab2, tab3, tab4, tab5])\n",
    "\n",
    "show(tabs)"
   ]
  },
  {
   "cell_type": "markdown",
   "metadata": {},
   "source": [
    "# Under developement"
   ]
  },
  {
   "cell_type": "code",
   "execution_count": null,
   "metadata": {},
   "outputs": [],
   "source": [
    "# Here I am trying to change the axis dynamically by using widgets which will replicate the chart4 comparisons all in one graph"
   ]
  },
  {
   "cell_type": "code",
   "execution_count": null,
   "metadata": {},
   "outputs": [],
   "source": [
    "############################### experimentation ####################################################"
   ]
  },
  {
   "cell_type": "code",
   "execution_count": null,
   "metadata": {},
   "outputs": [],
   "source": [
    "\n",
    "\n",
    "\n",
    "axis_map = {\n",
    "    \"Price of house\": \"price\",\n",
    "    \"Number of rooms\": \"nbr_rooms\",\n",
    "    \"Area per ms\": \"area\",\n",
    "}\n",
    "\n",
    "x_axis = Select(title=\"X Axis\", options=sorted(axis_map.keys()), value=\"Price of house\")\n",
    "y_axis = Select(title=\"Y Axis\", options=sorted(axis_map.keys()), value=\"Number of rooms\")\n",
    "\n",
    "source = ColumnDataSource(data=dict(x=[], y=[]))\n",
    "\n",
    "pa = figure(plot_height=500, plot_width=600, title=\"\", toolbar_location=None, sizing_mode=\"scale_both\")\n",
    "pa.circle(x=\"x\", y=\"y\", source=source, size=7, color=\"red\", line_color=None)\n",
    "\n",
    "\n",
    "\n",
    "def update():\n",
    "    df = datah\n",
    "    x_name = axis_map[x_axis.value]\n",
    "    y_name = axis_map[y_axis.value]\n",
    "\n",
    "    pa.xaxis.axis_label = x_axis.value\n",
    "    pa.yaxis.axis_label = y_axis.value\n",
    "    source.data = dict(\n",
    "        x=df[x_name],\n",
    "        y=df[y_name],\n",
    "    )\n",
    "\n",
    "\n",
    "controls = [x_axis, y_axis]\n",
    "for control in controls:\n",
    "    control.on_change('value', lambda attr, old, new: update())\n",
    "    \n",
    "inputs = column(*controls, width=320, height=1000)\n",
    "inputs.sizing_mode = \"fixed\"\n",
    "l = layout([\n",
    "    [inputs, pa]\n",
    "])  \n",
    " \n",
    "\n",
    "\n",
    "update()  # initial load of the data\n",
    "\n",
    "#curdoc().add_root(column(x_axis,y_axis,pa))\n",
    "#curdoc().title = \"Movies\"\n",
    "#layout1 = row(x_axis,y_axis)\n",
    "#layout2 = column(layout1,pa)\n",
    "\n",
    "show(l)\n",
    "\n"
   ]
  },
  {
   "cell_type": "code",
   "execution_count": null,
   "metadata": {},
   "outputs": [],
   "source": [
    "from bokeh.io import curdoc\n",
    "from bokeh.layouts import column, layout,row\n",
    "from bokeh.models import ColumnDataSource, Div, Select, Slider, TextInput\n",
    "from bokeh.models.callbacks import CustomJS\n",
    "from bokeh.plotting import figure\n",
    "import ipywidgets\n",
    "from bokeh.models import Range1d\n",
    "\n",
    "\n",
    "\n",
    "\n",
    "# widget\n",
    "drop_down = ipywidgets.Dropdown(options=[\"price\",\"nbr_rooms\",\"area\"],\n",
    "                                value=\"price\",\n",
    "                                description='years:',\n",
    "                                disabled=False)\n",
    "\n",
    "\n",
    "source = ColumnDataSource(datah)\n",
    "\n",
    "pal = figure(plot_height=500, plot_width=600, title=\"\", toolbar_location=None, sizing_mode=\"scale_both\")\n",
    "gh = pal.circle(x=\"area\", y=\"price\", source=source, size=7, color=\"red\", line_color=None)\n",
    "\n",
    "\n",
    "\n",
    "def update1(axs):\n",
    "    pa.xaxis.axis_label = axs\n",
    "    source.data = dict(\n",
    "        x=datah[axs],\n",
    "    )\n",
    "    gh = pal.circle(x=x, y=\"price\", source=source, size=7, color=\"red\", line_color=None)\n",
    "    push_notebook()\n",
    "\n",
    " # initial load of the data\n",
    "\n",
    "#curdoc().add_root(column(x_axis,y_axis,pa))\n",
    "#curdoc().title = \"Movies\"\n",
    "#layout1 = row(x_axis,y_axis)\n",
    "#layout2 = column(layout1,pa)\n",
    "show(pal,notebook_handle=True)\n",
    "ipywidgets.interact(update1, axs=drop_down)\n",
    "\n",
    "\n"
   ]
  },
  {
   "cell_type": "code",
   "execution_count": null,
   "metadata": {},
   "outputs": [],
   "source": [
    "from bokeh.io import curdoc\n",
    "from bokeh.layouts import column, layout,row\n",
    "from bokeh.models import ColumnDataSource, Div, Select, Slider, TextInput\n",
    "from bokeh.models.callbacks import CustomJS\n",
    "from bokeh.plotting import figure\n",
    "\n",
    "\n",
    "axis_map = {\n",
    "    \"Price of house\": \"price\",\n",
    "    \"Number of rooms\": \"nbr_rooms\",\n",
    "    \"Area per ms\": \"area\",\n",
    "}\n",
    "\n",
    "x_axis = Select(title=\"X Axis\", options=[\"price\",\"nbr_rooms\",\"area\"], value=\"price\")\n",
    "\n",
    "\n",
    "source = ColumnDataSource(data=dict(x=[], y=[]))\n",
    "\n",
    "pa = figure(plot_height=500, plot_width=600, title=\"\", toolbar_location=None, sizing_mode=\"scale_both\")\n",
    "pa.circle(x=\"x\", y=\"y\", source=source, size=7, color=\"red\", line_color=None)\n",
    "\n",
    "\n",
    "update = CustomJS(args=dict(source=source), code=\"\"\"\n",
    "    var data = source.data\n",
    "    var f = x_axis.value\n",
    "    source.data[\"x\"] = data[f]\n",
    "    x_name = axis_map[x_axis.value]\n",
    "    pa.xaxis.axis_label = x_axis.value\n",
    "    source.change.emit();\n",
    "\"\"\")\n",
    "\n",
    "\n",
    "\n",
    "x_axis.js_on_change('value', update)\n",
    "    \n",
    "inputs = column(*controls, width=320, height=1000)\n",
    "inputs.sizing_mode = \"fixed\"\n",
    "l = layout([\n",
    "    [inputs, pa]\n",
    "])  \n",
    " \n",
    "\n",
    "\n",
    "#update()  # initial load of the data\n",
    "\n",
    "#curdoc().add_root(column(x_axis,y_axis,pa))\n",
    "#curdoc().title = \"Movies\"\n",
    "#layout1 = row(x_axis,y_axis)\n",
    "#layout2 = column(layout1,pa)\n",
    "\n",
    "show(l)\n",
    "\n"
   ]
  },
  {
   "cell_type": "code",
   "execution_count": null,
   "metadata": {
    "scrolled": true
   },
   "outputs": [],
   "source": [
    "from bokeh.io import curdoc\n",
    "from bokeh.layouts import column, layout,row\n",
    "from bokeh.models import ColumnDataSource, Div, Select, Slider, TextInput\n",
    "from bokeh.models.callbacks import CustomJS\n",
    "from bokeh.plotting import figure\n",
    "\n",
    "\n",
    "df = datah.copy()\n",
    "\n",
    "\n",
    "\n",
    "def updated():\n",
    "    xs = df[x_chn.value].values\n",
    "    ys = df[y_chn.value].values\n",
    "    pa = figure(plot_height=500, plot_width=600, toolbar_location=None, sizing_mode=\"scale_both\")\n",
    "    pa.circle(x=xs, y=ys,size=7, color=\"red\", line_color=None)\n",
    "    return pa\n",
    "\n",
    "\n",
    "def chng(attr, old, new):\n",
    "    layout.children[1] = updated()\n",
    " \n",
    "\n",
    "\n",
    "x_chn = Select(title=\"X Axis\", options= [\"price\",\"nbr_rooms\",\"area\"], value=\"price\")\n",
    "x_chn.on_change('value', chng)\n",
    "\n",
    "y_chn = Select(title=\"Y Axis\", options= [\"price\",\"nbr_rooms\",\"area\"], value=\"nbr_rooms\")\n",
    "y_chn.on_change('value', chng)\n",
    "\n",
    " # initial load of the data\n",
    "\n",
    "#curdoc().add_root(column(x_axis,y_axis,pa))\n",
    "#curdoc().title = \"Movies\"\n",
    "#layout1 = row(x_axis,y_axis)\n",
    "#layout2 = column(layout1,pa)\n",
    "\n",
    "\n",
    "\n",
    "controls = column(x_chn, y_chn, width=200)\n",
    "layout = row(controls, updated())\n",
    "\n",
    "show(layout)\n",
    "\n"
   ]
  },
  {
   "cell_type": "code",
   "execution_count": null,
   "metadata": {},
   "outputs": [],
   "source": [
    "\n",
    "\n",
    "dt = ColumnDataSource(datah)\n",
    "\n",
    "\n",
    "p = figure(\n",
    "    #y = datah['serial'],\n",
    "    title = 'city vs rooms',\n",
    "    plot_width = 800,\n",
    "    plot_height = 600,\n",
    "    x_axis_label = 'price',\n",
    "    y_axis_label = 'houses',\n",
    "    tools = \"pan,box_select,zoom_in,zoom_out\"\n",
    ")\n",
    "\n",
    "p.hbar(y = 'area',\n",
    "       right = 'price',\n",
    "       left = 0,\n",
    "       height = 0.6,\n",
    "       source = dt\n",
    "      \n",
    "      )\n",
    "hover = HoverTool()\n",
    "hover.tooltips = \"\"\"\n",
    "<div>\n",
    "    <h3>@address</h3>\n",
    "    <div><strong>Price(£): </div>@price</strong>\n",
    "    <div><strong>City: </div>@city</strong>\n",
    "    <div><strong>Rooms: </div>@nbr_rooms</strong>\n",
    "    <div><img src=\"@image_link\" alt=\"\" /></div>\n",
    "</div>\n",
    "\"\"\"\n",
    "p.add_tools(hover)\n",
    "\n",
    "show(p)"
   ]
  }
 ],
 "metadata": {
  "kernelspec": {
   "display_name": "Python 3",
   "language": "python",
   "name": "python3"
  },
  "language_info": {
   "codemirror_mode": {
    "name": "ipython",
    "version": 3
   },
   "file_extension": ".py",
   "mimetype": "text/x-python",
   "name": "python",
   "nbconvert_exporter": "python",
   "pygments_lexer": "ipython3",
   "version": "3.7.4"
  }
 },
 "nbformat": 4,
 "nbformat_minor": 2
}
