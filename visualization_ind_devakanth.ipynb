{
 "cells": [
  {
   "cell_type": "markdown",
   "metadata": {},
   "source": [
    "# Visualization"
   ]
  },
  {
   "cell_type": "code",
   "execution_count": null,
   "metadata": {},
   "outputs": [],
   "source": [
    "Name : DEVAKANTH KALAPATI"
   ]
  },
  {
   "cell_type": "code",
   "execution_count": null,
   "metadata": {},
   "outputs": [],
   "source": [
    "______________________________________________________ VISUALIZATION ___________________________________________________________"
   ]
  },
  {
   "cell_type": "code",
   "execution_count": 596,
   "metadata": {},
   "outputs": [
    {
     "name": "stdout",
     "output_type": "stream",
     "text": [
      "Requirement already satisfied: bokeh in c:\\programdata\\anaconda3\\lib\\site-packages (1.2.0)\n",
      "Requirement already satisfied: python-dateutil>=2.1 in c:\\programdata\\anaconda3\\lib\\site-packages (from bokeh) (2.8.0)\n",
      "Requirement already satisfied: Jinja2>=2.7 in c:\\programdata\\anaconda3\\lib\\site-packages (from bokeh) (2.10.1)\n",
      "Requirement already satisfied: numpy>=1.7.1 in c:\\programdata\\anaconda3\\lib\\site-packages (from bokeh) (1.16.4)\n",
      "Requirement already satisfied: pillow>=4.0 in c:\\programdata\\anaconda3\\lib\\site-packages (from bokeh) (6.1.0)\n",
      "Requirement already satisfied: six>=1.5.2 in c:\\programdata\\anaconda3\\lib\\site-packages (from bokeh) (1.12.0)\n",
      "Requirement already satisfied: packaging>=16.8 in c:\\programdata\\anaconda3\\lib\\site-packages (from bokeh) (19.0)\n",
      "Requirement already satisfied: tornado>=4.3 in c:\\programdata\\anaconda3\\lib\\site-packages (from bokeh) (6.0.3)\n",
      "Requirement already satisfied: PyYAML>=3.10 in c:\\programdata\\anaconda3\\lib\\site-packages (from bokeh) (5.1.1)\n",
      "Requirement already satisfied: MarkupSafe>=0.23 in c:\\programdata\\anaconda3\\lib\\site-packages (from Jinja2>=2.7->bokeh) (1.1.1)\n",
      "Requirement already satisfied: pyparsing>=2.0.2 in c:\\programdata\\anaconda3\\lib\\site-packages (from packaging>=16.8->bokeh) (2.4.0)\n",
      "Note: you may need to restart the kernel to use updated packages.\n"
     ]
    }
   ],
   "source": [
    "pip install bokeh"
   ]
  },
  {
   "cell_type": "code",
   "execution_count": 143,
   "metadata": {},
   "outputs": [],
   "source": [
    "import pandas as pd \n",
    "import time\n",
    "import numpy as np"
   ]
  },
  {
   "cell_type": "code",
   "execution_count": null,
   "metadata": {},
   "outputs": [],
   "source": [
    "import os\n",
    "from os.path import dirname, join"
   ]
  },
  {
   "cell_type": "code",
   "execution_count": 144,
   "metadata": {},
   "outputs": [],
   "source": [
    "datah = pd.read_csv(join(os.path.dirname(\"__file__\"), \"ind_data_latest.csv\"))"
   ]
  },
  {
   "cell_type": "code",
   "execution_count": 145,
   "metadata": {},
   "outputs": [],
   "source": [
    "datah = datah.sort_values('price',ascending=False)"
   ]
  },
  {
   "cell_type": "code",
   "execution_count": 146,
   "metadata": {},
   "outputs": [],
   "source": [
    "from bokeh.plotting import figure, output_file, show, ColumnDataSource\n",
    "from bokeh.models.tools import HoverTool\n",
    "from bokeh.models import FuncTickFormatter,Div, Select, Slider, TextInput\n",
    "from bokeh.models import BasicTickFormatter\n",
    "from bokeh.models import NumeralTickFormatter\n",
    "from bokeh.transform import factor_cmap, factor_mark\n",
    "import ipywidgets\n",
    "from bokeh.io import push_notebook,output_notebook\n",
    "from bokeh.layouts import column, layout,row\n",
    "from bokeh.models.widgets import Panel, Tabs\n",
    "from bokeh.io import curdoc\n",
    "from bokeh.models.callbacks import CustomJS"
   ]
  },
  {
   "cell_type": "code",
   "execution_count": 147,
   "metadata": {},
   "outputs": [],
   "source": [
    "from bokeh.models import LinearColorMapper, ColorBar\n",
    "from bokeh.transform import transform"
   ]
  },
  {
   "cell_type": "code",
   "execution_count": 149,
   "metadata": {},
   "outputs": [],
   "source": [
    "output_file(\"devakanth_individual.html\")"
   ]
  },
  {
   "cell_type": "markdown",
   "metadata": {},
   "source": [
    "# Chart1"
   ]
  },
  {
   "cell_type": "code",
   "execution_count": null,
   "metadata": {},
   "outputs": [],
   "source": [
    "#data for graph1"
   ]
  },
  {
   "cell_type": "code",
   "execution_count": 150,
   "metadata": {},
   "outputs": [],
   "source": [
    "groupdatadf = datah[[\"city\",\"Type\",\"serial\"]].groupby(['city','Type'],as_index=False).agg(\"count\")"
   ]
  },
  {
   "cell_type": "code",
   "execution_count": 151,
   "metadata": {},
   "outputs": [],
   "source": [
    "groupdatadf = groupdatadf.pivot(index='city',columns='Type',values='serial')"
   ]
  },
  {
   "cell_type": "code",
   "execution_count": 152,
   "metadata": {},
   "outputs": [
    {
     "data": {
      "text/html": [
       "<div>\n",
       "<style scoped>\n",
       "    .dataframe tbody tr th:only-of-type {\n",
       "        vertical-align: middle;\n",
       "    }\n",
       "\n",
       "    .dataframe tbody tr th {\n",
       "        vertical-align: top;\n",
       "    }\n",
       "\n",
       "    .dataframe thead th {\n",
       "        text-align: right;\n",
       "    }\n",
       "</style>\n",
       "<table border=\"1\" class=\"dataframe\">\n",
       "  <thead>\n",
       "    <tr style=\"text-align: right;\">\n",
       "      <th></th>\n",
       "      <th>city</th>\n",
       "      <th>Appartement</th>\n",
       "      <th>Maison</th>\n",
       "    </tr>\n",
       "  </thead>\n",
       "  <tbody>\n",
       "    <tr>\n",
       "      <th>0</th>\n",
       "      <td>Croix</td>\n",
       "      <td>19</td>\n",
       "      <td>15</td>\n",
       "    </tr>\n",
       "    <tr>\n",
       "      <th>1</th>\n",
       "      <td>Wasquehal</td>\n",
       "      <td>15</td>\n",
       "      <td>12</td>\n",
       "    </tr>\n",
       "  </tbody>\n",
       "</table>\n",
       "</div>"
      ],
      "text/plain": [
       "        city  Appartement  Maison\n",
       "0      Croix           19      15\n",
       "1  Wasquehal           15      12"
      ]
     },
     "execution_count": 152,
     "metadata": {},
     "output_type": "execute_result"
    }
   ],
   "source": [
    "groupdatadf.columns.name = None\n",
    "groupdatadf = groupdatadf.reset_index()\n",
    "groupdatadf"
   ]
  },
  {
   "cell_type": "code",
   "execution_count": 72,
   "metadata": {},
   "outputs": [],
   "source": [
    "#chart1 using bokeh"
   ]
  },
  {
   "cell_type": "code",
   "execution_count": 153,
   "metadata": {},
   "outputs": [
    {
     "data": {
      "text/html": [
       "\n",
       "    <div class=\"bk-root\">\n",
       "        <a href=\"https://bokeh.pydata.org\" target=\"_blank\" class=\"bk-logo bk-logo-small bk-logo-notebook\"></a>\n",
       "        <span id=\"132625\">Loading BokehJS ...</span>\n",
       "    </div>"
      ]
     },
     "metadata": {},
     "output_type": "display_data"
    },
    {
     "data": {
      "application/javascript": [
       "\n",
       "(function(root) {\n",
       "  function now() {\n",
       "    return new Date();\n",
       "  }\n",
       "\n",
       "  var force = true;\n",
       "\n",
       "  if (typeof root._bokeh_onload_callbacks === \"undefined\" || force === true) {\n",
       "    root._bokeh_onload_callbacks = [];\n",
       "    root._bokeh_is_loading = undefined;\n",
       "  }\n",
       "\n",
       "  var JS_MIME_TYPE = 'application/javascript';\n",
       "  var HTML_MIME_TYPE = 'text/html';\n",
       "  var EXEC_MIME_TYPE = 'application/vnd.bokehjs_exec.v0+json';\n",
       "  var CLASS_NAME = 'output_bokeh rendered_html';\n",
       "\n",
       "  /**\n",
       "   * Render data to the DOM node\n",
       "   */\n",
       "  function render(props, node) {\n",
       "    var script = document.createElement(\"script\");\n",
       "    node.appendChild(script);\n",
       "  }\n",
       "\n",
       "  /**\n",
       "   * Handle when an output is cleared or removed\n",
       "   */\n",
       "  function handleClearOutput(event, handle) {\n",
       "    var cell = handle.cell;\n",
       "\n",
       "    var id = cell.output_area._bokeh_element_id;\n",
       "    var server_id = cell.output_area._bokeh_server_id;\n",
       "    // Clean up Bokeh references\n",
       "    if (id != null && id in Bokeh.index) {\n",
       "      Bokeh.index[id].model.document.clear();\n",
       "      delete Bokeh.index[id];\n",
       "    }\n",
       "\n",
       "    if (server_id !== undefined) {\n",
       "      // Clean up Bokeh references\n",
       "      var cmd = \"from bokeh.io.state import curstate; print(curstate().uuid_to_server['\" + server_id + \"'].get_sessions()[0].document.roots[0]._id)\";\n",
       "      cell.notebook.kernel.execute(cmd, {\n",
       "        iopub: {\n",
       "          output: function(msg) {\n",
       "            var id = msg.content.text.trim();\n",
       "            if (id in Bokeh.index) {\n",
       "              Bokeh.index[id].model.document.clear();\n",
       "              delete Bokeh.index[id];\n",
       "            }\n",
       "          }\n",
       "        }\n",
       "      });\n",
       "      // Destroy server and session\n",
       "      var cmd = \"import bokeh.io.notebook as ion; ion.destroy_server('\" + server_id + \"')\";\n",
       "      cell.notebook.kernel.execute(cmd);\n",
       "    }\n",
       "  }\n",
       "\n",
       "  /**\n",
       "   * Handle when a new output is added\n",
       "   */\n",
       "  function handleAddOutput(event, handle) {\n",
       "    var output_area = handle.output_area;\n",
       "    var output = handle.output;\n",
       "\n",
       "    // limit handleAddOutput to display_data with EXEC_MIME_TYPE content only\n",
       "    if ((output.output_type != \"display_data\") || (!output.data.hasOwnProperty(EXEC_MIME_TYPE))) {\n",
       "      return\n",
       "    }\n",
       "\n",
       "    var toinsert = output_area.element.find(\".\" + CLASS_NAME.split(' ')[0]);\n",
       "\n",
       "    if (output.metadata[EXEC_MIME_TYPE][\"id\"] !== undefined) {\n",
       "      toinsert[toinsert.length - 1].firstChild.textContent = output.data[JS_MIME_TYPE];\n",
       "      // store reference to embed id on output_area\n",
       "      output_area._bokeh_element_id = output.metadata[EXEC_MIME_TYPE][\"id\"];\n",
       "    }\n",
       "    if (output.metadata[EXEC_MIME_TYPE][\"server_id\"] !== undefined) {\n",
       "      var bk_div = document.createElement(\"div\");\n",
       "      bk_div.innerHTML = output.data[HTML_MIME_TYPE];\n",
       "      var script_attrs = bk_div.children[0].attributes;\n",
       "      for (var i = 0; i < script_attrs.length; i++) {\n",
       "        toinsert[toinsert.length - 1].firstChild.setAttribute(script_attrs[i].name, script_attrs[i].value);\n",
       "      }\n",
       "      // store reference to server id on output_area\n",
       "      output_area._bokeh_server_id = output.metadata[EXEC_MIME_TYPE][\"server_id\"];\n",
       "    }\n",
       "  }\n",
       "\n",
       "  function register_renderer(events, OutputArea) {\n",
       "\n",
       "    function append_mime(data, metadata, element) {\n",
       "      // create a DOM node to render to\n",
       "      var toinsert = this.create_output_subarea(\n",
       "        metadata,\n",
       "        CLASS_NAME,\n",
       "        EXEC_MIME_TYPE\n",
       "      );\n",
       "      this.keyboard_manager.register_events(toinsert);\n",
       "      // Render to node\n",
       "      var props = {data: data, metadata: metadata[EXEC_MIME_TYPE]};\n",
       "      render(props, toinsert[toinsert.length - 1]);\n",
       "      element.append(toinsert);\n",
       "      return toinsert\n",
       "    }\n",
       "\n",
       "    /* Handle when an output is cleared or removed */\n",
       "    events.on('clear_output.CodeCell', handleClearOutput);\n",
       "    events.on('delete.Cell', handleClearOutput);\n",
       "\n",
       "    /* Handle when a new output is added */\n",
       "    events.on('output_added.OutputArea', handleAddOutput);\n",
       "\n",
       "    /**\n",
       "     * Register the mime type and append_mime function with output_area\n",
       "     */\n",
       "    OutputArea.prototype.register_mime_type(EXEC_MIME_TYPE, append_mime, {\n",
       "      /* Is output safe? */\n",
       "      safe: true,\n",
       "      /* Index of renderer in `output_area.display_order` */\n",
       "      index: 0\n",
       "    });\n",
       "  }\n",
       "\n",
       "  // register the mime type if in Jupyter Notebook environment and previously unregistered\n",
       "  if (root.Jupyter !== undefined) {\n",
       "    var events = require('base/js/events');\n",
       "    var OutputArea = require('notebook/js/outputarea').OutputArea;\n",
       "\n",
       "    if (OutputArea.prototype.mime_types().indexOf(EXEC_MIME_TYPE) == -1) {\n",
       "      register_renderer(events, OutputArea);\n",
       "    }\n",
       "  }\n",
       "\n",
       "  \n",
       "  if (typeof (root._bokeh_timeout) === \"undefined\" || force === true) {\n",
       "    root._bokeh_timeout = Date.now() + 5000;\n",
       "    root._bokeh_failed_load = false;\n",
       "  }\n",
       "\n",
       "  var NB_LOAD_WARNING = {'data': {'text/html':\n",
       "     \"<div style='background-color: #fdd'>\\n\"+\n",
       "     \"<p>\\n\"+\n",
       "     \"BokehJS does not appear to have successfully loaded. If loading BokehJS from CDN, this \\n\"+\n",
       "     \"may be due to a slow or bad network connection. Possible fixes:\\n\"+\n",
       "     \"</p>\\n\"+\n",
       "     \"<ul>\\n\"+\n",
       "     \"<li>re-rerun `output_notebook()` to attempt to load from CDN again, or</li>\\n\"+\n",
       "     \"<li>use INLINE resources instead, as so:</li>\\n\"+\n",
       "     \"</ul>\\n\"+\n",
       "     \"<code>\\n\"+\n",
       "     \"from bokeh.resources import INLINE\\n\"+\n",
       "     \"output_notebook(resources=INLINE)\\n\"+\n",
       "     \"</code>\\n\"+\n",
       "     \"</div>\"}};\n",
       "\n",
       "  function display_loaded() {\n",
       "    var el = document.getElementById(\"132625\");\n",
       "    if (el != null) {\n",
       "      el.textContent = \"BokehJS is loading...\";\n",
       "    }\n",
       "    if (root.Bokeh !== undefined) {\n",
       "      if (el != null) {\n",
       "        el.textContent = \"BokehJS \" + root.Bokeh.version + \" successfully loaded.\";\n",
       "      }\n",
       "    } else if (Date.now() < root._bokeh_timeout) {\n",
       "      setTimeout(display_loaded, 100)\n",
       "    }\n",
       "  }\n",
       "\n",
       "\n",
       "  function run_callbacks() {\n",
       "    try {\n",
       "      root._bokeh_onload_callbacks.forEach(function(callback) {\n",
       "        if (callback != null)\n",
       "          callback();\n",
       "      });\n",
       "    } finally {\n",
       "      delete root._bokeh_onload_callbacks\n",
       "    }\n",
       "    console.debug(\"Bokeh: all callbacks have finished\");\n",
       "  }\n",
       "\n",
       "  function load_libs(css_urls, js_urls, callback) {\n",
       "    if (css_urls == null) css_urls = [];\n",
       "    if (js_urls == null) js_urls = [];\n",
       "\n",
       "    root._bokeh_onload_callbacks.push(callback);\n",
       "    if (root._bokeh_is_loading > 0) {\n",
       "      console.debug(\"Bokeh: BokehJS is being loaded, scheduling callback at\", now());\n",
       "      return null;\n",
       "    }\n",
       "    if (js_urls == null || js_urls.length === 0) {\n",
       "      run_callbacks();\n",
       "      return null;\n",
       "    }\n",
       "    console.debug(\"Bokeh: BokehJS not loaded, scheduling load and callback at\", now());\n",
       "    root._bokeh_is_loading = css_urls.length + js_urls.length;\n",
       "\n",
       "    function on_load() {\n",
       "      root._bokeh_is_loading--;\n",
       "      if (root._bokeh_is_loading === 0) {\n",
       "        console.debug(\"Bokeh: all BokehJS libraries/stylesheets loaded\");\n",
       "        run_callbacks()\n",
       "      }\n",
       "    }\n",
       "\n",
       "    function on_error() {\n",
       "      console.error(\"failed to load \" + url);\n",
       "    }\n",
       "\n",
       "    for (var i = 0; i < css_urls.length; i++) {\n",
       "      var url = css_urls[i];\n",
       "      const element = document.createElement(\"link\");\n",
       "      element.onload = on_load;\n",
       "      element.onerror = on_error;\n",
       "      element.rel = \"stylesheet\";\n",
       "      element.type = \"text/css\";\n",
       "      element.href = url;\n",
       "      console.debug(\"Bokeh: injecting link tag for BokehJS stylesheet: \", url);\n",
       "      document.body.appendChild(element);\n",
       "    }\n",
       "\n",
       "    for (var i = 0; i < js_urls.length; i++) {\n",
       "      var url = js_urls[i];\n",
       "      var element = document.createElement('script');\n",
       "      element.onload = on_load;\n",
       "      element.onerror = on_error;\n",
       "      element.async = false;\n",
       "      element.src = url;\n",
       "      console.debug(\"Bokeh: injecting script tag for BokehJS library: \", url);\n",
       "      document.head.appendChild(element);\n",
       "    }\n",
       "  };var element = document.getElementById(\"132625\");\n",
       "  if (element == null) {\n",
       "    console.error(\"Bokeh: ERROR: autoload.js configured with elementid '132625' but no matching script tag was found. \")\n",
       "    return false;\n",
       "  }\n",
       "\n",
       "  function inject_raw_css(css) {\n",
       "    const element = document.createElement(\"style\");\n",
       "    element.appendChild(document.createTextNode(css));\n",
       "    document.body.appendChild(element);\n",
       "  }\n",
       "\n",
       "  var js_urls = [\"https://cdn.pydata.org/bokeh/release/bokeh-1.2.0.min.js\", \"https://cdn.pydata.org/bokeh/release/bokeh-widgets-1.2.0.min.js\", \"https://cdn.pydata.org/bokeh/release/bokeh-tables-1.2.0.min.js\", \"https://cdn.pydata.org/bokeh/release/bokeh-gl-1.2.0.min.js\"];\n",
       "  var css_urls = [\"https://cdn.pydata.org/bokeh/release/bokeh-1.2.0.min.css\", \"https://cdn.pydata.org/bokeh/release/bokeh-widgets-1.2.0.min.css\", \"https://cdn.pydata.org/bokeh/release/bokeh-tables-1.2.0.min.css\"];\n",
       "\n",
       "  var inline_js = [\n",
       "    function(Bokeh) {\n",
       "      Bokeh.set_log_level(\"info\");\n",
       "    },\n",
       "    \n",
       "    function(Bokeh) {\n",
       "      \n",
       "    },\n",
       "    function(Bokeh) {} // ensure no trailing comma for IE\n",
       "  ];\n",
       "\n",
       "  function run_inline_js() {\n",
       "    \n",
       "    if ((root.Bokeh !== undefined) || (force === true)) {\n",
       "      for (var i = 0; i < inline_js.length; i++) {\n",
       "        inline_js[i].call(root, root.Bokeh);\n",
       "      }if (force === true) {\n",
       "        display_loaded();\n",
       "      }} else if (Date.now() < root._bokeh_timeout) {\n",
       "      setTimeout(run_inline_js, 100);\n",
       "    } else if (!root._bokeh_failed_load) {\n",
       "      console.log(\"Bokeh: BokehJS failed to load within specified timeout.\");\n",
       "      root._bokeh_failed_load = true;\n",
       "    } else if (force !== true) {\n",
       "      var cell = $(document.getElementById(\"132625\")).parents('.cell').data().cell;\n",
       "      cell.output_area.append_execute_result(NB_LOAD_WARNING)\n",
       "    }\n",
       "\n",
       "  }\n",
       "\n",
       "  if (root._bokeh_is_loading === 0) {\n",
       "    console.debug(\"Bokeh: BokehJS loaded, going straight to plotting\");\n",
       "    run_inline_js();\n",
       "  } else {\n",
       "    load_libs(css_urls, js_urls, function() {\n",
       "      console.debug(\"Bokeh: BokehJS plotting callback run at\", now());\n",
       "      run_inline_js();\n",
       "    });\n",
       "  }\n",
       "}(window));"
      ],
      "application/vnd.bokehjs_load.v0+json": "\n(function(root) {\n  function now() {\n    return new Date();\n  }\n\n  var force = true;\n\n  if (typeof root._bokeh_onload_callbacks === \"undefined\" || force === true) {\n    root._bokeh_onload_callbacks = [];\n    root._bokeh_is_loading = undefined;\n  }\n\n  \n\n  \n  if (typeof (root._bokeh_timeout) === \"undefined\" || force === true) {\n    root._bokeh_timeout = Date.now() + 5000;\n    root._bokeh_failed_load = false;\n  }\n\n  var NB_LOAD_WARNING = {'data': {'text/html':\n     \"<div style='background-color: #fdd'>\\n\"+\n     \"<p>\\n\"+\n     \"BokehJS does not appear to have successfully loaded. If loading BokehJS from CDN, this \\n\"+\n     \"may be due to a slow or bad network connection. Possible fixes:\\n\"+\n     \"</p>\\n\"+\n     \"<ul>\\n\"+\n     \"<li>re-rerun `output_notebook()` to attempt to load from CDN again, or</li>\\n\"+\n     \"<li>use INLINE resources instead, as so:</li>\\n\"+\n     \"</ul>\\n\"+\n     \"<code>\\n\"+\n     \"from bokeh.resources import INLINE\\n\"+\n     \"output_notebook(resources=INLINE)\\n\"+\n     \"</code>\\n\"+\n     \"</div>\"}};\n\n  function display_loaded() {\n    var el = document.getElementById(\"132625\");\n    if (el != null) {\n      el.textContent = \"BokehJS is loading...\";\n    }\n    if (root.Bokeh !== undefined) {\n      if (el != null) {\n        el.textContent = \"BokehJS \" + root.Bokeh.version + \" successfully loaded.\";\n      }\n    } else if (Date.now() < root._bokeh_timeout) {\n      setTimeout(display_loaded, 100)\n    }\n  }\n\n\n  function run_callbacks() {\n    try {\n      root._bokeh_onload_callbacks.forEach(function(callback) {\n        if (callback != null)\n          callback();\n      });\n    } finally {\n      delete root._bokeh_onload_callbacks\n    }\n    console.debug(\"Bokeh: all callbacks have finished\");\n  }\n\n  function load_libs(css_urls, js_urls, callback) {\n    if (css_urls == null) css_urls = [];\n    if (js_urls == null) js_urls = [];\n\n    root._bokeh_onload_callbacks.push(callback);\n    if (root._bokeh_is_loading > 0) {\n      console.debug(\"Bokeh: BokehJS is being loaded, scheduling callback at\", now());\n      return null;\n    }\n    if (js_urls == null || js_urls.length === 0) {\n      run_callbacks();\n      return null;\n    }\n    console.debug(\"Bokeh: BokehJS not loaded, scheduling load and callback at\", now());\n    root._bokeh_is_loading = css_urls.length + js_urls.length;\n\n    function on_load() {\n      root._bokeh_is_loading--;\n      if (root._bokeh_is_loading === 0) {\n        console.debug(\"Bokeh: all BokehJS libraries/stylesheets loaded\");\n        run_callbacks()\n      }\n    }\n\n    function on_error() {\n      console.error(\"failed to load \" + url);\n    }\n\n    for (var i = 0; i < css_urls.length; i++) {\n      var url = css_urls[i];\n      const element = document.createElement(\"link\");\n      element.onload = on_load;\n      element.onerror = on_error;\n      element.rel = \"stylesheet\";\n      element.type = \"text/css\";\n      element.href = url;\n      console.debug(\"Bokeh: injecting link tag for BokehJS stylesheet: \", url);\n      document.body.appendChild(element);\n    }\n\n    for (var i = 0; i < js_urls.length; i++) {\n      var url = js_urls[i];\n      var element = document.createElement('script');\n      element.onload = on_load;\n      element.onerror = on_error;\n      element.async = false;\n      element.src = url;\n      console.debug(\"Bokeh: injecting script tag for BokehJS library: \", url);\n      document.head.appendChild(element);\n    }\n  };var element = document.getElementById(\"132625\");\n  if (element == null) {\n    console.error(\"Bokeh: ERROR: autoload.js configured with elementid '132625' but no matching script tag was found. \")\n    return false;\n  }\n\n  function inject_raw_css(css) {\n    const element = document.createElement(\"style\");\n    element.appendChild(document.createTextNode(css));\n    document.body.appendChild(element);\n  }\n\n  var js_urls = [\"https://cdn.pydata.org/bokeh/release/bokeh-1.2.0.min.js\", \"https://cdn.pydata.org/bokeh/release/bokeh-widgets-1.2.0.min.js\", \"https://cdn.pydata.org/bokeh/release/bokeh-tables-1.2.0.min.js\", \"https://cdn.pydata.org/bokeh/release/bokeh-gl-1.2.0.min.js\"];\n  var css_urls = [\"https://cdn.pydata.org/bokeh/release/bokeh-1.2.0.min.css\", \"https://cdn.pydata.org/bokeh/release/bokeh-widgets-1.2.0.min.css\", \"https://cdn.pydata.org/bokeh/release/bokeh-tables-1.2.0.min.css\"];\n\n  var inline_js = [\n    function(Bokeh) {\n      Bokeh.set_log_level(\"info\");\n    },\n    \n    function(Bokeh) {\n      \n    },\n    function(Bokeh) {} // ensure no trailing comma for IE\n  ];\n\n  function run_inline_js() {\n    \n    if ((root.Bokeh !== undefined) || (force === true)) {\n      for (var i = 0; i < inline_js.length; i++) {\n        inline_js[i].call(root, root.Bokeh);\n      }if (force === true) {\n        display_loaded();\n      }} else if (Date.now() < root._bokeh_timeout) {\n      setTimeout(run_inline_js, 100);\n    } else if (!root._bokeh_failed_load) {\n      console.log(\"Bokeh: BokehJS failed to load within specified timeout.\");\n      root._bokeh_failed_load = true;\n    } else if (force !== true) {\n      var cell = $(document.getElementById(\"132625\")).parents('.cell').data().cell;\n      cell.output_area.append_execute_result(NB_LOAD_WARNING)\n    }\n\n  }\n\n  if (root._bokeh_is_loading === 0) {\n    console.debug(\"Bokeh: BokehJS loaded, going straight to plotting\");\n    run_inline_js();\n  } else {\n    load_libs(css_urls, js_urls, function() {\n      console.debug(\"Bokeh: BokehJS plotting callback run at\", now());\n      run_inline_js();\n    });\n  }\n}(window));"
     },
     "metadata": {},
     "output_type": "display_data"
    },
    {
     "data": {
      "text/html": [
       "\n",
       "\n",
       "\n",
       "\n",
       "\n",
       "\n",
       "  <div class=\"bk-root\" id=\"282316c7-1176-4dd2-9aed-869db66a961e\" data-root-id=\"132564\"></div>\n"
      ]
     },
     "metadata": {},
     "output_type": "display_data"
    },
    {
     "data": {
      "application/javascript": [
       "(function(root) {\n",
       "  function embed_document(root) {\n",
       "    \n",
       "  var docs_json = {\"fbbdad9c-e07f-4305-ac9c-8006da8e61c0\":{\"roots\":{\"references\":[{\"attributes\":{\"below\":[{\"id\":\"132575\",\"type\":\"CategoricalAxis\"}],\"center\":[{\"id\":\"132578\",\"type\":\"Grid\"},{\"id\":\"132583\",\"type\":\"Grid\"},{\"id\":\"132606\",\"type\":\"Legend\"}],\"left\":[{\"id\":\"132579\",\"type\":\"LinearAxis\"}],\"plot_height\":400,\"renderers\":[{\"id\":\"132598\",\"type\":\"GlyphRenderer\"},{\"id\":\"132613\",\"type\":\"GlyphRenderer\"}],\"title\":{\"id\":\"132565\",\"type\":\"Title\"},\"toolbar\":{\"id\":\"132588\",\"type\":\"Toolbar\"},\"toolbar_location\":null,\"x_range\":{\"id\":\"132567\",\"type\":\"FactorRange\"},\"x_scale\":{\"id\":\"132571\",\"type\":\"CategoricalScale\"},\"y_range\":{\"id\":\"132569\",\"type\":\"DataRange1d\"},\"y_scale\":{\"id\":\"132573\",\"type\":\"LinearScale\"}},\"id\":\"132564\",\"subtype\":\"Figure\",\"type\":\"Plot\"},{\"attributes\":{\"fill_alpha\":{\"value\":0.2},\"fill_color\":{\"value\":\"orange\"},\"line_alpha\":{\"value\":0.2},\"line_color\":{\"value\":\"orange\"},\"top\":{\"field\":\"Maison\"},\"width\":{\"value\":0.3},\"x\":{\"field\":\"city\",\"transform\":{\"id\":\"132608\",\"type\":\"Dodge\"}}},\"id\":\"132612\",\"type\":\"VBar\"},{\"attributes\":{\"label\":{\"value\":\"appartement\"},\"renderers\":[{\"id\":\"132598\",\"type\":\"GlyphRenderer\"}]},\"id\":\"132607\",\"type\":\"LegendItem\"},{\"attributes\":{\"fill_color\":{\"value\":\"orange\"},\"line_color\":{\"value\":\"orange\"},\"top\":{\"field\":\"Maison\"},\"width\":{\"value\":0.3},\"x\":{\"field\":\"city\",\"transform\":{\"id\":\"132608\",\"type\":\"Dodge\"}}},\"id\":\"132610\",\"type\":\"VBar\"},{\"attributes\":{\"range\":{\"id\":\"132567\",\"type\":\"FactorRange\"},\"value\":0.15},\"id\":\"132593\",\"type\":\"Dodge\"},{\"attributes\":{},\"id\":\"132603\",\"type\":\"CategoricalTickFormatter\"},{\"attributes\":{\"range\":{\"id\":\"132567\",\"type\":\"FactorRange\"},\"value\":-0.15},\"id\":\"132608\",\"type\":\"Dodge\"},{\"attributes\":{},\"id\":\"132584\",\"type\":\"PanTool\"},{\"attributes\":{},\"id\":\"132576\",\"type\":\"CategoricalTicker\"},{\"attributes\":{},\"id\":\"132573\",\"type\":\"LinearScale\"},{\"attributes\":{\"label\":{\"value\":\"maison\"},\"renderers\":[{\"id\":\"132613\",\"type\":\"GlyphRenderer\"}]},\"id\":\"132623\",\"type\":\"LegendItem\"},{\"attributes\":{},\"id\":\"132621\",\"type\":\"Selection\"},{\"attributes\":{\"ticker\":{\"id\":\"132576\",\"type\":\"CategoricalTicker\"}},\"id\":\"132578\",\"type\":\"Grid\"},{\"attributes\":{\"fill_alpha\":{\"value\":0.1},\"fill_color\":{\"value\":\"#1f77b4\"},\"line_alpha\":{\"value\":0.1},\"line_color\":{\"value\":\"#1f77b4\"},\"top\":{\"field\":\"Appartement\"},\"width\":{\"value\":0.3},\"x\":{\"field\":\"city\",\"transform\":{\"id\":\"132593\",\"type\":\"Dodge\"}}},\"id\":\"132596\",\"type\":\"VBar\"},{\"attributes\":{\"fill_alpha\":{\"value\":0.2},\"fill_color\":{\"value\":\"orangered\"},\"line_alpha\":{\"value\":0.2},\"line_color\":{\"value\":\"orangered\"},\"top\":{\"field\":\"Appartement\"},\"width\":{\"value\":0.3},\"x\":{\"field\":\"city\",\"transform\":{\"id\":\"132593\",\"type\":\"Dodge\"}}},\"id\":\"132597\",\"type\":\"VBar\"},{\"attributes\":{\"callback\":null},\"id\":\"132569\",\"type\":\"DataRange1d\"},{\"attributes\":{\"source\":{\"id\":\"132563\",\"type\":\"ColumnDataSource\"}},\"id\":\"132599\",\"type\":\"CDSView\"},{\"attributes\":{},\"id\":\"132622\",\"type\":\"UnionRenderers\"},{\"attributes\":{\"callback\":null,\"data\":{\"Appartement\":[19,15],\"Maison\":[15,12],\"city\":[\"Croix\",\"Wasquehal\"],\"index\":[0,1]},\"selected\":{\"id\":\"132621\",\"type\":\"Selection\"},\"selection_policy\":{\"id\":\"132622\",\"type\":\"UnionRenderers\"}},\"id\":\"132563\",\"type\":\"ColumnDataSource\"},{\"attributes\":{},\"id\":\"132580\",\"type\":\"BasicTicker\"},{\"attributes\":{\"click_policy\":\"mute\",\"items\":[{\"id\":\"132607\",\"type\":\"LegendItem\"},{\"id\":\"132623\",\"type\":\"LegendItem\"}],\"orientation\":\"horizontal\"},\"id\":\"132606\",\"type\":\"Legend\"},{\"attributes\":{\"data_source\":{\"id\":\"132563\",\"type\":\"ColumnDataSource\"},\"glyph\":{\"id\":\"132595\",\"type\":\"VBar\"},\"hover_glyph\":null,\"muted_glyph\":{\"id\":\"132597\",\"type\":\"VBar\"},\"nonselection_glyph\":{\"id\":\"132596\",\"type\":\"VBar\"},\"selection_glyph\":null,\"view\":{\"id\":\"132599\",\"type\":\"CDSView\"}},\"id\":\"132598\",\"type\":\"GlyphRenderer\"},{\"attributes\":{},\"id\":\"132571\",\"type\":\"CategoricalScale\"},{\"attributes\":{\"text\":\"Types per City\"},\"id\":\"132565\",\"type\":\"Title\"},{\"attributes\":{},\"id\":\"132587\",\"type\":\"ZoomOutTool\"},{\"attributes\":{\"axis_label\":\"No. of Houses\",\"formatter\":{\"id\":\"132601\",\"type\":\"BasicTickFormatter\"},\"ticker\":{\"id\":\"132580\",\"type\":\"BasicTicker\"}},\"id\":\"132579\",\"type\":\"LinearAxis\"},{\"attributes\":{\"data_source\":{\"id\":\"132563\",\"type\":\"ColumnDataSource\"},\"glyph\":{\"id\":\"132610\",\"type\":\"VBar\"},\"hover_glyph\":null,\"muted_glyph\":{\"id\":\"132612\",\"type\":\"VBar\"},\"nonselection_glyph\":{\"id\":\"132611\",\"type\":\"VBar\"},\"selection_glyph\":null,\"view\":{\"id\":\"132614\",\"type\":\"CDSView\"}},\"id\":\"132613\",\"type\":\"GlyphRenderer\"},{\"attributes\":{\"axis_label\":\"City\",\"formatter\":{\"id\":\"132603\",\"type\":\"CategoricalTickFormatter\"},\"ticker\":{\"id\":\"132576\",\"type\":\"CategoricalTicker\"}},\"id\":\"132575\",\"type\":\"CategoricalAxis\"},{\"attributes\":{\"fill_alpha\":{\"value\":0.1},\"fill_color\":{\"value\":\"#1f77b4\"},\"line_alpha\":{\"value\":0.1},\"line_color\":{\"value\":\"#1f77b4\"},\"top\":{\"field\":\"Maison\"},\"width\":{\"value\":0.3},\"x\":{\"field\":\"city\",\"transform\":{\"id\":\"132608\",\"type\":\"Dodge\"}}},\"id\":\"132611\",\"type\":\"VBar\"},{\"attributes\":{\"callback\":null,\"factors\":[\"Croix\",\"Wasquehal\"]},\"id\":\"132567\",\"type\":\"FactorRange\"},{\"attributes\":{\"active_drag\":\"auto\",\"active_inspect\":\"auto\",\"active_multi\":null,\"active_scroll\":\"auto\",\"active_tap\":\"auto\",\"tools\":[{\"id\":\"132584\",\"type\":\"PanTool\"},{\"id\":\"132585\",\"type\":\"BoxSelectTool\"},{\"id\":\"132586\",\"type\":\"ZoomInTool\"},{\"id\":\"132587\",\"type\":\"ZoomOutTool\"}]},\"id\":\"132588\",\"type\":\"Toolbar\"},{\"attributes\":{\"source\":{\"id\":\"132563\",\"type\":\"ColumnDataSource\"}},\"id\":\"132614\",\"type\":\"CDSView\"},{\"attributes\":{},\"id\":\"132586\",\"type\":\"ZoomInTool\"},{\"attributes\":{\"bottom_units\":\"screen\",\"fill_alpha\":{\"value\":0.5},\"fill_color\":{\"value\":\"lightgrey\"},\"left_units\":\"screen\",\"level\":\"overlay\",\"line_alpha\":{\"value\":1.0},\"line_color\":{\"value\":\"black\"},\"line_dash\":[4,4],\"line_width\":{\"value\":2},\"render_mode\":\"css\",\"right_units\":\"screen\",\"top_units\":\"screen\"},\"id\":\"132605\",\"type\":\"BoxAnnotation\"},{\"attributes\":{},\"id\":\"132601\",\"type\":\"BasicTickFormatter\"},{\"attributes\":{\"dimension\":1,\"ticker\":{\"id\":\"132580\",\"type\":\"BasicTicker\"}},\"id\":\"132583\",\"type\":\"Grid\"},{\"attributes\":{\"callback\":null,\"overlay\":{\"id\":\"132605\",\"type\":\"BoxAnnotation\"}},\"id\":\"132585\",\"type\":\"BoxSelectTool\"},{\"attributes\":{\"fill_color\":{\"value\":\"orangered\"},\"line_color\":{\"value\":\"orangered\"},\"top\":{\"field\":\"Appartement\"},\"width\":{\"value\":0.3},\"x\":{\"field\":\"city\",\"transform\":{\"id\":\"132593\",\"type\":\"Dodge\"}}},\"id\":\"132595\",\"type\":\"VBar\"}],\"root_ids\":[\"132564\"]},\"title\":\"Bokeh Application\",\"version\":\"1.2.0\"}};\n",
       "  var render_items = [{\"docid\":\"fbbdad9c-e07f-4305-ac9c-8006da8e61c0\",\"notebook_comms_target\":\"134604\",\"roots\":{\"132564\":\"282316c7-1176-4dd2-9aed-869db66a961e\"}}];\n",
       "  root.Bokeh.embed.embed_items_notebook(docs_json, render_items);\n",
       "\n",
       "  }\n",
       "  if (root.Bokeh !== undefined) {\n",
       "    embed_document(root);\n",
       "  } else {\n",
       "    var attempts = 0;\n",
       "    var timer = setInterval(function(root) {\n",
       "      if (root.Bokeh !== undefined) {\n",
       "        embed_document(root);\n",
       "        clearInterval(timer);\n",
       "      }\n",
       "      attempts++;\n",
       "      if (attempts > 100) {\n",
       "        console.log(\"Bokeh: ERROR: Unable to run BokehJS code because BokehJS library is missing\");\n",
       "        clearInterval(timer);\n",
       "      }\n",
       "    }, 10, root)\n",
       "  }\n",
       "})(window);"
      ],
      "application/vnd.bokehjs_exec.v0+json": ""
     },
     "metadata": {
      "application/vnd.bokehjs_exec.v0+json": {
       "id": "132564"
      }
     },
     "output_type": "display_data"
    },
    {
     "data": {
      "text/html": [
       "<p><code>&lt;Bokeh Notebook handle for <strong>In[40]</strong>&gt;</code></p>"
      ],
      "text/plain": [
       "<bokeh.io.notebook.CommsHandle at 0x1c3dec70940>"
      ]
     },
     "execution_count": 153,
     "metadata": {},
     "output_type": "execute_result"
    }
   ],
   "source": [
    "from bokeh.transform import dodge\n",
    "\n",
    "\n",
    "\n",
    "dt = ColumnDataSource(groupdatadf)\n",
    "\n",
    "\n",
    "pl = figure(x_range = groupdatadf['city'], plot_height=400, title=\"Types per City\",  x_axis_label = 'City',\n",
    "    y_axis_label = 'No. of Houses',\n",
    "           toolbar_location=None, tools=\"pan,box_select,zoom_in,zoom_out\")\n",
    "\n",
    "\n",
    "pl.vbar(x=dodge('city', 0.15, range=pl.x_range), top='Appartement', width=0.3 ,source=dt,\n",
    "       color=\"orangered\", muted_color='orangered', muted_alpha=0.2, legend=\"appartement\")\n",
    "\n",
    "pl.vbar(x=dodge('city', -0.15,  range=pl.x_range), top='Maison', width=0.3, source=dt,\n",
    "       color=\"orange\", muted_color='orange', muted_alpha=0.2, legend=\"maison\")\n",
    "\n",
    "\n",
    "tab1 = Panel(child=pl, title=\"Types per City\")\n",
    "\n",
    "#pl.legend.location = \"top_left\"\n",
    "pl.legend.orientation = \"horizontal\"\n",
    "pl.legend.click_policy=\"mute\"\n",
    "output_notebook()\n",
    "push_notebook()\n",
    "\n",
    "\n",
    "show(pl,notebook_handle=True)\n"
   ]
  },
  {
   "cell_type": "markdown",
   "metadata": {},
   "source": [
    "# Chart2"
   ]
  },
  {
   "cell_type": "code",
   "execution_count": null,
   "metadata": {},
   "outputs": [],
   "source": [
    "#data for chart2"
   ]
  },
  {
   "cell_type": "code",
   "execution_count": 154,
   "metadata": {},
   "outputs": [],
   "source": [
    "mean_area = datah[[\"city\",\"Type\",\"area\"]].groupby(['city','Type'],as_index=False).agg(\"mean\")"
   ]
  },
  {
   "cell_type": "code",
   "execution_count": 155,
   "metadata": {},
   "outputs": [],
   "source": [
    "mean_area = mean_area.pivot(index='city',columns='Type',values='area')"
   ]
  },
  {
   "cell_type": "code",
   "execution_count": 156,
   "metadata": {},
   "outputs": [
    {
     "data": {
      "text/html": [
       "<div>\n",
       "<style scoped>\n",
       "    .dataframe tbody tr th:only-of-type {\n",
       "        vertical-align: middle;\n",
       "    }\n",
       "\n",
       "    .dataframe tbody tr th {\n",
       "        vertical-align: top;\n",
       "    }\n",
       "\n",
       "    .dataframe thead th {\n",
       "        text-align: right;\n",
       "    }\n",
       "</style>\n",
       "<table border=\"1\" class=\"dataframe\">\n",
       "  <thead>\n",
       "    <tr style=\"text-align: right;\">\n",
       "      <th>Type</th>\n",
       "      <th>Appartement</th>\n",
       "      <th>Maison</th>\n",
       "    </tr>\n",
       "    <tr>\n",
       "      <th>city</th>\n",
       "      <th></th>\n",
       "      <th></th>\n",
       "    </tr>\n",
       "  </thead>\n",
       "  <tbody>\n",
       "    <tr>\n",
       "      <th>Croix</th>\n",
       "      <td>65.473684</td>\n",
       "      <td>166.133333</td>\n",
       "    </tr>\n",
       "    <tr>\n",
       "      <th>Wasquehal</th>\n",
       "      <td>77.428571</td>\n",
       "      <td>125.454545</td>\n",
       "    </tr>\n",
       "  </tbody>\n",
       "</table>\n",
       "</div>"
      ],
      "text/plain": [
       "Type       Appartement      Maison\n",
       "city                              \n",
       "Croix        65.473684  166.133333\n",
       "Wasquehal    77.428571  125.454545"
      ]
     },
     "execution_count": 156,
     "metadata": {},
     "output_type": "execute_result"
    }
   ],
   "source": [
    "mean_area"
   ]
  },
  {
   "cell_type": "code",
   "execution_count": 157,
   "metadata": {},
   "outputs": [
    {
     "data": {
      "text/html": [
       "<div>\n",
       "<style scoped>\n",
       "    .dataframe tbody tr th:only-of-type {\n",
       "        vertical-align: middle;\n",
       "    }\n",
       "\n",
       "    .dataframe tbody tr th {\n",
       "        vertical-align: top;\n",
       "    }\n",
       "\n",
       "    .dataframe thead th {\n",
       "        text-align: right;\n",
       "    }\n",
       "</style>\n",
       "<table border=\"1\" class=\"dataframe\">\n",
       "  <thead>\n",
       "    <tr style=\"text-align: right;\">\n",
       "      <th></th>\n",
       "      <th>city</th>\n",
       "      <th>Appartement</th>\n",
       "      <th>Maison</th>\n",
       "    </tr>\n",
       "  </thead>\n",
       "  <tbody>\n",
       "    <tr>\n",
       "      <th>0</th>\n",
       "      <td>Croix</td>\n",
       "      <td>65.473684</td>\n",
       "      <td>166.133333</td>\n",
       "    </tr>\n",
       "    <tr>\n",
       "      <th>1</th>\n",
       "      <td>Wasquehal</td>\n",
       "      <td>77.428571</td>\n",
       "      <td>125.454545</td>\n",
       "    </tr>\n",
       "  </tbody>\n",
       "</table>\n",
       "</div>"
      ],
      "text/plain": [
       "        city  Appartement      Maison\n",
       "0      Croix    65.473684  166.133333\n",
       "1  Wasquehal    77.428571  125.454545"
      ]
     },
     "execution_count": 157,
     "metadata": {},
     "output_type": "execute_result"
    }
   ],
   "source": [
    "mean_area.columns.name = None\n",
    "mean_area = mean_area.reset_index()\n",
    "mean_area"
   ]
  },
  {
   "cell_type": "code",
   "execution_count": 158,
   "metadata": {},
   "outputs": [],
   "source": [
    "#chart2"
   ]
  },
  {
   "cell_type": "code",
   "execution_count": 159,
   "metadata": {},
   "outputs": [
    {
     "data": {
      "text/html": [
       "\n",
       "\n",
       "\n",
       "\n",
       "\n",
       "\n",
       "  <div class=\"bk-root\" id=\"3cfe3e76-f92a-48be-b013-4234cfea57a0\" data-root-id=\"134735\"></div>\n"
      ]
     },
     "metadata": {},
     "output_type": "display_data"
    },
    {
     "data": {
      "application/javascript": [
       "(function(root) {\n",
       "  function embed_document(root) {\n",
       "    \n",
       "  var docs_json = {\"78bc1724-54cf-4858-bb22-e4a76e54a7c4\":{\"roots\":{\"references\":[{\"attributes\":{\"below\":[{\"id\":\"134746\",\"type\":\"CategoricalAxis\"}],\"center\":[{\"id\":\"134749\",\"type\":\"Grid\"},{\"id\":\"134754\",\"type\":\"Grid\"},{\"id\":\"134777\",\"type\":\"Legend\"}],\"left\":[{\"id\":\"134750\",\"type\":\"LinearAxis\"}],\"plot_height\":400,\"renderers\":[{\"id\":\"134769\",\"type\":\"GlyphRenderer\"},{\"id\":\"134784\",\"type\":\"GlyphRenderer\"}],\"title\":{\"id\":\"134736\",\"type\":\"Title\"},\"toolbar\":{\"id\":\"134759\",\"type\":\"Toolbar\"},\"toolbar_location\":null,\"x_range\":{\"id\":\"134738\",\"type\":\"FactorRange\"},\"x_scale\":{\"id\":\"134742\",\"type\":\"CategoricalScale\"},\"y_range\":{\"id\":\"134740\",\"type\":\"DataRange1d\"},\"y_scale\":{\"id\":\"134744\",\"type\":\"LinearScale\"}},\"id\":\"134735\",\"subtype\":\"Figure\",\"type\":\"Plot\"},{\"attributes\":{\"source\":{\"id\":\"134734\",\"type\":\"ColumnDataSource\"}},\"id\":\"134770\",\"type\":\"CDSView\"},{\"attributes\":{},\"id\":\"134747\",\"type\":\"CategoricalTicker\"},{\"attributes\":{},\"id\":\"134744\",\"type\":\"LinearScale\"},{\"attributes\":{\"callback\":null,\"overlay\":{\"id\":\"134776\",\"type\":\"BoxAnnotation\"}},\"id\":\"134756\",\"type\":\"BoxSelectTool\"},{\"attributes\":{\"fill_alpha\":{\"value\":0.1},\"fill_color\":{\"value\":\"#1f77b4\"},\"line_alpha\":{\"value\":0.1},\"line_color\":{\"value\":\"#1f77b4\"},\"top\":{\"field\":\"Maison\"},\"width\":{\"value\":0.3},\"x\":{\"field\":\"city\",\"transform\":{\"id\":\"134779\",\"type\":\"Dodge\"}}},\"id\":\"134782\",\"type\":\"VBar\"},{\"attributes\":{},\"id\":\"134755\",\"type\":\"PanTool\"},{\"attributes\":{\"text\":\"Average Area(m\\u00b2) per City\"},\"id\":\"134736\",\"type\":\"Title\"},{\"attributes\":{\"click_policy\":\"mute\",\"items\":[{\"id\":\"134778\",\"type\":\"LegendItem\"},{\"id\":\"134794\",\"type\":\"LegendItem\"}],\"orientation\":\"horizontal\"},\"id\":\"134777\",\"type\":\"Legend\"},{\"attributes\":{},\"id\":\"134774\",\"type\":\"CategoricalTickFormatter\"},{\"attributes\":{},\"id\":\"134757\",\"type\":\"ZoomInTool\"},{\"attributes\":{},\"id\":\"134751\",\"type\":\"BasicTicker\"},{\"attributes\":{\"fill_alpha\":{\"value\":0.2},\"fill_color\":{\"value\":\"orange\"},\"line_alpha\":{\"value\":0.2},\"line_color\":{\"value\":\"orange\"},\"top\":{\"field\":\"Maison\"},\"width\":{\"value\":0.3},\"x\":{\"field\":\"city\",\"transform\":{\"id\":\"134779\",\"type\":\"Dodge\"}}},\"id\":\"134783\",\"type\":\"VBar\"},{\"attributes\":{},\"id\":\"134772\",\"type\":\"BasicTickFormatter\"},{\"attributes\":{\"fill_color\":{\"value\":\"orange\"},\"line_color\":{\"value\":\"orange\"},\"top\":{\"field\":\"Maison\"},\"width\":{\"value\":0.3},\"x\":{\"field\":\"city\",\"transform\":{\"id\":\"134779\",\"type\":\"Dodge\"}}},\"id\":\"134781\",\"type\":\"VBar\"},{\"attributes\":{\"label\":{\"value\":\"appartement\"},\"renderers\":[{\"id\":\"134769\",\"type\":\"GlyphRenderer\"}]},\"id\":\"134778\",\"type\":\"LegendItem\"},{\"attributes\":{\"label\":{\"value\":\"maison\"},\"renderers\":[{\"id\":\"134784\",\"type\":\"GlyphRenderer\"}]},\"id\":\"134794\",\"type\":\"LegendItem\"},{\"attributes\":{\"callback\":null,\"factors\":[\"Croix\",\"Wasquehal\"]},\"id\":\"134738\",\"type\":\"FactorRange\"},{\"attributes\":{\"range\":{\"id\":\"134738\",\"type\":\"FactorRange\"},\"value\":-0.15},\"id\":\"134779\",\"type\":\"Dodge\"},{\"attributes\":{\"axis_label\":\"Avg Area\",\"formatter\":{\"id\":\"134772\",\"type\":\"BasicTickFormatter\"},\"ticker\":{\"id\":\"134751\",\"type\":\"BasicTicker\"}},\"id\":\"134750\",\"type\":\"LinearAxis\"},{\"attributes\":{\"fill_color\":{\"value\":\"orangered\"},\"line_color\":{\"value\":\"orangered\"},\"top\":{\"field\":\"Appartement\"},\"width\":{\"value\":0.3},\"x\":{\"field\":\"city\",\"transform\":{\"id\":\"134764\",\"type\":\"Dodge\"}}},\"id\":\"134766\",\"type\":\"VBar\"},{\"attributes\":{\"fill_alpha\":{\"value\":0.1},\"fill_color\":{\"value\":\"#1f77b4\"},\"line_alpha\":{\"value\":0.1},\"line_color\":{\"value\":\"#1f77b4\"},\"top\":{\"field\":\"Appartement\"},\"width\":{\"value\":0.3},\"x\":{\"field\":\"city\",\"transform\":{\"id\":\"134764\",\"type\":\"Dodge\"}}},\"id\":\"134767\",\"type\":\"VBar\"},{\"attributes\":{},\"id\":\"134793\",\"type\":\"UnionRenderers\"},{\"attributes\":{},\"id\":\"134758\",\"type\":\"ZoomOutTool\"},{\"attributes\":{},\"id\":\"134742\",\"type\":\"CategoricalScale\"},{\"attributes\":{\"dimension\":1,\"ticker\":{\"id\":\"134751\",\"type\":\"BasicTicker\"}},\"id\":\"134754\",\"type\":\"Grid\"},{\"attributes\":{\"data_source\":{\"id\":\"134734\",\"type\":\"ColumnDataSource\"},\"glyph\":{\"id\":\"134766\",\"type\":\"VBar\"},\"hover_glyph\":null,\"muted_glyph\":{\"id\":\"134768\",\"type\":\"VBar\"},\"nonselection_glyph\":{\"id\":\"134767\",\"type\":\"VBar\"},\"selection_glyph\":null,\"view\":{\"id\":\"134770\",\"type\":\"CDSView\"}},\"id\":\"134769\",\"type\":\"GlyphRenderer\"},{\"attributes\":{\"data_source\":{\"id\":\"134734\",\"type\":\"ColumnDataSource\"},\"glyph\":{\"id\":\"134781\",\"type\":\"VBar\"},\"hover_glyph\":null,\"muted_glyph\":{\"id\":\"134783\",\"type\":\"VBar\"},\"nonselection_glyph\":{\"id\":\"134782\",\"type\":\"VBar\"},\"selection_glyph\":null,\"view\":{\"id\":\"134785\",\"type\":\"CDSView\"}},\"id\":\"134784\",\"type\":\"GlyphRenderer\"},{\"attributes\":{},\"id\":\"134792\",\"type\":\"Selection\"},{\"attributes\":{\"fill_alpha\":{\"value\":0.2},\"fill_color\":{\"value\":\"orangered\"},\"line_alpha\":{\"value\":0.2},\"line_color\":{\"value\":\"orangered\"},\"top\":{\"field\":\"Appartement\"},\"width\":{\"value\":0.3},\"x\":{\"field\":\"city\",\"transform\":{\"id\":\"134764\",\"type\":\"Dodge\"}}},\"id\":\"134768\",\"type\":\"VBar\"},{\"attributes\":{\"callback\":null},\"id\":\"134740\",\"type\":\"DataRange1d\"},{\"attributes\":{\"bottom_units\":\"screen\",\"fill_alpha\":{\"value\":0.5},\"fill_color\":{\"value\":\"lightgrey\"},\"left_units\":\"screen\",\"level\":\"overlay\",\"line_alpha\":{\"value\":1.0},\"line_color\":{\"value\":\"black\"},\"line_dash\":[4,4],\"line_width\":{\"value\":2},\"render_mode\":\"css\",\"right_units\":\"screen\",\"top_units\":\"screen\"},\"id\":\"134776\",\"type\":\"BoxAnnotation\"},{\"attributes\":{\"source\":{\"id\":\"134734\",\"type\":\"ColumnDataSource\"}},\"id\":\"134785\",\"type\":\"CDSView\"},{\"attributes\":{\"active_drag\":\"auto\",\"active_inspect\":\"auto\",\"active_multi\":null,\"active_scroll\":\"auto\",\"active_tap\":\"auto\",\"tools\":[{\"id\":\"134755\",\"type\":\"PanTool\"},{\"id\":\"134756\",\"type\":\"BoxSelectTool\"},{\"id\":\"134757\",\"type\":\"ZoomInTool\"},{\"id\":\"134758\",\"type\":\"ZoomOutTool\"}]},\"id\":\"134759\",\"type\":\"Toolbar\"},{\"attributes\":{\"axis_label\":\"City\",\"formatter\":{\"id\":\"134774\",\"type\":\"CategoricalTickFormatter\"},\"ticker\":{\"id\":\"134747\",\"type\":\"CategoricalTicker\"}},\"id\":\"134746\",\"type\":\"CategoricalAxis\"},{\"attributes\":{\"ticker\":{\"id\":\"134747\",\"type\":\"CategoricalTicker\"}},\"id\":\"134749\",\"type\":\"Grid\"},{\"attributes\":{\"range\":{\"id\":\"134738\",\"type\":\"FactorRange\"},\"value\":0.15},\"id\":\"134764\",\"type\":\"Dodge\"},{\"attributes\":{\"callback\":null,\"data\":{\"Appartement\":{\"__ndarray__\":\"5TWU11BeUEC3bdu2bVtTQA==\",\"dtype\":\"float64\",\"shape\":[2]},\"Maison\":{\"__ndarray__\":\"RERERETEZEBddNFFF11fQA==\",\"dtype\":\"float64\",\"shape\":[2]},\"city\":[\"Croix\",\"Wasquehal\"],\"index\":[0,1]},\"selected\":{\"id\":\"134792\",\"type\":\"Selection\"},\"selection_policy\":{\"id\":\"134793\",\"type\":\"UnionRenderers\"}},\"id\":\"134734\",\"type\":\"ColumnDataSource\"}],\"root_ids\":[\"134735\"]},\"title\":\"Bokeh Application\",\"version\":\"1.2.0\"}};\n",
       "  var render_items = [{\"docid\":\"78bc1724-54cf-4858-bb22-e4a76e54a7c4\",\"notebook_comms_target\":\"136782\",\"roots\":{\"134735\":\"3cfe3e76-f92a-48be-b013-4234cfea57a0\"}}];\n",
       "  root.Bokeh.embed.embed_items_notebook(docs_json, render_items);\n",
       "\n",
       "  }\n",
       "  if (root.Bokeh !== undefined) {\n",
       "    embed_document(root);\n",
       "  } else {\n",
       "    var attempts = 0;\n",
       "    var timer = setInterval(function(root) {\n",
       "      if (root.Bokeh !== undefined) {\n",
       "        embed_document(root);\n",
       "        clearInterval(timer);\n",
       "      }\n",
       "      attempts++;\n",
       "      if (attempts > 100) {\n",
       "        console.log(\"Bokeh: ERROR: Unable to run BokehJS code because BokehJS library is missing\");\n",
       "        clearInterval(timer);\n",
       "      }\n",
       "    }, 10, root)\n",
       "  }\n",
       "})(window);"
      ],
      "application/vnd.bokehjs_exec.v0+json": ""
     },
     "metadata": {
      "application/vnd.bokehjs_exec.v0+json": {
       "id": "134735"
      }
     },
     "output_type": "display_data"
    },
    {
     "data": {
      "text/html": [
       "<p><code>&lt;Bokeh Notebook handle for <strong>In[40]</strong>&gt;</code></p>"
      ],
      "text/plain": [
       "<bokeh.io.notebook.CommsHandle at 0x1c3e04a47f0>"
      ]
     },
     "execution_count": 159,
     "metadata": {},
     "output_type": "execute_result"
    }
   ],
   "source": [
    "from bokeh.transform import dodge\n",
    "\n",
    "dt2 = ColumnDataSource(mean_area)\n",
    "\n",
    "\n",
    "pl1 = figure(x_range = mean_area['city'], plot_height=400, title=\"Average Area(m²) per City\",  x_axis_label = 'City',\n",
    "    y_axis_label = 'Avg Area',\n",
    "           toolbar_location=None, tools=\"pan,box_select,zoom_in,zoom_out\")\n",
    "\n",
    "\n",
    "pl1.vbar(x=dodge('city', 0.15, range=pl1.x_range), top='Appartement', width=0.3 ,source=dt2,\n",
    "       color=\"orangered\", muted_color='orangered', muted_alpha=0.2, legend=\"appartement\")\n",
    "\n",
    "pl1.vbar(x=dodge('city', -0.15,  range=pl1.x_range), top='Maison', width=0.3, source=dt2,\n",
    "       color=\"orange\", muted_color='orange', muted_alpha=0.2, legend=\"maison\")\n",
    "\n",
    "tab2 = Panel(child=pl1, title=\"Average area per City\")\n",
    "\n",
    "\n",
    "pl1.legend.orientation = \"horizontal\"\n",
    "pl1.legend.click_policy=\"mute\"\n",
    "\n",
    "show(pl1,notebook_handle=True)\n"
   ]
  },
  {
   "cell_type": "markdown",
   "metadata": {},
   "source": [
    "# Chart3"
   ]
  },
  {
   "cell_type": "code",
   "execution_count": 160,
   "metadata": {},
   "outputs": [],
   "source": [
    "#data for chart3"
   ]
  },
  {
   "cell_type": "code",
   "execution_count": 161,
   "metadata": {},
   "outputs": [],
   "source": [
    "mean_price = datah[[\"city\",\"Type\",\"price\"]].groupby(['city','Type'],as_index=False).agg(\"mean\")"
   ]
  },
  {
   "cell_type": "code",
   "execution_count": 162,
   "metadata": {},
   "outputs": [],
   "source": [
    "mean_price = mean_price.pivot(index='city',columns='Type',values='price')"
   ]
  },
  {
   "cell_type": "code",
   "execution_count": 163,
   "metadata": {},
   "outputs": [
    {
     "data": {
      "text/html": [
       "<div>\n",
       "<style scoped>\n",
       "    .dataframe tbody tr th:only-of-type {\n",
       "        vertical-align: middle;\n",
       "    }\n",
       "\n",
       "    .dataframe tbody tr th {\n",
       "        vertical-align: top;\n",
       "    }\n",
       "\n",
       "    .dataframe thead th {\n",
       "        text-align: right;\n",
       "    }\n",
       "</style>\n",
       "<table border=\"1\" class=\"dataframe\">\n",
       "  <thead>\n",
       "    <tr style=\"text-align: right;\">\n",
       "      <th></th>\n",
       "      <th>city</th>\n",
       "      <th>Appartement</th>\n",
       "      <th>Maison</th>\n",
       "    </tr>\n",
       "  </thead>\n",
       "  <tbody>\n",
       "    <tr>\n",
       "      <th>0</th>\n",
       "      <td>Croix</td>\n",
       "      <td>165347.0</td>\n",
       "      <td>456712.0</td>\n",
       "    </tr>\n",
       "    <tr>\n",
       "      <th>1</th>\n",
       "      <td>Wasquehal</td>\n",
       "      <td>269890.0</td>\n",
       "      <td>369938.0</td>\n",
       "    </tr>\n",
       "  </tbody>\n",
       "</table>\n",
       "</div>"
      ],
      "text/plain": [
       "        city  Appartement    Maison\n",
       "0      Croix     165347.0  456712.0\n",
       "1  Wasquehal     269890.0  369938.0"
      ]
     },
     "execution_count": 163,
     "metadata": {},
     "output_type": "execute_result"
    }
   ],
   "source": [
    "mean_price.columns.name = None\n",
    "mean_price = mean_price.reset_index()\n",
    "mean_price[\"Maison\"] = round(mean_price[\"Maison\"])\n",
    "mean_price[\"Appartement\"] = round(mean_price[\"Appartement\"])\n",
    "mean_price"
   ]
  },
  {
   "cell_type": "code",
   "execution_count": 164,
   "metadata": {},
   "outputs": [],
   "source": [
    "#chart3"
   ]
  },
  {
   "cell_type": "code",
   "execution_count": 165,
   "metadata": {},
   "outputs": [
    {
     "data": {
      "text/html": [
       "\n",
       "\n",
       "\n",
       "\n",
       "\n",
       "\n",
       "  <div class=\"bk-root\" id=\"856db9aa-17c8-474b-bf3f-3f46603b3b3c\" data-root-id=\"136913\"></div>\n"
      ]
     },
     "metadata": {},
     "output_type": "display_data"
    },
    {
     "data": {
      "application/javascript": [
       "(function(root) {\n",
       "  function embed_document(root) {\n",
       "    \n",
       "  var docs_json = {\"ebc9ed38-a843-4fea-aaa2-2611074ed5d0\":{\"roots\":{\"references\":[{\"attributes\":{\"below\":[{\"id\":\"136924\",\"type\":\"CategoricalAxis\"}],\"center\":[{\"id\":\"136927\",\"type\":\"Grid\"},{\"id\":\"136932\",\"type\":\"Grid\"},{\"id\":\"136955\",\"type\":\"Legend\"}],\"left\":[{\"id\":\"136928\",\"type\":\"LinearAxis\"}],\"plot_height\":400,\"renderers\":[{\"id\":\"136947\",\"type\":\"GlyphRenderer\"},{\"id\":\"136962\",\"type\":\"GlyphRenderer\"}],\"title\":{\"id\":\"136914\",\"type\":\"Title\"},\"toolbar\":{\"id\":\"136937\",\"type\":\"Toolbar\"},\"toolbar_location\":null,\"x_range\":{\"id\":\"136916\",\"type\":\"FactorRange\"},\"x_scale\":{\"id\":\"136920\",\"type\":\"CategoricalScale\"},\"y_range\":{\"id\":\"136918\",\"type\":\"DataRange1d\"},\"y_scale\":{\"id\":\"136922\",\"type\":\"LinearScale\"}},\"id\":\"136913\",\"subtype\":\"Figure\",\"type\":\"Plot\"},{\"attributes\":{\"source\":{\"id\":\"136912\",\"type\":\"ColumnDataSource\"}},\"id\":\"136963\",\"type\":\"CDSView\"},{\"attributes\":{\"dimension\":1,\"ticker\":{\"id\":\"136929\",\"type\":\"BasicTicker\"}},\"id\":\"136932\",\"type\":\"Grid\"},{\"attributes\":{\"active_drag\":\"auto\",\"active_inspect\":\"auto\",\"active_multi\":null,\"active_scroll\":\"auto\",\"active_tap\":\"auto\",\"tools\":[{\"id\":\"136933\",\"type\":\"PanTool\"},{\"id\":\"136934\",\"type\":\"BoxSelectTool\"},{\"id\":\"136935\",\"type\":\"ZoomInTool\"},{\"id\":\"136936\",\"type\":\"ZoomOutTool\"}]},\"id\":\"136937\",\"type\":\"Toolbar\"},{\"attributes\":{},\"id\":\"136935\",\"type\":\"ZoomInTool\"},{\"attributes\":{},\"id\":\"136925\",\"type\":\"CategoricalTicker\"},{\"attributes\":{\"data_source\":{\"id\":\"136912\",\"type\":\"ColumnDataSource\"},\"glyph\":{\"id\":\"136959\",\"type\":\"VBar\"},\"hover_glyph\":null,\"muted_glyph\":{\"id\":\"136961\",\"type\":\"VBar\"},\"nonselection_glyph\":{\"id\":\"136960\",\"type\":\"VBar\"},\"selection_glyph\":null,\"view\":{\"id\":\"136963\",\"type\":\"CDSView\"}},\"id\":\"136962\",\"type\":\"GlyphRenderer\"},{\"attributes\":{},\"id\":\"136929\",\"type\":\"BasicTicker\"},{\"attributes\":{},\"id\":\"136920\",\"type\":\"CategoricalScale\"},{\"attributes\":{\"fill_color\":{\"value\":\"orangered\"},\"line_color\":{\"value\":\"orangered\"},\"top\":{\"field\":\"Appartement\"},\"width\":{\"value\":0.3},\"x\":{\"field\":\"city\",\"transform\":{\"id\":\"136942\",\"type\":\"Dodge\"}}},\"id\":\"136944\",\"type\":\"VBar\"},{\"attributes\":{\"range\":{\"id\":\"136916\",\"type\":\"FactorRange\"},\"value\":-0.15},\"id\":\"136957\",\"type\":\"Dodge\"},{\"attributes\":{\"ticker\":{\"id\":\"136925\",\"type\":\"CategoricalTicker\"}},\"id\":\"136927\",\"type\":\"Grid\"},{\"attributes\":{\"callback\":null,\"factors\":[\"Croix\",\"Wasquehal\"]},\"id\":\"136916\",\"type\":\"FactorRange\"},{\"attributes\":{},\"id\":\"136971\",\"type\":\"UnionRenderers\"},{\"attributes\":{\"text\":\"Average price per City\"},\"id\":\"136914\",\"type\":\"Title\"},{\"attributes\":{\"label\":{\"value\":\"appartement\"},\"renderers\":[{\"id\":\"136947\",\"type\":\"GlyphRenderer\"}]},\"id\":\"136956\",\"type\":\"LegendItem\"},{\"attributes\":{\"range\":{\"id\":\"136916\",\"type\":\"FactorRange\"},\"value\":0.15},\"id\":\"136942\",\"type\":\"Dodge\"},{\"attributes\":{},\"id\":\"136922\",\"type\":\"LinearScale\"},{\"attributes\":{\"use_scientific\":false},\"id\":\"136973\",\"type\":\"BasicTickFormatter\"},{\"attributes\":{\"fill_color\":{\"value\":\"orange\"},\"line_color\":{\"value\":\"orange\"},\"top\":{\"field\":\"Maison\"},\"width\":{\"value\":0.3},\"x\":{\"field\":\"city\",\"transform\":{\"id\":\"136957\",\"type\":\"Dodge\"}}},\"id\":\"136959\",\"type\":\"VBar\"},{\"attributes\":{\"label\":{\"value\":\"maison\"},\"renderers\":[{\"id\":\"136962\",\"type\":\"GlyphRenderer\"}]},\"id\":\"136972\",\"type\":\"LegendItem\"},{\"attributes\":{\"fill_alpha\":{\"value\":0.1},\"fill_color\":{\"value\":\"#1f77b4\"},\"line_alpha\":{\"value\":0.1},\"line_color\":{\"value\":\"#1f77b4\"},\"top\":{\"field\":\"Appartement\"},\"width\":{\"value\":0.3},\"x\":{\"field\":\"city\",\"transform\":{\"id\":\"136942\",\"type\":\"Dodge\"}}},\"id\":\"136945\",\"type\":\"VBar\"},{\"attributes\":{\"callback\":null},\"id\":\"136918\",\"type\":\"DataRange1d\"},{\"attributes\":{\"fill_alpha\":{\"value\":0.2},\"fill_color\":{\"value\":\"orange\"},\"line_alpha\":{\"value\":0.2},\"line_color\":{\"value\":\"orange\"},\"top\":{\"field\":\"Maison\"},\"width\":{\"value\":0.3},\"x\":{\"field\":\"city\",\"transform\":{\"id\":\"136957\",\"type\":\"Dodge\"}}},\"id\":\"136961\",\"type\":\"VBar\"},{\"attributes\":{\"callback\":null,\"data\":{\"Appartement\":{\"__ndarray__\":\"AAAAABgvBEEAAAAACHkQQQ==\",\"dtype\":\"float64\",\"shape\":[2]},\"Maison\":{\"__ndarray__\":\"AAAAACDgG0EAAAAASJQWQQ==\",\"dtype\":\"float64\",\"shape\":[2]},\"city\":[\"Croix\",\"Wasquehal\"],\"index\":[0,1]},\"selected\":{\"id\":\"136970\",\"type\":\"Selection\"},\"selection_policy\":{\"id\":\"136971\",\"type\":\"UnionRenderers\"}},\"id\":\"136912\",\"type\":\"ColumnDataSource\"},{\"attributes\":{\"source\":{\"id\":\"136912\",\"type\":\"ColumnDataSource\"}},\"id\":\"136948\",\"type\":\"CDSView\"},{\"attributes\":{},\"id\":\"136970\",\"type\":\"Selection\"},{\"attributes\":{\"fill_alpha\":{\"value\":0.1},\"fill_color\":{\"value\":\"#1f77b4\"},\"line_alpha\":{\"value\":0.1},\"line_color\":{\"value\":\"#1f77b4\"},\"top\":{\"field\":\"Maison\"},\"width\":{\"value\":0.3},\"x\":{\"field\":\"city\",\"transform\":{\"id\":\"136957\",\"type\":\"Dodge\"}}},\"id\":\"136960\",\"type\":\"VBar\"},{\"attributes\":{\"axis_label\":\"Avg price\",\"formatter\":{\"id\":\"136973\",\"type\":\"BasicTickFormatter\"},\"ticker\":{\"id\":\"136929\",\"type\":\"BasicTicker\"}},\"id\":\"136928\",\"type\":\"LinearAxis\"},{\"attributes\":{},\"id\":\"136952\",\"type\":\"CategoricalTickFormatter\"},{\"attributes\":{\"click_policy\":\"mute\",\"items\":[{\"id\":\"136956\",\"type\":\"LegendItem\"},{\"id\":\"136972\",\"type\":\"LegendItem\"}],\"orientation\":\"horizontal\"},\"id\":\"136955\",\"type\":\"Legend\"},{\"attributes\":{\"callback\":null,\"overlay\":{\"id\":\"136954\",\"type\":\"BoxAnnotation\"}},\"id\":\"136934\",\"type\":\"BoxSelectTool\"},{\"attributes\":{\"data_source\":{\"id\":\"136912\",\"type\":\"ColumnDataSource\"},\"glyph\":{\"id\":\"136944\",\"type\":\"VBar\"},\"hover_glyph\":null,\"muted_glyph\":{\"id\":\"136946\",\"type\":\"VBar\"},\"nonselection_glyph\":{\"id\":\"136945\",\"type\":\"VBar\"},\"selection_glyph\":null,\"view\":{\"id\":\"136948\",\"type\":\"CDSView\"}},\"id\":\"136947\",\"type\":\"GlyphRenderer\"},{\"attributes\":{\"bottom_units\":\"screen\",\"fill_alpha\":{\"value\":0.5},\"fill_color\":{\"value\":\"lightgrey\"},\"left_units\":\"screen\",\"level\":\"overlay\",\"line_alpha\":{\"value\":1.0},\"line_color\":{\"value\":\"black\"},\"line_dash\":[4,4],\"line_width\":{\"value\":2},\"render_mode\":\"css\",\"right_units\":\"screen\",\"top_units\":\"screen\"},\"id\":\"136954\",\"type\":\"BoxAnnotation\"},{\"attributes\":{},\"id\":\"136936\",\"type\":\"ZoomOutTool\"},{\"attributes\":{\"fill_alpha\":{\"value\":0.2},\"fill_color\":{\"value\":\"orangered\"},\"line_alpha\":{\"value\":0.2},\"line_color\":{\"value\":\"orangered\"},\"top\":{\"field\":\"Appartement\"},\"width\":{\"value\":0.3},\"x\":{\"field\":\"city\",\"transform\":{\"id\":\"136942\",\"type\":\"Dodge\"}}},\"id\":\"136946\",\"type\":\"VBar\"},{\"attributes\":{},\"id\":\"136933\",\"type\":\"PanTool\"},{\"attributes\":{\"axis_label\":\"City\",\"formatter\":{\"id\":\"136952\",\"type\":\"CategoricalTickFormatter\"},\"ticker\":{\"id\":\"136925\",\"type\":\"CategoricalTicker\"}},\"id\":\"136924\",\"type\":\"CategoricalAxis\"}],\"root_ids\":[\"136913\"]},\"title\":\"Bokeh Application\",\"version\":\"1.2.0\"}};\n",
       "  var render_items = [{\"docid\":\"ebc9ed38-a843-4fea-aaa2-2611074ed5d0\",\"notebook_comms_target\":\"138969\",\"roots\":{\"136913\":\"856db9aa-17c8-474b-bf3f-3f46603b3b3c\"}}];\n",
       "  root.Bokeh.embed.embed_items_notebook(docs_json, render_items);\n",
       "\n",
       "  }\n",
       "  if (root.Bokeh !== undefined) {\n",
       "    embed_document(root);\n",
       "  } else {\n",
       "    var attempts = 0;\n",
       "    var timer = setInterval(function(root) {\n",
       "      if (root.Bokeh !== undefined) {\n",
       "        embed_document(root);\n",
       "        clearInterval(timer);\n",
       "      }\n",
       "      attempts++;\n",
       "      if (attempts > 100) {\n",
       "        console.log(\"Bokeh: ERROR: Unable to run BokehJS code because BokehJS library is missing\");\n",
       "        clearInterval(timer);\n",
       "      }\n",
       "    }, 10, root)\n",
       "  }\n",
       "})(window);"
      ],
      "application/vnd.bokehjs_exec.v0+json": ""
     },
     "metadata": {
      "application/vnd.bokehjs_exec.v0+json": {
       "id": "136913"
      }
     },
     "output_type": "display_data"
    },
    {
     "data": {
      "text/html": [
       "<p><code>&lt;Bokeh Notebook handle for <strong>In[40]</strong>&gt;</code></p>"
      ],
      "text/plain": [
       "<bokeh.io.notebook.CommsHandle at 0x1c3dedb5748>"
      ]
     },
     "execution_count": 165,
     "metadata": {},
     "output_type": "execute_result"
    }
   ],
   "source": [
    "\n",
    "dt3 = ColumnDataSource(mean_price)\n",
    "\n",
    "\n",
    "pl3 = figure(x_range = mean_area['city'], plot_height=400, title=\"Average price per City\",  x_axis_label = 'City',\n",
    "    y_axis_label = 'Avg price',\n",
    "           toolbar_location=None, tools=\"pan,box_select,zoom_in,zoom_out\")\n",
    "\n",
    "\n",
    "pl3.vbar(x=dodge('city', 0.15, range=pl3.x_range), top='Appartement', width=0.3 ,source=dt3,\n",
    "       color=\"orangered\", muted_color='orangered', muted_alpha=0.2, legend=\"appartement\")\n",
    "\n",
    "pl3.vbar(x=dodge('city', -0.15,  range=pl3.x_range), top='Maison', width=0.3, source=dt3,\n",
    "       color=\"orange\", muted_color='orange', muted_alpha=0.2, legend=\"maison\")\n",
    "\n",
    "pl3.yaxis.formatter = BasicTickFormatter(use_scientific=False)\n",
    "\n",
    "\n",
    "tab3 = Panel(child=pl3, title=\"Average price per City\")\n",
    "\n",
    "\n",
    "pl3.legend.orientation = \"horizontal\"\n",
    "pl3.legend.click_policy=\"mute\"\n",
    "\n",
    "show(pl3,notebook_handle=True)"
   ]
  },
  {
   "cell_type": "markdown",
   "metadata": {},
   "source": [
    "# Chart4"
   ]
  },
  {
   "cell_type": "code",
   "execution_count": 166,
   "metadata": {},
   "outputs": [
    {
     "data": {
      "text/html": [
       "\n",
       "\n",
       "\n",
       "\n",
       "\n",
       "\n",
       "  <div class=\"bk-root\" id=\"9ac0b016-bd12-46c3-942a-9e93663155ff\" data-root-id=\"139226\"></div>\n"
      ]
     },
     "metadata": {},
     "output_type": "display_data"
    },
    {
     "data": {
      "application/javascript": [
       "(function(root) {\n",
       "  function embed_document(root) {\n",
       "    \n",
       "  var docs_json = {\"051f996f-1c55-4612-ac79-b6e13bfcb0b9\":{\"roots\":{\"references\":[{\"attributes\":{\"children\":[{\"id\":\"139224\",\"type\":\"Row\"},{\"id\":\"139225\",\"type\":\"Row\"}]},\"id\":\"139226\",\"type\":\"Column\"},{\"attributes\":{},\"id\":\"139112\",\"type\":\"HelpTool\"},{\"attributes\":{\"active_drag\":\"auto\",\"active_inspect\":\"auto\",\"active_multi\":null,\"active_scroll\":\"auto\",\"active_tap\":\"auto\",\"tools\":[{\"id\":\"139107\",\"type\":\"PanTool\"},{\"id\":\"139108\",\"type\":\"WheelZoomTool\"},{\"id\":\"139109\",\"type\":\"BoxZoomTool\"},{\"id\":\"139110\",\"type\":\"SaveTool\"},{\"id\":\"139111\",\"type\":\"ResetTool\"},{\"id\":\"139112\",\"type\":\"HelpTool\"},{\"id\":\"139130\",\"type\":\"HoverTool\"}]},\"id\":\"139113\",\"type\":\"Toolbar\"},{\"attributes\":{\"sizing_mode\":\"stretch_width\",\"text\":\"<style>\\nh1 {\\n    margin: 1em 0 0 0;\\n    color: #2e484c;\\n    font-family: 'Julius Sans One', sans-serif;\\n    font-size: 1.8em;\\n    text-transform: uppercase;\\n}\\n\\np {\\n    font: \\\"Libre Baskerville\\\", sans-serif;\\n    text-align: justify;\\n    text-justify: inter-word;\\n    width: 80%;\\n    max-width: 800;\\n}\\n</style>\\n\\n<h1>Correlation</h1>\\n\\n<p>\\nThe charts show the correlation between different variables of the data.\\n</p>\\n<p>\\nHover over the points for details.\\n</p>\\n\"},\"id\":\"139085\",\"type\":\"Div\"},{\"attributes\":{\"source\":{\"id\":\"139083\",\"type\":\"ColumnDataSource\"}},\"id\":\"139124\",\"type\":\"CDSView\"},{\"attributes\":{\"use_scientific\":false},\"id\":\"139128\",\"type\":\"BasicTickFormatter\"},{\"attributes\":{},\"id\":\"141226\",\"type\":\"BasicTickFormatter\"},{\"attributes\":{\"color_mapper\":{\"id\":\"139084\",\"type\":\"LinearColorMapper\"},\"formatter\":{\"id\":\"139128\",\"type\":\"BasicTickFormatter\"},\"label_standoff\":12,\"location\":[0,0],\"ticker\":{\"id\":\"141224\",\"type\":\"BasicTicker\"},\"title\":\"Price\"},\"id\":\"139127\",\"type\":\"ColorBar\"},{\"attributes\":{\"below\":[{\"id\":\"139143\",\"type\":\"LinearAxis\"}],\"center\":[{\"id\":\"139147\",\"type\":\"Grid\"},{\"id\":\"139152\",\"type\":\"Grid\"}],\"left\":[{\"id\":\"139148\",\"type\":\"LinearAxis\"}],\"plot_height\":300,\"plot_width\":400,\"renderers\":[{\"id\":\"139169\",\"type\":\"GlyphRenderer\"}],\"right\":[{\"id\":\"139173\",\"type\":\"ColorBar\"}],\"sizing_mode\":\"scale_both\",\"title\":{\"id\":\"139133\",\"type\":\"Title\"},\"toolbar\":{\"id\":\"139159\",\"type\":\"Toolbar\"},\"toolbar_location\":null,\"x_range\":{\"id\":\"139135\",\"type\":\"DataRange1d\"},\"x_scale\":{\"id\":\"139139\",\"type\":\"LinearScale\"},\"y_range\":{\"id\":\"139137\",\"type\":\"DataRange1d\"},\"y_scale\":{\"id\":\"139141\",\"type\":\"LinearScale\"}},\"id\":\"139132\",\"subtype\":\"Figure\",\"type\":\"Plot\"},{\"attributes\":{\"callback\":null,\"tooltips\":\"\\n<div>\\n    <h3>@city</h3>\\n    <div><strong>Area(m\\u00b2): @area</div></strong>\\n    <div><strong>Price(\\u20ac): @price</div></strong>\\n</div>\\n\"},\"id\":\"139130\",\"type\":\"HoverTool\"},{\"attributes\":{\"fill_alpha\":{\"value\":0.1},\"fill_color\":{\"value\":\"#1f77b4\"},\"line_alpha\":{\"value\":0.1},\"line_color\":{\"value\":\"#1f77b4\"},\"size\":{\"units\":\"screen\",\"value\":7},\"x\":{\"field\":\"nbr_rooms\"},\"y\":{\"field\":\"price\"}},\"id\":\"139168\",\"type\":\"Circle\"},{\"attributes\":{\"text\":\"Rooms vs Price\"},\"id\":\"139133\",\"type\":\"Title\"},{\"attributes\":{\"callback\":null},\"id\":\"139135\",\"type\":\"DataRange1d\"},{\"attributes\":{\"callback\":null},\"id\":\"139137\",\"type\":\"DataRange1d\"},{\"attributes\":{},\"id\":\"141224\",\"type\":\"BasicTicker\"},{\"attributes\":{},\"id\":\"139139\",\"type\":\"LinearScale\"},{\"attributes\":{\"callback\":null,\"data\":{\"Type\":[\"Maison\",\"Maison\",\"Maison\",\"Maison\",\"Maison\",\"Maison\",\"Appartement\",\"Maison\",\"Maison\",\"Appartement\",\"Appartement\",\"Maison\",\"Maison\",\"Appartement\",\"Maison\",\"Appartement\",\"Appartement\",\"Appartement\",\"Appartement\",\"Appartement\",\"Appartement\",\"Maison\",\"Maison\",\"Maison\",\"Maison\",\"Appartement\",\"Appartement\",\"Maison\",\"Appartement\",\"Appartement\",\"Maison\",\"Appartement\",\"Appartement\",\"Maison\",\"Appartement\",\"Maison\",\"Appartement\",\"Appartement\",\"Maison\",\"Maison\",\"Appartement\",\"Appartement\",\"Appartement\",\"Maison\",\"Maison\",\"Maison\",\"Appartement\",\"Appartement\",\"Maison\",\"Appartement\",\"Maison\",\"Maison\",\"Appartement\",\"Appartement\",\"Appartement\",\"Appartement\",\"Appartement\",\"Appartement\",\"Appartement\",\"Appartement\",\"Appartement\"],\"Unnamed: 0\":[52,34,62,68,2,20,49,47,42,24,26,58,54,7,46,27,48,21,15,30,29,57,1,63,43,39,61,44,16,55,18,10,23,33,59,51,64,6,37,67,38,45,56,5,31,66,53,40,65,60,28,22,9,14,8,13,3,41,4,0,17],\"address\":[\"Croix 59170 (Fer \\u00e0 Cheval)\",\"Wasquehal 59290 (Grand Cottignies)\",\"Croix 59170 (Centre-ville)\",\"Croix 59170\",\"Croix 59170 (Centre-ville)\",\"Croix 59170 (Saint-Pierre)\",\"Wasquehal 59290\",\"Wasquehal 59290\",\"Wasquehal 59290 (Centre-ville - Pharos - Site Saint-Nicolas)\",\"Wasquehal 59290 (Centre-ville - Pharos - Site Saint-Nicolas)\",\"Wasquehal 59290 (Boers - Haut Vinage - Or\\u00e9e du Golf - Petit Wasquehal)\",\"Croix 59170\",\"Wasquehal 59290\",\"Croix 59170 (Saint-Pierre)\",\"Croix 59170\",\"Wasquehal 59290 (Boers - Haut Vinage - Or\\u00e9e du Golf - Petit Wasquehal)\",\"Wasquehal 59290 (Capreau)\",\"Wasquehal 59290 (Centre-ville - Pharos - Site Saint-Nicolas)\",\"Croix 59170 (Fer \\u00e0 Cheval)\",\"Wasquehal 59290 (Grand Cottignies)\",\"Wasquehal 59290 (Grand Cottignies)\",\"Wasquehal 59290\",\"Wasquehal 59290 (Centre-ville - Pharos - Site Saint-Nicolas)\",\"Wasquehal 59290\",\"Wasquehal 59290 (Boers - Haut Vinage - Or\\u00e9e du Golf - Petit Wasquehal)\",\"Croix 59170 (Saint-Pierre)\",\"Croix 59170\",\"Croix 59170 (Saint-Pierre)\",\"Wasquehal 59290 (Grand Cottignies)\",\"Croix 59170\",\"Croix 59170 (Saint-Pierre)\",\"Croix 59170 (Saint-Pierre)\",\"Croix 59170 (Fer \\u00e0 Cheval)\",\"Wasquehal 59290 (Capreau)\",\"Croix 59170\",\"Wasquehal 59290 (Capreau)\",\"Croix 59170\",\"Croix 59170 (Saint-Pierre)\",\"Wasquehal 59290 (Capreau)\",\"Wasquehal 59290\",\"Wasquehal 59290 (Grand Cottignies)\",\"Wasquehal 59290 (Grand Cottignies)\",\"Wasquehal 59290\",\"Croix 59170 (Saint-Pierre)\",\"Croix 59170 (Saint-Pierre)\",\"Croix 59170\",\"Wasquehal 59290 (Centre-ville - Pharos - Site Saint-Nicolas)\",\"Wasquehal 59290 (Grand Cottignies)\",\"Croix 59170\",\"Croix 59170\",\"Croix 59170 (Saint-Pierre)\",\"Croix 59170 (Saint-Pierre)\",\"Croix 59170 (Fer \\u00e0 Cheval)\",\"Croix 59170 (Saint-Pierre)\",\"Croix 59170 (Saint-Pierre)\",\"Croix 59170 (Fer \\u00e0 Cheval)\",\"Wasquehal 59290 (Noir Bonnet - Rue Pasteur)\",\"Croix 59170 (Fer \\u00e0 Cheval)\",\"Croix 59170 (Saint-Pierre)\",\"Croix 59170 (Saint-Pierre)\",\"Croix 59170 (Centre-ville)\"],\"area\":{\"__ndarray__\":\"AAAAAAAgckAAAAAAAIBxQAAAAAAAQG5AAAAAAAAAbkAAAAAAADB0QAAAAAAA4HVAAAAAAABAYkAAAAAAAABpQAAAAAAAQGVAAAAAAABAXUAAAAAAAEBdQAAAAAAAYGNAAAAAAAAAXkAAAAAAAABVQAAAAAAA4GBAAAAAAACAW0AAAAAAAIBTQAAAAAAAwFBAAAAAAAAAVUAAAAAAAABRQAAAAAAAAFBAAAAAAACAVkAAAAAAAMBSQAAAAAAAAFlAAAAAAAAA+H8AAAAAAABOQAAAAAAAQFNAAAAAAABAWkAAAAAAAIBQQAAAAAAAAFhAAAAAAABAWkAAAAAAAABPQAAAAAAAgFhAAAAAAAAAWUAAAAAAAABFQAAAAAAAgFZAAAAAAAAAT0AAAAAAAIBEQAAAAAAAgFZAAAAAAABAUEAAAAAAAIBGQAAAAAAAAERAAAAAAAAAREAAAAAAAIBYQAAAAAAAwFhAAAAAAAAAWUAAAAAAAEBVQAAAAAAAgERAAAAAAABAVUAAAAAAAIBKQAAAAAAAQFVAAAAAAAAAVEAAAAAAAIBPQAAAAAAAgEZAAAAAAAAAS0AAAAAAAIBWQAAAAAAAAPh/AAAAAACARUAAAAAAAIBKQAAAAAAAwFdAAAAAAAAARUA=\",\"dtype\":\"float64\",\"shape\":[61]},\"category\":[\"Maison 6 pi\\u00e8ces 290 m\\u00b2\\nCroix 59170 (Fer \\u00e0 Cheval)\",\"Maison 10 pi\\u00e8ces 280 m\\u00b2\\nWasquehal 59290 (Grand Cottignies)\",\"Maison 7 pi\\u00e8ces 242 m\\u00b2\\nCroix 59170 (Centre-ville)\",\"Maison 8 pi\\u00e8ces 240 m\\u00b2\\nCroix 59170\",\"Maison 10 pi\\u00e8ces 323 m\\u00b2\\nCroix 59170 (Centre-ville)\",\"Maison 10 pi\\u00e8ces 350 m\\u00b2\\nCroix 59170 (Saint-Pierre)\",\"Appartement 5 pi\\u00e8ces 146 m\\u00b2\\nWasquehal 59290\",\"Maison 5 pi\\u00e8ces 200 m\\u00b2\\nWasquehal 59290\",\"Maison 5 pi\\u00e8ces 170 m\\u00b2\\nWasquehal 59290 (Centre-ville - Pharos - Site Saint-Nicolas)\",\"Appartement 4 pi\\u00e8ces 117 m\\u00b2\\nWasquehal 59290 (Centre-ville - Pharos - Site Saint-Nicolas)\",\"Appartement 4 pi\\u00e8ces 117 m\\u00b2\\nWasquehal 59290 (Boers - Haut Vinage - Or\\u00e9e du Golf - Petit Wasquehal)\",\"Maison 6 pi\\u00e8ces 155 m\\u00b2\\nCroix 59170\",\"Maison 5 pi\\u00e8ces 120 m\\u00b2\\nWasquehal 59290\",\"Appartement 4 pi\\u00e8ces 84 m\\u00b2\\nCroix 59170 (Saint-Pierre)\",\"Maison 5 pi\\u00e8ces 135 m\\u00b2\\nCroix 59170\",\"Appartement 5 pi\\u00e8ces 110 m\\u00b2\\nWasquehal 59290 (Boers - Haut Vinage - Or\\u00e9e du Golf - Petit Wasquehal)\",\"Appartement 3 pi\\u00e8ces 78 m\\u00b2\\nWasquehal 59290 (Capreau)\",\"Appartement 3 pi\\u00e8ces 67 m\\u00b2\\nWasquehal 59290 (Centre-ville - Pharos - Site Saint-Nicolas)\",\"Appartement 4 pi\\u00e8ces 84 m\\u00b2\\nCroix 59170 (Fer \\u00e0 Cheval)\",\"Appartement 3 pi\\u00e8ces 68 m\\u00b2\\nWasquehal 59290 (Grand Cottignies)\",\"Appartement 3 pi\\u00e8ces 64 m\\u00b2\\nWasquehal 59290 (Grand Cottignies)\",\"Maison 3 pi\\u00e8ces 90 m\\u00b2\\nWasquehal 59290\",\"Maison 5 pi\\u00e8ces 75 m\\u00b2\\nWasquehal 59290 (Centre-ville - Pharos - Site Saint-Nicolas)\",\"Maison 4 pi\\u00e8ces 100 m\\u00b2\\nWasquehal 59290\",\"Maison 4 pi\\u00e8ces\\nWasquehal 59290 (Boers - Haut Vinage - Or\\u00e9e du Golf - Petit Wasquehal)\",\"Appartement 3 pi\\u00e8ces 60 m\\u00b2\\nCroix 59170 (Saint-Pierre)\",\"Appartement 3 pi\\u00e8ces 77 m\\u00b2\\nCroix 59170\",\"Maison 3 pi\\u00e8ces 105 m\\u00b2\\nCroix 59170 (Saint-Pierre)\",\"Appartement 3 pi\\u00e8ces 66 m\\u00b2\\nWasquehal 59290 (Grand Cottignies)\",\"Appartement 4 pi\\u00e8ces 96 m\\u00b2\\nCroix 59170\",\"Maison 3 pi\\u00e8ces 105 m\\u00b2\\nCroix 59170 (Saint-Pierre)\",\"Appartement 3 pi\\u00e8ces 62 m\\u00b2\\nCroix 59170 (Saint-Pierre)\",\"Appartement 3 pi\\u00e8ces 98 m\\u00b2\\nCroix 59170 (Fer \\u00e0 Cheval)\",\"Maison 4 pi\\u00e8ces 100 m\\u00b2\\nWasquehal 59290 (Capreau)\",\"Appartement 2 pi\\u00e8ces 42 m\\u00b2\\nCroix 59170\",\"Maison 4 pi\\u00e8ces 90 m\\u00b2\\nWasquehal 59290 (Capreau)\",\"Appartement 2 pi\\u00e8ces 62 m\\u00b2\\nCroix 59170\",\"Appartement 2 pi\\u00e8ces 41 m\\u00b2\\nCroix 59170 (Saint-Pierre)\",\"Maison 4 pi\\u00e8ces 90 m\\u00b2\\nWasquehal 59290 (Capreau)\",\"Maison 3 pi\\u00e8ces 65 m\\u00b2\\nWasquehal 59290\",\"Appartement 2 pi\\u00e8ces 45 m\\u00b2\\nWasquehal 59290 (Grand Cottignies)\",\"Appartement 2 pi\\u00e8ces 40 m\\u00b2\\nWasquehal 59290 (Grand Cottignies)\",\"Appartement 2 pi\\u00e8ces 40 m\\u00b2\\nWasquehal 59290\",\"Maison 6 pi\\u00e8ces 98 m\\u00b2\\nCroix 59170 (Saint-Pierre)\",\"Maison 5 pi\\u00e8ces 99 m\\u00b2\\nCroix 59170 (Saint-Pierre)\",\"Maison 6 pi\\u00e8ces 100 m\\u00b2\\nCroix 59170\",\"Appartement 4 pi\\u00e8ces 85 m\\u00b2\\nWasquehal 59290 (Centre-ville - Pharos - Site Saint-Nicolas)\",\"Appartement 2 pi\\u00e8ces 41 m\\u00b2\\nWasquehal 59290 (Grand Cottignies)\",\"Maison 5 pi\\u00e8ces 85 m\\u00b2\\nCroix 59170\",\"Appartement 2 pi\\u00e8ces 53 m\\u00b2\\nCroix 59170\",\"Maison 4 pi\\u00e8ces 85 m\\u00b2\\nCroix 59170 (Saint-Pierre)\",\"Maison 4 pi\\u00e8ces 80 m\\u00b2\\nCroix 59170 (Saint-Pierre)\",\"Appartement 2 pi\\u00e8ces 63 m\\u00b2\\nCroix 59170 (Fer \\u00e0 Cheval)\",\"Appartement 2 pi\\u00e8ces 45 m\\u00b2\\nCroix 59170 (Saint-Pierre)\",\"Appartement 2 pi\\u00e8ces 54 m\\u00b2\\nCroix 59170 (Saint-Pierre)\",\"Appartement 3 pi\\u00e8ces 90 m\\u00b2\\nCroix 59170 (Fer \\u00e0 Cheval)\",\"Appartement 2 pi\\u00e8ces\\nWasquehal 59290 (Noir Bonnet - Rue Pasteur)\",\"Appartement 1 pi\\u00e8ce 43 m\\u00b2\\nCroix 59170 (Fer \\u00e0 Cheval)\",\"Appartement 2 pi\\u00e8ces 53 m\\u00b2\\nCroix 59170 (Saint-Pierre)\",\"Appartement 3 pi\\u00e8ces 95 m\\u00b2\\nCroix 59170 (Saint-Pierre)\",\"Appartement 1 pi\\u00e8ce 42 m\\u00b2\\nCroix 59170 (Centre-ville)\"],\"city\":[\"Croix\",\"Wasquehal\",\"Croix\",\"Croix\",\"Croix\",\"Croix\",\"Wasquehal\",\"Wasquehal\",\"Wasquehal\",\"Wasquehal\",\"Wasquehal\",\"Croix\",\"Wasquehal\",\"Croix\",\"Croix\",\"Wasquehal\",\"Wasquehal\",\"Wasquehal\",\"Croix\",\"Wasquehal\",\"Wasquehal\",\"Wasquehal\",\"Wasquehal\",\"Wasquehal\",\"Wasquehal\",\"Croix\",\"Croix\",\"Croix\",\"Wasquehal\",\"Croix\",\"Croix\",\"Croix\",\"Croix\",\"Wasquehal\",\"Croix\",\"Wasquehal\",\"Croix\",\"Croix\",\"Wasquehal\",\"Wasquehal\",\"Wasquehal\",\"Wasquehal\",\"Wasquehal\",\"Croix\",\"Croix\",\"Croix\",\"Wasquehal\",\"Wasquehal\",\"Croix\",\"Croix\",\"Croix\",\"Croix\",\"Croix\",\"Croix\",\"Croix\",\"Croix\",\"Wasquehal\",\"Croix\",\"Croix\",\"Croix\",\"Croix\"],\"image_link\":[\"https://file.bienici.com/photo/hektor-agveroniquefont-3183_agveroniquefont.staticlbi.com_original_images_biens_1_7f01c939761597f9b832694d4c381512_ef0105031d39a10a637e500bea7beefc.jpg?width=300&height=180&fit=cover\",\"https://file.bienici.com/photo/hektor-agveroniquefont-1596_agveroniquefont.staticlbi.com_original_images_biens_1_a368b0de8b91cfb3f91892fbf1ebd4b2_56b8b12117f04622247fdb4c55fb6b07.jpg?width=300&height=180&fit=cover\",\"https://file.bienici.com/photo/hektor-agveroniquefont-1018_agveroniquefont.staticlbi.com_original_images_biens_1_24146db4eb48c718b84cae0a0799dcfc_cb86702143a2e657da06b09191c6f497.jpg?width=300&height=180&fit=cover\",\"https://file.bienici.com/photo/hektor-agveroniquefont-2769_agveroniquefont.staticlbi.com_original_images_biens_1_d47844673f2db74d78da8687d794523d_5c5bac4caef5eecb67347c2deb20ad64.jpg?width=300&height=180&fit=cover\",\"https://file.bienici.com/photo/orpi-1-120001E1EHML_media6.ac3-distribution.com_office6_orpi_73336_catalog_images_pr_p_6_0_9_2_0_6_5_6092065a.jpg_DATEMAJ_201911151644?width=300&height=180&fit=cover\",\"https://file.bienici.com/photo/fnaim-44414715_images-raw.fnaim.fr_images1_img96_2969600VN1684T01.jpg?width=300&height=180&fit=cover\",\"https://file.bienici.com/photo/ag593804-216440889_photos.ubiflow.net_593804_216440889_photos_1.jpg_20191014194207?width=300&height=180&fit=cover\",\"https://file.bienici.com/photo/ag593804-219876426_photos.ubiflow.net_593804_219876426_photos_1.jpg_20191014194417?width=300&height=180&fit=cover\",\"https://file.bienici.com/photo/hektor-agveroniquefont-3807_agveroniquefont.staticlbi.com_original_images_biens_1_572de2f72d5731ff8a6744d12368d260_photo_8c9ca674d1f61fa5839b798bf9d85db6.jpg?width=300&height=180&fit=cover\",\"https://file.bienici.com/photo/century-21-202_3283_894_core.naxos-fr.net_imagesBien_202_3283_c21_202_3283_894_1_5579DDD1-1F2D-44B1-A69C-0D187D14464F.jpg?width=300&height=180&fit=cover\",\"https://file.bienici.com/photo/ag340378-229347814_photos.ubiflow.net_340378_229347814_photos_1.jpg_20191210031913?width=300&height=180&fit=cover\",\"https://file.bienici.com/photo/ag593804-221245957_photos.ubiflow.net_593804_221245957_photos_1.jpg_20191016141151?width=300&height=180&fit=cover\",\"https://file.bienici.com/photo/ag593804-227027287_photos.ubiflow.net_593804_227027287_photos_1.jpg_20191123172421?width=300&height=180&fit=cover\",\"https://file.bienici.com/photo/century-21-202_3283_971_core.naxos-fr.net_imagesBien_202_3283_c21_202_3283_971_1_C4D0F34C-C2FB-43A8-8375-8EA60B714C48.jpg?width=300&height=180&fit=cover\",\"https://file.bienici.com/photo/ag593804-220546338_photos.ubiflow.net_593804_220546338_photos_1.jpg_20191014194259?width=300&height=180&fit=cover\",\"https://file.bienici.com/photo/ag592469-221710204_photos.ubiflow.net_592469_221710204_photos_1.jpg_20191019041339?width=300&height=180&fit=cover\",\"https://file.bienici.com/photo/ag591569-217021893_photos.ubiflow.net_591569_217021893_photos_1.jpg_20190918124446?width=300&height=180&fit=cover\",\"https://file.bienici.com/photo/century-21-202_3283_944_core.naxos-fr.net_imagesBien_202_3283_c21_202_3283_944_1_CEF25ABC-A27E-4488-A453-35D74124780A.jpg?width=300&height=180&fit=cover\",\"https://file.bienici.com/photo/orpi-1-120037E19FML_media6.ac3-distribution.com_office6_orpi_73142_catalog_images_pr_p_5_6_5_5_8_3_3_5655833a.jpg_DATEMAJ_201902121541?width=300&height=180&fit=cover\",\"https://file.bienici.com/photo/century-21-202_3283_891_core.naxos-fr.net_imagesBien_202_3283_c21_202_3283_891_1_8B28FC8D-0C79-4592-9D73-503EAB5D9284.jpg?width=300&height=180&fit=cover\",\"https://file.bienici.com/photo/century-21-202_3283_892_core.naxos-fr.net_imagesBien_202_3283_c21_202_3283_892_1_73486669-E31A-4DFF-95A7-3C9739DFE1A6.jpg?width=300&height=180&fit=cover\",\"https://file.bienici.com/photo/ag593804-221609191_photos.ubiflow.net_593804_221609191_photos_1.jpg_20191018132830?width=300&height=180&fit=cover\",\"https://file.bienici.com/photo/orpi-1-120003E1GTND_media6.ac3-distribution.com_office6_orpi_73453_catalog_images_pr_p_6_2_2_6_0_5_7_6226057a.jpg_DATEMAJ_201911041600?width=300&height=180&fit=cover\",\"https://file.bienici.com/photo/ag591008-228608418_photos.ubiflow.net_591008_228608418_photos_1.jpg_20191204164026?width=300&height=180&fit=cover\",\"https://file.bienici.com/photo/ag591008-230764911_photos.ubiflow.net_591008_230764911_photos_1.jpg_20191219185249?width=300&height=180&fit=cover\",\"https://file.bienici.com/photo/ag440414-208485234_photos.ubiflow.net_440414_208485234_photos_1.jpg_20190718153413?width=300&height=180&fit=cover\",\"https://file.bienici.com/photo/ag593804-217576866_photos.ubiflow.net_593804_217576866_photos_1.jpg_20191014194201?width=300&height=180&fit=cover\",\"https://file.bienici.com/photo/orpi-1-120908E1FW7T_media6.ac3-distribution.com_office6_orpi_73336_catalog_images_pr_p_6_1_7_4_7_7_2_6174772a.jpg_DATEMAJ_201909241119?width=300&height=180&fit=cover\",\"https://file.bienici.com/photo/pericles-22959888_a?width=300&height=180&fit=cover\",\"https://file.bienici.com/photo/apimo-3428226_d1qfj231ug7wdu.cloudfront.net_pictures_estate_3429_3428226_2196580795dd80ae9006025.69620465_1920.jpg?width=300&height=180&fit=cover\",\"https://file.bienici.com/photo/ag440414-226888141_photos.ubiflow.net_440414_226888141_photos_1.jpg_20191122193043?width=300&height=180&fit=cover\",\"https://file.bienici.com/photo/pericles-26650268_a?width=300&height=180&fit=cover\",\"https://file.bienici.com/photo/pericles-27541440_a?width=300&height=180&fit=cover\",\"https://file.bienici.com/photo/orpi-1-120037E1CQC3_media6.ac3-distribution.com_office6_orpi_73142_catalog_images_pr_p_5_8_6_9_6_7_2_5869672a.jpg_DATEMAJ_201909101731?width=300&height=180&fit=cover\",\"https://file.bienici.com/photo/ag593804-218962977_photos.ubiflow.net_593804_218962977_photos_1.jpg_20191014194217?width=300&height=180&fit=cover\",\"https://file.bienici.com/photo/ag591569-197980825_photos.ubiflow.net_591569_197980825_photos_1.jpg_20190521112412?width=300&height=180&fit=cover\",\"https://file.bienici.com/photo/ag593804-223131715_photos.ubiflow.net_593804_223131715_photos_1.jpg_20191029174024?width=300&height=180&fit=cover\",\"https://file.bienici.com/photo/century-21-202_3283_972_core.naxos-fr.net_imagesBien_202_3283_c21_202_3283_972_1_2A939C23-D4EF-4FDD-984E-EB40A9F494B6.jpg?width=300&height=180&fit=cover\",\"https://file.bienici.com/photo/orpi-1-120037E1HI1E_media6.ac3-distribution.com_office6_orpi_73142_catalog_images_pr_p_6_2_7_1_1_0_1_6271101a.jpg_DATEMAJ_201911131029?width=300&height=180&fit=cover\",\"https://file.bienici.com/photo/ag593804-216810150_photos.ubiflow.net_593804_216810150_photos_1.jpg_20191014194245?width=300&height=180&fit=cover\",\"https://file.bienici.com/photo/orpi-1-120037E1HFQI_media6.ac3-distribution.com_office6_orpi_73142_catalog_images_pr_p_6_2_6_7_4_8_1_6267481a.jpg_DATEMAJ_201911121402?width=300&height=180&fit=cover\",\"https://file.bienici.com/photo/immo-facile-34136641_media.immo-facile.com_office2_exactimmo_catalog_images_pr_p_3_4_1_3_6_6_4_1_34136641a.jpg_DATEMAJ_22_10_2019-09_20_16?width=300&height=180&fit=cover\",\"https://file.bienici.com/photo/ag593804-222595345_photos.ubiflow.net_593804_222595345_photos_1.jpg_20191025132130?width=300&height=180&fit=cover\",\"https://file.bienici.com/photo/ag440414-227220979_photos.ubiflow.net_440414_227220979_photos_1.jpg_20191125152213?width=300&height=180&fit=cover\",\"https://file.bienici.com/photo/orpi-1-120901E1ER80_media6.ac3-distribution.com_office6_orpi_73336_catalog_images_pr_p_6_1_0_7_7_5_0_6107750a.jpg_DATEMAJ_201909271444?width=300&height=180&fit=cover\",\"https://file.bienici.com/photo/ag593804-220546365_photos.ubiflow.net_593804_220546365_photos_1.jpg_20191016213637?width=300&height=180&fit=cover\",\"https://file.bienici.com/photo/ag591008-210492347_photos.ubiflow.net_591008_210492347_photos_1.jpg_20190801120625?width=300&height=180&fit=cover\",\"https://file.bienici.com/photo/pericles-25803012_a?width=300&height=180&fit=cover\",\"https://file.bienici.com/photo/ag593804-221609209_photos.ubiflow.net_593804_221609209_photos_1.jpg_20191018132833?width=300&height=180&fit=cover\",\"https://file.bienici.com/photo/ag593804-218748273_photos.ubiflow.net_593804_218748273_photos_1.jpg_20191118214004?width=300&height=180&fit=cover\",\"https://file.bienici.com/photo/ag440414-221659210_photos.ubiflow.net_440414_221659210_photos_1.jpg_20191018190414?width=300&height=180&fit=cover\",\"https://file.bienici.com/photo/pericles-27660414_a?width=300&height=180&fit=cover\",\"https://file.bienici.com/photo/pericles-27875328_a?width=300&height=180&fit=cover\",\"https://file.bienici.com/photo/immo-facile-32614038_media.immo-facile.com_office16_immodefrance_npdc_catalog_images_pr_p_3_2_6_1_4_0_3_8_32614038a.jpg_DATEMAJ_25_06_2019-17_26_45?width=300&height=180&fit=cover\",\"https://file.bienici.com/photo/ag440414-225507691_photos.ubiflow.net_440414_225507691_photos_1.jpg_20191114185847?width=300&height=180&fit=cover\",\"https://file.bienici.com/photo/ag440414-212765508_photos.ubiflow.net_440414_212765508_photos_1.jpg_20191126145042?width=300&height=180&fit=cover\",\"https://file.bienici.com/photo/citya-immobilier-1289-TAPP422525_cityabox-web.ics.infoclip.fr_icsbox_cit_CITYA_FLANDRES_jdd_transaction_photo_filigrane-2--3989774459365924394.jpg?width=300&height=180&fit=cover\",\"https://file.bienici.com/photo/pericles-25038823_a?width=300&height=180&fit=cover\",\"https://file.bienici.com/photo/ag592837-227283511_photos.ubiflow.net_592837_227283511_photos_1.jpg_20191129023826?width=300&height=180&fit=cover\",\"https://file.bienici.com/photo/ag752451-209382087_photos.ubiflow.net_752451_209382087_photos_1.jpg_20191213204035?width=300&height=180&fit=cover\",\"https://file.bienici.com/photo/ag594019-228452107_photos.ubiflow.net_594019_228452107_photos_1.jpg_20191207094215?width=300&height=180&fit=cover\"],\"index\":[0,1,2,3,4,5,6,7,8,9,10,11,12,13,14,15,16,17,18,19,20,21,22,23,24,25,26,27,28,29,30,31,32,33,34,35,36,37,38,39,40,41,42,43,44,45,46,47,48,49,50,51,52,53,54,55,56,57,58,59,60],\"nbr_rooms\":[6,10,7,8,10,10,5,5,5,4,4,6,5,4,5,5,3,3,4,3,3,3,5,4,4,3,3,3,3,4,3,3,3,4,2,4,2,2,4,3,2,2,2,6,5,6,4,2,5,2,4,4,2,2,2,3,2,1,2,3,1],\"pincode\":[59170,59290,59170,59170,59170,59170,59290,59290,59290,59290,59290,59170,59290,59170,59170,59290,59290,59290,59170,59290,59290,59290,59290,59290,59290,59170,59170,59170,59290,59170,59170,59170,59170,59290,59170,59290,59170,59170,59290,59290,59290,59290,59290,59170,59170,59170,59290,59290,59170,59170,59170,59170,59170,59170,59170,59170,59290,59170,59170,59170,59170],\"price\":[1355000,1290000,1050000,1040000,694790,660000,649000,590000,510000,479000,479000,475000,385000,360000,330000,298000,288000,276900,266500,262900,258900,250000,242500,240000,240000,231000,215000,207750,200000,196000,185755,183600,180000,179760,179000,175000,170000,170000,169000,168000,154145,153900,148500,148500,147900,146500,145600,140000,138500,137000,135990,135000,125000,118000,115990,115000,114500,104000,99000,96505,80000],\"serial\":[53,35,63,69,3,21,50,48,43,25,27,59,55,8,47,28,49,22,16,31,30,58,2,64,44,40,62,45,17,56,19,11,24,34,60,52,65,7,38,68,39,46,57,6,32,67,54,41,66,61,29,23,10,15,9,14,4,42,5,1,18],\"street\":[\"Fer \\u00e0 Cheval\",\"Grand Cottignies\",\"Centre-ville\",\"NaN\",\"Centre-ville\",\"Saint-Pierre\",\"NaN\",\"NaN\",\"Centre-ville - Pharos - Site Saint-Nicolas\",\"Centre-ville - Pharos - Site Saint-Nicolas\",\"Boers - Haut Vinage - Or\\u00e9e du Golf - Petit Wasquehal\",\"NaN\",\"NaN\",\"Saint-Pierre\",\"NaN\",\"Boers - Haut Vinage - Or\\u00e9e du Golf - Petit Wasquehal\",\"Capreau\",\"Centre-ville - Pharos - Site Saint-Nicolas\",\"Fer \\u00e0 Cheval\",\"Grand Cottignies\",\"Grand Cottignies\",\"NaN\",\"Centre-ville - Pharos - Site Saint-Nicolas\",\"NaN\",\"Boers - Haut Vinage - Or\\u00e9e du Golf - Petit Wasquehal\",\"Saint-Pierre\",\"NaN\",\"Saint-Pierre\",\"Grand Cottignies\",\"NaN\",\"Saint-Pierre\",\"Saint-Pierre\",\"Fer \\u00e0 Cheval\",\"Capreau\",\"NaN\",\"Capreau\",\"NaN\",\"Saint-Pierre\",\"Capreau\",\"NaN\",\"Grand Cottignies\",\"Grand Cottignies\",\"NaN\",\"Saint-Pierre\",\"Saint-Pierre\",\"NaN\",\"Centre-ville - Pharos - Site Saint-Nicolas\",\"Grand Cottignies\",\"NaN\",\"NaN\",\"Saint-Pierre\",\"Saint-Pierre\",\"Fer \\u00e0 Cheval\",\"Saint-Pierre\",\"Saint-Pierre\",\"Fer \\u00e0 Cheval\",\"Noir Bonnet - Rue Pasteur\",\"Fer \\u00e0 Cheval\",\"Saint-Pierre\",\"Saint-Pierre\",\"Centre-ville\"]},\"selected\":{\"id\":\"141238\",\"type\":\"Selection\"},\"selection_policy\":{\"id\":\"141239\",\"type\":\"UnionRenderers\"}},\"id\":\"139083\",\"type\":\"ColumnDataSource\"},{\"attributes\":{\"fill_alpha\":{\"value\":0.1},\"fill_color\":{\"value\":\"#1f77b4\"},\"line_alpha\":{\"value\":0.1},\"line_color\":{\"value\":\"#1f77b4\"},\"size\":{\"units\":\"screen\",\"value\":7},\"x\":{\"field\":\"area\"},\"y\":{\"field\":\"price\"}},\"id\":\"139122\",\"type\":\"Circle\"},{\"attributes\":{},\"id\":\"139141\",\"type\":\"LinearScale\"},{\"attributes\":{\"axis_label\":\"Number of rooms\",\"formatter\":{\"id\":\"141230\",\"type\":\"BasicTickFormatter\"},\"ticker\":{\"id\":\"139144\",\"type\":\"BasicTicker\"}},\"id\":\"139143\",\"type\":\"LinearAxis\"},{\"attributes\":{},\"id\":\"139144\",\"type\":\"BasicTicker\"},{\"attributes\":{},\"id\":\"141235\",\"type\":\"BasicTickFormatter\"},{\"attributes\":{\"ticker\":{\"id\":\"139144\",\"type\":\"BasicTicker\"}},\"id\":\"139147\",\"type\":\"Grid\"},{\"attributes\":{\"axis_label\":\"Price\",\"formatter\":{\"id\":\"139171\",\"type\":\"BasicTickFormatter\"},\"ticker\":{\"id\":\"139149\",\"type\":\"BasicTicker\"},\"visible\":null},\"id\":\"139148\",\"type\":\"LinearAxis\"},{\"attributes\":{},\"id\":\"139149\",\"type\":\"BasicTicker\"},{\"attributes\":{\"dimension\":1,\"ticker\":{\"id\":\"139149\",\"type\":\"BasicTicker\"}},\"id\":\"139152\",\"type\":\"Grid\"},{\"attributes\":{\"fill_color\":{\"field\":\"price\",\"transform\":{\"id\":\"139084\",\"type\":\"LinearColorMapper\"}},\"line_color\":{\"value\":null},\"size\":{\"units\":\"screen\",\"value\":7},\"x\":{\"field\":\"nbr_rooms\"},\"y\":{\"field\":\"price\"}},\"id\":\"139167\",\"type\":\"Circle\"},{\"attributes\":{\"use_scientific\":false},\"id\":\"139218\",\"type\":\"BasicTickFormatter\"},{\"attributes\":{\"use_scientific\":false},\"id\":\"139171\",\"type\":\"BasicTickFormatter\"},{\"attributes\":{\"data_source\":{\"id\":\"139083\",\"type\":\"ColumnDataSource\"},\"glyph\":{\"id\":\"139167\",\"type\":\"Circle\"},\"hover_glyph\":null,\"muted_glyph\":null,\"nonselection_glyph\":{\"id\":\"139168\",\"type\":\"Circle\"},\"selection_glyph\":null,\"view\":{\"id\":\"139170\",\"type\":\"CDSView\"}},\"id\":\"139169\",\"type\":\"GlyphRenderer\"},{\"attributes\":{\"high\":1355000,\"low\":80000,\"palette\":[\"#440154\",\"#443982\",\"#30678D\",\"#208F8C\",\"#35B778\",\"#8DD644\",\"#FDE724\"]},\"id\":\"139084\",\"type\":\"LinearColorMapper\"},{\"attributes\":{},\"id\":\"139153\",\"type\":\"PanTool\"},{\"attributes\":{},\"id\":\"139154\",\"type\":\"WheelZoomTool\"},{\"attributes\":{\"overlay\":{\"id\":\"141240\",\"type\":\"BoxAnnotation\"}},\"id\":\"139155\",\"type\":\"BoxZoomTool\"},{\"attributes\":{},\"id\":\"139156\",\"type\":\"SaveTool\"},{\"attributes\":{},\"id\":\"139157\",\"type\":\"ResetTool\"},{\"attributes\":{},\"id\":\"139158\",\"type\":\"HelpTool\"},{\"attributes\":{\"active_drag\":\"auto\",\"active_inspect\":\"auto\",\"active_multi\":null,\"active_scroll\":\"auto\",\"active_tap\":\"auto\",\"tools\":[{\"id\":\"139153\",\"type\":\"PanTool\"},{\"id\":\"139154\",\"type\":\"WheelZoomTool\"},{\"id\":\"139155\",\"type\":\"BoxZoomTool\"},{\"id\":\"139156\",\"type\":\"SaveTool\"},{\"id\":\"139157\",\"type\":\"ResetTool\"},{\"id\":\"139158\",\"type\":\"HelpTool\"},{\"id\":\"139176\",\"type\":\"HoverTool\"}]},\"id\":\"139159\",\"type\":\"Toolbar\"},{\"attributes\":{\"source\":{\"id\":\"139083\",\"type\":\"ColumnDataSource\"}},\"id\":\"139170\",\"type\":\"CDSView\"},{\"attributes\":{\"use_scientific\":false},\"id\":\"139174\",\"type\":\"BasicTickFormatter\"},{\"attributes\":{\"color_mapper\":{\"id\":\"139084\",\"type\":\"LinearColorMapper\"},\"formatter\":{\"id\":\"139174\",\"type\":\"BasicTickFormatter\"},\"label_standoff\":12,\"location\":[0,0],\"ticker\":{\"id\":\"141228\",\"type\":\"BasicTicker\"},\"title\":\"Price\"},\"id\":\"139173\",\"type\":\"ColorBar\"},{\"attributes\":{\"callback\":null,\"tooltips\":\"\\n<div>\\n    <h3>@city</h3>\\n    <div><strong>Number of rooms: @nbr_rooms</div></strong>\\n    <div><strong>Price(\\u20ac): @price</div></strong>\\n</div>\\n\"},\"id\":\"139176\",\"type\":\"HoverTool\"},{\"attributes\":{\"high\":10,\"low\":1,\"palette\":[\"#000003\",\"#550F6D\",\"#BA3655\",\"#F98C09\",\"#FCFEA4\"]},\"id\":\"139178\",\"type\":\"LinearColorMapper\"},{\"attributes\":{\"below\":[{\"id\":\"139190\",\"type\":\"LinearAxis\"}],\"center\":[{\"id\":\"139194\",\"type\":\"Grid\"},{\"id\":\"139199\",\"type\":\"Grid\"}],\"left\":[{\"id\":\"139195\",\"type\":\"LinearAxis\"}],\"plot_height\":300,\"plot_width\":400,\"renderers\":[{\"id\":\"139216\",\"type\":\"GlyphRenderer\"}],\"right\":[{\"id\":\"139220\",\"type\":\"ColorBar\"}],\"sizing_mode\":\"scale_both\",\"title\":{\"id\":\"139180\",\"type\":\"Title\"},\"toolbar\":{\"id\":\"139206\",\"type\":\"Toolbar\"},\"toolbar_location\":null,\"x_range\":{\"id\":\"139182\",\"type\":\"DataRange1d\"},\"x_scale\":{\"id\":\"139186\",\"type\":\"LinearScale\"},\"y_range\":{\"id\":\"139184\",\"type\":\"DataRange1d\"},\"y_scale\":{\"id\":\"139188\",\"type\":\"LinearScale\"}},\"id\":\"139179\",\"subtype\":\"Figure\",\"type\":\"Plot\"},{\"attributes\":{\"bottom_units\":\"screen\",\"fill_alpha\":{\"value\":0.5},\"fill_color\":{\"value\":\"lightgrey\"},\"left_units\":\"screen\",\"level\":\"overlay\",\"line_alpha\":{\"value\":1.0},\"line_color\":{\"value\":\"black\"},\"line_dash\":[4,4],\"line_width\":{\"value\":2},\"render_mode\":\"css\",\"right_units\":\"screen\",\"top_units\":\"screen\"},\"id\":\"141237\",\"type\":\"BoxAnnotation\"},{\"attributes\":{\"fill_color\":{\"field\":\"nbr_rooms\",\"transform\":{\"id\":\"139178\",\"type\":\"LinearColorMapper\"}},\"line_color\":{\"value\":null},\"size\":{\"units\":\"screen\",\"value\":7},\"x\":{\"field\":\"area\"},\"y\":{\"field\":\"nbr_rooms\"}},\"id\":\"139214\",\"type\":\"Circle\"},{\"attributes\":{},\"id\":\"141238\",\"type\":\"Selection\"},{\"attributes\":{},\"id\":\"141239\",\"type\":\"UnionRenderers\"},{\"attributes\":{\"text\":\"Area vs Rooms\"},\"id\":\"139180\",\"type\":\"Title\"},{\"attributes\":{\"bottom_units\":\"screen\",\"fill_alpha\":{\"value\":0.5},\"fill_color\":{\"value\":\"lightgrey\"},\"left_units\":\"screen\",\"level\":\"overlay\",\"line_alpha\":{\"value\":1.0},\"line_color\":{\"value\":\"black\"},\"line_dash\":[4,4],\"line_width\":{\"value\":2},\"render_mode\":\"css\",\"right_units\":\"screen\",\"top_units\":\"screen\"},\"id\":\"141240\",\"type\":\"BoxAnnotation\"},{\"attributes\":{\"callback\":null},\"id\":\"139182\",\"type\":\"DataRange1d\"},{\"attributes\":{\"bottom_units\":\"screen\",\"fill_alpha\":{\"value\":0.5},\"fill_color\":{\"value\":\"lightgrey\"},\"left_units\":\"screen\",\"level\":\"overlay\",\"line_alpha\":{\"value\":1.0},\"line_color\":{\"value\":\"black\"},\"line_dash\":[4,4],\"line_width\":{\"value\":2},\"render_mode\":\"css\",\"right_units\":\"screen\",\"top_units\":\"screen\"},\"id\":\"141241\",\"type\":\"BoxAnnotation\"},{\"attributes\":{\"callback\":null},\"id\":\"139184\",\"type\":\"DataRange1d\"},{\"attributes\":{},\"id\":\"139186\",\"type\":\"LinearScale\"},{\"attributes\":{},\"id\":\"139188\",\"type\":\"LinearScale\"},{\"attributes\":{\"axis_label\":\"Area (m\\u00b2)\",\"formatter\":{\"id\":\"141235\",\"type\":\"BasicTickFormatter\"},\"ticker\":{\"id\":\"139191\",\"type\":\"BasicTicker\"}},\"id\":\"139190\",\"type\":\"LinearAxis\"},{\"attributes\":{\"below\":[{\"id\":\"139097\",\"type\":\"LinearAxis\"}],\"center\":[{\"id\":\"139101\",\"type\":\"Grid\"},{\"id\":\"139106\",\"type\":\"Grid\"}],\"left\":[{\"id\":\"139102\",\"type\":\"LinearAxis\"}],\"plot_height\":300,\"plot_width\":400,\"renderers\":[{\"id\":\"139123\",\"type\":\"GlyphRenderer\"}],\"right\":[{\"id\":\"139127\",\"type\":\"ColorBar\"}],\"sizing_mode\":\"scale_both\",\"title\":{\"id\":\"139087\",\"type\":\"Title\"},\"toolbar\":{\"id\":\"139113\",\"type\":\"Toolbar\"},\"toolbar_location\":null,\"x_range\":{\"id\":\"139089\",\"type\":\"DataRange1d\"},\"x_scale\":{\"id\":\"139093\",\"type\":\"LinearScale\"},\"y_range\":{\"id\":\"139091\",\"type\":\"DataRange1d\"},\"y_scale\":{\"id\":\"139095\",\"type\":\"LinearScale\"}},\"id\":\"139086\",\"subtype\":\"Figure\",\"type\":\"Plot\"},{\"attributes\":{},\"id\":\"139191\",\"type\":\"BasicTicker\"},{\"attributes\":{\"ticker\":{\"id\":\"139191\",\"type\":\"BasicTicker\"}},\"id\":\"139194\",\"type\":\"Grid\"},{\"attributes\":{\"axis_label\":\"Number of rooms\",\"formatter\":{\"id\":\"139218\",\"type\":\"BasicTickFormatter\"},\"ticker\":{\"id\":\"139196\",\"type\":\"BasicTicker\"},\"visible\":null},\"id\":\"139195\",\"type\":\"LinearAxis\"},{\"attributes\":{},\"id\":\"139196\",\"type\":\"BasicTicker\"},{\"attributes\":{\"dimension\":1,\"ticker\":{\"id\":\"139196\",\"type\":\"BasicTicker\"}},\"id\":\"139199\",\"type\":\"Grid\"},{\"attributes\":{\"data_source\":{\"id\":\"139083\",\"type\":\"ColumnDataSource\"},\"glyph\":{\"id\":\"139214\",\"type\":\"Circle\"},\"hover_glyph\":null,\"muted_glyph\":null,\"nonselection_glyph\":{\"id\":\"139215\",\"type\":\"Circle\"},\"selection_glyph\":null,\"view\":{\"id\":\"139217\",\"type\":\"CDSView\"}},\"id\":\"139216\",\"type\":\"GlyphRenderer\"},{\"attributes\":{\"fill_alpha\":{\"value\":0.1},\"fill_color\":{\"value\":\"#1f77b4\"},\"line_alpha\":{\"value\":0.1},\"line_color\":{\"value\":\"#1f77b4\"},\"size\":{\"units\":\"screen\",\"value\":7},\"x\":{\"field\":\"area\"},\"y\":{\"field\":\"nbr_rooms\"}},\"id\":\"139215\",\"type\":\"Circle\"},{\"attributes\":{\"source\":{\"id\":\"139083\",\"type\":\"ColumnDataSource\"}},\"id\":\"139217\",\"type\":\"CDSView\"},{\"attributes\":{\"active_drag\":\"auto\",\"active_inspect\":\"auto\",\"active_multi\":null,\"active_scroll\":\"auto\",\"active_tap\":\"auto\",\"tools\":[{\"id\":\"139200\",\"type\":\"PanTool\"},{\"id\":\"139201\",\"type\":\"WheelZoomTool\"},{\"id\":\"139202\",\"type\":\"BoxZoomTool\"},{\"id\":\"139203\",\"type\":\"SaveTool\"},{\"id\":\"139204\",\"type\":\"ResetTool\"},{\"id\":\"139205\",\"type\":\"HelpTool\"},{\"id\":\"139221\",\"type\":\"HoverTool\"}]},\"id\":\"139206\",\"type\":\"Toolbar\"},{\"attributes\":{},\"id\":\"139200\",\"type\":\"PanTool\"},{\"attributes\":{\"callback\":null},\"id\":\"139091\",\"type\":\"DataRange1d\"},{\"attributes\":{},\"id\":\"139201\",\"type\":\"WheelZoomTool\"},{\"attributes\":{\"callback\":null},\"id\":\"139089\",\"type\":\"DataRange1d\"},{\"attributes\":{\"overlay\":{\"id\":\"141241\",\"type\":\"BoxAnnotation\"}},\"id\":\"139202\",\"type\":\"BoxZoomTool\"},{\"attributes\":{\"text\":\"Area vs Price\"},\"id\":\"139087\",\"type\":\"Title\"},{\"attributes\":{},\"id\":\"139203\",\"type\":\"SaveTool\"},{\"attributes\":{},\"id\":\"139204\",\"type\":\"ResetTool\"},{\"attributes\":{},\"id\":\"139093\",\"type\":\"LinearScale\"},{\"attributes\":{},\"id\":\"139205\",\"type\":\"HelpTool\"},{\"attributes\":{},\"id\":\"139095\",\"type\":\"LinearScale\"},{\"attributes\":{\"children\":[{\"id\":\"139086\",\"subtype\":\"Figure\",\"type\":\"Plot\"},{\"id\":\"139132\",\"subtype\":\"Figure\",\"type\":\"Plot\"},{\"id\":\"139179\",\"subtype\":\"Figure\",\"type\":\"Plot\"}]},\"id\":\"139223\",\"type\":\"Row\"},{\"attributes\":{\"axis_label\":\"Area (m\\u00b2)\",\"formatter\":{\"id\":\"141226\",\"type\":\"BasicTickFormatter\"},\"ticker\":{\"id\":\"139098\",\"type\":\"BasicTicker\"}},\"id\":\"139097\",\"type\":\"LinearAxis\"},{\"attributes\":{\"color_mapper\":{\"id\":\"139178\",\"type\":\"LinearColorMapper\"},\"formatter\":{\"id\":\"141233\",\"type\":\"BasicTickFormatter\"},\"label_standoff\":12,\"location\":[0,0],\"ticker\":{\"id\":\"141232\",\"type\":\"BasicTicker\"},\"title\":\"Rooms\"},\"id\":\"139220\",\"type\":\"ColorBar\"},{\"attributes\":{},\"id\":\"139098\",\"type\":\"BasicTicker\"},{\"attributes\":{\"ticker\":{\"id\":\"139098\",\"type\":\"BasicTicker\"}},\"id\":\"139101\",\"type\":\"Grid\"},{\"attributes\":{\"callback\":null,\"tooltips\":\"\\n<div>\\n    <h3>@city</h3>\\n    <div><strong>Area(m\\u00b2): @area</div></strong>\\n    <div><strong>Number of rooms: @nbr_rooms</div></strong>\\n</div>\\n\"},\"id\":\"139221\",\"type\":\"HoverTool\"},{\"attributes\":{\"axis_label\":\"Price\",\"formatter\":{\"id\":\"139125\",\"type\":\"BasicTickFormatter\"},\"ticker\":{\"id\":\"139103\",\"type\":\"BasicTicker\"},\"visible\":null},\"id\":\"139102\",\"type\":\"LinearAxis\"},{\"attributes\":{\"children\":[{\"id\":\"139085\",\"type\":\"Div\"}]},\"id\":\"139224\",\"type\":\"Row\"},{\"attributes\":{},\"id\":\"139103\",\"type\":\"BasicTicker\"},{\"attributes\":{\"dimension\":1,\"ticker\":{\"id\":\"139103\",\"type\":\"BasicTicker\"}},\"id\":\"139106\",\"type\":\"Grid\"},{\"attributes\":{\"children\":[{\"id\":\"139223\",\"type\":\"Row\"}]},\"id\":\"139225\",\"type\":\"Row\"},{\"attributes\":{\"fill_color\":{\"field\":\"price\",\"transform\":{\"id\":\"139084\",\"type\":\"LinearColorMapper\"}},\"line_color\":{\"value\":null},\"size\":{\"units\":\"screen\",\"value\":7},\"x\":{\"field\":\"area\"},\"y\":{\"field\":\"price\"}},\"id\":\"139121\",\"type\":\"Circle\"},{\"attributes\":{\"use_scientific\":false},\"id\":\"139125\",\"type\":\"BasicTickFormatter\"},{\"attributes\":{\"data_source\":{\"id\":\"139083\",\"type\":\"ColumnDataSource\"},\"glyph\":{\"id\":\"139121\",\"type\":\"Circle\"},\"hover_glyph\":null,\"muted_glyph\":null,\"nonselection_glyph\":{\"id\":\"139122\",\"type\":\"Circle\"},\"selection_glyph\":null,\"view\":{\"id\":\"139124\",\"type\":\"CDSView\"}},\"id\":\"139123\",\"type\":\"GlyphRenderer\"},{\"attributes\":{},\"id\":\"139107\",\"type\":\"PanTool\"},{\"attributes\":{},\"id\":\"141228\",\"type\":\"BasicTicker\"},{\"attributes\":{},\"id\":\"139108\",\"type\":\"WheelZoomTool\"},{\"attributes\":{},\"id\":\"141230\",\"type\":\"BasicTickFormatter\"},{\"attributes\":{\"overlay\":{\"id\":\"141237\",\"type\":\"BoxAnnotation\"}},\"id\":\"139109\",\"type\":\"BoxZoomTool\"},{\"attributes\":{},\"id\":\"141232\",\"type\":\"BasicTicker\"},{\"attributes\":{},\"id\":\"139110\",\"type\":\"SaveTool\"},{\"attributes\":{},\"id\":\"141233\",\"type\":\"BasicTickFormatter\"},{\"attributes\":{},\"id\":\"139111\",\"type\":\"ResetTool\"}],\"root_ids\":[\"139226\"]},\"title\":\"Bokeh Application\",\"version\":\"1.2.0\"}};\n",
       "  var render_items = [{\"docid\":\"051f996f-1c55-4612-ac79-b6e13bfcb0b9\",\"roots\":{\"139226\":\"9ac0b016-bd12-46c3-942a-9e93663155ff\"}}];\n",
       "  root.Bokeh.embed.embed_items_notebook(docs_json, render_items);\n",
       "\n",
       "  }\n",
       "  if (root.Bokeh !== undefined) {\n",
       "    embed_document(root);\n",
       "  } else {\n",
       "    var attempts = 0;\n",
       "    var timer = setInterval(function(root) {\n",
       "      if (root.Bokeh !== undefined) {\n",
       "        embed_document(root);\n",
       "        clearInterval(timer);\n",
       "      }\n",
       "      attempts++;\n",
       "      if (attempts > 100) {\n",
       "        console.log(\"Bokeh: ERROR: Unable to run BokehJS code because BokehJS library is missing\");\n",
       "        clearInterval(timer);\n",
       "      }\n",
       "    }, 10, root)\n",
       "  }\n",
       "})(window);"
      ],
      "application/vnd.bokehjs_exec.v0+json": ""
     },
     "metadata": {
      "application/vnd.bokehjs_exec.v0+json": {
       "id": "139226"
      }
     },
     "output_type": "display_data"
    }
   ],
   "source": [
    "cmp = ColumnDataSource(datah)\n",
    "\n",
    "\n",
    "color_mapper = LinearColorMapper(palette='Viridis7', low=datah.price.min(), high=datah.price.max())\n",
    "\n",
    "\n",
    "#use the html file desc2 and save it in the os default directory\n",
    "\n",
    "desc2 = Div(text=open(join(os.path.dirname(\"__file__\"), \"desc2.html\")).read(), sizing_mode=\"stretch_width\")\n",
    "\n",
    "\n",
    "\n",
    "#graph1\n",
    "\n",
    "cmp1 = figure(plot_height=300, plot_width=400, title=\"Area vs Price\", toolbar_location=None,x_axis_label = \"Area (m²)\", y_axis_label = \"Price\" ,sizing_mode=\"scale_both\")\n",
    "cmp1.circle(x=\"area\", y=\"price\", source=cmp, size=7, color=transform('price', color_mapper), line_color=None)\n",
    "cmp1.yaxis.formatter = BasicTickFormatter(use_scientific=False)\n",
    "cmp1.yaxis.visible = None\n",
    "\n",
    "color_bar1 = ColorBar(color_mapper=color_mapper, label_standoff=12, location=(0,0), title='Price')\n",
    "color_bar1.formatter = BasicTickFormatter(use_scientific=False)\n",
    "cmp1.add_layout(color_bar1, 'right')\n",
    "\n",
    "hovercmp1 = HoverTool()\n",
    "hovercmp1.tooltips = \"\"\"\n",
    "<div>\n",
    "    <h3>@city</h3>\n",
    "    <div><strong>Area(m²): @area</div></strong>\n",
    "    <div><strong>Price(€): @price</div></strong>\n",
    "</div>\n",
    "\"\"\"\n",
    "cmp1.add_tools(hovercmp1)\n",
    "\n",
    "\n",
    "\n",
    "#graph2\n",
    "\n",
    "\n",
    "cmp2 = figure(plot_height=300, plot_width=400, title=\"Rooms vs Price\", toolbar_location=None,x_axis_label = \"Number of rooms\", y_axis_label = \"Price\" , sizing_mode=\"scale_both\")\n",
    "cmp2.circle(x=\"nbr_rooms\", y=\"price\", source=cmp, size=7, color=transform('price', color_mapper), line_color=None)\n",
    "cmp2.yaxis.formatter = BasicTickFormatter(use_scientific=False)\n",
    "cmp2.yaxis.visible = None\n",
    "\n",
    "color_bar2 = ColorBar(color_mapper=color_mapper, label_standoff=12, location=(0,0), title='Price')\n",
    "color_bar2.formatter = BasicTickFormatter(use_scientific=False)\n",
    "cmp2.add_layout(color_bar2, 'right')\n",
    "\n",
    "hovercmp2 = HoverTool()\n",
    "hovercmp2.tooltips = \"\"\"\n",
    "<div>\n",
    "    <h3>@city</h3>\n",
    "    <div><strong>Number of rooms: @nbr_rooms</div></strong>\n",
    "    <div><strong>Price(€): @price</div></strong>\n",
    "</div>\n",
    "\"\"\"\n",
    "cmp2.add_tools(hovercmp2)\n",
    "\n",
    "\n",
    "\n",
    "\n",
    "#graph3\n",
    "\n",
    "\n",
    "color_mapper3 = LinearColorMapper(palette='Inferno5', low=datah.nbr_rooms.min(), high=datah.nbr_rooms.max())\n",
    "\n",
    "cmp3 = figure(plot_height=300, plot_width=400, title=\"Area vs Rooms\", toolbar_location=None, x_axis_label = \"Area (m²)\", y_axis_label = \"Number of rooms\" ,sizing_mode=\"scale_both\")\n",
    "cmp3.circle(x=\"area\", y=\"nbr_rooms\", source=cmp, size=7, color=transform('nbr_rooms', color_mapper3), line_color=None)\n",
    "cmp3.yaxis.formatter = BasicTickFormatter(use_scientific=False)\n",
    "cmp3.yaxis.visible = None\n",
    "\n",
    "color_bar3 = ColorBar(color_mapper=color_mapper3, label_standoff=12, location=(0,0), title='Rooms')\n",
    "cmp3.add_layout(color_bar3, 'right')\n",
    "\n",
    "hovercmp3 = HoverTool()\n",
    "hovercmp3.tooltips = \"\"\"\n",
    "<div>\n",
    "    <h3>@city</h3>\n",
    "    <div><strong>Area(m²): @area</div></strong>\n",
    "    <div><strong>Number of rooms: @nbr_rooms</div></strong>\n",
    "</div>\n",
    "\"\"\"\n",
    "cmp3.add_tools(hovercmp3)\n",
    "\n",
    "\n",
    "\n",
    "f = row(cmp1,cmp2,cmp3)\n",
    "\n",
    "l1 = layout([\n",
    "    [desc2],\n",
    "    [f],\n",
    "])\n",
    "\n",
    "\n",
    "tab4 = Panel(child=l1, title=\"Correlation\")\n",
    "\n",
    "show(l1)"
   ]
  },
  {
   "cell_type": "markdown",
   "metadata": {},
   "source": [
    "# Chart5"
   ]
  },
  {
   "cell_type": "code",
   "execution_count": 167,
   "metadata": {},
   "outputs": [
    {
     "data": {
      "text/html": [
       "\n",
       "    <div class=\"bk-root\">\n",
       "        <a href=\"https://bokeh.pydata.org\" target=\"_blank\" class=\"bk-logo bk-logo-small bk-logo-notebook\"></a>\n",
       "        <span id=\"141643\">Loading BokehJS ...</span>\n",
       "    </div>"
      ]
     },
     "metadata": {},
     "output_type": "display_data"
    },
    {
     "data": {
      "application/javascript": [
       "\n",
       "(function(root) {\n",
       "  function now() {\n",
       "    return new Date();\n",
       "  }\n",
       "\n",
       "  var force = true;\n",
       "\n",
       "  if (typeof root._bokeh_onload_callbacks === \"undefined\" || force === true) {\n",
       "    root._bokeh_onload_callbacks = [];\n",
       "    root._bokeh_is_loading = undefined;\n",
       "  }\n",
       "\n",
       "  var JS_MIME_TYPE = 'application/javascript';\n",
       "  var HTML_MIME_TYPE = 'text/html';\n",
       "  var EXEC_MIME_TYPE = 'application/vnd.bokehjs_exec.v0+json';\n",
       "  var CLASS_NAME = 'output_bokeh rendered_html';\n",
       "\n",
       "  /**\n",
       "   * Render data to the DOM node\n",
       "   */\n",
       "  function render(props, node) {\n",
       "    var script = document.createElement(\"script\");\n",
       "    node.appendChild(script);\n",
       "  }\n",
       "\n",
       "  /**\n",
       "   * Handle when an output is cleared or removed\n",
       "   */\n",
       "  function handleClearOutput(event, handle) {\n",
       "    var cell = handle.cell;\n",
       "\n",
       "    var id = cell.output_area._bokeh_element_id;\n",
       "    var server_id = cell.output_area._bokeh_server_id;\n",
       "    // Clean up Bokeh references\n",
       "    if (id != null && id in Bokeh.index) {\n",
       "      Bokeh.index[id].model.document.clear();\n",
       "      delete Bokeh.index[id];\n",
       "    }\n",
       "\n",
       "    if (server_id !== undefined) {\n",
       "      // Clean up Bokeh references\n",
       "      var cmd = \"from bokeh.io.state import curstate; print(curstate().uuid_to_server['\" + server_id + \"'].get_sessions()[0].document.roots[0]._id)\";\n",
       "      cell.notebook.kernel.execute(cmd, {\n",
       "        iopub: {\n",
       "          output: function(msg) {\n",
       "            var id = msg.content.text.trim();\n",
       "            if (id in Bokeh.index) {\n",
       "              Bokeh.index[id].model.document.clear();\n",
       "              delete Bokeh.index[id];\n",
       "            }\n",
       "          }\n",
       "        }\n",
       "      });\n",
       "      // Destroy server and session\n",
       "      var cmd = \"import bokeh.io.notebook as ion; ion.destroy_server('\" + server_id + \"')\";\n",
       "      cell.notebook.kernel.execute(cmd);\n",
       "    }\n",
       "  }\n",
       "\n",
       "  /**\n",
       "   * Handle when a new output is added\n",
       "   */\n",
       "  function handleAddOutput(event, handle) {\n",
       "    var output_area = handle.output_area;\n",
       "    var output = handle.output;\n",
       "\n",
       "    // limit handleAddOutput to display_data with EXEC_MIME_TYPE content only\n",
       "    if ((output.output_type != \"display_data\") || (!output.data.hasOwnProperty(EXEC_MIME_TYPE))) {\n",
       "      return\n",
       "    }\n",
       "\n",
       "    var toinsert = output_area.element.find(\".\" + CLASS_NAME.split(' ')[0]);\n",
       "\n",
       "    if (output.metadata[EXEC_MIME_TYPE][\"id\"] !== undefined) {\n",
       "      toinsert[toinsert.length - 1].firstChild.textContent = output.data[JS_MIME_TYPE];\n",
       "      // store reference to embed id on output_area\n",
       "      output_area._bokeh_element_id = output.metadata[EXEC_MIME_TYPE][\"id\"];\n",
       "    }\n",
       "    if (output.metadata[EXEC_MIME_TYPE][\"server_id\"] !== undefined) {\n",
       "      var bk_div = document.createElement(\"div\");\n",
       "      bk_div.innerHTML = output.data[HTML_MIME_TYPE];\n",
       "      var script_attrs = bk_div.children[0].attributes;\n",
       "      for (var i = 0; i < script_attrs.length; i++) {\n",
       "        toinsert[toinsert.length - 1].firstChild.setAttribute(script_attrs[i].name, script_attrs[i].value);\n",
       "      }\n",
       "      // store reference to server id on output_area\n",
       "      output_area._bokeh_server_id = output.metadata[EXEC_MIME_TYPE][\"server_id\"];\n",
       "    }\n",
       "  }\n",
       "\n",
       "  function register_renderer(events, OutputArea) {\n",
       "\n",
       "    function append_mime(data, metadata, element) {\n",
       "      // create a DOM node to render to\n",
       "      var toinsert = this.create_output_subarea(\n",
       "        metadata,\n",
       "        CLASS_NAME,\n",
       "        EXEC_MIME_TYPE\n",
       "      );\n",
       "      this.keyboard_manager.register_events(toinsert);\n",
       "      // Render to node\n",
       "      var props = {data: data, metadata: metadata[EXEC_MIME_TYPE]};\n",
       "      render(props, toinsert[toinsert.length - 1]);\n",
       "      element.append(toinsert);\n",
       "      return toinsert\n",
       "    }\n",
       "\n",
       "    /* Handle when an output is cleared or removed */\n",
       "    events.on('clear_output.CodeCell', handleClearOutput);\n",
       "    events.on('delete.Cell', handleClearOutput);\n",
       "\n",
       "    /* Handle when a new output is added */\n",
       "    events.on('output_added.OutputArea', handleAddOutput);\n",
       "\n",
       "    /**\n",
       "     * Register the mime type and append_mime function with output_area\n",
       "     */\n",
       "    OutputArea.prototype.register_mime_type(EXEC_MIME_TYPE, append_mime, {\n",
       "      /* Is output safe? */\n",
       "      safe: true,\n",
       "      /* Index of renderer in `output_area.display_order` */\n",
       "      index: 0\n",
       "    });\n",
       "  }\n",
       "\n",
       "  // register the mime type if in Jupyter Notebook environment and previously unregistered\n",
       "  if (root.Jupyter !== undefined) {\n",
       "    var events = require('base/js/events');\n",
       "    var OutputArea = require('notebook/js/outputarea').OutputArea;\n",
       "\n",
       "    if (OutputArea.prototype.mime_types().indexOf(EXEC_MIME_TYPE) == -1) {\n",
       "      register_renderer(events, OutputArea);\n",
       "    }\n",
       "  }\n",
       "\n",
       "  \n",
       "  if (typeof (root._bokeh_timeout) === \"undefined\" || force === true) {\n",
       "    root._bokeh_timeout = Date.now() + 5000;\n",
       "    root._bokeh_failed_load = false;\n",
       "  }\n",
       "\n",
       "  var NB_LOAD_WARNING = {'data': {'text/html':\n",
       "     \"<div style='background-color: #fdd'>\\n\"+\n",
       "     \"<p>\\n\"+\n",
       "     \"BokehJS does not appear to have successfully loaded. If loading BokehJS from CDN, this \\n\"+\n",
       "     \"may be due to a slow or bad network connection. Possible fixes:\\n\"+\n",
       "     \"</p>\\n\"+\n",
       "     \"<ul>\\n\"+\n",
       "     \"<li>re-rerun `output_notebook()` to attempt to load from CDN again, or</li>\\n\"+\n",
       "     \"<li>use INLINE resources instead, as so:</li>\\n\"+\n",
       "     \"</ul>\\n\"+\n",
       "     \"<code>\\n\"+\n",
       "     \"from bokeh.resources import INLINE\\n\"+\n",
       "     \"output_notebook(resources=INLINE)\\n\"+\n",
       "     \"</code>\\n\"+\n",
       "     \"</div>\"}};\n",
       "\n",
       "  function display_loaded() {\n",
       "    var el = document.getElementById(\"141643\");\n",
       "    if (el != null) {\n",
       "      el.textContent = \"BokehJS is loading...\";\n",
       "    }\n",
       "    if (root.Bokeh !== undefined) {\n",
       "      if (el != null) {\n",
       "        el.textContent = \"BokehJS \" + root.Bokeh.version + \" successfully loaded.\";\n",
       "      }\n",
       "    } else if (Date.now() < root._bokeh_timeout) {\n",
       "      setTimeout(display_loaded, 100)\n",
       "    }\n",
       "  }\n",
       "\n",
       "\n",
       "  function run_callbacks() {\n",
       "    try {\n",
       "      root._bokeh_onload_callbacks.forEach(function(callback) {\n",
       "        if (callback != null)\n",
       "          callback();\n",
       "      });\n",
       "    } finally {\n",
       "      delete root._bokeh_onload_callbacks\n",
       "    }\n",
       "    console.debug(\"Bokeh: all callbacks have finished\");\n",
       "  }\n",
       "\n",
       "  function load_libs(css_urls, js_urls, callback) {\n",
       "    if (css_urls == null) css_urls = [];\n",
       "    if (js_urls == null) js_urls = [];\n",
       "\n",
       "    root._bokeh_onload_callbacks.push(callback);\n",
       "    if (root._bokeh_is_loading > 0) {\n",
       "      console.debug(\"Bokeh: BokehJS is being loaded, scheduling callback at\", now());\n",
       "      return null;\n",
       "    }\n",
       "    if (js_urls == null || js_urls.length === 0) {\n",
       "      run_callbacks();\n",
       "      return null;\n",
       "    }\n",
       "    console.debug(\"Bokeh: BokehJS not loaded, scheduling load and callback at\", now());\n",
       "    root._bokeh_is_loading = css_urls.length + js_urls.length;\n",
       "\n",
       "    function on_load() {\n",
       "      root._bokeh_is_loading--;\n",
       "      if (root._bokeh_is_loading === 0) {\n",
       "        console.debug(\"Bokeh: all BokehJS libraries/stylesheets loaded\");\n",
       "        run_callbacks()\n",
       "      }\n",
       "    }\n",
       "\n",
       "    function on_error() {\n",
       "      console.error(\"failed to load \" + url);\n",
       "    }\n",
       "\n",
       "    for (var i = 0; i < css_urls.length; i++) {\n",
       "      var url = css_urls[i];\n",
       "      const element = document.createElement(\"link\");\n",
       "      element.onload = on_load;\n",
       "      element.onerror = on_error;\n",
       "      element.rel = \"stylesheet\";\n",
       "      element.type = \"text/css\";\n",
       "      element.href = url;\n",
       "      console.debug(\"Bokeh: injecting link tag for BokehJS stylesheet: \", url);\n",
       "      document.body.appendChild(element);\n",
       "    }\n",
       "\n",
       "    for (var i = 0; i < js_urls.length; i++) {\n",
       "      var url = js_urls[i];\n",
       "      var element = document.createElement('script');\n",
       "      element.onload = on_load;\n",
       "      element.onerror = on_error;\n",
       "      element.async = false;\n",
       "      element.src = url;\n",
       "      console.debug(\"Bokeh: injecting script tag for BokehJS library: \", url);\n",
       "      document.head.appendChild(element);\n",
       "    }\n",
       "  };var element = document.getElementById(\"141643\");\n",
       "  if (element == null) {\n",
       "    console.error(\"Bokeh: ERROR: autoload.js configured with elementid '141643' but no matching script tag was found. \")\n",
       "    return false;\n",
       "  }\n",
       "\n",
       "  function inject_raw_css(css) {\n",
       "    const element = document.createElement(\"style\");\n",
       "    element.appendChild(document.createTextNode(css));\n",
       "    document.body.appendChild(element);\n",
       "  }\n",
       "\n",
       "  var js_urls = [\"https://cdn.pydata.org/bokeh/release/bokeh-1.2.0.min.js\", \"https://cdn.pydata.org/bokeh/release/bokeh-widgets-1.2.0.min.js\", \"https://cdn.pydata.org/bokeh/release/bokeh-tables-1.2.0.min.js\", \"https://cdn.pydata.org/bokeh/release/bokeh-gl-1.2.0.min.js\"];\n",
       "  var css_urls = [\"https://cdn.pydata.org/bokeh/release/bokeh-1.2.0.min.css\", \"https://cdn.pydata.org/bokeh/release/bokeh-widgets-1.2.0.min.css\", \"https://cdn.pydata.org/bokeh/release/bokeh-tables-1.2.0.min.css\"];\n",
       "\n",
       "  var inline_js = [\n",
       "    function(Bokeh) {\n",
       "      Bokeh.set_log_level(\"info\");\n",
       "    },\n",
       "    \n",
       "    function(Bokeh) {\n",
       "      \n",
       "    },\n",
       "    function(Bokeh) {} // ensure no trailing comma for IE\n",
       "  ];\n",
       "\n",
       "  function run_inline_js() {\n",
       "    \n",
       "    if ((root.Bokeh !== undefined) || (force === true)) {\n",
       "      for (var i = 0; i < inline_js.length; i++) {\n",
       "        inline_js[i].call(root, root.Bokeh);\n",
       "      }if (force === true) {\n",
       "        display_loaded();\n",
       "      }} else if (Date.now() < root._bokeh_timeout) {\n",
       "      setTimeout(run_inline_js, 100);\n",
       "    } else if (!root._bokeh_failed_load) {\n",
       "      console.log(\"Bokeh: BokehJS failed to load within specified timeout.\");\n",
       "      root._bokeh_failed_load = true;\n",
       "    } else if (force !== true) {\n",
       "      var cell = $(document.getElementById(\"141643\")).parents('.cell').data().cell;\n",
       "      cell.output_area.append_execute_result(NB_LOAD_WARNING)\n",
       "    }\n",
       "\n",
       "  }\n",
       "\n",
       "  if (root._bokeh_is_loading === 0) {\n",
       "    console.debug(\"Bokeh: BokehJS loaded, going straight to plotting\");\n",
       "    run_inline_js();\n",
       "  } else {\n",
       "    load_libs(css_urls, js_urls, function() {\n",
       "      console.debug(\"Bokeh: BokehJS plotting callback run at\", now());\n",
       "      run_inline_js();\n",
       "    });\n",
       "  }\n",
       "}(window));"
      ],
      "application/vnd.bokehjs_load.v0+json": "\n(function(root) {\n  function now() {\n    return new Date();\n  }\n\n  var force = true;\n\n  if (typeof root._bokeh_onload_callbacks === \"undefined\" || force === true) {\n    root._bokeh_onload_callbacks = [];\n    root._bokeh_is_loading = undefined;\n  }\n\n  \n\n  \n  if (typeof (root._bokeh_timeout) === \"undefined\" || force === true) {\n    root._bokeh_timeout = Date.now() + 5000;\n    root._bokeh_failed_load = false;\n  }\n\n  var NB_LOAD_WARNING = {'data': {'text/html':\n     \"<div style='background-color: #fdd'>\\n\"+\n     \"<p>\\n\"+\n     \"BokehJS does not appear to have successfully loaded. If loading BokehJS from CDN, this \\n\"+\n     \"may be due to a slow or bad network connection. Possible fixes:\\n\"+\n     \"</p>\\n\"+\n     \"<ul>\\n\"+\n     \"<li>re-rerun `output_notebook()` to attempt to load from CDN again, or</li>\\n\"+\n     \"<li>use INLINE resources instead, as so:</li>\\n\"+\n     \"</ul>\\n\"+\n     \"<code>\\n\"+\n     \"from bokeh.resources import INLINE\\n\"+\n     \"output_notebook(resources=INLINE)\\n\"+\n     \"</code>\\n\"+\n     \"</div>\"}};\n\n  function display_loaded() {\n    var el = document.getElementById(\"141643\");\n    if (el != null) {\n      el.textContent = \"BokehJS is loading...\";\n    }\n    if (root.Bokeh !== undefined) {\n      if (el != null) {\n        el.textContent = \"BokehJS \" + root.Bokeh.version + \" successfully loaded.\";\n      }\n    } else if (Date.now() < root._bokeh_timeout) {\n      setTimeout(display_loaded, 100)\n    }\n  }\n\n\n  function run_callbacks() {\n    try {\n      root._bokeh_onload_callbacks.forEach(function(callback) {\n        if (callback != null)\n          callback();\n      });\n    } finally {\n      delete root._bokeh_onload_callbacks\n    }\n    console.debug(\"Bokeh: all callbacks have finished\");\n  }\n\n  function load_libs(css_urls, js_urls, callback) {\n    if (css_urls == null) css_urls = [];\n    if (js_urls == null) js_urls = [];\n\n    root._bokeh_onload_callbacks.push(callback);\n    if (root._bokeh_is_loading > 0) {\n      console.debug(\"Bokeh: BokehJS is being loaded, scheduling callback at\", now());\n      return null;\n    }\n    if (js_urls == null || js_urls.length === 0) {\n      run_callbacks();\n      return null;\n    }\n    console.debug(\"Bokeh: BokehJS not loaded, scheduling load and callback at\", now());\n    root._bokeh_is_loading = css_urls.length + js_urls.length;\n\n    function on_load() {\n      root._bokeh_is_loading--;\n      if (root._bokeh_is_loading === 0) {\n        console.debug(\"Bokeh: all BokehJS libraries/stylesheets loaded\");\n        run_callbacks()\n      }\n    }\n\n    function on_error() {\n      console.error(\"failed to load \" + url);\n    }\n\n    for (var i = 0; i < css_urls.length; i++) {\n      var url = css_urls[i];\n      const element = document.createElement(\"link\");\n      element.onload = on_load;\n      element.onerror = on_error;\n      element.rel = \"stylesheet\";\n      element.type = \"text/css\";\n      element.href = url;\n      console.debug(\"Bokeh: injecting link tag for BokehJS stylesheet: \", url);\n      document.body.appendChild(element);\n    }\n\n    for (var i = 0; i < js_urls.length; i++) {\n      var url = js_urls[i];\n      var element = document.createElement('script');\n      element.onload = on_load;\n      element.onerror = on_error;\n      element.async = false;\n      element.src = url;\n      console.debug(\"Bokeh: injecting script tag for BokehJS library: \", url);\n      document.head.appendChild(element);\n    }\n  };var element = document.getElementById(\"141643\");\n  if (element == null) {\n    console.error(\"Bokeh: ERROR: autoload.js configured with elementid '141643' but no matching script tag was found. \")\n    return false;\n  }\n\n  function inject_raw_css(css) {\n    const element = document.createElement(\"style\");\n    element.appendChild(document.createTextNode(css));\n    document.body.appendChild(element);\n  }\n\n  var js_urls = [\"https://cdn.pydata.org/bokeh/release/bokeh-1.2.0.min.js\", \"https://cdn.pydata.org/bokeh/release/bokeh-widgets-1.2.0.min.js\", \"https://cdn.pydata.org/bokeh/release/bokeh-tables-1.2.0.min.js\", \"https://cdn.pydata.org/bokeh/release/bokeh-gl-1.2.0.min.js\"];\n  var css_urls = [\"https://cdn.pydata.org/bokeh/release/bokeh-1.2.0.min.css\", \"https://cdn.pydata.org/bokeh/release/bokeh-widgets-1.2.0.min.css\", \"https://cdn.pydata.org/bokeh/release/bokeh-tables-1.2.0.min.css\"];\n\n  var inline_js = [\n    function(Bokeh) {\n      Bokeh.set_log_level(\"info\");\n    },\n    \n    function(Bokeh) {\n      \n    },\n    function(Bokeh) {} // ensure no trailing comma for IE\n  ];\n\n  function run_inline_js() {\n    \n    if ((root.Bokeh !== undefined) || (force === true)) {\n      for (var i = 0; i < inline_js.length; i++) {\n        inline_js[i].call(root, root.Bokeh);\n      }if (force === true) {\n        display_loaded();\n      }} else if (Date.now() < root._bokeh_timeout) {\n      setTimeout(run_inline_js, 100);\n    } else if (!root._bokeh_failed_load) {\n      console.log(\"Bokeh: BokehJS failed to load within specified timeout.\");\n      root._bokeh_failed_load = true;\n    } else if (force !== true) {\n      var cell = $(document.getElementById(\"141643\")).parents('.cell').data().cell;\n      cell.output_area.append_execute_result(NB_LOAD_WARNING)\n    }\n\n  }\n\n  if (root._bokeh_is_loading === 0) {\n    console.debug(\"Bokeh: BokehJS loaded, going straight to plotting\");\n    run_inline_js();\n  } else {\n    load_libs(css_urls, js_urls, function() {\n      console.debug(\"Bokeh: BokehJS plotting callback run at\", now());\n      run_inline_js();\n    });\n  }\n}(window));"
     },
     "metadata": {},
     "output_type": "display_data"
    },
    {
     "data": {
      "text/html": [
       "\n",
       "\n",
       "\n",
       "\n",
       "\n",
       "\n",
       "  <div class=\"bk-root\" id=\"cc8189b6-d47f-44f9-b40a-f866b0687d60\" data-root-id=\"141646\"></div>\n"
      ]
     },
     "metadata": {},
     "output_type": "display_data"
    },
    {
     "data": {
      "application/javascript": [
       "(function(root) {\n",
       "  function embed_document(root) {\n",
       "    \n",
       "  var docs_json = {\"24d66d3e-f63c-46ea-99ad-91d17383f0f8\":{\"roots\":{\"references\":[{\"attributes\":{\"children\":[{\"id\":\"141644\",\"type\":\"Row\"},{\"id\":\"141645\",\"type\":\"Row\"}]},\"id\":\"141646\",\"type\":\"Column\"},{\"attributes\":{},\"id\":\"141601\",\"type\":\"BasicTicker\"},{\"attributes\":{\"source\":{\"id\":\"141588\",\"type\":\"ColumnDataSource\"}},\"id\":\"141629\",\"type\":\"CDSView\"},{\"attributes\":{\"axis_label\":\"Area\",\"formatter\":{\"id\":\"141633\",\"type\":\"BasicTickFormatter\"},\"ticker\":{\"id\":\"141601\",\"type\":\"BasicTicker\"}},\"id\":\"141600\",\"type\":\"LinearAxis\"},{\"attributes\":{\"children\":[{\"id\":\"141589\",\"subtype\":\"Figure\",\"type\":\"Plot\"}]},\"id\":\"141645\",\"type\":\"Row\"},{\"attributes\":{},\"id\":\"143667\",\"type\":\"UnionRenderers\"},{\"attributes\":{},\"id\":\"141598\",\"type\":\"LinearScale\"},{\"attributes\":{\"format\":\"\\u20ac0\"},\"id\":\"141640\",\"type\":\"NumeralTickFormatter\"},{\"attributes\":{\"callback\":null},\"id\":\"141592\",\"type\":\"DataRange1d\"},{\"attributes\":{\"fill_alpha\":{\"value\":0.1},\"fill_color\":{\"value\":\"#1f77b4\"},\"line_alpha\":{\"value\":0.1},\"line_color\":{\"value\":\"#1f77b4\"},\"line_width\":{\"value\":2},\"marker\":{\"field\":\"Type\",\"transform\":{\"id\":\"141624\",\"type\":\"CategoricalMarkerMapper\"}},\"size\":{\"units\":\"screen\",\"value\":20},\"x\":{\"field\":\"area\"},\"y\":{\"field\":\"price\"}},\"id\":\"141627\",\"type\":\"Scatter\"},{\"attributes\":{\"click_policy\":\"mute\",\"items\":[{\"id\":\"141637\",\"type\":\"LegendItem\"}],\"location\":\"top_left\"},\"id\":\"141636\",\"type\":\"Legend\"},{\"attributes\":{},\"id\":\"141596\",\"type\":\"LinearScale\"},{\"attributes\":{\"factors\":[\"Maison\",\"Appartement\"],\"palette\":[\"#1b9e77\",\"#d95f02\",\"#7570b3\"]},\"id\":\"141623\",\"type\":\"CategoricalColorMapper\"},{\"attributes\":{\"callback\":null},\"id\":\"141594\",\"type\":\"DataRange1d\"},{\"attributes\":{\"ticker\":{\"id\":\"141601\",\"type\":\"BasicTicker\"}},\"id\":\"141604\",\"type\":\"Grid\"},{\"attributes\":{\"sizing_mode\":\"stretch_width\",\"text\":\"<style>\\nh1 {\\n    margin: 1em 0 0 0;\\n    color: #2e484c;\\n    font-family: 'Julius Sans One', sans-serif;\\n    font-size: 1.8em;\\n    text-transform: uppercase;\\n}\\na:link {\\n    font-weight: bold;\\n    text-decoration: none;\\n    color: #0d8ba1;\\n}\\na:visited {\\n    font-weight: bold;\\n    text-decoration: none;\\n    color: #1a5952;\\n}\\na:hover, a:focus, a:active {\\n    text-decoration: underline;\\n    color: #9685BA;\\n}\\np {\\n    font: \\\"Libre Baskerville\\\", sans-serif;\\n    text-align: justify;\\n    text-justify: inter-word;\\n    width: 80%;\\n    max-width: 800;\\n}\\n</style>\\n\\n<h1>Interactive Chart</h1>\\n\\n<p>\\nHover over the symbols to get the details.\\n</p>\\n<p>\\nWait for the image to load.\\n</p>\\n<p>\\n<i>(Information from <a href=\\\"https://www.bienici.com/recherche/achat/croix-59170,wasquehal-59290\\\">Bienici</a>)</i>\\n<br />\"},\"id\":\"141587\",\"type\":\"Div\"},{\"attributes\":{\"dimension\":1,\"ticker\":{\"id\":\"141606\",\"type\":\"BasicTicker\"}},\"id\":\"141609\",\"type\":\"Grid\"},{\"attributes\":{\"bottom_units\":\"screen\",\"fill_alpha\":{\"value\":0.5},\"fill_color\":{\"value\":\"lightgrey\"},\"left_units\":\"screen\",\"level\":\"overlay\",\"line_alpha\":{\"value\":1.0},\"line_color\":{\"value\":\"black\"},\"line_dash\":[4,4],\"line_width\":{\"value\":2},\"render_mode\":\"css\",\"right_units\":\"screen\",\"top_units\":\"screen\"},\"id\":\"141635\",\"type\":\"BoxAnnotation\"},{\"attributes\":{\"axis_label\":\"Price\",\"formatter\":{\"id\":\"141640\",\"type\":\"NumeralTickFormatter\"},\"ticker\":{\"id\":\"141606\",\"type\":\"BasicTicker\"}},\"id\":\"141605\",\"type\":\"LinearAxis\"},{\"attributes\":{},\"id\":\"141606\",\"type\":\"BasicTicker\"},{\"attributes\":{},\"id\":\"141614\",\"type\":\"ResetTool\"},{\"attributes\":{},\"id\":\"143666\",\"type\":\"Selection\"},{\"attributes\":{},\"id\":\"141611\",\"type\":\"WheelZoomTool\"},{\"attributes\":{\"text\":\"Area vs Price\"},\"id\":\"141590\",\"type\":\"Title\"},{\"attributes\":{\"factors\":[\"Maison\",\"Appartement\"],\"markers\":[\"hex\",\"triangle\"]},\"id\":\"141624\",\"type\":\"CategoricalMarkerMapper\"},{\"attributes\":{},\"id\":\"141633\",\"type\":\"BasicTickFormatter\"},{\"attributes\":{\"background_fill_color\":{\"value\":\"#efefef\"},\"below\":[{\"id\":\"141600\",\"type\":\"LinearAxis\"}],\"center\":[{\"id\":\"141604\",\"type\":\"Grid\"},{\"id\":\"141609\",\"type\":\"Grid\"},{\"id\":\"141636\",\"type\":\"Legend\"}],\"left\":[{\"id\":\"141605\",\"type\":\"LinearAxis\"}],\"plot_height\":400,\"plot_width\":900,\"renderers\":[{\"id\":\"141628\",\"type\":\"GlyphRenderer\"}],\"title\":{\"id\":\"141590\",\"type\":\"Title\"},\"toolbar\":{\"id\":\"141616\",\"type\":\"Toolbar\"},\"x_range\":{\"id\":\"141592\",\"type\":\"DataRange1d\"},\"x_scale\":{\"id\":\"141596\",\"type\":\"LinearScale\"},\"y_range\":{\"id\":\"141594\",\"type\":\"DataRange1d\"},\"y_scale\":{\"id\":\"141598\",\"type\":\"LinearScale\"}},\"id\":\"141589\",\"subtype\":\"Figure\",\"type\":\"Plot\"},{\"attributes\":{\"callback\":null,\"tooltips\":\"\\n<div>\\n    <h3>@address</h3>\\n    <div><img src=\\\"@image_link\\\" alt=\\\"\\\" /></div>\\n    <div><strong>Type: @Type</div></strong>\\n    <div><strong>Price(\\u20ac): @price</div></strong>\\n    <div><strong>City: @city</div></strong>\\n    <div><strong>Rooms: @nbr_rooms</div></strong>\\n    <div><strong>Area(m\\u00b2): @area</div></strong>\\n</div>\\n\"},\"id\":\"141641\",\"type\":\"HoverTool\"},{\"attributes\":{\"active_drag\":\"auto\",\"active_inspect\":\"auto\",\"active_multi\":null,\"active_scroll\":\"auto\",\"active_tap\":\"auto\",\"tools\":[{\"id\":\"141610\",\"type\":\"PanTool\"},{\"id\":\"141611\",\"type\":\"WheelZoomTool\"},{\"id\":\"141612\",\"type\":\"BoxZoomTool\"},{\"id\":\"141613\",\"type\":\"SaveTool\"},{\"id\":\"141614\",\"type\":\"ResetTool\"},{\"id\":\"141615\",\"type\":\"HelpTool\"},{\"id\":\"141641\",\"type\":\"HoverTool\"}]},\"id\":\"141616\",\"type\":\"Toolbar\"},{\"attributes\":{},\"id\":\"141610\",\"type\":\"PanTool\"},{\"attributes\":{\"data_source\":{\"id\":\"141588\",\"type\":\"ColumnDataSource\"},\"glyph\":{\"id\":\"141626\",\"type\":\"Scatter\"},\"hover_glyph\":null,\"muted_glyph\":null,\"nonselection_glyph\":{\"id\":\"141627\",\"type\":\"Scatter\"},\"selection_glyph\":null,\"view\":{\"id\":\"141629\",\"type\":\"CDSView\"}},\"id\":\"141628\",\"type\":\"GlyphRenderer\"},{\"attributes\":{\"callback\":null,\"data\":{\"Type\":[\"Maison\",\"Maison\",\"Maison\",\"Maison\",\"Maison\",\"Maison\",\"Appartement\",\"Maison\",\"Maison\",\"Appartement\",\"Appartement\",\"Maison\",\"Maison\",\"Appartement\",\"Maison\",\"Appartement\",\"Appartement\",\"Appartement\",\"Appartement\",\"Appartement\",\"Appartement\",\"Maison\",\"Maison\",\"Maison\",\"Maison\",\"Appartement\",\"Appartement\",\"Maison\",\"Appartement\",\"Appartement\",\"Maison\",\"Appartement\",\"Appartement\",\"Maison\",\"Appartement\",\"Maison\",\"Appartement\",\"Appartement\",\"Maison\",\"Maison\",\"Appartement\",\"Appartement\",\"Appartement\",\"Maison\",\"Maison\",\"Maison\",\"Appartement\",\"Appartement\",\"Maison\",\"Appartement\",\"Maison\",\"Maison\",\"Appartement\",\"Appartement\",\"Appartement\",\"Appartement\",\"Appartement\",\"Appartement\",\"Appartement\",\"Appartement\",\"Appartement\"],\"Unnamed: 0\":[52,34,62,68,2,20,49,47,42,24,26,58,54,7,46,27,48,21,15,30,29,57,1,63,43,39,61,44,16,55,18,10,23,33,59,51,64,6,37,67,38,45,56,5,31,66,53,40,65,60,28,22,9,14,8,13,3,41,4,0,17],\"address\":[\"Croix 59170 (Fer \\u00e0 Cheval)\",\"Wasquehal 59290 (Grand Cottignies)\",\"Croix 59170 (Centre-ville)\",\"Croix 59170\",\"Croix 59170 (Centre-ville)\",\"Croix 59170 (Saint-Pierre)\",\"Wasquehal 59290\",\"Wasquehal 59290\",\"Wasquehal 59290 (Centre-ville - Pharos - Site Saint-Nicolas)\",\"Wasquehal 59290 (Centre-ville - Pharos - Site Saint-Nicolas)\",\"Wasquehal 59290 (Boers - Haut Vinage - Or\\u00e9e du Golf - Petit Wasquehal)\",\"Croix 59170\",\"Wasquehal 59290\",\"Croix 59170 (Saint-Pierre)\",\"Croix 59170\",\"Wasquehal 59290 (Boers - Haut Vinage - Or\\u00e9e du Golf - Petit Wasquehal)\",\"Wasquehal 59290 (Capreau)\",\"Wasquehal 59290 (Centre-ville - Pharos - Site Saint-Nicolas)\",\"Croix 59170 (Fer \\u00e0 Cheval)\",\"Wasquehal 59290 (Grand Cottignies)\",\"Wasquehal 59290 (Grand Cottignies)\",\"Wasquehal 59290\",\"Wasquehal 59290 (Centre-ville - Pharos - Site Saint-Nicolas)\",\"Wasquehal 59290\",\"Wasquehal 59290 (Boers - Haut Vinage - Or\\u00e9e du Golf - Petit Wasquehal)\",\"Croix 59170 (Saint-Pierre)\",\"Croix 59170\",\"Croix 59170 (Saint-Pierre)\",\"Wasquehal 59290 (Grand Cottignies)\",\"Croix 59170\",\"Croix 59170 (Saint-Pierre)\",\"Croix 59170 (Saint-Pierre)\",\"Croix 59170 (Fer \\u00e0 Cheval)\",\"Wasquehal 59290 (Capreau)\",\"Croix 59170\",\"Wasquehal 59290 (Capreau)\",\"Croix 59170\",\"Croix 59170 (Saint-Pierre)\",\"Wasquehal 59290 (Capreau)\",\"Wasquehal 59290\",\"Wasquehal 59290 (Grand Cottignies)\",\"Wasquehal 59290 (Grand Cottignies)\",\"Wasquehal 59290\",\"Croix 59170 (Saint-Pierre)\",\"Croix 59170 (Saint-Pierre)\",\"Croix 59170\",\"Wasquehal 59290 (Centre-ville - Pharos - Site Saint-Nicolas)\",\"Wasquehal 59290 (Grand Cottignies)\",\"Croix 59170\",\"Croix 59170\",\"Croix 59170 (Saint-Pierre)\",\"Croix 59170 (Saint-Pierre)\",\"Croix 59170 (Fer \\u00e0 Cheval)\",\"Croix 59170 (Saint-Pierre)\",\"Croix 59170 (Saint-Pierre)\",\"Croix 59170 (Fer \\u00e0 Cheval)\",\"Wasquehal 59290 (Noir Bonnet - Rue Pasteur)\",\"Croix 59170 (Fer \\u00e0 Cheval)\",\"Croix 59170 (Saint-Pierre)\",\"Croix 59170 (Saint-Pierre)\",\"Croix 59170 (Centre-ville)\"],\"area\":{\"__ndarray__\":\"AAAAAAAgckAAAAAAAIBxQAAAAAAAQG5AAAAAAAAAbkAAAAAAADB0QAAAAAAA4HVAAAAAAABAYkAAAAAAAABpQAAAAAAAQGVAAAAAAABAXUAAAAAAAEBdQAAAAAAAYGNAAAAAAAAAXkAAAAAAAABVQAAAAAAA4GBAAAAAAACAW0AAAAAAAIBTQAAAAAAAwFBAAAAAAAAAVUAAAAAAAABRQAAAAAAAAFBAAAAAAACAVkAAAAAAAMBSQAAAAAAAAFlAAAAAAAAA+H8AAAAAAABOQAAAAAAAQFNAAAAAAABAWkAAAAAAAIBQQAAAAAAAAFhAAAAAAABAWkAAAAAAAABPQAAAAAAAgFhAAAAAAAAAWUAAAAAAAABFQAAAAAAAgFZAAAAAAAAAT0AAAAAAAIBEQAAAAAAAgFZAAAAAAABAUEAAAAAAAIBGQAAAAAAAAERAAAAAAAAAREAAAAAAAIBYQAAAAAAAwFhAAAAAAAAAWUAAAAAAAEBVQAAAAAAAgERAAAAAAABAVUAAAAAAAIBKQAAAAAAAQFVAAAAAAAAAVEAAAAAAAIBPQAAAAAAAgEZAAAAAAAAAS0AAAAAAAIBWQAAAAAAAAPh/AAAAAACARUAAAAAAAIBKQAAAAAAAwFdAAAAAAAAARUA=\",\"dtype\":\"float64\",\"shape\":[61]},\"category\":[\"Maison 6 pi\\u00e8ces 290 m\\u00b2\\nCroix 59170 (Fer \\u00e0 Cheval)\",\"Maison 10 pi\\u00e8ces 280 m\\u00b2\\nWasquehal 59290 (Grand Cottignies)\",\"Maison 7 pi\\u00e8ces 242 m\\u00b2\\nCroix 59170 (Centre-ville)\",\"Maison 8 pi\\u00e8ces 240 m\\u00b2\\nCroix 59170\",\"Maison 10 pi\\u00e8ces 323 m\\u00b2\\nCroix 59170 (Centre-ville)\",\"Maison 10 pi\\u00e8ces 350 m\\u00b2\\nCroix 59170 (Saint-Pierre)\",\"Appartement 5 pi\\u00e8ces 146 m\\u00b2\\nWasquehal 59290\",\"Maison 5 pi\\u00e8ces 200 m\\u00b2\\nWasquehal 59290\",\"Maison 5 pi\\u00e8ces 170 m\\u00b2\\nWasquehal 59290 (Centre-ville - Pharos - Site Saint-Nicolas)\",\"Appartement 4 pi\\u00e8ces 117 m\\u00b2\\nWasquehal 59290 (Centre-ville - Pharos - Site Saint-Nicolas)\",\"Appartement 4 pi\\u00e8ces 117 m\\u00b2\\nWasquehal 59290 (Boers - Haut Vinage - Or\\u00e9e du Golf - Petit Wasquehal)\",\"Maison 6 pi\\u00e8ces 155 m\\u00b2\\nCroix 59170\",\"Maison 5 pi\\u00e8ces 120 m\\u00b2\\nWasquehal 59290\",\"Appartement 4 pi\\u00e8ces 84 m\\u00b2\\nCroix 59170 (Saint-Pierre)\",\"Maison 5 pi\\u00e8ces 135 m\\u00b2\\nCroix 59170\",\"Appartement 5 pi\\u00e8ces 110 m\\u00b2\\nWasquehal 59290 (Boers - Haut Vinage - Or\\u00e9e du Golf - Petit Wasquehal)\",\"Appartement 3 pi\\u00e8ces 78 m\\u00b2\\nWasquehal 59290 (Capreau)\",\"Appartement 3 pi\\u00e8ces 67 m\\u00b2\\nWasquehal 59290 (Centre-ville - Pharos - Site Saint-Nicolas)\",\"Appartement 4 pi\\u00e8ces 84 m\\u00b2\\nCroix 59170 (Fer \\u00e0 Cheval)\",\"Appartement 3 pi\\u00e8ces 68 m\\u00b2\\nWasquehal 59290 (Grand Cottignies)\",\"Appartement 3 pi\\u00e8ces 64 m\\u00b2\\nWasquehal 59290 (Grand Cottignies)\",\"Maison 3 pi\\u00e8ces 90 m\\u00b2\\nWasquehal 59290\",\"Maison 5 pi\\u00e8ces 75 m\\u00b2\\nWasquehal 59290 (Centre-ville - Pharos - Site Saint-Nicolas)\",\"Maison 4 pi\\u00e8ces 100 m\\u00b2\\nWasquehal 59290\",\"Maison 4 pi\\u00e8ces\\nWasquehal 59290 (Boers - Haut Vinage - Or\\u00e9e du Golf - Petit Wasquehal)\",\"Appartement 3 pi\\u00e8ces 60 m\\u00b2\\nCroix 59170 (Saint-Pierre)\",\"Appartement 3 pi\\u00e8ces 77 m\\u00b2\\nCroix 59170\",\"Maison 3 pi\\u00e8ces 105 m\\u00b2\\nCroix 59170 (Saint-Pierre)\",\"Appartement 3 pi\\u00e8ces 66 m\\u00b2\\nWasquehal 59290 (Grand Cottignies)\",\"Appartement 4 pi\\u00e8ces 96 m\\u00b2\\nCroix 59170\",\"Maison 3 pi\\u00e8ces 105 m\\u00b2\\nCroix 59170 (Saint-Pierre)\",\"Appartement 3 pi\\u00e8ces 62 m\\u00b2\\nCroix 59170 (Saint-Pierre)\",\"Appartement 3 pi\\u00e8ces 98 m\\u00b2\\nCroix 59170 (Fer \\u00e0 Cheval)\",\"Maison 4 pi\\u00e8ces 100 m\\u00b2\\nWasquehal 59290 (Capreau)\",\"Appartement 2 pi\\u00e8ces 42 m\\u00b2\\nCroix 59170\",\"Maison 4 pi\\u00e8ces 90 m\\u00b2\\nWasquehal 59290 (Capreau)\",\"Appartement 2 pi\\u00e8ces 62 m\\u00b2\\nCroix 59170\",\"Appartement 2 pi\\u00e8ces 41 m\\u00b2\\nCroix 59170 (Saint-Pierre)\",\"Maison 4 pi\\u00e8ces 90 m\\u00b2\\nWasquehal 59290 (Capreau)\",\"Maison 3 pi\\u00e8ces 65 m\\u00b2\\nWasquehal 59290\",\"Appartement 2 pi\\u00e8ces 45 m\\u00b2\\nWasquehal 59290 (Grand Cottignies)\",\"Appartement 2 pi\\u00e8ces 40 m\\u00b2\\nWasquehal 59290 (Grand Cottignies)\",\"Appartement 2 pi\\u00e8ces 40 m\\u00b2\\nWasquehal 59290\",\"Maison 6 pi\\u00e8ces 98 m\\u00b2\\nCroix 59170 (Saint-Pierre)\",\"Maison 5 pi\\u00e8ces 99 m\\u00b2\\nCroix 59170 (Saint-Pierre)\",\"Maison 6 pi\\u00e8ces 100 m\\u00b2\\nCroix 59170\",\"Appartement 4 pi\\u00e8ces 85 m\\u00b2\\nWasquehal 59290 (Centre-ville - Pharos - Site Saint-Nicolas)\",\"Appartement 2 pi\\u00e8ces 41 m\\u00b2\\nWasquehal 59290 (Grand Cottignies)\",\"Maison 5 pi\\u00e8ces 85 m\\u00b2\\nCroix 59170\",\"Appartement 2 pi\\u00e8ces 53 m\\u00b2\\nCroix 59170\",\"Maison 4 pi\\u00e8ces 85 m\\u00b2\\nCroix 59170 (Saint-Pierre)\",\"Maison 4 pi\\u00e8ces 80 m\\u00b2\\nCroix 59170 (Saint-Pierre)\",\"Appartement 2 pi\\u00e8ces 63 m\\u00b2\\nCroix 59170 (Fer \\u00e0 Cheval)\",\"Appartement 2 pi\\u00e8ces 45 m\\u00b2\\nCroix 59170 (Saint-Pierre)\",\"Appartement 2 pi\\u00e8ces 54 m\\u00b2\\nCroix 59170 (Saint-Pierre)\",\"Appartement 3 pi\\u00e8ces 90 m\\u00b2\\nCroix 59170 (Fer \\u00e0 Cheval)\",\"Appartement 2 pi\\u00e8ces\\nWasquehal 59290 (Noir Bonnet - Rue Pasteur)\",\"Appartement 1 pi\\u00e8ce 43 m\\u00b2\\nCroix 59170 (Fer \\u00e0 Cheval)\",\"Appartement 2 pi\\u00e8ces 53 m\\u00b2\\nCroix 59170 (Saint-Pierre)\",\"Appartement 3 pi\\u00e8ces 95 m\\u00b2\\nCroix 59170 (Saint-Pierre)\",\"Appartement 1 pi\\u00e8ce 42 m\\u00b2\\nCroix 59170 (Centre-ville)\"],\"city\":[\"Croix\",\"Wasquehal\",\"Croix\",\"Croix\",\"Croix\",\"Croix\",\"Wasquehal\",\"Wasquehal\",\"Wasquehal\",\"Wasquehal\",\"Wasquehal\",\"Croix\",\"Wasquehal\",\"Croix\",\"Croix\",\"Wasquehal\",\"Wasquehal\",\"Wasquehal\",\"Croix\",\"Wasquehal\",\"Wasquehal\",\"Wasquehal\",\"Wasquehal\",\"Wasquehal\",\"Wasquehal\",\"Croix\",\"Croix\",\"Croix\",\"Wasquehal\",\"Croix\",\"Croix\",\"Croix\",\"Croix\",\"Wasquehal\",\"Croix\",\"Wasquehal\",\"Croix\",\"Croix\",\"Wasquehal\",\"Wasquehal\",\"Wasquehal\",\"Wasquehal\",\"Wasquehal\",\"Croix\",\"Croix\",\"Croix\",\"Wasquehal\",\"Wasquehal\",\"Croix\",\"Croix\",\"Croix\",\"Croix\",\"Croix\",\"Croix\",\"Croix\",\"Croix\",\"Wasquehal\",\"Croix\",\"Croix\",\"Croix\",\"Croix\"],\"image_link\":[\"https://file.bienici.com/photo/hektor-agveroniquefont-3183_agveroniquefont.staticlbi.com_original_images_biens_1_7f01c939761597f9b832694d4c381512_ef0105031d39a10a637e500bea7beefc.jpg?width=300&height=180&fit=cover\",\"https://file.bienici.com/photo/hektor-agveroniquefont-1596_agveroniquefont.staticlbi.com_original_images_biens_1_a368b0de8b91cfb3f91892fbf1ebd4b2_56b8b12117f04622247fdb4c55fb6b07.jpg?width=300&height=180&fit=cover\",\"https://file.bienici.com/photo/hektor-agveroniquefont-1018_agveroniquefont.staticlbi.com_original_images_biens_1_24146db4eb48c718b84cae0a0799dcfc_cb86702143a2e657da06b09191c6f497.jpg?width=300&height=180&fit=cover\",\"https://file.bienici.com/photo/hektor-agveroniquefont-2769_agveroniquefont.staticlbi.com_original_images_biens_1_d47844673f2db74d78da8687d794523d_5c5bac4caef5eecb67347c2deb20ad64.jpg?width=300&height=180&fit=cover\",\"https://file.bienici.com/photo/orpi-1-120001E1EHML_media6.ac3-distribution.com_office6_orpi_73336_catalog_images_pr_p_6_0_9_2_0_6_5_6092065a.jpg_DATEMAJ_201911151644?width=300&height=180&fit=cover\",\"https://file.bienici.com/photo/fnaim-44414715_images-raw.fnaim.fr_images1_img96_2969600VN1684T01.jpg?width=300&height=180&fit=cover\",\"https://file.bienici.com/photo/ag593804-216440889_photos.ubiflow.net_593804_216440889_photos_1.jpg_20191014194207?width=300&height=180&fit=cover\",\"https://file.bienici.com/photo/ag593804-219876426_photos.ubiflow.net_593804_219876426_photos_1.jpg_20191014194417?width=300&height=180&fit=cover\",\"https://file.bienici.com/photo/hektor-agveroniquefont-3807_agveroniquefont.staticlbi.com_original_images_biens_1_572de2f72d5731ff8a6744d12368d260_photo_8c9ca674d1f61fa5839b798bf9d85db6.jpg?width=300&height=180&fit=cover\",\"https://file.bienici.com/photo/century-21-202_3283_894_core.naxos-fr.net_imagesBien_202_3283_c21_202_3283_894_1_5579DDD1-1F2D-44B1-A69C-0D187D14464F.jpg?width=300&height=180&fit=cover\",\"https://file.bienici.com/photo/ag340378-229347814_photos.ubiflow.net_340378_229347814_photos_1.jpg_20191210031913?width=300&height=180&fit=cover\",\"https://file.bienici.com/photo/ag593804-221245957_photos.ubiflow.net_593804_221245957_photos_1.jpg_20191016141151?width=300&height=180&fit=cover\",\"https://file.bienici.com/photo/ag593804-227027287_photos.ubiflow.net_593804_227027287_photos_1.jpg_20191123172421?width=300&height=180&fit=cover\",\"https://file.bienici.com/photo/century-21-202_3283_971_core.naxos-fr.net_imagesBien_202_3283_c21_202_3283_971_1_C4D0F34C-C2FB-43A8-8375-8EA60B714C48.jpg?width=300&height=180&fit=cover\",\"https://file.bienici.com/photo/ag593804-220546338_photos.ubiflow.net_593804_220546338_photos_1.jpg_20191014194259?width=300&height=180&fit=cover\",\"https://file.bienici.com/photo/ag592469-221710204_photos.ubiflow.net_592469_221710204_photos_1.jpg_20191019041339?width=300&height=180&fit=cover\",\"https://file.bienici.com/photo/ag591569-217021893_photos.ubiflow.net_591569_217021893_photos_1.jpg_20190918124446?width=300&height=180&fit=cover\",\"https://file.bienici.com/photo/century-21-202_3283_944_core.naxos-fr.net_imagesBien_202_3283_c21_202_3283_944_1_CEF25ABC-A27E-4488-A453-35D74124780A.jpg?width=300&height=180&fit=cover\",\"https://file.bienici.com/photo/orpi-1-120037E19FML_media6.ac3-distribution.com_office6_orpi_73142_catalog_images_pr_p_5_6_5_5_8_3_3_5655833a.jpg_DATEMAJ_201902121541?width=300&height=180&fit=cover\",\"https://file.bienici.com/photo/century-21-202_3283_891_core.naxos-fr.net_imagesBien_202_3283_c21_202_3283_891_1_8B28FC8D-0C79-4592-9D73-503EAB5D9284.jpg?width=300&height=180&fit=cover\",\"https://file.bienici.com/photo/century-21-202_3283_892_core.naxos-fr.net_imagesBien_202_3283_c21_202_3283_892_1_73486669-E31A-4DFF-95A7-3C9739DFE1A6.jpg?width=300&height=180&fit=cover\",\"https://file.bienici.com/photo/ag593804-221609191_photos.ubiflow.net_593804_221609191_photos_1.jpg_20191018132830?width=300&height=180&fit=cover\",\"https://file.bienici.com/photo/orpi-1-120003E1GTND_media6.ac3-distribution.com_office6_orpi_73453_catalog_images_pr_p_6_2_2_6_0_5_7_6226057a.jpg_DATEMAJ_201911041600?width=300&height=180&fit=cover\",\"https://file.bienici.com/photo/ag591008-228608418_photos.ubiflow.net_591008_228608418_photos_1.jpg_20191204164026?width=300&height=180&fit=cover\",\"https://file.bienici.com/photo/ag591008-230764911_photos.ubiflow.net_591008_230764911_photos_1.jpg_20191219185249?width=300&height=180&fit=cover\",\"https://file.bienici.com/photo/ag440414-208485234_photos.ubiflow.net_440414_208485234_photos_1.jpg_20190718153413?width=300&height=180&fit=cover\",\"https://file.bienici.com/photo/ag593804-217576866_photos.ubiflow.net_593804_217576866_photos_1.jpg_20191014194201?width=300&height=180&fit=cover\",\"https://file.bienici.com/photo/orpi-1-120908E1FW7T_media6.ac3-distribution.com_office6_orpi_73336_catalog_images_pr_p_6_1_7_4_7_7_2_6174772a.jpg_DATEMAJ_201909241119?width=300&height=180&fit=cover\",\"https://file.bienici.com/photo/pericles-22959888_a?width=300&height=180&fit=cover\",\"https://file.bienici.com/photo/apimo-3428226_d1qfj231ug7wdu.cloudfront.net_pictures_estate_3429_3428226_2196580795dd80ae9006025.69620465_1920.jpg?width=300&height=180&fit=cover\",\"https://file.bienici.com/photo/ag440414-226888141_photos.ubiflow.net_440414_226888141_photos_1.jpg_20191122193043?width=300&height=180&fit=cover\",\"https://file.bienici.com/photo/pericles-26650268_a?width=300&height=180&fit=cover\",\"https://file.bienici.com/photo/pericles-27541440_a?width=300&height=180&fit=cover\",\"https://file.bienici.com/photo/orpi-1-120037E1CQC3_media6.ac3-distribution.com_office6_orpi_73142_catalog_images_pr_p_5_8_6_9_6_7_2_5869672a.jpg_DATEMAJ_201909101731?width=300&height=180&fit=cover\",\"https://file.bienici.com/photo/ag593804-218962977_photos.ubiflow.net_593804_218962977_photos_1.jpg_20191014194217?width=300&height=180&fit=cover\",\"https://file.bienici.com/photo/ag591569-197980825_photos.ubiflow.net_591569_197980825_photos_1.jpg_20190521112412?width=300&height=180&fit=cover\",\"https://file.bienici.com/photo/ag593804-223131715_photos.ubiflow.net_593804_223131715_photos_1.jpg_20191029174024?width=300&height=180&fit=cover\",\"https://file.bienici.com/photo/century-21-202_3283_972_core.naxos-fr.net_imagesBien_202_3283_c21_202_3283_972_1_2A939C23-D4EF-4FDD-984E-EB40A9F494B6.jpg?width=300&height=180&fit=cover\",\"https://file.bienici.com/photo/orpi-1-120037E1HI1E_media6.ac3-distribution.com_office6_orpi_73142_catalog_images_pr_p_6_2_7_1_1_0_1_6271101a.jpg_DATEMAJ_201911131029?width=300&height=180&fit=cover\",\"https://file.bienici.com/photo/ag593804-216810150_photos.ubiflow.net_593804_216810150_photos_1.jpg_20191014194245?width=300&height=180&fit=cover\",\"https://file.bienici.com/photo/orpi-1-120037E1HFQI_media6.ac3-distribution.com_office6_orpi_73142_catalog_images_pr_p_6_2_6_7_4_8_1_6267481a.jpg_DATEMAJ_201911121402?width=300&height=180&fit=cover\",\"https://file.bienici.com/photo/immo-facile-34136641_media.immo-facile.com_office2_exactimmo_catalog_images_pr_p_3_4_1_3_6_6_4_1_34136641a.jpg_DATEMAJ_22_10_2019-09_20_16?width=300&height=180&fit=cover\",\"https://file.bienici.com/photo/ag593804-222595345_photos.ubiflow.net_593804_222595345_photos_1.jpg_20191025132130?width=300&height=180&fit=cover\",\"https://file.bienici.com/photo/ag440414-227220979_photos.ubiflow.net_440414_227220979_photos_1.jpg_20191125152213?width=300&height=180&fit=cover\",\"https://file.bienici.com/photo/orpi-1-120901E1ER80_media6.ac3-distribution.com_office6_orpi_73336_catalog_images_pr_p_6_1_0_7_7_5_0_6107750a.jpg_DATEMAJ_201909271444?width=300&height=180&fit=cover\",\"https://file.bienici.com/photo/ag593804-220546365_photos.ubiflow.net_593804_220546365_photos_1.jpg_20191016213637?width=300&height=180&fit=cover\",\"https://file.bienici.com/photo/ag591008-210492347_photos.ubiflow.net_591008_210492347_photos_1.jpg_20190801120625?width=300&height=180&fit=cover\",\"https://file.bienici.com/photo/pericles-25803012_a?width=300&height=180&fit=cover\",\"https://file.bienici.com/photo/ag593804-221609209_photos.ubiflow.net_593804_221609209_photos_1.jpg_20191018132833?width=300&height=180&fit=cover\",\"https://file.bienici.com/photo/ag593804-218748273_photos.ubiflow.net_593804_218748273_photos_1.jpg_20191118214004?width=300&height=180&fit=cover\",\"https://file.bienici.com/photo/ag440414-221659210_photos.ubiflow.net_440414_221659210_photos_1.jpg_20191018190414?width=300&height=180&fit=cover\",\"https://file.bienici.com/photo/pericles-27660414_a?width=300&height=180&fit=cover\",\"https://file.bienici.com/photo/pericles-27875328_a?width=300&height=180&fit=cover\",\"https://file.bienici.com/photo/immo-facile-32614038_media.immo-facile.com_office16_immodefrance_npdc_catalog_images_pr_p_3_2_6_1_4_0_3_8_32614038a.jpg_DATEMAJ_25_06_2019-17_26_45?width=300&height=180&fit=cover\",\"https://file.bienici.com/photo/ag440414-225507691_photos.ubiflow.net_440414_225507691_photos_1.jpg_20191114185847?width=300&height=180&fit=cover\",\"https://file.bienici.com/photo/ag440414-212765508_photos.ubiflow.net_440414_212765508_photos_1.jpg_20191126145042?width=300&height=180&fit=cover\",\"https://file.bienici.com/photo/citya-immobilier-1289-TAPP422525_cityabox-web.ics.infoclip.fr_icsbox_cit_CITYA_FLANDRES_jdd_transaction_photo_filigrane-2--3989774459365924394.jpg?width=300&height=180&fit=cover\",\"https://file.bienici.com/photo/pericles-25038823_a?width=300&height=180&fit=cover\",\"https://file.bienici.com/photo/ag592837-227283511_photos.ubiflow.net_592837_227283511_photos_1.jpg_20191129023826?width=300&height=180&fit=cover\",\"https://file.bienici.com/photo/ag752451-209382087_photos.ubiflow.net_752451_209382087_photos_1.jpg_20191213204035?width=300&height=180&fit=cover\",\"https://file.bienici.com/photo/ag594019-228452107_photos.ubiflow.net_594019_228452107_photos_1.jpg_20191207094215?width=300&height=180&fit=cover\"],\"index\":[0,1,2,3,4,5,6,7,8,9,10,11,12,13,14,15,16,17,18,19,20,21,22,23,24,25,26,27,28,29,30,31,32,33,34,35,36,37,38,39,40,41,42,43,44,45,46,47,48,49,50,51,52,53,54,55,56,57,58,59,60],\"nbr_rooms\":[6,10,7,8,10,10,5,5,5,4,4,6,5,4,5,5,3,3,4,3,3,3,5,4,4,3,3,3,3,4,3,3,3,4,2,4,2,2,4,3,2,2,2,6,5,6,4,2,5,2,4,4,2,2,2,3,2,1,2,3,1],\"pincode\":[59170,59290,59170,59170,59170,59170,59290,59290,59290,59290,59290,59170,59290,59170,59170,59290,59290,59290,59170,59290,59290,59290,59290,59290,59290,59170,59170,59170,59290,59170,59170,59170,59170,59290,59170,59290,59170,59170,59290,59290,59290,59290,59290,59170,59170,59170,59290,59290,59170,59170,59170,59170,59170,59170,59170,59170,59290,59170,59170,59170,59170],\"price\":[1355000,1290000,1050000,1040000,694790,660000,649000,590000,510000,479000,479000,475000,385000,360000,330000,298000,288000,276900,266500,262900,258900,250000,242500,240000,240000,231000,215000,207750,200000,196000,185755,183600,180000,179760,179000,175000,170000,170000,169000,168000,154145,153900,148500,148500,147900,146500,145600,140000,138500,137000,135990,135000,125000,118000,115990,115000,114500,104000,99000,96505,80000],\"serial\":[53,35,63,69,3,21,50,48,43,25,27,59,55,8,47,28,49,22,16,31,30,58,2,64,44,40,62,45,17,56,19,11,24,34,60,52,65,7,38,68,39,46,57,6,32,67,54,41,66,61,29,23,10,15,9,14,4,42,5,1,18],\"street\":[\"Fer \\u00e0 Cheval\",\"Grand Cottignies\",\"Centre-ville\",\"NaN\",\"Centre-ville\",\"Saint-Pierre\",\"NaN\",\"NaN\",\"Centre-ville - Pharos - Site Saint-Nicolas\",\"Centre-ville - Pharos - Site Saint-Nicolas\",\"Boers - Haut Vinage - Or\\u00e9e du Golf - Petit Wasquehal\",\"NaN\",\"NaN\",\"Saint-Pierre\",\"NaN\",\"Boers - Haut Vinage - Or\\u00e9e du Golf - Petit Wasquehal\",\"Capreau\",\"Centre-ville - Pharos - Site Saint-Nicolas\",\"Fer \\u00e0 Cheval\",\"Grand Cottignies\",\"Grand Cottignies\",\"NaN\",\"Centre-ville - Pharos - Site Saint-Nicolas\",\"NaN\",\"Boers - Haut Vinage - Or\\u00e9e du Golf - Petit Wasquehal\",\"Saint-Pierre\",\"NaN\",\"Saint-Pierre\",\"Grand Cottignies\",\"NaN\",\"Saint-Pierre\",\"Saint-Pierre\",\"Fer \\u00e0 Cheval\",\"Capreau\",\"NaN\",\"Capreau\",\"NaN\",\"Saint-Pierre\",\"Capreau\",\"NaN\",\"Grand Cottignies\",\"Grand Cottignies\",\"NaN\",\"Saint-Pierre\",\"Saint-Pierre\",\"NaN\",\"Centre-ville - Pharos - Site Saint-Nicolas\",\"Grand Cottignies\",\"NaN\",\"NaN\",\"Saint-Pierre\",\"Saint-Pierre\",\"Fer \\u00e0 Cheval\",\"Saint-Pierre\",\"Saint-Pierre\",\"Fer \\u00e0 Cheval\",\"Noir Bonnet - Rue Pasteur\",\"Fer \\u00e0 Cheval\",\"Saint-Pierre\",\"Saint-Pierre\",\"Centre-ville\"]},\"selected\":{\"id\":\"143666\",\"type\":\"Selection\"},\"selection_policy\":{\"id\":\"143667\",\"type\":\"UnionRenderers\"}},\"id\":\"141588\",\"type\":\"ColumnDataSource\"},{\"attributes\":{\"overlay\":{\"id\":\"141635\",\"type\":\"BoxAnnotation\"}},\"id\":\"141612\",\"type\":\"BoxZoomTool\"},{\"attributes\":{},\"id\":\"141613\",\"type\":\"SaveTool\"},{\"attributes\":{\"label\":{\"field\":\"Type\"},\"renderers\":[{\"id\":\"141628\",\"type\":\"GlyphRenderer\"}]},\"id\":\"141637\",\"type\":\"LegendItem\"},{\"attributes\":{},\"id\":\"141615\",\"type\":\"HelpTool\"},{\"attributes\":{\"children\":[{\"id\":\"141587\",\"type\":\"Div\"}]},\"id\":\"141644\",\"type\":\"Row\"},{\"attributes\":{\"fill_color\":{\"field\":\"Type\",\"transform\":{\"id\":\"141623\",\"type\":\"CategoricalColorMapper\"}},\"line_color\":{\"field\":\"Type\",\"transform\":{\"id\":\"141623\",\"type\":\"CategoricalColorMapper\"}},\"line_width\":{\"value\":2},\"marker\":{\"field\":\"Type\",\"transform\":{\"id\":\"141624\",\"type\":\"CategoricalMarkerMapper\"}},\"size\":{\"units\":\"screen\",\"value\":20},\"x\":{\"field\":\"area\"},\"y\":{\"field\":\"price\"}},\"id\":\"141626\",\"type\":\"Scatter\"}],\"root_ids\":[\"141646\"]},\"title\":\"Bokeh Application\",\"version\":\"1.2.0\"}};\n",
       "  var render_items = [{\"docid\":\"24d66d3e-f63c-46ea-99ad-91d17383f0f8\",\"notebook_comms_target\":\"143668\",\"roots\":{\"141646\":\"cc8189b6-d47f-44f9-b40a-f866b0687d60\"}}];\n",
       "  root.Bokeh.embed.embed_items_notebook(docs_json, render_items);\n",
       "\n",
       "  }\n",
       "  if (root.Bokeh !== undefined) {\n",
       "    embed_document(root);\n",
       "  } else {\n",
       "    var attempts = 0;\n",
       "    var timer = setInterval(function(root) {\n",
       "      if (root.Bokeh !== undefined) {\n",
       "        embed_document(root);\n",
       "        clearInterval(timer);\n",
       "      }\n",
       "      attempts++;\n",
       "      if (attempts > 100) {\n",
       "        console.log(\"Bokeh: ERROR: Unable to run BokehJS code because BokehJS library is missing\");\n",
       "        clearInterval(timer);\n",
       "      }\n",
       "    }, 10, root)\n",
       "  }\n",
       "})(window);"
      ],
      "application/vnd.bokehjs_exec.v0+json": ""
     },
     "metadata": {
      "application/vnd.bokehjs_exec.v0+json": {
       "id": "141646"
      }
     },
     "output_type": "display_data"
    }
   ],
   "source": [
    "\n",
    "\n",
    "#use the html file desc1 and save it in the os default directory\n",
    "\n",
    "desc1 = Div(text=open(join(os.path.dirname(\"__file__\"), \"desc1.html\")).read(), sizing_mode=\"stretch_width\")\n",
    "\n",
    "\n",
    "\n",
    "Type = [\"Maison\",\"Appartement\"]\n",
    "markers = [\"hex\",\"triangle\"]\n",
    "\n",
    "\n",
    "\n",
    "\n",
    "dat = ColumnDataSource(datah)\n",
    "plot = figure(plot_width=900, plot_height=400,   x_axis_label = 'Area',\n",
    "    y_axis_label = 'Price',title = 'Area vs Price',background_fill_color='#efefef')\n",
    "#plot.xaxis.visible = None\n",
    "\n",
    "\n",
    "#colormap = {'Appartement': 'red', 'Maison': 'green','Studio' : 'blue'}\n",
    "#colors = [colormap[x] for x in datah['Type']]\n",
    "\n",
    "plot.scatter(x='area', y='price', size=20,\n",
    "                   color=factor_cmap(field_name = 'Type', palette = 'Dark2_3', factors = Type),marker = factor_mark('Type',markers,Type), line_width=2,legend = 'Type',source = dat)\n",
    "\n",
    "#tab5 = Panel(child=plot,title = \"Playground\")\n",
    "\n",
    "#plot.xgrid.grid_line_color = None\n",
    "#plot.ygrid.grid_line_color = None\n",
    "\n",
    "#plot.yaxis.ticker = [60000,260000,460000,660000,860000,1060000,1260000,1460000,1660000]\n",
    "\n",
    "plot.yaxis.formatter = BasicTickFormatter(use_scientific=False)\n",
    "\n",
    "plot.yaxis.formatter = NumeralTickFormatter(format=\"€0\")\n",
    "\n",
    "hover1 = HoverTool()\n",
    "hover1.tooltips = \"\"\"\n",
    "<div>\n",
    "    <h3>@address</h3>\n",
    "    <div><img src=\"@image_link\" alt=\"\" /></div>\n",
    "    <div><strong>Type: @Type</div></strong>\n",
    "    <div><strong>Price(€): @price</div></strong>\n",
    "    <div><strong>City: @city</div></strong>\n",
    "    <div><strong>Rooms: @nbr_rooms</div></strong>\n",
    "    <div><strong>Area(m²): @area</div></strong>\n",
    "</div>\n",
    "\"\"\"\n",
    "\n",
    "\n",
    "plot.add_tools(hover1)\n",
    "\n",
    "plot.legend.location = \"top_left\"\n",
    "plot.legend.click_policy=\"mute\"\n",
    "output_notebook()\n",
    "#push_notebook()\n",
    "\n",
    "l = layout([\n",
    "    [desc1],\n",
    "    [plot],\n",
    "])\n",
    "\n",
    "show(l, notebook_handle=True)\n",
    "tab5 = Panel(child=l,title = \"Playground\")\n",
    "\n"
   ]
  },
  {
   "cell_type": "markdown",
   "metadata": {},
   "source": [
    "# All the graphs in one panel"
   ]
  },
  {
   "cell_type": "code",
   "execution_count": 169,
   "metadata": {},
   "outputs": [
    {
     "data": {
      "text/html": [
       "\n",
       "\n",
       "\n",
       "\n",
       "\n",
       "\n",
       "  <div class=\"bk-root\" id=\"4a903313-1ff8-4e46-b737-677734f11f61\" data-root-id=\"143783\"></div>\n"
      ]
     },
     "metadata": {},
     "output_type": "display_data"
    },
    {
     "data": {
      "application/javascript": [
       "(function(root) {\n",
       "  function embed_document(root) {\n",
       "    \n",
       "  var docs_json = {\"4e69eee2-394b-4c26-845d-25fe23c7bd88\":{\"roots\":{\"references\":[{\"attributes\":{\"callback\":null,\"tabs\":[{\"id\":\"132624\",\"type\":\"Panel\"},{\"id\":\"134795\",\"type\":\"Panel\"},{\"id\":\"136975\",\"type\":\"Panel\"},{\"id\":\"139227\",\"type\":\"Panel\"},{\"id\":\"143782\",\"type\":\"Panel\"}]},\"id\":\"143783\",\"type\":\"Tabs\"},{\"attributes\":{},\"id\":\"134747\",\"type\":\"CategoricalTicker\"},{\"attributes\":{},\"id\":\"139112\",\"type\":\"HelpTool\"},{\"attributes\":{\"dimension\":1,\"ticker\":{\"id\":\"136929\",\"type\":\"BasicTicker\"}},\"id\":\"136932\",\"type\":\"Grid\"},{\"attributes\":{\"callback\":null,\"overlay\":{\"id\":\"134776\",\"type\":\"BoxAnnotation\"}},\"id\":\"134756\",\"type\":\"BoxSelectTool\"},{\"attributes\":{\"active_drag\":\"auto\",\"active_inspect\":\"auto\",\"active_multi\":null,\"active_scroll\":\"auto\",\"active_tap\":\"auto\",\"tools\":[{\"id\":\"139107\",\"type\":\"PanTool\"},{\"id\":\"139108\",\"type\":\"WheelZoomTool\"},{\"id\":\"139109\",\"type\":\"BoxZoomTool\"},{\"id\":\"139110\",\"type\":\"SaveTool\"},{\"id\":\"139111\",\"type\":\"ResetTool\"},{\"id\":\"139112\",\"type\":\"HelpTool\"},{\"id\":\"139130\",\"type\":\"HoverTool\"}]},\"id\":\"139113\",\"type\":\"Toolbar\"},{\"attributes\":{},\"id\":\"136935\",\"type\":\"ZoomInTool\"},{\"attributes\":{},\"id\":\"132584\",\"type\":\"PanTool\"},{\"attributes\":{\"fill_alpha\":{\"value\":0.1},\"fill_color\":{\"value\":\"#1f77b4\"},\"line_alpha\":{\"value\":0.1},\"line_color\":{\"value\":\"#1f77b4\"},\"line_width\":{\"value\":2},\"marker\":{\"field\":\"Type\",\"transform\":{\"id\":\"141624\",\"type\":\"CategoricalMarkerMapper\"}},\"size\":{\"units\":\"screen\",\"value\":20},\"x\":{\"field\":\"area\"},\"y\":{\"field\":\"price\"}},\"id\":\"141627\",\"type\":\"Scatter\"},{\"attributes\":{\"sizing_mode\":\"stretch_width\",\"text\":\"<style>\\nh1 {\\n    margin: 1em 0 0 0;\\n    color: #2e484c;\\n    font-family: 'Julius Sans One', sans-serif;\\n    font-size: 1.8em;\\n    text-transform: uppercase;\\n}\\n\\np {\\n    font: \\\"Libre Baskerville\\\", sans-serif;\\n    text-align: justify;\\n    text-justify: inter-word;\\n    width: 80%;\\n    max-width: 800;\\n}\\n</style>\\n\\n<h1>Correlation</h1>\\n\\n<p>\\nThe charts show the correlation between different variables of the data.\\n</p>\\n<p>\\nHover over the points for details.\\n</p>\\n\"},\"id\":\"139085\",\"type\":\"Div\"},{\"attributes\":{\"source\":{\"id\":\"139083\",\"type\":\"ColumnDataSource\"}},\"id\":\"139124\",\"type\":\"CDSView\"},{\"attributes\":{},\"id\":\"136925\",\"type\":\"CategoricalTicker\"},{\"attributes\":{\"use_scientific\":false},\"id\":\"139128\",\"type\":\"BasicTickFormatter\"},{\"attributes\":{},\"id\":\"141226\",\"type\":\"BasicTickFormatter\"},{\"attributes\":{},\"id\":\"136920\",\"type\":\"CategoricalScale\"},{\"attributes\":{\"ticker\":{\"id\":\"136925\",\"type\":\"CategoricalTicker\"}},\"id\":\"136927\",\"type\":\"Grid\"},{\"attributes\":{\"color_mapper\":{\"id\":\"139084\",\"type\":\"LinearColorMapper\"},\"formatter\":{\"id\":\"139128\",\"type\":\"BasicTickFormatter\"},\"label_standoff\":12,\"location\":[0,0],\"ticker\":{\"id\":\"141224\",\"type\":\"BasicTicker\"},\"title\":\"Price\"},\"id\":\"139127\",\"type\":\"ColorBar\"},{\"attributes\":{\"text\":\"Average price per City\"},\"id\":\"136914\",\"type\":\"Title\"},{\"attributes\":{},\"id\":\"134751\",\"type\":\"BasicTicker\"},{\"attributes\":{},\"id\":\"136922\",\"type\":\"LinearScale\"},{\"attributes\":{\"below\":[{\"id\":\"139143\",\"type\":\"LinearAxis\"}],\"center\":[{\"id\":\"139147\",\"type\":\"Grid\"},{\"id\":\"139152\",\"type\":\"Grid\"}],\"left\":[{\"id\":\"139148\",\"type\":\"LinearAxis\"}],\"plot_height\":300,\"plot_width\":400,\"renderers\":[{\"id\":\"139169\",\"type\":\"GlyphRenderer\"}],\"right\":[{\"id\":\"139173\",\"type\":\"ColorBar\"}],\"sizing_mode\":\"scale_both\",\"title\":{\"id\":\"139133\",\"type\":\"Title\"},\"toolbar\":{\"id\":\"139159\",\"type\":\"Toolbar\"},\"toolbar_location\":null,\"x_range\":{\"id\":\"139135\",\"type\":\"DataRange1d\"},\"x_scale\":{\"id\":\"139139\",\"type\":\"LinearScale\"},\"y_range\":{\"id\":\"139137\",\"type\":\"DataRange1d\"},\"y_scale\":{\"id\":\"139141\",\"type\":\"LinearScale\"}},\"id\":\"139132\",\"subtype\":\"Figure\",\"type\":\"Plot\"},{\"attributes\":{\"callback\":null,\"tooltips\":\"\\n<div>\\n    <h3>@city</h3>\\n    <div><strong>Area(m\\u00b2): @area</div></strong>\\n    <div><strong>Price(\\u20ac): @price</div></strong>\\n</div>\\n\"},\"id\":\"139130\",\"type\":\"HoverTool\"},{\"attributes\":{\"bottom_units\":\"screen\",\"fill_alpha\":{\"value\":0.5},\"fill_color\":{\"value\":\"lightgrey\"},\"left_units\":\"screen\",\"level\":\"overlay\",\"line_alpha\":{\"value\":1.0},\"line_color\":{\"value\":\"black\"},\"line_dash\":[4,4],\"line_width\":{\"value\":2},\"render_mode\":\"css\",\"right_units\":\"screen\",\"top_units\":\"screen\"},\"id\":\"141635\",\"type\":\"BoxAnnotation\"},{\"attributes\":{\"callback\":null,\"factors\":[\"Croix\",\"Wasquehal\"]},\"id\":\"134738\",\"type\":\"FactorRange\"},{\"attributes\":{\"axis_label\":\"Avg Area\",\"formatter\":{\"id\":\"134772\",\"type\":\"BasicTickFormatter\"},\"ticker\":{\"id\":\"134751\",\"type\":\"BasicTicker\"}},\"id\":\"134750\",\"type\":\"LinearAxis\"},{\"attributes\":{\"source\":{\"id\":\"132563\",\"type\":\"ColumnDataSource\"}},\"id\":\"132599\",\"type\":\"CDSView\"},{\"attributes\":{\"fill_alpha\":{\"value\":0.1},\"fill_color\":{\"value\":\"#1f77b4\"},\"line_alpha\":{\"value\":0.1},\"line_color\":{\"value\":\"#1f77b4\"},\"size\":{\"units\":\"screen\",\"value\":7},\"x\":{\"field\":\"nbr_rooms\"},\"y\":{\"field\":\"price\"}},\"id\":\"139168\",\"type\":\"Circle\"},{\"attributes\":{\"below\":[{\"id\":\"134746\",\"type\":\"CategoricalAxis\"}],\"center\":[{\"id\":\"134749\",\"type\":\"Grid\"},{\"id\":\"134754\",\"type\":\"Grid\"},{\"id\":\"134777\",\"type\":\"Legend\"}],\"left\":[{\"id\":\"134750\",\"type\":\"LinearAxis\"}],\"plot_height\":400,\"renderers\":[{\"id\":\"134769\",\"type\":\"GlyphRenderer\"},{\"id\":\"134784\",\"type\":\"GlyphRenderer\"}],\"title\":{\"id\":\"134736\",\"type\":\"Title\"},\"toolbar\":{\"id\":\"134759\",\"type\":\"Toolbar\"},\"toolbar_location\":null,\"x_range\":{\"id\":\"134738\",\"type\":\"FactorRange\"},\"x_scale\":{\"id\":\"134742\",\"type\":\"CategoricalScale\"},\"y_range\":{\"id\":\"134740\",\"type\":\"DataRange1d\"},\"y_scale\":{\"id\":\"134744\",\"type\":\"LinearScale\"}},\"id\":\"134735\",\"subtype\":\"Figure\",\"type\":\"Plot\"},{\"attributes\":{\"text\":\"Rooms vs Price\"},\"id\":\"139133\",\"type\":\"Title\"},{\"attributes\":{\"click_policy\":\"mute\",\"items\":[{\"id\":\"132607\",\"type\":\"LegendItem\"},{\"id\":\"132623\",\"type\":\"LegendItem\"}],\"orientation\":\"horizontal\"},\"id\":\"132606\",\"type\":\"Legend\"},{\"attributes\":{\"data_source\":{\"id\":\"132563\",\"type\":\"ColumnDataSource\"},\"glyph\":{\"id\":\"132595\",\"type\":\"VBar\"},\"hover_glyph\":null,\"muted_glyph\":{\"id\":\"132597\",\"type\":\"VBar\"},\"nonselection_glyph\":{\"id\":\"132596\",\"type\":\"VBar\"},\"selection_glyph\":null,\"view\":{\"id\":\"132599\",\"type\":\"CDSView\"}},\"id\":\"132598\",\"type\":\"GlyphRenderer\"},{\"attributes\":{\"callback\":null},\"id\":\"136918\",\"type\":\"DataRange1d\"},{\"attributes\":{\"fill_alpha\":{\"value\":0.2},\"fill_color\":{\"value\":\"orange\"},\"line_alpha\":{\"value\":0.2},\"line_color\":{\"value\":\"orange\"},\"top\":{\"field\":\"Maison\"},\"width\":{\"value\":0.3},\"x\":{\"field\":\"city\",\"transform\":{\"id\":\"136957\",\"type\":\"Dodge\"}}},\"id\":\"136961\",\"type\":\"VBar\"},{\"attributes\":{\"callback\":null},\"id\":\"139135\",\"type\":\"DataRange1d\"},{\"attributes\":{},\"id\":\"134793\",\"type\":\"UnionRenderers\"},{\"attributes\":{\"callback\":null},\"id\":\"139137\",\"type\":\"DataRange1d\"},{\"attributes\":{},\"id\":\"134758\",\"type\":\"ZoomOutTool\"},{\"attributes\":{},\"id\":\"136970\",\"type\":\"Selection\"},{\"attributes\":{},\"id\":\"141224\",\"type\":\"BasicTicker\"},{\"attributes\":{},\"id\":\"139139\",\"type\":\"LinearScale\"},{\"attributes\":{\"callback\":null,\"data\":{\"Type\":[\"Maison\",\"Maison\",\"Maison\",\"Maison\",\"Maison\",\"Maison\",\"Appartement\",\"Maison\",\"Maison\",\"Appartement\",\"Appartement\",\"Maison\",\"Maison\",\"Appartement\",\"Maison\",\"Appartement\",\"Appartement\",\"Appartement\",\"Appartement\",\"Appartement\",\"Appartement\",\"Maison\",\"Maison\",\"Maison\",\"Maison\",\"Appartement\",\"Appartement\",\"Maison\",\"Appartement\",\"Appartement\",\"Maison\",\"Appartement\",\"Appartement\",\"Maison\",\"Appartement\",\"Maison\",\"Appartement\",\"Appartement\",\"Maison\",\"Maison\",\"Appartement\",\"Appartement\",\"Appartement\",\"Maison\",\"Maison\",\"Maison\",\"Appartement\",\"Appartement\",\"Maison\",\"Appartement\",\"Maison\",\"Maison\",\"Appartement\",\"Appartement\",\"Appartement\",\"Appartement\",\"Appartement\",\"Appartement\",\"Appartement\",\"Appartement\",\"Appartement\"],\"Unnamed: 0\":[52,34,62,68,2,20,49,47,42,24,26,58,54,7,46,27,48,21,15,30,29,57,1,63,43,39,61,44,16,55,18,10,23,33,59,51,64,6,37,67,38,45,56,5,31,66,53,40,65,60,28,22,9,14,8,13,3,41,4,0,17],\"address\":[\"Croix 59170 (Fer \\u00e0 Cheval)\",\"Wasquehal 59290 (Grand Cottignies)\",\"Croix 59170 (Centre-ville)\",\"Croix 59170\",\"Croix 59170 (Centre-ville)\",\"Croix 59170 (Saint-Pierre)\",\"Wasquehal 59290\",\"Wasquehal 59290\",\"Wasquehal 59290 (Centre-ville - Pharos - Site Saint-Nicolas)\",\"Wasquehal 59290 (Centre-ville - Pharos - Site Saint-Nicolas)\",\"Wasquehal 59290 (Boers - Haut Vinage - Or\\u00e9e du Golf - Petit Wasquehal)\",\"Croix 59170\",\"Wasquehal 59290\",\"Croix 59170 (Saint-Pierre)\",\"Croix 59170\",\"Wasquehal 59290 (Boers - Haut Vinage - Or\\u00e9e du Golf - Petit Wasquehal)\",\"Wasquehal 59290 (Capreau)\",\"Wasquehal 59290 (Centre-ville - Pharos - Site Saint-Nicolas)\",\"Croix 59170 (Fer \\u00e0 Cheval)\",\"Wasquehal 59290 (Grand Cottignies)\",\"Wasquehal 59290 (Grand Cottignies)\",\"Wasquehal 59290\",\"Wasquehal 59290 (Centre-ville - Pharos - Site Saint-Nicolas)\",\"Wasquehal 59290\",\"Wasquehal 59290 (Boers - Haut Vinage - Or\\u00e9e du Golf - Petit Wasquehal)\",\"Croix 59170 (Saint-Pierre)\",\"Croix 59170\",\"Croix 59170 (Saint-Pierre)\",\"Wasquehal 59290 (Grand Cottignies)\",\"Croix 59170\",\"Croix 59170 (Saint-Pierre)\",\"Croix 59170 (Saint-Pierre)\",\"Croix 59170 (Fer \\u00e0 Cheval)\",\"Wasquehal 59290 (Capreau)\",\"Croix 59170\",\"Wasquehal 59290 (Capreau)\",\"Croix 59170\",\"Croix 59170 (Saint-Pierre)\",\"Wasquehal 59290 (Capreau)\",\"Wasquehal 59290\",\"Wasquehal 59290 (Grand Cottignies)\",\"Wasquehal 59290 (Grand Cottignies)\",\"Wasquehal 59290\",\"Croix 59170 (Saint-Pierre)\",\"Croix 59170 (Saint-Pierre)\",\"Croix 59170\",\"Wasquehal 59290 (Centre-ville - Pharos - Site Saint-Nicolas)\",\"Wasquehal 59290 (Grand Cottignies)\",\"Croix 59170\",\"Croix 59170\",\"Croix 59170 (Saint-Pierre)\",\"Croix 59170 (Saint-Pierre)\",\"Croix 59170 (Fer \\u00e0 Cheval)\",\"Croix 59170 (Saint-Pierre)\",\"Croix 59170 (Saint-Pierre)\",\"Croix 59170 (Fer \\u00e0 Cheval)\",\"Wasquehal 59290 (Noir Bonnet - Rue Pasteur)\",\"Croix 59170 (Fer \\u00e0 Cheval)\",\"Croix 59170 (Saint-Pierre)\",\"Croix 59170 (Saint-Pierre)\",\"Croix 59170 (Centre-ville)\"],\"area\":{\"__ndarray__\":\"AAAAAAAgckAAAAAAAIBxQAAAAAAAQG5AAAAAAAAAbkAAAAAAADB0QAAAAAAA4HVAAAAAAABAYkAAAAAAAABpQAAAAAAAQGVAAAAAAABAXUAAAAAAAEBdQAAAAAAAYGNAAAAAAAAAXkAAAAAAAABVQAAAAAAA4GBAAAAAAACAW0AAAAAAAIBTQAAAAAAAwFBAAAAAAAAAVUAAAAAAAABRQAAAAAAAAFBAAAAAAACAVkAAAAAAAMBSQAAAAAAAAFlAAAAAAAAA+H8AAAAAAABOQAAAAAAAQFNAAAAAAABAWkAAAAAAAIBQQAAAAAAAAFhAAAAAAABAWkAAAAAAAABPQAAAAAAAgFhAAAAAAAAAWUAAAAAAAABFQAAAAAAAgFZAAAAAAAAAT0AAAAAAAIBEQAAAAAAAgFZAAAAAAABAUEAAAAAAAIBGQAAAAAAAAERAAAAAAAAAREAAAAAAAIBYQAAAAAAAwFhAAAAAAAAAWUAAAAAAAEBVQAAAAAAAgERAAAAAAABAVUAAAAAAAIBKQAAAAAAAQFVAAAAAAAAAVEAAAAAAAIBPQAAAAAAAgEZAAAAAAAAAS0AAAAAAAIBWQAAAAAAAAPh/AAAAAACARUAAAAAAAIBKQAAAAAAAwFdAAAAAAAAARUA=\",\"dtype\":\"float64\",\"shape\":[61]},\"category\":[\"Maison 6 pi\\u00e8ces 290 m\\u00b2\\nCroix 59170 (Fer \\u00e0 Cheval)\",\"Maison 10 pi\\u00e8ces 280 m\\u00b2\\nWasquehal 59290 (Grand Cottignies)\",\"Maison 7 pi\\u00e8ces 242 m\\u00b2\\nCroix 59170 (Centre-ville)\",\"Maison 8 pi\\u00e8ces 240 m\\u00b2\\nCroix 59170\",\"Maison 10 pi\\u00e8ces 323 m\\u00b2\\nCroix 59170 (Centre-ville)\",\"Maison 10 pi\\u00e8ces 350 m\\u00b2\\nCroix 59170 (Saint-Pierre)\",\"Appartement 5 pi\\u00e8ces 146 m\\u00b2\\nWasquehal 59290\",\"Maison 5 pi\\u00e8ces 200 m\\u00b2\\nWasquehal 59290\",\"Maison 5 pi\\u00e8ces 170 m\\u00b2\\nWasquehal 59290 (Centre-ville - Pharos - Site Saint-Nicolas)\",\"Appartement 4 pi\\u00e8ces 117 m\\u00b2\\nWasquehal 59290 (Centre-ville - Pharos - Site Saint-Nicolas)\",\"Appartement 4 pi\\u00e8ces 117 m\\u00b2\\nWasquehal 59290 (Boers - Haut Vinage - Or\\u00e9e du Golf - Petit Wasquehal)\",\"Maison 6 pi\\u00e8ces 155 m\\u00b2\\nCroix 59170\",\"Maison 5 pi\\u00e8ces 120 m\\u00b2\\nWasquehal 59290\",\"Appartement 4 pi\\u00e8ces 84 m\\u00b2\\nCroix 59170 (Saint-Pierre)\",\"Maison 5 pi\\u00e8ces 135 m\\u00b2\\nCroix 59170\",\"Appartement 5 pi\\u00e8ces 110 m\\u00b2\\nWasquehal 59290 (Boers - Haut Vinage - Or\\u00e9e du Golf - Petit Wasquehal)\",\"Appartement 3 pi\\u00e8ces 78 m\\u00b2\\nWasquehal 59290 (Capreau)\",\"Appartement 3 pi\\u00e8ces 67 m\\u00b2\\nWasquehal 59290 (Centre-ville - Pharos - Site Saint-Nicolas)\",\"Appartement 4 pi\\u00e8ces 84 m\\u00b2\\nCroix 59170 (Fer \\u00e0 Cheval)\",\"Appartement 3 pi\\u00e8ces 68 m\\u00b2\\nWasquehal 59290 (Grand Cottignies)\",\"Appartement 3 pi\\u00e8ces 64 m\\u00b2\\nWasquehal 59290 (Grand Cottignies)\",\"Maison 3 pi\\u00e8ces 90 m\\u00b2\\nWasquehal 59290\",\"Maison 5 pi\\u00e8ces 75 m\\u00b2\\nWasquehal 59290 (Centre-ville - Pharos - Site Saint-Nicolas)\",\"Maison 4 pi\\u00e8ces 100 m\\u00b2\\nWasquehal 59290\",\"Maison 4 pi\\u00e8ces\\nWasquehal 59290 (Boers - Haut Vinage - Or\\u00e9e du Golf - Petit Wasquehal)\",\"Appartement 3 pi\\u00e8ces 60 m\\u00b2\\nCroix 59170 (Saint-Pierre)\",\"Appartement 3 pi\\u00e8ces 77 m\\u00b2\\nCroix 59170\",\"Maison 3 pi\\u00e8ces 105 m\\u00b2\\nCroix 59170 (Saint-Pierre)\",\"Appartement 3 pi\\u00e8ces 66 m\\u00b2\\nWasquehal 59290 (Grand Cottignies)\",\"Appartement 4 pi\\u00e8ces 96 m\\u00b2\\nCroix 59170\",\"Maison 3 pi\\u00e8ces 105 m\\u00b2\\nCroix 59170 (Saint-Pierre)\",\"Appartement 3 pi\\u00e8ces 62 m\\u00b2\\nCroix 59170 (Saint-Pierre)\",\"Appartement 3 pi\\u00e8ces 98 m\\u00b2\\nCroix 59170 (Fer \\u00e0 Cheval)\",\"Maison 4 pi\\u00e8ces 100 m\\u00b2\\nWasquehal 59290 (Capreau)\",\"Appartement 2 pi\\u00e8ces 42 m\\u00b2\\nCroix 59170\",\"Maison 4 pi\\u00e8ces 90 m\\u00b2\\nWasquehal 59290 (Capreau)\",\"Appartement 2 pi\\u00e8ces 62 m\\u00b2\\nCroix 59170\",\"Appartement 2 pi\\u00e8ces 41 m\\u00b2\\nCroix 59170 (Saint-Pierre)\",\"Maison 4 pi\\u00e8ces 90 m\\u00b2\\nWasquehal 59290 (Capreau)\",\"Maison 3 pi\\u00e8ces 65 m\\u00b2\\nWasquehal 59290\",\"Appartement 2 pi\\u00e8ces 45 m\\u00b2\\nWasquehal 59290 (Grand Cottignies)\",\"Appartement 2 pi\\u00e8ces 40 m\\u00b2\\nWasquehal 59290 (Grand Cottignies)\",\"Appartement 2 pi\\u00e8ces 40 m\\u00b2\\nWasquehal 59290\",\"Maison 6 pi\\u00e8ces 98 m\\u00b2\\nCroix 59170 (Saint-Pierre)\",\"Maison 5 pi\\u00e8ces 99 m\\u00b2\\nCroix 59170 (Saint-Pierre)\",\"Maison 6 pi\\u00e8ces 100 m\\u00b2\\nCroix 59170\",\"Appartement 4 pi\\u00e8ces 85 m\\u00b2\\nWasquehal 59290 (Centre-ville - Pharos - Site Saint-Nicolas)\",\"Appartement 2 pi\\u00e8ces 41 m\\u00b2\\nWasquehal 59290 (Grand Cottignies)\",\"Maison 5 pi\\u00e8ces 85 m\\u00b2\\nCroix 59170\",\"Appartement 2 pi\\u00e8ces 53 m\\u00b2\\nCroix 59170\",\"Maison 4 pi\\u00e8ces 85 m\\u00b2\\nCroix 59170 (Saint-Pierre)\",\"Maison 4 pi\\u00e8ces 80 m\\u00b2\\nCroix 59170 (Saint-Pierre)\",\"Appartement 2 pi\\u00e8ces 63 m\\u00b2\\nCroix 59170 (Fer \\u00e0 Cheval)\",\"Appartement 2 pi\\u00e8ces 45 m\\u00b2\\nCroix 59170 (Saint-Pierre)\",\"Appartement 2 pi\\u00e8ces 54 m\\u00b2\\nCroix 59170 (Saint-Pierre)\",\"Appartement 3 pi\\u00e8ces 90 m\\u00b2\\nCroix 59170 (Fer \\u00e0 Cheval)\",\"Appartement 2 pi\\u00e8ces\\nWasquehal 59290 (Noir Bonnet - Rue Pasteur)\",\"Appartement 1 pi\\u00e8ce 43 m\\u00b2\\nCroix 59170 (Fer \\u00e0 Cheval)\",\"Appartement 2 pi\\u00e8ces 53 m\\u00b2\\nCroix 59170 (Saint-Pierre)\",\"Appartement 3 pi\\u00e8ces 95 m\\u00b2\\nCroix 59170 (Saint-Pierre)\",\"Appartement 1 pi\\u00e8ce 42 m\\u00b2\\nCroix 59170 (Centre-ville)\"],\"city\":[\"Croix\",\"Wasquehal\",\"Croix\",\"Croix\",\"Croix\",\"Croix\",\"Wasquehal\",\"Wasquehal\",\"Wasquehal\",\"Wasquehal\",\"Wasquehal\",\"Croix\",\"Wasquehal\",\"Croix\",\"Croix\",\"Wasquehal\",\"Wasquehal\",\"Wasquehal\",\"Croix\",\"Wasquehal\",\"Wasquehal\",\"Wasquehal\",\"Wasquehal\",\"Wasquehal\",\"Wasquehal\",\"Croix\",\"Croix\",\"Croix\",\"Wasquehal\",\"Croix\",\"Croix\",\"Croix\",\"Croix\",\"Wasquehal\",\"Croix\",\"Wasquehal\",\"Croix\",\"Croix\",\"Wasquehal\",\"Wasquehal\",\"Wasquehal\",\"Wasquehal\",\"Wasquehal\",\"Croix\",\"Croix\",\"Croix\",\"Wasquehal\",\"Wasquehal\",\"Croix\",\"Croix\",\"Croix\",\"Croix\",\"Croix\",\"Croix\",\"Croix\",\"Croix\",\"Wasquehal\",\"Croix\",\"Croix\",\"Croix\",\"Croix\"],\"image_link\":[\"https://file.bienici.com/photo/hektor-agveroniquefont-3183_agveroniquefont.staticlbi.com_original_images_biens_1_7f01c939761597f9b832694d4c381512_ef0105031d39a10a637e500bea7beefc.jpg?width=300&height=180&fit=cover\",\"https://file.bienici.com/photo/hektor-agveroniquefont-1596_agveroniquefont.staticlbi.com_original_images_biens_1_a368b0de8b91cfb3f91892fbf1ebd4b2_56b8b12117f04622247fdb4c55fb6b07.jpg?width=300&height=180&fit=cover\",\"https://file.bienici.com/photo/hektor-agveroniquefont-1018_agveroniquefont.staticlbi.com_original_images_biens_1_24146db4eb48c718b84cae0a0799dcfc_cb86702143a2e657da06b09191c6f497.jpg?width=300&height=180&fit=cover\",\"https://file.bienici.com/photo/hektor-agveroniquefont-2769_agveroniquefont.staticlbi.com_original_images_biens_1_d47844673f2db74d78da8687d794523d_5c5bac4caef5eecb67347c2deb20ad64.jpg?width=300&height=180&fit=cover\",\"https://file.bienici.com/photo/orpi-1-120001E1EHML_media6.ac3-distribution.com_office6_orpi_73336_catalog_images_pr_p_6_0_9_2_0_6_5_6092065a.jpg_DATEMAJ_201911151644?width=300&height=180&fit=cover\",\"https://file.bienici.com/photo/fnaim-44414715_images-raw.fnaim.fr_images1_img96_2969600VN1684T01.jpg?width=300&height=180&fit=cover\",\"https://file.bienici.com/photo/ag593804-216440889_photos.ubiflow.net_593804_216440889_photos_1.jpg_20191014194207?width=300&height=180&fit=cover\",\"https://file.bienici.com/photo/ag593804-219876426_photos.ubiflow.net_593804_219876426_photos_1.jpg_20191014194417?width=300&height=180&fit=cover\",\"https://file.bienici.com/photo/hektor-agveroniquefont-3807_agveroniquefont.staticlbi.com_original_images_biens_1_572de2f72d5731ff8a6744d12368d260_photo_8c9ca674d1f61fa5839b798bf9d85db6.jpg?width=300&height=180&fit=cover\",\"https://file.bienici.com/photo/century-21-202_3283_894_core.naxos-fr.net_imagesBien_202_3283_c21_202_3283_894_1_5579DDD1-1F2D-44B1-A69C-0D187D14464F.jpg?width=300&height=180&fit=cover\",\"https://file.bienici.com/photo/ag340378-229347814_photos.ubiflow.net_340378_229347814_photos_1.jpg_20191210031913?width=300&height=180&fit=cover\",\"https://file.bienici.com/photo/ag593804-221245957_photos.ubiflow.net_593804_221245957_photos_1.jpg_20191016141151?width=300&height=180&fit=cover\",\"https://file.bienici.com/photo/ag593804-227027287_photos.ubiflow.net_593804_227027287_photos_1.jpg_20191123172421?width=300&height=180&fit=cover\",\"https://file.bienici.com/photo/century-21-202_3283_971_core.naxos-fr.net_imagesBien_202_3283_c21_202_3283_971_1_C4D0F34C-C2FB-43A8-8375-8EA60B714C48.jpg?width=300&height=180&fit=cover\",\"https://file.bienici.com/photo/ag593804-220546338_photos.ubiflow.net_593804_220546338_photos_1.jpg_20191014194259?width=300&height=180&fit=cover\",\"https://file.bienici.com/photo/ag592469-221710204_photos.ubiflow.net_592469_221710204_photos_1.jpg_20191019041339?width=300&height=180&fit=cover\",\"https://file.bienici.com/photo/ag591569-217021893_photos.ubiflow.net_591569_217021893_photos_1.jpg_20190918124446?width=300&height=180&fit=cover\",\"https://file.bienici.com/photo/century-21-202_3283_944_core.naxos-fr.net_imagesBien_202_3283_c21_202_3283_944_1_CEF25ABC-A27E-4488-A453-35D74124780A.jpg?width=300&height=180&fit=cover\",\"https://file.bienici.com/photo/orpi-1-120037E19FML_media6.ac3-distribution.com_office6_orpi_73142_catalog_images_pr_p_5_6_5_5_8_3_3_5655833a.jpg_DATEMAJ_201902121541?width=300&height=180&fit=cover\",\"https://file.bienici.com/photo/century-21-202_3283_891_core.naxos-fr.net_imagesBien_202_3283_c21_202_3283_891_1_8B28FC8D-0C79-4592-9D73-503EAB5D9284.jpg?width=300&height=180&fit=cover\",\"https://file.bienici.com/photo/century-21-202_3283_892_core.naxos-fr.net_imagesBien_202_3283_c21_202_3283_892_1_73486669-E31A-4DFF-95A7-3C9739DFE1A6.jpg?width=300&height=180&fit=cover\",\"https://file.bienici.com/photo/ag593804-221609191_photos.ubiflow.net_593804_221609191_photos_1.jpg_20191018132830?width=300&height=180&fit=cover\",\"https://file.bienici.com/photo/orpi-1-120003E1GTND_media6.ac3-distribution.com_office6_orpi_73453_catalog_images_pr_p_6_2_2_6_0_5_7_6226057a.jpg_DATEMAJ_201911041600?width=300&height=180&fit=cover\",\"https://file.bienici.com/photo/ag591008-228608418_photos.ubiflow.net_591008_228608418_photos_1.jpg_20191204164026?width=300&height=180&fit=cover\",\"https://file.bienici.com/photo/ag591008-230764911_photos.ubiflow.net_591008_230764911_photos_1.jpg_20191219185249?width=300&height=180&fit=cover\",\"https://file.bienici.com/photo/ag440414-208485234_photos.ubiflow.net_440414_208485234_photos_1.jpg_20190718153413?width=300&height=180&fit=cover\",\"https://file.bienici.com/photo/ag593804-217576866_photos.ubiflow.net_593804_217576866_photos_1.jpg_20191014194201?width=300&height=180&fit=cover\",\"https://file.bienici.com/photo/orpi-1-120908E1FW7T_media6.ac3-distribution.com_office6_orpi_73336_catalog_images_pr_p_6_1_7_4_7_7_2_6174772a.jpg_DATEMAJ_201909241119?width=300&height=180&fit=cover\",\"https://file.bienici.com/photo/pericles-22959888_a?width=300&height=180&fit=cover\",\"https://file.bienici.com/photo/apimo-3428226_d1qfj231ug7wdu.cloudfront.net_pictures_estate_3429_3428226_2196580795dd80ae9006025.69620465_1920.jpg?width=300&height=180&fit=cover\",\"https://file.bienici.com/photo/ag440414-226888141_photos.ubiflow.net_440414_226888141_photos_1.jpg_20191122193043?width=300&height=180&fit=cover\",\"https://file.bienici.com/photo/pericles-26650268_a?width=300&height=180&fit=cover\",\"https://file.bienici.com/photo/pericles-27541440_a?width=300&height=180&fit=cover\",\"https://file.bienici.com/photo/orpi-1-120037E1CQC3_media6.ac3-distribution.com_office6_orpi_73142_catalog_images_pr_p_5_8_6_9_6_7_2_5869672a.jpg_DATEMAJ_201909101731?width=300&height=180&fit=cover\",\"https://file.bienici.com/photo/ag593804-218962977_photos.ubiflow.net_593804_218962977_photos_1.jpg_20191014194217?width=300&height=180&fit=cover\",\"https://file.bienici.com/photo/ag591569-197980825_photos.ubiflow.net_591569_197980825_photos_1.jpg_20190521112412?width=300&height=180&fit=cover\",\"https://file.bienici.com/photo/ag593804-223131715_photos.ubiflow.net_593804_223131715_photos_1.jpg_20191029174024?width=300&height=180&fit=cover\",\"https://file.bienici.com/photo/century-21-202_3283_972_core.naxos-fr.net_imagesBien_202_3283_c21_202_3283_972_1_2A939C23-D4EF-4FDD-984E-EB40A9F494B6.jpg?width=300&height=180&fit=cover\",\"https://file.bienici.com/photo/orpi-1-120037E1HI1E_media6.ac3-distribution.com_office6_orpi_73142_catalog_images_pr_p_6_2_7_1_1_0_1_6271101a.jpg_DATEMAJ_201911131029?width=300&height=180&fit=cover\",\"https://file.bienici.com/photo/ag593804-216810150_photos.ubiflow.net_593804_216810150_photos_1.jpg_20191014194245?width=300&height=180&fit=cover\",\"https://file.bienici.com/photo/orpi-1-120037E1HFQI_media6.ac3-distribution.com_office6_orpi_73142_catalog_images_pr_p_6_2_6_7_4_8_1_6267481a.jpg_DATEMAJ_201911121402?width=300&height=180&fit=cover\",\"https://file.bienici.com/photo/immo-facile-34136641_media.immo-facile.com_office2_exactimmo_catalog_images_pr_p_3_4_1_3_6_6_4_1_34136641a.jpg_DATEMAJ_22_10_2019-09_20_16?width=300&height=180&fit=cover\",\"https://file.bienici.com/photo/ag593804-222595345_photos.ubiflow.net_593804_222595345_photos_1.jpg_20191025132130?width=300&height=180&fit=cover\",\"https://file.bienici.com/photo/ag440414-227220979_photos.ubiflow.net_440414_227220979_photos_1.jpg_20191125152213?width=300&height=180&fit=cover\",\"https://file.bienici.com/photo/orpi-1-120901E1ER80_media6.ac3-distribution.com_office6_orpi_73336_catalog_images_pr_p_6_1_0_7_7_5_0_6107750a.jpg_DATEMAJ_201909271444?width=300&height=180&fit=cover\",\"https://file.bienici.com/photo/ag593804-220546365_photos.ubiflow.net_593804_220546365_photos_1.jpg_20191016213637?width=300&height=180&fit=cover\",\"https://file.bienici.com/photo/ag591008-210492347_photos.ubiflow.net_591008_210492347_photos_1.jpg_20190801120625?width=300&height=180&fit=cover\",\"https://file.bienici.com/photo/pericles-25803012_a?width=300&height=180&fit=cover\",\"https://file.bienici.com/photo/ag593804-221609209_photos.ubiflow.net_593804_221609209_photos_1.jpg_20191018132833?width=300&height=180&fit=cover\",\"https://file.bienici.com/photo/ag593804-218748273_photos.ubiflow.net_593804_218748273_photos_1.jpg_20191118214004?width=300&height=180&fit=cover\",\"https://file.bienici.com/photo/ag440414-221659210_photos.ubiflow.net_440414_221659210_photos_1.jpg_20191018190414?width=300&height=180&fit=cover\",\"https://file.bienici.com/photo/pericles-27660414_a?width=300&height=180&fit=cover\",\"https://file.bienici.com/photo/pericles-27875328_a?width=300&height=180&fit=cover\",\"https://file.bienici.com/photo/immo-facile-32614038_media.immo-facile.com_office16_immodefrance_npdc_catalog_images_pr_p_3_2_6_1_4_0_3_8_32614038a.jpg_DATEMAJ_25_06_2019-17_26_45?width=300&height=180&fit=cover\",\"https://file.bienici.com/photo/ag440414-225507691_photos.ubiflow.net_440414_225507691_photos_1.jpg_20191114185847?width=300&height=180&fit=cover\",\"https://file.bienici.com/photo/ag440414-212765508_photos.ubiflow.net_440414_212765508_photos_1.jpg_20191126145042?width=300&height=180&fit=cover\",\"https://file.bienici.com/photo/citya-immobilier-1289-TAPP422525_cityabox-web.ics.infoclip.fr_icsbox_cit_CITYA_FLANDRES_jdd_transaction_photo_filigrane-2--3989774459365924394.jpg?width=300&height=180&fit=cover\",\"https://file.bienici.com/photo/pericles-25038823_a?width=300&height=180&fit=cover\",\"https://file.bienici.com/photo/ag592837-227283511_photos.ubiflow.net_592837_227283511_photos_1.jpg_20191129023826?width=300&height=180&fit=cover\",\"https://file.bienici.com/photo/ag752451-209382087_photos.ubiflow.net_752451_209382087_photos_1.jpg_20191213204035?width=300&height=180&fit=cover\",\"https://file.bienici.com/photo/ag594019-228452107_photos.ubiflow.net_594019_228452107_photos_1.jpg_20191207094215?width=300&height=180&fit=cover\"],\"index\":[0,1,2,3,4,5,6,7,8,9,10,11,12,13,14,15,16,17,18,19,20,21,22,23,24,25,26,27,28,29,30,31,32,33,34,35,36,37,38,39,40,41,42,43,44,45,46,47,48,49,50,51,52,53,54,55,56,57,58,59,60],\"nbr_rooms\":[6,10,7,8,10,10,5,5,5,4,4,6,5,4,5,5,3,3,4,3,3,3,5,4,4,3,3,3,3,4,3,3,3,4,2,4,2,2,4,3,2,2,2,6,5,6,4,2,5,2,4,4,2,2,2,3,2,1,2,3,1],\"pincode\":[59170,59290,59170,59170,59170,59170,59290,59290,59290,59290,59290,59170,59290,59170,59170,59290,59290,59290,59170,59290,59290,59290,59290,59290,59290,59170,59170,59170,59290,59170,59170,59170,59170,59290,59170,59290,59170,59170,59290,59290,59290,59290,59290,59170,59170,59170,59290,59290,59170,59170,59170,59170,59170,59170,59170,59170,59290,59170,59170,59170,59170],\"price\":[1355000,1290000,1050000,1040000,694790,660000,649000,590000,510000,479000,479000,475000,385000,360000,330000,298000,288000,276900,266500,262900,258900,250000,242500,240000,240000,231000,215000,207750,200000,196000,185755,183600,180000,179760,179000,175000,170000,170000,169000,168000,154145,153900,148500,148500,147900,146500,145600,140000,138500,137000,135990,135000,125000,118000,115990,115000,114500,104000,99000,96505,80000],\"serial\":[53,35,63,69,3,21,50,48,43,25,27,59,55,8,47,28,49,22,16,31,30,58,2,64,44,40,62,45,17,56,19,11,24,34,60,52,65,7,38,68,39,46,57,6,32,67,54,41,66,61,29,23,10,15,9,14,4,42,5,1,18],\"street\":[\"Fer \\u00e0 Cheval\",\"Grand Cottignies\",\"Centre-ville\",\"NaN\",\"Centre-ville\",\"Saint-Pierre\",\"NaN\",\"NaN\",\"Centre-ville - Pharos - Site Saint-Nicolas\",\"Centre-ville - Pharos - Site Saint-Nicolas\",\"Boers - Haut Vinage - Or\\u00e9e du Golf - Petit Wasquehal\",\"NaN\",\"NaN\",\"Saint-Pierre\",\"NaN\",\"Boers - Haut Vinage - Or\\u00e9e du Golf - Petit Wasquehal\",\"Capreau\",\"Centre-ville - Pharos - Site Saint-Nicolas\",\"Fer \\u00e0 Cheval\",\"Grand Cottignies\",\"Grand Cottignies\",\"NaN\",\"Centre-ville - Pharos - Site Saint-Nicolas\",\"NaN\",\"Boers - Haut Vinage - Or\\u00e9e du Golf - Petit Wasquehal\",\"Saint-Pierre\",\"NaN\",\"Saint-Pierre\",\"Grand Cottignies\",\"NaN\",\"Saint-Pierre\",\"Saint-Pierre\",\"Fer \\u00e0 Cheval\",\"Capreau\",\"NaN\",\"Capreau\",\"NaN\",\"Saint-Pierre\",\"Capreau\",\"NaN\",\"Grand Cottignies\",\"Grand Cottignies\",\"NaN\",\"Saint-Pierre\",\"Saint-Pierre\",\"NaN\",\"Centre-ville - Pharos - Site Saint-Nicolas\",\"Grand Cottignies\",\"NaN\",\"NaN\",\"Saint-Pierre\",\"Saint-Pierre\",\"Fer \\u00e0 Cheval\",\"Saint-Pierre\",\"Saint-Pierre\",\"Fer \\u00e0 Cheval\",\"Noir Bonnet - Rue Pasteur\",\"Fer \\u00e0 Cheval\",\"Saint-Pierre\",\"Saint-Pierre\",\"Centre-ville\"]},\"selected\":{\"id\":\"141238\",\"type\":\"Selection\"},\"selection_policy\":{\"id\":\"141239\",\"type\":\"UnionRenderers\"}},\"id\":\"139083\",\"type\":\"ColumnDataSource\"},{\"attributes\":{\"fill_alpha\":{\"value\":0.1},\"fill_color\":{\"value\":\"#1f77b4\"},\"line_alpha\":{\"value\":0.1},\"line_color\":{\"value\":\"#1f77b4\"},\"size\":{\"units\":\"screen\",\"value\":7},\"x\":{\"field\":\"area\"},\"y\":{\"field\":\"price\"}},\"id\":\"139122\",\"type\":\"Circle\"},{\"attributes\":{\"axis_label\":\"Avg price\",\"formatter\":{\"id\":\"136973\",\"type\":\"BasicTickFormatter\"},\"ticker\":{\"id\":\"136929\",\"type\":\"BasicTicker\"}},\"id\":\"136928\",\"type\":\"LinearAxis\"},{\"attributes\":{},\"id\":\"139141\",\"type\":\"LinearScale\"},{\"attributes\":{\"data_source\":{\"id\":\"134734\",\"type\":\"ColumnDataSource\"},\"glyph\":{\"id\":\"134781\",\"type\":\"VBar\"},\"hover_glyph\":null,\"muted_glyph\":{\"id\":\"134783\",\"type\":\"VBar\"},\"nonselection_glyph\":{\"id\":\"134782\",\"type\":\"VBar\"},\"selection_glyph\":null,\"view\":{\"id\":\"134785\",\"type\":\"CDSView\"}},\"id\":\"134784\",\"type\":\"GlyphRenderer\"},{\"attributes\":{\"axis_label\":\"Number of rooms\",\"formatter\":{\"id\":\"141230\",\"type\":\"BasicTickFormatter\"},\"ticker\":{\"id\":\"139144\",\"type\":\"BasicTicker\"}},\"id\":\"139143\",\"type\":\"LinearAxis\"},{\"attributes\":{\"children\":[{\"id\":\"141644\",\"type\":\"Row\"},{\"id\":\"141645\",\"type\":\"Row\"}]},\"id\":\"141646\",\"type\":\"Column\"},{\"attributes\":{\"source\":{\"id\":\"134734\",\"type\":\"ColumnDataSource\"}},\"id\":\"134785\",\"type\":\"CDSView\"},{\"attributes\":{},\"id\":\"139144\",\"type\":\"BasicTicker\"},{\"attributes\":{},\"id\":\"141235\",\"type\":\"BasicTickFormatter\"},{\"attributes\":{},\"id\":\"136936\",\"type\":\"ZoomOutTool\"},{\"attributes\":{},\"id\":\"132601\",\"type\":\"BasicTickFormatter\"},{\"attributes\":{},\"id\":\"136933\",\"type\":\"PanTool\"},{\"attributes\":{\"ticker\":{\"id\":\"139144\",\"type\":\"BasicTicker\"}},\"id\":\"139147\",\"type\":\"Grid\"},{\"attributes\":{\"callback\":null,\"overlay\":{\"id\":\"132605\",\"type\":\"BoxAnnotation\"}},\"id\":\"132585\",\"type\":\"BoxSelectTool\"},{\"attributes\":{\"ticker\":{\"id\":\"134747\",\"type\":\"CategoricalTicker\"}},\"id\":\"134749\",\"type\":\"Grid\"},{\"attributes\":{\"callback\":null,\"data\":{\"Appartement\":{\"__ndarray__\":\"5TWU11BeUEC3bdu2bVtTQA==\",\"dtype\":\"float64\",\"shape\":[2]},\"Maison\":{\"__ndarray__\":\"RERERETEZEBddNFFF11fQA==\",\"dtype\":\"float64\",\"shape\":[2]},\"city\":[\"Croix\",\"Wasquehal\"],\"index\":[0,1]},\"selected\":{\"id\":\"134792\",\"type\":\"Selection\"},\"selection_policy\":{\"id\":\"134793\",\"type\":\"UnionRenderers\"}},\"id\":\"134734\",\"type\":\"ColumnDataSource\"},{\"attributes\":{\"axis_label\":\"Price\",\"formatter\":{\"id\":\"139171\",\"type\":\"BasicTickFormatter\"},\"ticker\":{\"id\":\"139149\",\"type\":\"BasicTicker\"},\"visible\":null},\"id\":\"139148\",\"type\":\"LinearAxis\"},{\"attributes\":{\"source\":{\"id\":\"141588\",\"type\":\"ColumnDataSource\"}},\"id\":\"141629\",\"type\":\"CDSView\"},{\"attributes\":{},\"id\":\"139149\",\"type\":\"BasicTicker\"},{\"attributes\":{},\"id\":\"134744\",\"type\":\"LinearScale\"},{\"attributes\":{\"children\":[{\"id\":\"141589\",\"subtype\":\"Figure\",\"type\":\"Plot\"}]},\"id\":\"141645\",\"type\":\"Row\"},{\"attributes\":{\"dimension\":1,\"ticker\":{\"id\":\"139149\",\"type\":\"BasicTicker\"}},\"id\":\"139152\",\"type\":\"Grid\"},{\"attributes\":{},\"id\":\"143667\",\"type\":\"UnionRenderers\"},{\"attributes\":{\"active_drag\":\"auto\",\"active_inspect\":\"auto\",\"active_multi\":null,\"active_scroll\":\"auto\",\"active_tap\":\"auto\",\"tools\":[{\"id\":\"136933\",\"type\":\"PanTool\"},{\"id\":\"136934\",\"type\":\"BoxSelectTool\"},{\"id\":\"136935\",\"type\":\"ZoomInTool\"},{\"id\":\"136936\",\"type\":\"ZoomOutTool\"}]},\"id\":\"136937\",\"type\":\"Toolbar\"},{\"attributes\":{\"range\":{\"id\":\"132567\",\"type\":\"FactorRange\"},\"value\":0.15},\"id\":\"132593\",\"type\":\"Dodge\"},{\"attributes\":{},\"id\":\"132603\",\"type\":\"CategoricalTickFormatter\"},{\"attributes\":{\"fill_color\":{\"field\":\"price\",\"transform\":{\"id\":\"139084\",\"type\":\"LinearColorMapper\"}},\"line_color\":{\"value\":null},\"size\":{\"units\":\"screen\",\"value\":7},\"x\":{\"field\":\"nbr_rooms\"},\"y\":{\"field\":\"price\"}},\"id\":\"139167\",\"type\":\"Circle\"},{\"attributes\":{},\"id\":\"134755\",\"type\":\"PanTool\"},{\"attributes\":{\"click_policy\":\"mute\",\"items\":[{\"id\":\"141637\",\"type\":\"LegendItem\"}],\"location\":\"top_left\"},\"id\":\"141636\",\"type\":\"Legend\"},{\"attributes\":{\"use_scientific\":false},\"id\":\"139218\",\"type\":\"BasicTickFormatter\"},{\"attributes\":{\"text\":\"Average Area(m\\u00b2) per City\"},\"id\":\"134736\",\"type\":\"Title\"},{\"attributes\":{\"use_scientific\":false},\"id\":\"139171\",\"type\":\"BasicTickFormatter\"},{\"attributes\":{\"data_source\":{\"id\":\"139083\",\"type\":\"ColumnDataSource\"},\"glyph\":{\"id\":\"139167\",\"type\":\"Circle\"},\"hover_glyph\":null,\"muted_glyph\":null,\"nonselection_glyph\":{\"id\":\"139168\",\"type\":\"Circle\"},\"selection_glyph\":null,\"view\":{\"id\":\"139170\",\"type\":\"CDSView\"}},\"id\":\"139169\",\"type\":\"GlyphRenderer\"},{\"attributes\":{\"data_source\":{\"id\":\"136912\",\"type\":\"ColumnDataSource\"},\"glyph\":{\"id\":\"136959\",\"type\":\"VBar\"},\"hover_glyph\":null,\"muted_glyph\":{\"id\":\"136961\",\"type\":\"VBar\"},\"nonselection_glyph\":{\"id\":\"136960\",\"type\":\"VBar\"},\"selection_glyph\":null,\"view\":{\"id\":\"136963\",\"type\":\"CDSView\"}},\"id\":\"136962\",\"type\":\"GlyphRenderer\"},{\"attributes\":{},\"id\":\"136929\",\"type\":\"BasicTicker\"},{\"attributes\":{\"range\":{\"id\":\"136916\",\"type\":\"FactorRange\"},\"value\":-0.15},\"id\":\"136957\",\"type\":\"Dodge\"},{\"attributes\":{\"high\":1355000,\"low\":80000,\"palette\":[\"#440154\",\"#443982\",\"#30678D\",\"#208F8C\",\"#35B778\",\"#8DD644\",\"#FDE724\"]},\"id\":\"139084\",\"type\":\"LinearColorMapper\"},{\"attributes\":{},\"id\":\"139153\",\"type\":\"PanTool\"},{\"attributes\":{\"callback\":null,\"factors\":[\"Croix\",\"Wasquehal\"]},\"id\":\"136916\",\"type\":\"FactorRange\"},{\"attributes\":{},\"id\":\"134757\",\"type\":\"ZoomInTool\"},{\"attributes\":{},\"id\":\"136971\",\"type\":\"UnionRenderers\"},{\"attributes\":{},\"id\":\"139154\",\"type\":\"WheelZoomTool\"},{\"attributes\":{\"fill_alpha\":{\"value\":0.2},\"fill_color\":{\"value\":\"orange\"},\"line_alpha\":{\"value\":0.2},\"line_color\":{\"value\":\"orange\"},\"top\":{\"field\":\"Maison\"},\"width\":{\"value\":0.3},\"x\":{\"field\":\"city\",\"transform\":{\"id\":\"134779\",\"type\":\"Dodge\"}}},\"id\":\"134783\",\"type\":\"VBar\"},{\"attributes\":{\"range\":{\"id\":\"136916\",\"type\":\"FactorRange\"},\"value\":0.15},\"id\":\"136942\",\"type\":\"Dodge\"},{\"attributes\":{\"use_scientific\":false},\"id\":\"136973\",\"type\":\"BasicTickFormatter\"},{\"attributes\":{\"overlay\":{\"id\":\"141240\",\"type\":\"BoxAnnotation\"}},\"id\":\"139155\",\"type\":\"BoxZoomTool\"},{\"attributes\":{\"fill_alpha\":{\"value\":0.2},\"fill_color\":{\"value\":\"orangered\"},\"line_alpha\":{\"value\":0.2},\"line_color\":{\"value\":\"orangered\"},\"top\":{\"field\":\"Appartement\"},\"width\":{\"value\":0.3},\"x\":{\"field\":\"city\",\"transform\":{\"id\":\"132593\",\"type\":\"Dodge\"}}},\"id\":\"132597\",\"type\":\"VBar\"},{\"attributes\":{\"fill_color\":{\"value\":\"orange\"},\"line_color\":{\"value\":\"orange\"},\"top\":{\"field\":\"Maison\"},\"width\":{\"value\":0.3},\"x\":{\"field\":\"city\",\"transform\":{\"id\":\"136957\",\"type\":\"Dodge\"}}},\"id\":\"136959\",\"type\":\"VBar\"},{\"attributes\":{},\"id\":\"139156\",\"type\":\"SaveTool\"},{\"attributes\":{},\"id\":\"139157\",\"type\":\"ResetTool\"},{\"attributes\":{},\"id\":\"132580\",\"type\":\"BasicTicker\"},{\"attributes\":{},\"id\":\"141614\",\"type\":\"ResetTool\"},{\"attributes\":{},\"id\":\"139158\",\"type\":\"HelpTool\"},{\"attributes\":{},\"id\":\"132587\",\"type\":\"ZoomOutTool\"},{\"attributes\":{\"active_drag\":\"auto\",\"active_inspect\":\"auto\",\"active_multi\":null,\"active_scroll\":\"auto\",\"active_tap\":\"auto\",\"tools\":[{\"id\":\"139153\",\"type\":\"PanTool\"},{\"id\":\"139154\",\"type\":\"WheelZoomTool\"},{\"id\":\"139155\",\"type\":\"BoxZoomTool\"},{\"id\":\"139156\",\"type\":\"SaveTool\"},{\"id\":\"139157\",\"type\":\"ResetTool\"},{\"id\":\"139158\",\"type\":\"HelpTool\"},{\"id\":\"139176\",\"type\":\"HoverTool\"}]},\"id\":\"139159\",\"type\":\"Toolbar\"},{\"attributes\":{\"fill_color\":{\"value\":\"orangered\"},\"line_color\":{\"value\":\"orangered\"},\"top\":{\"field\":\"Appartement\"},\"width\":{\"value\":0.3},\"x\":{\"field\":\"city\",\"transform\":{\"id\":\"132593\",\"type\":\"Dodge\"}}},\"id\":\"132595\",\"type\":\"VBar\"},{\"attributes\":{\"callback\":null,\"data\":{\"Appartement\":{\"__ndarray__\":\"AAAAABgvBEEAAAAACHkQQQ==\",\"dtype\":\"float64\",\"shape\":[2]},\"Maison\":{\"__ndarray__\":\"AAAAACDgG0EAAAAASJQWQQ==\",\"dtype\":\"float64\",\"shape\":[2]},\"city\":[\"Croix\",\"Wasquehal\"],\"index\":[0,1]},\"selected\":{\"id\":\"136970\",\"type\":\"Selection\"},\"selection_policy\":{\"id\":\"136971\",\"type\":\"UnionRenderers\"}},\"id\":\"136912\",\"type\":\"ColumnDataSource\"},{\"attributes\":{},\"id\":\"134742\",\"type\":\"CategoricalScale\"},{\"attributes\":{\"source\":{\"id\":\"139083\",\"type\":\"ColumnDataSource\"}},\"id\":\"139170\",\"type\":\"CDSView\"},{\"attributes\":{\"dimension\":1,\"ticker\":{\"id\":\"134751\",\"type\":\"BasicTicker\"}},\"id\":\"134754\",\"type\":\"Grid\"},{\"attributes\":{\"active_drag\":\"auto\",\"active_inspect\":\"auto\",\"active_multi\":null,\"active_scroll\":\"auto\",\"active_tap\":\"auto\",\"tools\":[{\"id\":\"141610\",\"type\":\"PanTool\"},{\"id\":\"141611\",\"type\":\"WheelZoomTool\"},{\"id\":\"141612\",\"type\":\"BoxZoomTool\"},{\"id\":\"141613\",\"type\":\"SaveTool\"},{\"id\":\"141614\",\"type\":\"ResetTool\"},{\"id\":\"141615\",\"type\":\"HelpTool\"},{\"id\":\"141641\",\"type\":\"HoverTool\"}]},\"id\":\"141616\",\"type\":\"Toolbar\"},{\"attributes\":{\"use_scientific\":false},\"id\":\"139174\",\"type\":\"BasicTickFormatter\"},{\"attributes\":{},\"id\":\"134792\",\"type\":\"Selection\"},{\"attributes\":{\"data_source\":{\"id\":\"141588\",\"type\":\"ColumnDataSource\"},\"glyph\":{\"id\":\"141626\",\"type\":\"Scatter\"},\"hover_glyph\":null,\"muted_glyph\":null,\"nonselection_glyph\":{\"id\":\"141627\",\"type\":\"Scatter\"},\"selection_glyph\":null,\"view\":{\"id\":\"141629\",\"type\":\"CDSView\"}},\"id\":\"141628\",\"type\":\"GlyphRenderer\"},{\"attributes\":{\"callback\":null},\"id\":\"134740\",\"type\":\"DataRange1d\"},{\"attributes\":{\"callback\":null,\"overlay\":{\"id\":\"136954\",\"type\":\"BoxAnnotation\"}},\"id\":\"136934\",\"type\":\"BoxSelectTool\"},{\"attributes\":{\"color_mapper\":{\"id\":\"139084\",\"type\":\"LinearColorMapper\"},\"formatter\":{\"id\":\"139174\",\"type\":\"BasicTickFormatter\"},\"label_standoff\":12,\"location\":[0,0],\"ticker\":{\"id\":\"141228\",\"type\":\"BasicTicker\"},\"title\":\"Price\"},\"id\":\"139173\",\"type\":\"ColorBar\"},{\"attributes\":{\"label\":{\"field\":\"Type\"},\"renderers\":[{\"id\":\"141628\",\"type\":\"GlyphRenderer\"}]},\"id\":\"141637\",\"type\":\"LegendItem\"},{\"attributes\":{},\"id\":\"141615\",\"type\":\"HelpTool\"},{\"attributes\":{\"active_drag\":\"auto\",\"active_inspect\":\"auto\",\"active_multi\":null,\"active_scroll\":\"auto\",\"active_tap\":\"auto\",\"tools\":[{\"id\":\"134755\",\"type\":\"PanTool\"},{\"id\":\"134756\",\"type\":\"BoxSelectTool\"},{\"id\":\"134757\",\"type\":\"ZoomInTool\"},{\"id\":\"134758\",\"type\":\"ZoomOutTool\"}]},\"id\":\"134759\",\"type\":\"Toolbar\"},{\"attributes\":{\"axis_label\":\"City\",\"formatter\":{\"id\":\"134774\",\"type\":\"CategoricalTickFormatter\"},\"ticker\":{\"id\":\"134747\",\"type\":\"CategoricalTicker\"}},\"id\":\"134746\",\"type\":\"CategoricalAxis\"},{\"attributes\":{\"fill_color\":{\"field\":\"Type\",\"transform\":{\"id\":\"141623\",\"type\":\"CategoricalColorMapper\"}},\"line_color\":{\"field\":\"Type\",\"transform\":{\"id\":\"141623\",\"type\":\"CategoricalColorMapper\"}},\"line_width\":{\"value\":2},\"marker\":{\"field\":\"Type\",\"transform\":{\"id\":\"141624\",\"type\":\"CategoricalMarkerMapper\"}},\"size\":{\"units\":\"screen\",\"value\":20},\"x\":{\"field\":\"area\"},\"y\":{\"field\":\"price\"}},\"id\":\"141626\",\"type\":\"Scatter\"},{\"attributes\":{\"below\":[{\"id\":\"136924\",\"type\":\"CategoricalAxis\"}],\"center\":[{\"id\":\"136927\",\"type\":\"Grid\"},{\"id\":\"136932\",\"type\":\"Grid\"},{\"id\":\"136955\",\"type\":\"Legend\"}],\"left\":[{\"id\":\"136928\",\"type\":\"LinearAxis\"}],\"plot_height\":400,\"renderers\":[{\"id\":\"136947\",\"type\":\"GlyphRenderer\"},{\"id\":\"136962\",\"type\":\"GlyphRenderer\"}],\"title\":{\"id\":\"136914\",\"type\":\"Title\"},\"toolbar\":{\"id\":\"136937\",\"type\":\"Toolbar\"},\"toolbar_location\":null,\"x_range\":{\"id\":\"136916\",\"type\":\"FactorRange\"},\"x_scale\":{\"id\":\"136920\",\"type\":\"CategoricalScale\"},\"y_range\":{\"id\":\"136918\",\"type\":\"DataRange1d\"},\"y_scale\":{\"id\":\"136922\",\"type\":\"LinearScale\"}},\"id\":\"136913\",\"subtype\":\"Figure\",\"type\":\"Plot\"},{\"attributes\":{\"fill_color\":{\"value\":\"orangered\"},\"line_color\":{\"value\":\"orangered\"},\"top\":{\"field\":\"Appartement\"},\"width\":{\"value\":0.3},\"x\":{\"field\":\"city\",\"transform\":{\"id\":\"136942\",\"type\":\"Dodge\"}}},\"id\":\"136944\",\"type\":\"VBar\"},{\"attributes\":{\"callback\":null,\"tooltips\":\"\\n<div>\\n    <h3>@city</h3>\\n    <div><strong>Number of rooms: @nbr_rooms</div></strong>\\n    <div><strong>Price(\\u20ac): @price</div></strong>\\n</div>\\n\"},\"id\":\"139176\",\"type\":\"HoverTool\"},{\"attributes\":{\"axis_label\":\"City\",\"formatter\":{\"id\":\"136952\",\"type\":\"CategoricalTickFormatter\"},\"ticker\":{\"id\":\"136925\",\"type\":\"CategoricalTicker\"}},\"id\":\"136924\",\"type\":\"CategoricalAxis\"},{\"attributes\":{\"fill_alpha\":{\"value\":0.1},\"fill_color\":{\"value\":\"#1f77b4\"},\"line_alpha\":{\"value\":0.1},\"line_color\":{\"value\":\"#1f77b4\"},\"top\":{\"field\":\"Maison\"},\"width\":{\"value\":0.3},\"x\":{\"field\":\"city\",\"transform\":{\"id\":\"136957\",\"type\":\"Dodge\"}}},\"id\":\"136960\",\"type\":\"VBar\"},{\"attributes\":{\"range\":{\"id\":\"134738\",\"type\":\"FactorRange\"},\"value\":0.15},\"id\":\"134764\",\"type\":\"Dodge\"},{\"attributes\":{\"source\":{\"id\":\"136912\",\"type\":\"ColumnDataSource\"}},\"id\":\"136963\",\"type\":\"CDSView\"},{\"attributes\":{},\"id\":\"141601\",\"type\":\"BasicTicker\"},{\"attributes\":{\"high\":10,\"low\":1,\"palette\":[\"#000003\",\"#550F6D\",\"#BA3655\",\"#F98C09\",\"#FCFEA4\"]},\"id\":\"139178\",\"type\":\"LinearColorMapper\"},{\"attributes\":{\"below\":[{\"id\":\"139190\",\"type\":\"LinearAxis\"}],\"center\":[{\"id\":\"139194\",\"type\":\"Grid\"},{\"id\":\"139199\",\"type\":\"Grid\"}],\"left\":[{\"id\":\"139195\",\"type\":\"LinearAxis\"}],\"plot_height\":300,\"plot_width\":400,\"renderers\":[{\"id\":\"139216\",\"type\":\"GlyphRenderer\"}],\"right\":[{\"id\":\"139220\",\"type\":\"ColorBar\"}],\"sizing_mode\":\"scale_both\",\"title\":{\"id\":\"139180\",\"type\":\"Title\"},\"toolbar\":{\"id\":\"139206\",\"type\":\"Toolbar\"},\"toolbar_location\":null,\"x_range\":{\"id\":\"139182\",\"type\":\"DataRange1d\"},\"x_scale\":{\"id\":\"139186\",\"type\":\"LinearScale\"},\"y_range\":{\"id\":\"139184\",\"type\":\"DataRange1d\"},\"y_scale\":{\"id\":\"139188\",\"type\":\"LinearScale\"}},\"id\":\"139179\",\"subtype\":\"Figure\",\"type\":\"Plot\"},{\"attributes\":{\"axis_label\":\"Area\",\"formatter\":{\"id\":\"141633\",\"type\":\"BasicTickFormatter\"},\"ticker\":{\"id\":\"141601\",\"type\":\"BasicTicker\"}},\"id\":\"141600\",\"type\":\"LinearAxis\"},{\"attributes\":{\"bottom_units\":\"screen\",\"fill_alpha\":{\"value\":0.5},\"fill_color\":{\"value\":\"lightgrey\"},\"left_units\":\"screen\",\"level\":\"overlay\",\"line_alpha\":{\"value\":1.0},\"line_color\":{\"value\":\"black\"},\"line_dash\":[4,4],\"line_width\":{\"value\":2},\"render_mode\":\"css\",\"right_units\":\"screen\",\"top_units\":\"screen\"},\"id\":\"141237\",\"type\":\"BoxAnnotation\"},{\"attributes\":{\"fill_color\":{\"field\":\"nbr_rooms\",\"transform\":{\"id\":\"139178\",\"type\":\"LinearColorMapper\"}},\"line_color\":{\"value\":null},\"size\":{\"units\":\"screen\",\"value\":7},\"x\":{\"field\":\"area\"},\"y\":{\"field\":\"nbr_rooms\"}},\"id\":\"139214\",\"type\":\"Circle\"},{\"attributes\":{},\"id\":\"141238\",\"type\":\"Selection\"},{\"attributes\":{\"fill_alpha\":{\"value\":0.1},\"fill_color\":{\"value\":\"#1f77b4\"},\"line_alpha\":{\"value\":0.1},\"line_color\":{\"value\":\"#1f77b4\"},\"top\":{\"field\":\"Maison\"},\"width\":{\"value\":0.3},\"x\":{\"field\":\"city\",\"transform\":{\"id\":\"134779\",\"type\":\"Dodge\"}}},\"id\":\"134782\",\"type\":\"VBar\"},{\"attributes\":{},\"id\":\"141598\",\"type\":\"LinearScale\"},{\"attributes\":{\"format\":\"\\u20ac0\"},\"id\":\"141640\",\"type\":\"NumeralTickFormatter\"},{\"attributes\":{\"callback\":null},\"id\":\"141592\",\"type\":\"DataRange1d\"},{\"attributes\":{},\"id\":\"141239\",\"type\":\"UnionRenderers\"},{\"attributes\":{},\"id\":\"132576\",\"type\":\"CategoricalTicker\"},{\"attributes\":{\"text\":\"Area vs Rooms\"},\"id\":\"139180\",\"type\":\"Title\"},{\"attributes\":{},\"id\":\"132573\",\"type\":\"LinearScale\"},{\"attributes\":{\"label\":{\"value\":\"maison\"},\"renderers\":[{\"id\":\"132613\",\"type\":\"GlyphRenderer\"}]},\"id\":\"132623\",\"type\":\"LegendItem\"},{\"attributes\":{\"bottom_units\":\"screen\",\"fill_alpha\":{\"value\":0.5},\"fill_color\":{\"value\":\"lightgrey\"},\"left_units\":\"screen\",\"level\":\"overlay\",\"line_alpha\":{\"value\":1.0},\"line_color\":{\"value\":\"black\"},\"line_dash\":[4,4],\"line_width\":{\"value\":2},\"render_mode\":\"css\",\"right_units\":\"screen\",\"top_units\":\"screen\"},\"id\":\"141240\",\"type\":\"BoxAnnotation\"},{\"attributes\":{},\"id\":\"132621\",\"type\":\"Selection\"},{\"attributes\":{},\"id\":\"141596\",\"type\":\"LinearScale\"},{\"attributes\":{\"callback\":null},\"id\":\"139182\",\"type\":\"DataRange1d\"},{\"attributes\":{},\"id\":\"139111\",\"type\":\"ResetTool\"},{\"attributes\":{\"ticker\":{\"id\":\"132576\",\"type\":\"CategoricalTicker\"}},\"id\":\"132578\",\"type\":\"Grid\"},{\"attributes\":{\"bottom_units\":\"screen\",\"fill_alpha\":{\"value\":0.5},\"fill_color\":{\"value\":\"lightgrey\"},\"left_units\":\"screen\",\"level\":\"overlay\",\"line_alpha\":{\"value\":1.0},\"line_color\":{\"value\":\"black\"},\"line_dash\":[4,4],\"line_width\":{\"value\":2},\"render_mode\":\"css\",\"right_units\":\"screen\",\"top_units\":\"screen\"},\"id\":\"141241\",\"type\":\"BoxAnnotation\"},{\"attributes\":{\"callback\":null},\"id\":\"141594\",\"type\":\"DataRange1d\"},{\"attributes\":{\"callback\":null},\"id\":\"139184\",\"type\":\"DataRange1d\"},{\"attributes\":{},\"id\":\"139186\",\"type\":\"LinearScale\"},{\"attributes\":{\"ticker\":{\"id\":\"141601\",\"type\":\"BasicTicker\"}},\"id\":\"141604\",\"type\":\"Grid\"},{\"attributes\":{},\"id\":\"134772\",\"type\":\"BasicTickFormatter\"},{\"attributes\":{\"fill_color\":{\"value\":\"orange\"},\"line_color\":{\"value\":\"orange\"},\"top\":{\"field\":\"Maison\"},\"width\":{\"value\":0.3},\"x\":{\"field\":\"city\",\"transform\":{\"id\":\"134779\",\"type\":\"Dodge\"}}},\"id\":\"134781\",\"type\":\"VBar\"},{\"attributes\":{\"sizing_mode\":\"stretch_width\",\"text\":\"<style>\\nh1 {\\n    margin: 1em 0 0 0;\\n    color: #2e484c;\\n    font-family: 'Julius Sans One', sans-serif;\\n    font-size: 1.8em;\\n    text-transform: uppercase;\\n}\\na:link {\\n    font-weight: bold;\\n    text-decoration: none;\\n    color: #0d8ba1;\\n}\\na:visited {\\n    font-weight: bold;\\n    text-decoration: none;\\n    color: #1a5952;\\n}\\na:hover, a:focus, a:active {\\n    text-decoration: underline;\\n    color: #9685BA;\\n}\\np {\\n    font: \\\"Libre Baskerville\\\", sans-serif;\\n    text-align: justify;\\n    text-justify: inter-word;\\n    width: 80%;\\n    max-width: 800;\\n}\\n</style>\\n\\n<h1>Interactive Chart</h1>\\n\\n<p>\\nHover over the symbols to get the details.\\n</p>\\n<p>\\nWait for the image to load.\\n</p>\\n<p>\\n<i>(Information from <a href=\\\"https://www.bienici.com/recherche/achat/croix-59170,wasquehal-59290\\\">Bienici</a>)</i>\\n<br />\"},\"id\":\"141587\",\"type\":\"Div\"},{\"attributes\":{\"dimension\":1,\"ticker\":{\"id\":\"141606\",\"type\":\"BasicTicker\"}},\"id\":\"141609\",\"type\":\"Grid\"},{\"attributes\":{},\"id\":\"139188\",\"type\":\"LinearScale\"},{\"attributes\":{\"axis_label\":\"Price\",\"formatter\":{\"id\":\"141640\",\"type\":\"NumeralTickFormatter\"},\"ticker\":{\"id\":\"141606\",\"type\":\"BasicTicker\"}},\"id\":\"141605\",\"type\":\"LinearAxis\"},{\"attributes\":{\"axis_label\":\"Area (m\\u00b2)\",\"formatter\":{\"id\":\"141235\",\"type\":\"BasicTickFormatter\"},\"ticker\":{\"id\":\"139191\",\"type\":\"BasicTicker\"}},\"id\":\"139190\",\"type\":\"LinearAxis\"},{\"attributes\":{\"label\":{\"value\":\"maison\"},\"renderers\":[{\"id\":\"136962\",\"type\":\"GlyphRenderer\"}]},\"id\":\"136972\",\"type\":\"LegendItem\"},{\"attributes\":{\"below\":[{\"id\":\"139097\",\"type\":\"LinearAxis\"}],\"center\":[{\"id\":\"139101\",\"type\":\"Grid\"},{\"id\":\"139106\",\"type\":\"Grid\"}],\"left\":[{\"id\":\"139102\",\"type\":\"LinearAxis\"}],\"plot_height\":300,\"plot_width\":400,\"renderers\":[{\"id\":\"139123\",\"type\":\"GlyphRenderer\"}],\"right\":[{\"id\":\"139127\",\"type\":\"ColorBar\"}],\"sizing_mode\":\"scale_both\",\"title\":{\"id\":\"139087\",\"type\":\"Title\"},\"toolbar\":{\"id\":\"139113\",\"type\":\"Toolbar\"},\"toolbar_location\":null,\"x_range\":{\"id\":\"139089\",\"type\":\"DataRange1d\"},\"x_scale\":{\"id\":\"139093\",\"type\":\"LinearScale\"},\"y_range\":{\"id\":\"139091\",\"type\":\"DataRange1d\"},\"y_scale\":{\"id\":\"139095\",\"type\":\"LinearScale\"}},\"id\":\"139086\",\"subtype\":\"Figure\",\"type\":\"Plot\"},{\"attributes\":{\"callback\":null},\"id\":\"132569\",\"type\":\"DataRange1d\"},{\"attributes\":{},\"id\":\"132622\",\"type\":\"UnionRenderers\"},{\"attributes\":{},\"id\":\"141606\",\"type\":\"BasicTicker\"},{\"attributes\":{},\"id\":\"139191\",\"type\":\"BasicTicker\"},{\"attributes\":{\"callback\":null,\"data\":{\"Appartement\":[19,15],\"Maison\":[15,12],\"city\":[\"Croix\",\"Wasquehal\"],\"index\":[0,1]},\"selected\":{\"id\":\"132621\",\"type\":\"Selection\"},\"selection_policy\":{\"id\":\"132622\",\"type\":\"UnionRenderers\"}},\"id\":\"132563\",\"type\":\"ColumnDataSource\"},{\"attributes\":{},\"id\":\"132571\",\"type\":\"CategoricalScale\"},{\"attributes\":{\"ticker\":{\"id\":\"139191\",\"type\":\"BasicTicker\"}},\"id\":\"139194\",\"type\":\"Grid\"},{\"attributes\":{\"text\":\"Types per City\"},\"id\":\"132565\",\"type\":\"Title\"},{\"attributes\":{},\"id\":\"141611\",\"type\":\"WheelZoomTool\"},{\"attributes\":{\"axis_label\":\"No. of Houses\",\"formatter\":{\"id\":\"132601\",\"type\":\"BasicTickFormatter\"},\"ticker\":{\"id\":\"132580\",\"type\":\"BasicTicker\"}},\"id\":\"132579\",\"type\":\"LinearAxis\"},{\"attributes\":{\"axis_label\":\"Number of rooms\",\"formatter\":{\"id\":\"139218\",\"type\":\"BasicTickFormatter\"},\"ticker\":{\"id\":\"139196\",\"type\":\"BasicTicker\"},\"visible\":null},\"id\":\"139195\",\"type\":\"LinearAxis\"},{\"attributes\":{\"axis_label\":\"City\",\"formatter\":{\"id\":\"132603\",\"type\":\"CategoricalTickFormatter\"},\"ticker\":{\"id\":\"132576\",\"type\":\"CategoricalTicker\"}},\"id\":\"132575\",\"type\":\"CategoricalAxis\"},{\"attributes\":{},\"id\":\"139196\",\"type\":\"BasicTicker\"},{\"attributes\":{\"factors\":[\"Maison\",\"Appartement\"],\"markers\":[\"hex\",\"triangle\"]},\"id\":\"141624\",\"type\":\"CategoricalMarkerMapper\"},{\"attributes\":{\"callback\":null,\"factors\":[\"Croix\",\"Wasquehal\"]},\"id\":\"132567\",\"type\":\"FactorRange\"},{\"attributes\":{\"dimension\":1,\"ticker\":{\"id\":\"139196\",\"type\":\"BasicTicker\"}},\"id\":\"139199\",\"type\":\"Grid\"},{\"attributes\":{\"callback\":null,\"tooltips\":\"\\n<div>\\n    <h3>@address</h3>\\n    <div><img src=\\\"@image_link\\\" alt=\\\"\\\" /></div>\\n    <div><strong>Type: @Type</div></strong>\\n    <div><strong>Price(\\u20ac): @price</div></strong>\\n    <div><strong>City: @city</div></strong>\\n    <div><strong>Rooms: @nbr_rooms</div></strong>\\n    <div><strong>Area(m\\u00b2): @area</div></strong>\\n</div>\\n\"},\"id\":\"141641\",\"type\":\"HoverTool\"},{\"attributes\":{},\"id\":\"141610\",\"type\":\"PanTool\"},{\"attributes\":{},\"id\":\"136952\",\"type\":\"CategoricalTickFormatter\"},{\"attributes\":{\"data_source\":{\"id\":\"139083\",\"type\":\"ColumnDataSource\"},\"glyph\":{\"id\":\"139214\",\"type\":\"Circle\"},\"hover_glyph\":null,\"muted_glyph\":null,\"nonselection_glyph\":{\"id\":\"139215\",\"type\":\"Circle\"},\"selection_glyph\":null,\"view\":{\"id\":\"139217\",\"type\":\"CDSView\"}},\"id\":\"139216\",\"type\":\"GlyphRenderer\"},{\"attributes\":{\"click_policy\":\"mute\",\"items\":[{\"id\":\"136956\",\"type\":\"LegendItem\"},{\"id\":\"136972\",\"type\":\"LegendItem\"}],\"orientation\":\"horizontal\"},\"id\":\"136955\",\"type\":\"Legend\"},{\"attributes\":{\"fill_alpha\":{\"value\":0.2},\"fill_color\":{\"value\":\"orangered\"},\"line_alpha\":{\"value\":0.2},\"line_color\":{\"value\":\"orangered\"},\"top\":{\"field\":\"Appartement\"},\"width\":{\"value\":0.3},\"x\":{\"field\":\"city\",\"transform\":{\"id\":\"134764\",\"type\":\"Dodge\"}}},\"id\":\"134768\",\"type\":\"VBar\"},{\"attributes\":{\"overlay\":{\"id\":\"141635\",\"type\":\"BoxAnnotation\"}},\"id\":\"141612\",\"type\":\"BoxZoomTool\"},{\"attributes\":{},\"id\":\"141613\",\"type\":\"SaveTool\"},{\"attributes\":{\"fill_alpha\":{\"value\":0.1},\"fill_color\":{\"value\":\"#1f77b4\"},\"line_alpha\":{\"value\":0.1},\"line_color\":{\"value\":\"#1f77b4\"},\"size\":{\"units\":\"screen\",\"value\":7},\"x\":{\"field\":\"area\"},\"y\":{\"field\":\"nbr_rooms\"}},\"id\":\"139215\",\"type\":\"Circle\"},{\"attributes\":{\"child\":{\"id\":\"134735\",\"subtype\":\"Figure\",\"type\":\"Plot\"},\"title\":\"Average area per City\"},\"id\":\"134795\",\"type\":\"Panel\"},{\"attributes\":{\"fill_alpha\":{\"value\":0.2},\"fill_color\":{\"value\":\"orangered\"},\"line_alpha\":{\"value\":0.2},\"line_color\":{\"value\":\"orangered\"},\"top\":{\"field\":\"Appartement\"},\"width\":{\"value\":0.3},\"x\":{\"field\":\"city\",\"transform\":{\"id\":\"136942\",\"type\":\"Dodge\"}}},\"id\":\"136946\",\"type\":\"VBar\"},{\"attributes\":{\"source\":{\"id\":\"139083\",\"type\":\"ColumnDataSource\"}},\"id\":\"139217\",\"type\":\"CDSView\"},{\"attributes\":{\"active_drag\":\"auto\",\"active_inspect\":\"auto\",\"active_multi\":null,\"active_scroll\":\"auto\",\"active_tap\":\"auto\",\"tools\":[{\"id\":\"139200\",\"type\":\"PanTool\"},{\"id\":\"139201\",\"type\":\"WheelZoomTool\"},{\"id\":\"139202\",\"type\":\"BoxZoomTool\"},{\"id\":\"139203\",\"type\":\"SaveTool\"},{\"id\":\"139204\",\"type\":\"ResetTool\"},{\"id\":\"139205\",\"type\":\"HelpTool\"},{\"id\":\"139221\",\"type\":\"HoverTool\"}]},\"id\":\"139206\",\"type\":\"Toolbar\"},{\"attributes\":{},\"id\":\"139200\",\"type\":\"PanTool\"},{\"attributes\":{\"fill_alpha\":{\"value\":0.2},\"fill_color\":{\"value\":\"orange\"},\"line_alpha\":{\"value\":0.2},\"line_color\":{\"value\":\"orange\"},\"top\":{\"field\":\"Maison\"},\"width\":{\"value\":0.3},\"x\":{\"field\":\"city\",\"transform\":{\"id\":\"132608\",\"type\":\"Dodge\"}}},\"id\":\"132612\",\"type\":\"VBar\"},{\"attributes\":{\"child\":{\"id\":\"136913\",\"subtype\":\"Figure\",\"type\":\"Plot\"},\"title\":\"Average price per City\"},\"id\":\"136975\",\"type\":\"Panel\"},{\"attributes\":{},\"id\":\"134774\",\"type\":\"CategoricalTickFormatter\"},{\"attributes\":{\"callback\":null},\"id\":\"139091\",\"type\":\"DataRange1d\"},{\"attributes\":{},\"id\":\"139201\",\"type\":\"WheelZoomTool\"},{\"attributes\":{\"callback\":null},\"id\":\"139089\",\"type\":\"DataRange1d\"},{\"attributes\":{\"source\":{\"id\":\"134734\",\"type\":\"ColumnDataSource\"}},\"id\":\"134770\",\"type\":\"CDSView\"},{\"attributes\":{\"overlay\":{\"id\":\"141241\",\"type\":\"BoxAnnotation\"}},\"id\":\"139202\",\"type\":\"BoxZoomTool\"},{\"attributes\":{\"text\":\"Area vs Price\"},\"id\":\"139087\",\"type\":\"Title\"},{\"attributes\":{},\"id\":\"139203\",\"type\":\"SaveTool\"},{\"attributes\":{\"label\":{\"value\":\"appartement\"},\"renderers\":[{\"id\":\"132598\",\"type\":\"GlyphRenderer\"}]},\"id\":\"132607\",\"type\":\"LegendItem\"},{\"attributes\":{\"range\":{\"id\":\"132567\",\"type\":\"FactorRange\"},\"value\":-0.15},\"id\":\"132608\",\"type\":\"Dodge\"},{\"attributes\":{},\"id\":\"139204\",\"type\":\"ResetTool\"},{\"attributes\":{},\"id\":\"139093\",\"type\":\"LinearScale\"},{\"attributes\":{},\"id\":\"139205\",\"type\":\"HelpTool\"},{\"attributes\":{\"click_policy\":\"mute\",\"items\":[{\"id\":\"134778\",\"type\":\"LegendItem\"},{\"id\":\"134794\",\"type\":\"LegendItem\"}],\"orientation\":\"horizontal\"},\"id\":\"134777\",\"type\":\"Legend\"},{\"attributes\":{},\"id\":\"139095\",\"type\":\"LinearScale\"},{\"attributes\":{\"child\":{\"id\":\"141646\",\"type\":\"Column\"},\"title\":\"Playground\"},\"id\":\"143782\",\"type\":\"Panel\"},{\"attributes\":{\"children\":[{\"id\":\"139086\",\"subtype\":\"Figure\",\"type\":\"Plot\"},{\"id\":\"139132\",\"subtype\":\"Figure\",\"type\":\"Plot\"},{\"id\":\"139179\",\"subtype\":\"Figure\",\"type\":\"Plot\"}]},\"id\":\"139223\",\"type\":\"Row\"},{\"attributes\":{\"axis_label\":\"Area (m\\u00b2)\",\"formatter\":{\"id\":\"141226\",\"type\":\"BasicTickFormatter\"},\"ticker\":{\"id\":\"139098\",\"type\":\"BasicTicker\"}},\"id\":\"139097\",\"type\":\"LinearAxis\"},{\"attributes\":{\"factors\":[\"Maison\",\"Appartement\"],\"palette\":[\"#1b9e77\",\"#d95f02\",\"#7570b3\"]},\"id\":\"141623\",\"type\":\"CategoricalColorMapper\"},{\"attributes\":{\"color_mapper\":{\"id\":\"139178\",\"type\":\"LinearColorMapper\"},\"formatter\":{\"id\":\"141233\",\"type\":\"BasicTickFormatter\"},\"label_standoff\":12,\"location\":[0,0],\"ticker\":{\"id\":\"141232\",\"type\":\"BasicTicker\"},\"title\":\"Rooms\"},\"id\":\"139220\",\"type\":\"ColorBar\"},{\"attributes\":{},\"id\":\"139098\",\"type\":\"BasicTicker\"},{\"attributes\":{\"children\":[{\"id\":\"139224\",\"type\":\"Row\"},{\"id\":\"139225\",\"type\":\"Row\"}]},\"id\":\"139226\",\"type\":\"Column\"},{\"attributes\":{\"label\":{\"value\":\"appartement\"},\"renderers\":[{\"id\":\"136947\",\"type\":\"GlyphRenderer\"}]},\"id\":\"136956\",\"type\":\"LegendItem\"},{\"attributes\":{\"ticker\":{\"id\":\"139098\",\"type\":\"BasicTicker\"}},\"id\":\"139101\",\"type\":\"Grid\"},{\"attributes\":{\"callback\":null,\"tooltips\":\"\\n<div>\\n    <h3>@city</h3>\\n    <div><strong>Area(m\\u00b2): @area</div></strong>\\n    <div><strong>Number of rooms: @nbr_rooms</div></strong>\\n</div>\\n\"},\"id\":\"139221\",\"type\":\"HoverTool\"},{\"attributes\":{\"label\":{\"value\":\"appartement\"},\"renderers\":[{\"id\":\"134769\",\"type\":\"GlyphRenderer\"}]},\"id\":\"134778\",\"type\":\"LegendItem\"},{\"attributes\":{\"label\":{\"value\":\"maison\"},\"renderers\":[{\"id\":\"134784\",\"type\":\"GlyphRenderer\"}]},\"id\":\"134794\",\"type\":\"LegendItem\"},{\"attributes\":{\"axis_label\":\"Price\",\"formatter\":{\"id\":\"139125\",\"type\":\"BasicTickFormatter\"},\"ticker\":{\"id\":\"139103\",\"type\":\"BasicTicker\"},\"visible\":null},\"id\":\"139102\",\"type\":\"LinearAxis\"},{\"attributes\":{\"below\":[{\"id\":\"132575\",\"type\":\"CategoricalAxis\"}],\"center\":[{\"id\":\"132578\",\"type\":\"Grid\"},{\"id\":\"132583\",\"type\":\"Grid\"},{\"id\":\"132606\",\"type\":\"Legend\"}],\"left\":[{\"id\":\"132579\",\"type\":\"LinearAxis\"}],\"plot_height\":400,\"renderers\":[{\"id\":\"132598\",\"type\":\"GlyphRenderer\"},{\"id\":\"132613\",\"type\":\"GlyphRenderer\"}],\"title\":{\"id\":\"132565\",\"type\":\"Title\"},\"toolbar\":{\"id\":\"132588\",\"type\":\"Toolbar\"},\"toolbar_location\":null,\"x_range\":{\"id\":\"132567\",\"type\":\"FactorRange\"},\"x_scale\":{\"id\":\"132571\",\"type\":\"CategoricalScale\"},\"y_range\":{\"id\":\"132569\",\"type\":\"DataRange1d\"},\"y_scale\":{\"id\":\"132573\",\"type\":\"LinearScale\"}},\"id\":\"132564\",\"subtype\":\"Figure\",\"type\":\"Plot\"},{\"attributes\":{\"children\":[{\"id\":\"139085\",\"type\":\"Div\"}]},\"id\":\"139224\",\"type\":\"Row\"},{\"attributes\":{\"range\":{\"id\":\"134738\",\"type\":\"FactorRange\"},\"value\":-0.15},\"id\":\"134779\",\"type\":\"Dodge\"},{\"attributes\":{\"child\":{\"id\":\"139226\",\"type\":\"Column\"},\"title\":\"Correlation\"},\"id\":\"139227\",\"type\":\"Panel\"},{\"attributes\":{},\"id\":\"139103\",\"type\":\"BasicTicker\"},{\"attributes\":{\"fill_color\":{\"value\":\"orangered\"},\"line_color\":{\"value\":\"orangered\"},\"top\":{\"field\":\"Appartement\"},\"width\":{\"value\":0.3},\"x\":{\"field\":\"city\",\"transform\":{\"id\":\"134764\",\"type\":\"Dodge\"}}},\"id\":\"134766\",\"type\":\"VBar\"},{\"attributes\":{\"fill_alpha\":{\"value\":0.1},\"fill_color\":{\"value\":\"#1f77b4\"},\"line_alpha\":{\"value\":0.1},\"line_color\":{\"value\":\"#1f77b4\"},\"top\":{\"field\":\"Appartement\"},\"width\":{\"value\":0.3},\"x\":{\"field\":\"city\",\"transform\":{\"id\":\"136942\",\"type\":\"Dodge\"}}},\"id\":\"136945\",\"type\":\"VBar\"},{\"attributes\":{\"dimension\":1,\"ticker\":{\"id\":\"139103\",\"type\":\"BasicTicker\"}},\"id\":\"139106\",\"type\":\"Grid\"},{\"attributes\":{},\"id\":\"143666\",\"type\":\"Selection\"},{\"attributes\":{\"children\":[{\"id\":\"139223\",\"type\":\"Row\"}]},\"id\":\"139225\",\"type\":\"Row\"},{\"attributes\":{\"fill_alpha\":{\"value\":0.1},\"fill_color\":{\"value\":\"#1f77b4\"},\"line_alpha\":{\"value\":0.1},\"line_color\":{\"value\":\"#1f77b4\"},\"top\":{\"field\":\"Appartement\"},\"width\":{\"value\":0.3},\"x\":{\"field\":\"city\",\"transform\":{\"id\":\"134764\",\"type\":\"Dodge\"}}},\"id\":\"134767\",\"type\":\"VBar\"},{\"attributes\":{\"data_source\":{\"id\":\"132563\",\"type\":\"ColumnDataSource\"},\"glyph\":{\"id\":\"132610\",\"type\":\"VBar\"},\"hover_glyph\":null,\"muted_glyph\":{\"id\":\"132612\",\"type\":\"VBar\"},\"nonselection_glyph\":{\"id\":\"132611\",\"type\":\"VBar\"},\"selection_glyph\":null,\"view\":{\"id\":\"132614\",\"type\":\"CDSView\"}},\"id\":\"132613\",\"type\":\"GlyphRenderer\"},{\"attributes\":{\"source\":{\"id\":\"136912\",\"type\":\"ColumnDataSource\"}},\"id\":\"136948\",\"type\":\"CDSView\"},{\"attributes\":{\"fill_color\":{\"field\":\"price\",\"transform\":{\"id\":\"139084\",\"type\":\"LinearColorMapper\"}},\"line_color\":{\"value\":null},\"size\":{\"units\":\"screen\",\"value\":7},\"x\":{\"field\":\"area\"},\"y\":{\"field\":\"price\"}},\"id\":\"139121\",\"type\":\"Circle\"},{\"attributes\":{\"text\":\"Area vs Price\"},\"id\":\"141590\",\"type\":\"Title\"},{\"attributes\":{\"fill_alpha\":{\"value\":0.1},\"fill_color\":{\"value\":\"#1f77b4\"},\"line_alpha\":{\"value\":0.1},\"line_color\":{\"value\":\"#1f77b4\"},\"top\":{\"field\":\"Maison\"},\"width\":{\"value\":0.3},\"x\":{\"field\":\"city\",\"transform\":{\"id\":\"132608\",\"type\":\"Dodge\"}}},\"id\":\"132611\",\"type\":\"VBar\"},{\"attributes\":{},\"id\":\"141633\",\"type\":\"BasicTickFormatter\"},{\"attributes\":{\"use_scientific\":false},\"id\":\"139125\",\"type\":\"BasicTickFormatter\"},{\"attributes\":{\"background_fill_color\":{\"value\":\"#efefef\"},\"below\":[{\"id\":\"141600\",\"type\":\"LinearAxis\"}],\"center\":[{\"id\":\"141604\",\"type\":\"Grid\"},{\"id\":\"141609\",\"type\":\"Grid\"},{\"id\":\"141636\",\"type\":\"Legend\"}],\"left\":[{\"id\":\"141605\",\"type\":\"LinearAxis\"}],\"plot_height\":400,\"plot_width\":900,\"renderers\":[{\"id\":\"141628\",\"type\":\"GlyphRenderer\"}],\"title\":{\"id\":\"141590\",\"type\":\"Title\"},\"toolbar\":{\"id\":\"141616\",\"type\":\"Toolbar\"},\"x_range\":{\"id\":\"141592\",\"type\":\"DataRange1d\"},\"x_scale\":{\"id\":\"141596\",\"type\":\"LinearScale\"},\"y_range\":{\"id\":\"141594\",\"type\":\"DataRange1d\"},\"y_scale\":{\"id\":\"141598\",\"type\":\"LinearScale\"}},\"id\":\"141589\",\"subtype\":\"Figure\",\"type\":\"Plot\"},{\"attributes\":{\"data_source\":{\"id\":\"139083\",\"type\":\"ColumnDataSource\"},\"glyph\":{\"id\":\"139121\",\"type\":\"Circle\"},\"hover_glyph\":null,\"muted_glyph\":null,\"nonselection_glyph\":{\"id\":\"139122\",\"type\":\"Circle\"},\"selection_glyph\":null,\"view\":{\"id\":\"139124\",\"type\":\"CDSView\"}},\"id\":\"139123\",\"type\":\"GlyphRenderer\"},{\"attributes\":{\"active_drag\":\"auto\",\"active_inspect\":\"auto\",\"active_multi\":null,\"active_scroll\":\"auto\",\"active_tap\":\"auto\",\"tools\":[{\"id\":\"132584\",\"type\":\"PanTool\"},{\"id\":\"132585\",\"type\":\"BoxSelectTool\"},{\"id\":\"132586\",\"type\":\"ZoomInTool\"},{\"id\":\"132587\",\"type\":\"ZoomOutTool\"}]},\"id\":\"132588\",\"type\":\"Toolbar\"},{\"attributes\":{},\"id\":\"139107\",\"type\":\"PanTool\"},{\"attributes\":{},\"id\":\"141228\",\"type\":\"BasicTicker\"},{\"attributes\":{\"data_source\":{\"id\":\"134734\",\"type\":\"ColumnDataSource\"},\"glyph\":{\"id\":\"134766\",\"type\":\"VBar\"},\"hover_glyph\":null,\"muted_glyph\":{\"id\":\"134768\",\"type\":\"VBar\"},\"nonselection_glyph\":{\"id\":\"134767\",\"type\":\"VBar\"},\"selection_glyph\":null,\"view\":{\"id\":\"134770\",\"type\":\"CDSView\"}},\"id\":\"134769\",\"type\":\"GlyphRenderer\"},{\"attributes\":{\"source\":{\"id\":\"132563\",\"type\":\"ColumnDataSource\"}},\"id\":\"132614\",\"type\":\"CDSView\"},{\"attributes\":{\"callback\":null,\"data\":{\"Type\":[\"Maison\",\"Maison\",\"Maison\",\"Maison\",\"Maison\",\"Maison\",\"Appartement\",\"Maison\",\"Maison\",\"Appartement\",\"Appartement\",\"Maison\",\"Maison\",\"Appartement\",\"Maison\",\"Appartement\",\"Appartement\",\"Appartement\",\"Appartement\",\"Appartement\",\"Appartement\",\"Maison\",\"Maison\",\"Maison\",\"Maison\",\"Appartement\",\"Appartement\",\"Maison\",\"Appartement\",\"Appartement\",\"Maison\",\"Appartement\",\"Appartement\",\"Maison\",\"Appartement\",\"Maison\",\"Appartement\",\"Appartement\",\"Maison\",\"Maison\",\"Appartement\",\"Appartement\",\"Appartement\",\"Maison\",\"Maison\",\"Maison\",\"Appartement\",\"Appartement\",\"Maison\",\"Appartement\",\"Maison\",\"Maison\",\"Appartement\",\"Appartement\",\"Appartement\",\"Appartement\",\"Appartement\",\"Appartement\",\"Appartement\",\"Appartement\",\"Appartement\"],\"Unnamed: 0\":[52,34,62,68,2,20,49,47,42,24,26,58,54,7,46,27,48,21,15,30,29,57,1,63,43,39,61,44,16,55,18,10,23,33,59,51,64,6,37,67,38,45,56,5,31,66,53,40,65,60,28,22,9,14,8,13,3,41,4,0,17],\"address\":[\"Croix 59170 (Fer \\u00e0 Cheval)\",\"Wasquehal 59290 (Grand Cottignies)\",\"Croix 59170 (Centre-ville)\",\"Croix 59170\",\"Croix 59170 (Centre-ville)\",\"Croix 59170 (Saint-Pierre)\",\"Wasquehal 59290\",\"Wasquehal 59290\",\"Wasquehal 59290 (Centre-ville - Pharos - Site Saint-Nicolas)\",\"Wasquehal 59290 (Centre-ville - Pharos - Site Saint-Nicolas)\",\"Wasquehal 59290 (Boers - Haut Vinage - Or\\u00e9e du Golf - Petit Wasquehal)\",\"Croix 59170\",\"Wasquehal 59290\",\"Croix 59170 (Saint-Pierre)\",\"Croix 59170\",\"Wasquehal 59290 (Boers - Haut Vinage - Or\\u00e9e du Golf - Petit Wasquehal)\",\"Wasquehal 59290 (Capreau)\",\"Wasquehal 59290 (Centre-ville - Pharos - Site Saint-Nicolas)\",\"Croix 59170 (Fer \\u00e0 Cheval)\",\"Wasquehal 59290 (Grand Cottignies)\",\"Wasquehal 59290 (Grand Cottignies)\",\"Wasquehal 59290\",\"Wasquehal 59290 (Centre-ville - Pharos - Site Saint-Nicolas)\",\"Wasquehal 59290\",\"Wasquehal 59290 (Boers - Haut Vinage - Or\\u00e9e du Golf - Petit Wasquehal)\",\"Croix 59170 (Saint-Pierre)\",\"Croix 59170\",\"Croix 59170 (Saint-Pierre)\",\"Wasquehal 59290 (Grand Cottignies)\",\"Croix 59170\",\"Croix 59170 (Saint-Pierre)\",\"Croix 59170 (Saint-Pierre)\",\"Croix 59170 (Fer \\u00e0 Cheval)\",\"Wasquehal 59290 (Capreau)\",\"Croix 59170\",\"Wasquehal 59290 (Capreau)\",\"Croix 59170\",\"Croix 59170 (Saint-Pierre)\",\"Wasquehal 59290 (Capreau)\",\"Wasquehal 59290\",\"Wasquehal 59290 (Grand Cottignies)\",\"Wasquehal 59290 (Grand Cottignies)\",\"Wasquehal 59290\",\"Croix 59170 (Saint-Pierre)\",\"Croix 59170 (Saint-Pierre)\",\"Croix 59170\",\"Wasquehal 59290 (Centre-ville - Pharos - Site Saint-Nicolas)\",\"Wasquehal 59290 (Grand Cottignies)\",\"Croix 59170\",\"Croix 59170\",\"Croix 59170 (Saint-Pierre)\",\"Croix 59170 (Saint-Pierre)\",\"Croix 59170 (Fer \\u00e0 Cheval)\",\"Croix 59170 (Saint-Pierre)\",\"Croix 59170 (Saint-Pierre)\",\"Croix 59170 (Fer \\u00e0 Cheval)\",\"Wasquehal 59290 (Noir Bonnet - Rue Pasteur)\",\"Croix 59170 (Fer \\u00e0 Cheval)\",\"Croix 59170 (Saint-Pierre)\",\"Croix 59170 (Saint-Pierre)\",\"Croix 59170 (Centre-ville)\"],\"area\":{\"__ndarray__\":\"AAAAAAAgckAAAAAAAIBxQAAAAAAAQG5AAAAAAAAAbkAAAAAAADB0QAAAAAAA4HVAAAAAAABAYkAAAAAAAABpQAAAAAAAQGVAAAAAAABAXUAAAAAAAEBdQAAAAAAAYGNAAAAAAAAAXkAAAAAAAABVQAAAAAAA4GBAAAAAAACAW0AAAAAAAIBTQAAAAAAAwFBAAAAAAAAAVUAAAAAAAABRQAAAAAAAAFBAAAAAAACAVkAAAAAAAMBSQAAAAAAAAFlAAAAAAAAA+H8AAAAAAABOQAAAAAAAQFNAAAAAAABAWkAAAAAAAIBQQAAAAAAAAFhAAAAAAABAWkAAAAAAAABPQAAAAAAAgFhAAAAAAAAAWUAAAAAAAABFQAAAAAAAgFZAAAAAAAAAT0AAAAAAAIBEQAAAAAAAgFZAAAAAAABAUEAAAAAAAIBGQAAAAAAAAERAAAAAAAAAREAAAAAAAIBYQAAAAAAAwFhAAAAAAAAAWUAAAAAAAEBVQAAAAAAAgERAAAAAAABAVUAAAAAAAIBKQAAAAAAAQFVAAAAAAAAAVEAAAAAAAIBPQAAAAAAAgEZAAAAAAAAAS0AAAAAAAIBWQAAAAAAAAPh/AAAAAACARUAAAAAAAIBKQAAAAAAAwFdAAAAAAAAARUA=\",\"dtype\":\"float64\",\"shape\":[61]},\"category\":[\"Maison 6 pi\\u00e8ces 290 m\\u00b2\\nCroix 59170 (Fer \\u00e0 Cheval)\",\"Maison 10 pi\\u00e8ces 280 m\\u00b2\\nWasquehal 59290 (Grand Cottignies)\",\"Maison 7 pi\\u00e8ces 242 m\\u00b2\\nCroix 59170 (Centre-ville)\",\"Maison 8 pi\\u00e8ces 240 m\\u00b2\\nCroix 59170\",\"Maison 10 pi\\u00e8ces 323 m\\u00b2\\nCroix 59170 (Centre-ville)\",\"Maison 10 pi\\u00e8ces 350 m\\u00b2\\nCroix 59170 (Saint-Pierre)\",\"Appartement 5 pi\\u00e8ces 146 m\\u00b2\\nWasquehal 59290\",\"Maison 5 pi\\u00e8ces 200 m\\u00b2\\nWasquehal 59290\",\"Maison 5 pi\\u00e8ces 170 m\\u00b2\\nWasquehal 59290 (Centre-ville - Pharos - Site Saint-Nicolas)\",\"Appartement 4 pi\\u00e8ces 117 m\\u00b2\\nWasquehal 59290 (Centre-ville - Pharos - Site Saint-Nicolas)\",\"Appartement 4 pi\\u00e8ces 117 m\\u00b2\\nWasquehal 59290 (Boers - Haut Vinage - Or\\u00e9e du Golf - Petit Wasquehal)\",\"Maison 6 pi\\u00e8ces 155 m\\u00b2\\nCroix 59170\",\"Maison 5 pi\\u00e8ces 120 m\\u00b2\\nWasquehal 59290\",\"Appartement 4 pi\\u00e8ces 84 m\\u00b2\\nCroix 59170 (Saint-Pierre)\",\"Maison 5 pi\\u00e8ces 135 m\\u00b2\\nCroix 59170\",\"Appartement 5 pi\\u00e8ces 110 m\\u00b2\\nWasquehal 59290 (Boers - Haut Vinage - Or\\u00e9e du Golf - Petit Wasquehal)\",\"Appartement 3 pi\\u00e8ces 78 m\\u00b2\\nWasquehal 59290 (Capreau)\",\"Appartement 3 pi\\u00e8ces 67 m\\u00b2\\nWasquehal 59290 (Centre-ville - Pharos - Site Saint-Nicolas)\",\"Appartement 4 pi\\u00e8ces 84 m\\u00b2\\nCroix 59170 (Fer \\u00e0 Cheval)\",\"Appartement 3 pi\\u00e8ces 68 m\\u00b2\\nWasquehal 59290 (Grand Cottignies)\",\"Appartement 3 pi\\u00e8ces 64 m\\u00b2\\nWasquehal 59290 (Grand Cottignies)\",\"Maison 3 pi\\u00e8ces 90 m\\u00b2\\nWasquehal 59290\",\"Maison 5 pi\\u00e8ces 75 m\\u00b2\\nWasquehal 59290 (Centre-ville - Pharos - Site Saint-Nicolas)\",\"Maison 4 pi\\u00e8ces 100 m\\u00b2\\nWasquehal 59290\",\"Maison 4 pi\\u00e8ces\\nWasquehal 59290 (Boers - Haut Vinage - Or\\u00e9e du Golf - Petit Wasquehal)\",\"Appartement 3 pi\\u00e8ces 60 m\\u00b2\\nCroix 59170 (Saint-Pierre)\",\"Appartement 3 pi\\u00e8ces 77 m\\u00b2\\nCroix 59170\",\"Maison 3 pi\\u00e8ces 105 m\\u00b2\\nCroix 59170 (Saint-Pierre)\",\"Appartement 3 pi\\u00e8ces 66 m\\u00b2\\nWasquehal 59290 (Grand Cottignies)\",\"Appartement 4 pi\\u00e8ces 96 m\\u00b2\\nCroix 59170\",\"Maison 3 pi\\u00e8ces 105 m\\u00b2\\nCroix 59170 (Saint-Pierre)\",\"Appartement 3 pi\\u00e8ces 62 m\\u00b2\\nCroix 59170 (Saint-Pierre)\",\"Appartement 3 pi\\u00e8ces 98 m\\u00b2\\nCroix 59170 (Fer \\u00e0 Cheval)\",\"Maison 4 pi\\u00e8ces 100 m\\u00b2\\nWasquehal 59290 (Capreau)\",\"Appartement 2 pi\\u00e8ces 42 m\\u00b2\\nCroix 59170\",\"Maison 4 pi\\u00e8ces 90 m\\u00b2\\nWasquehal 59290 (Capreau)\",\"Appartement 2 pi\\u00e8ces 62 m\\u00b2\\nCroix 59170\",\"Appartement 2 pi\\u00e8ces 41 m\\u00b2\\nCroix 59170 (Saint-Pierre)\",\"Maison 4 pi\\u00e8ces 90 m\\u00b2\\nWasquehal 59290 (Capreau)\",\"Maison 3 pi\\u00e8ces 65 m\\u00b2\\nWasquehal 59290\",\"Appartement 2 pi\\u00e8ces 45 m\\u00b2\\nWasquehal 59290 (Grand Cottignies)\",\"Appartement 2 pi\\u00e8ces 40 m\\u00b2\\nWasquehal 59290 (Grand Cottignies)\",\"Appartement 2 pi\\u00e8ces 40 m\\u00b2\\nWasquehal 59290\",\"Maison 6 pi\\u00e8ces 98 m\\u00b2\\nCroix 59170 (Saint-Pierre)\",\"Maison 5 pi\\u00e8ces 99 m\\u00b2\\nCroix 59170 (Saint-Pierre)\",\"Maison 6 pi\\u00e8ces 100 m\\u00b2\\nCroix 59170\",\"Appartement 4 pi\\u00e8ces 85 m\\u00b2\\nWasquehal 59290 (Centre-ville - Pharos - Site Saint-Nicolas)\",\"Appartement 2 pi\\u00e8ces 41 m\\u00b2\\nWasquehal 59290 (Grand Cottignies)\",\"Maison 5 pi\\u00e8ces 85 m\\u00b2\\nCroix 59170\",\"Appartement 2 pi\\u00e8ces 53 m\\u00b2\\nCroix 59170\",\"Maison 4 pi\\u00e8ces 85 m\\u00b2\\nCroix 59170 (Saint-Pierre)\",\"Maison 4 pi\\u00e8ces 80 m\\u00b2\\nCroix 59170 (Saint-Pierre)\",\"Appartement 2 pi\\u00e8ces 63 m\\u00b2\\nCroix 59170 (Fer \\u00e0 Cheval)\",\"Appartement 2 pi\\u00e8ces 45 m\\u00b2\\nCroix 59170 (Saint-Pierre)\",\"Appartement 2 pi\\u00e8ces 54 m\\u00b2\\nCroix 59170 (Saint-Pierre)\",\"Appartement 3 pi\\u00e8ces 90 m\\u00b2\\nCroix 59170 (Fer \\u00e0 Cheval)\",\"Appartement 2 pi\\u00e8ces\\nWasquehal 59290 (Noir Bonnet - Rue Pasteur)\",\"Appartement 1 pi\\u00e8ce 43 m\\u00b2\\nCroix 59170 (Fer \\u00e0 Cheval)\",\"Appartement 2 pi\\u00e8ces 53 m\\u00b2\\nCroix 59170 (Saint-Pierre)\",\"Appartement 3 pi\\u00e8ces 95 m\\u00b2\\nCroix 59170 (Saint-Pierre)\",\"Appartement 1 pi\\u00e8ce 42 m\\u00b2\\nCroix 59170 (Centre-ville)\"],\"city\":[\"Croix\",\"Wasquehal\",\"Croix\",\"Croix\",\"Croix\",\"Croix\",\"Wasquehal\",\"Wasquehal\",\"Wasquehal\",\"Wasquehal\",\"Wasquehal\",\"Croix\",\"Wasquehal\",\"Croix\",\"Croix\",\"Wasquehal\",\"Wasquehal\",\"Wasquehal\",\"Croix\",\"Wasquehal\",\"Wasquehal\",\"Wasquehal\",\"Wasquehal\",\"Wasquehal\",\"Wasquehal\",\"Croix\",\"Croix\",\"Croix\",\"Wasquehal\",\"Croix\",\"Croix\",\"Croix\",\"Croix\",\"Wasquehal\",\"Croix\",\"Wasquehal\",\"Croix\",\"Croix\",\"Wasquehal\",\"Wasquehal\",\"Wasquehal\",\"Wasquehal\",\"Wasquehal\",\"Croix\",\"Croix\",\"Croix\",\"Wasquehal\",\"Wasquehal\",\"Croix\",\"Croix\",\"Croix\",\"Croix\",\"Croix\",\"Croix\",\"Croix\",\"Croix\",\"Wasquehal\",\"Croix\",\"Croix\",\"Croix\",\"Croix\"],\"image_link\":[\"https://file.bienici.com/photo/hektor-agveroniquefont-3183_agveroniquefont.staticlbi.com_original_images_biens_1_7f01c939761597f9b832694d4c381512_ef0105031d39a10a637e500bea7beefc.jpg?width=300&height=180&fit=cover\",\"https://file.bienici.com/photo/hektor-agveroniquefont-1596_agveroniquefont.staticlbi.com_original_images_biens_1_a368b0de8b91cfb3f91892fbf1ebd4b2_56b8b12117f04622247fdb4c55fb6b07.jpg?width=300&height=180&fit=cover\",\"https://file.bienici.com/photo/hektor-agveroniquefont-1018_agveroniquefont.staticlbi.com_original_images_biens_1_24146db4eb48c718b84cae0a0799dcfc_cb86702143a2e657da06b09191c6f497.jpg?width=300&height=180&fit=cover\",\"https://file.bienici.com/photo/hektor-agveroniquefont-2769_agveroniquefont.staticlbi.com_original_images_biens_1_d47844673f2db74d78da8687d794523d_5c5bac4caef5eecb67347c2deb20ad64.jpg?width=300&height=180&fit=cover\",\"https://file.bienici.com/photo/orpi-1-120001E1EHML_media6.ac3-distribution.com_office6_orpi_73336_catalog_images_pr_p_6_0_9_2_0_6_5_6092065a.jpg_DATEMAJ_201911151644?width=300&height=180&fit=cover\",\"https://file.bienici.com/photo/fnaim-44414715_images-raw.fnaim.fr_images1_img96_2969600VN1684T01.jpg?width=300&height=180&fit=cover\",\"https://file.bienici.com/photo/ag593804-216440889_photos.ubiflow.net_593804_216440889_photos_1.jpg_20191014194207?width=300&height=180&fit=cover\",\"https://file.bienici.com/photo/ag593804-219876426_photos.ubiflow.net_593804_219876426_photos_1.jpg_20191014194417?width=300&height=180&fit=cover\",\"https://file.bienici.com/photo/hektor-agveroniquefont-3807_agveroniquefont.staticlbi.com_original_images_biens_1_572de2f72d5731ff8a6744d12368d260_photo_8c9ca674d1f61fa5839b798bf9d85db6.jpg?width=300&height=180&fit=cover\",\"https://file.bienici.com/photo/century-21-202_3283_894_core.naxos-fr.net_imagesBien_202_3283_c21_202_3283_894_1_5579DDD1-1F2D-44B1-A69C-0D187D14464F.jpg?width=300&height=180&fit=cover\",\"https://file.bienici.com/photo/ag340378-229347814_photos.ubiflow.net_340378_229347814_photos_1.jpg_20191210031913?width=300&height=180&fit=cover\",\"https://file.bienici.com/photo/ag593804-221245957_photos.ubiflow.net_593804_221245957_photos_1.jpg_20191016141151?width=300&height=180&fit=cover\",\"https://file.bienici.com/photo/ag593804-227027287_photos.ubiflow.net_593804_227027287_photos_1.jpg_20191123172421?width=300&height=180&fit=cover\",\"https://file.bienici.com/photo/century-21-202_3283_971_core.naxos-fr.net_imagesBien_202_3283_c21_202_3283_971_1_C4D0F34C-C2FB-43A8-8375-8EA60B714C48.jpg?width=300&height=180&fit=cover\",\"https://file.bienici.com/photo/ag593804-220546338_photos.ubiflow.net_593804_220546338_photos_1.jpg_20191014194259?width=300&height=180&fit=cover\",\"https://file.bienici.com/photo/ag592469-221710204_photos.ubiflow.net_592469_221710204_photos_1.jpg_20191019041339?width=300&height=180&fit=cover\",\"https://file.bienici.com/photo/ag591569-217021893_photos.ubiflow.net_591569_217021893_photos_1.jpg_20190918124446?width=300&height=180&fit=cover\",\"https://file.bienici.com/photo/century-21-202_3283_944_core.naxos-fr.net_imagesBien_202_3283_c21_202_3283_944_1_CEF25ABC-A27E-4488-A453-35D74124780A.jpg?width=300&height=180&fit=cover\",\"https://file.bienici.com/photo/orpi-1-120037E19FML_media6.ac3-distribution.com_office6_orpi_73142_catalog_images_pr_p_5_6_5_5_8_3_3_5655833a.jpg_DATEMAJ_201902121541?width=300&height=180&fit=cover\",\"https://file.bienici.com/photo/century-21-202_3283_891_core.naxos-fr.net_imagesBien_202_3283_c21_202_3283_891_1_8B28FC8D-0C79-4592-9D73-503EAB5D9284.jpg?width=300&height=180&fit=cover\",\"https://file.bienici.com/photo/century-21-202_3283_892_core.naxos-fr.net_imagesBien_202_3283_c21_202_3283_892_1_73486669-E31A-4DFF-95A7-3C9739DFE1A6.jpg?width=300&height=180&fit=cover\",\"https://file.bienici.com/photo/ag593804-221609191_photos.ubiflow.net_593804_221609191_photos_1.jpg_20191018132830?width=300&height=180&fit=cover\",\"https://file.bienici.com/photo/orpi-1-120003E1GTND_media6.ac3-distribution.com_office6_orpi_73453_catalog_images_pr_p_6_2_2_6_0_5_7_6226057a.jpg_DATEMAJ_201911041600?width=300&height=180&fit=cover\",\"https://file.bienici.com/photo/ag591008-228608418_photos.ubiflow.net_591008_228608418_photos_1.jpg_20191204164026?width=300&height=180&fit=cover\",\"https://file.bienici.com/photo/ag591008-230764911_photos.ubiflow.net_591008_230764911_photos_1.jpg_20191219185249?width=300&height=180&fit=cover\",\"https://file.bienici.com/photo/ag440414-208485234_photos.ubiflow.net_440414_208485234_photos_1.jpg_20190718153413?width=300&height=180&fit=cover\",\"https://file.bienici.com/photo/ag593804-217576866_photos.ubiflow.net_593804_217576866_photos_1.jpg_20191014194201?width=300&height=180&fit=cover\",\"https://file.bienici.com/photo/orpi-1-120908E1FW7T_media6.ac3-distribution.com_office6_orpi_73336_catalog_images_pr_p_6_1_7_4_7_7_2_6174772a.jpg_DATEMAJ_201909241119?width=300&height=180&fit=cover\",\"https://file.bienici.com/photo/pericles-22959888_a?width=300&height=180&fit=cover\",\"https://file.bienici.com/photo/apimo-3428226_d1qfj231ug7wdu.cloudfront.net_pictures_estate_3429_3428226_2196580795dd80ae9006025.69620465_1920.jpg?width=300&height=180&fit=cover\",\"https://file.bienici.com/photo/ag440414-226888141_photos.ubiflow.net_440414_226888141_photos_1.jpg_20191122193043?width=300&height=180&fit=cover\",\"https://file.bienici.com/photo/pericles-26650268_a?width=300&height=180&fit=cover\",\"https://file.bienici.com/photo/pericles-27541440_a?width=300&height=180&fit=cover\",\"https://file.bienici.com/photo/orpi-1-120037E1CQC3_media6.ac3-distribution.com_office6_orpi_73142_catalog_images_pr_p_5_8_6_9_6_7_2_5869672a.jpg_DATEMAJ_201909101731?width=300&height=180&fit=cover\",\"https://file.bienici.com/photo/ag593804-218962977_photos.ubiflow.net_593804_218962977_photos_1.jpg_20191014194217?width=300&height=180&fit=cover\",\"https://file.bienici.com/photo/ag591569-197980825_photos.ubiflow.net_591569_197980825_photos_1.jpg_20190521112412?width=300&height=180&fit=cover\",\"https://file.bienici.com/photo/ag593804-223131715_photos.ubiflow.net_593804_223131715_photos_1.jpg_20191029174024?width=300&height=180&fit=cover\",\"https://file.bienici.com/photo/century-21-202_3283_972_core.naxos-fr.net_imagesBien_202_3283_c21_202_3283_972_1_2A939C23-D4EF-4FDD-984E-EB40A9F494B6.jpg?width=300&height=180&fit=cover\",\"https://file.bienici.com/photo/orpi-1-120037E1HI1E_media6.ac3-distribution.com_office6_orpi_73142_catalog_images_pr_p_6_2_7_1_1_0_1_6271101a.jpg_DATEMAJ_201911131029?width=300&height=180&fit=cover\",\"https://file.bienici.com/photo/ag593804-216810150_photos.ubiflow.net_593804_216810150_photos_1.jpg_20191014194245?width=300&height=180&fit=cover\",\"https://file.bienici.com/photo/orpi-1-120037E1HFQI_media6.ac3-distribution.com_office6_orpi_73142_catalog_images_pr_p_6_2_6_7_4_8_1_6267481a.jpg_DATEMAJ_201911121402?width=300&height=180&fit=cover\",\"https://file.bienici.com/photo/immo-facile-34136641_media.immo-facile.com_office2_exactimmo_catalog_images_pr_p_3_4_1_3_6_6_4_1_34136641a.jpg_DATEMAJ_22_10_2019-09_20_16?width=300&height=180&fit=cover\",\"https://file.bienici.com/photo/ag593804-222595345_photos.ubiflow.net_593804_222595345_photos_1.jpg_20191025132130?width=300&height=180&fit=cover\",\"https://file.bienici.com/photo/ag440414-227220979_photos.ubiflow.net_440414_227220979_photos_1.jpg_20191125152213?width=300&height=180&fit=cover\",\"https://file.bienici.com/photo/orpi-1-120901E1ER80_media6.ac3-distribution.com_office6_orpi_73336_catalog_images_pr_p_6_1_0_7_7_5_0_6107750a.jpg_DATEMAJ_201909271444?width=300&height=180&fit=cover\",\"https://file.bienici.com/photo/ag593804-220546365_photos.ubiflow.net_593804_220546365_photos_1.jpg_20191016213637?width=300&height=180&fit=cover\",\"https://file.bienici.com/photo/ag591008-210492347_photos.ubiflow.net_591008_210492347_photos_1.jpg_20190801120625?width=300&height=180&fit=cover\",\"https://file.bienici.com/photo/pericles-25803012_a?width=300&height=180&fit=cover\",\"https://file.bienici.com/photo/ag593804-221609209_photos.ubiflow.net_593804_221609209_photos_1.jpg_20191018132833?width=300&height=180&fit=cover\",\"https://file.bienici.com/photo/ag593804-218748273_photos.ubiflow.net_593804_218748273_photos_1.jpg_20191118214004?width=300&height=180&fit=cover\",\"https://file.bienici.com/photo/ag440414-221659210_photos.ubiflow.net_440414_221659210_photos_1.jpg_20191018190414?width=300&height=180&fit=cover\",\"https://file.bienici.com/photo/pericles-27660414_a?width=300&height=180&fit=cover\",\"https://file.bienici.com/photo/pericles-27875328_a?width=300&height=180&fit=cover\",\"https://file.bienici.com/photo/immo-facile-32614038_media.immo-facile.com_office16_immodefrance_npdc_catalog_images_pr_p_3_2_6_1_4_0_3_8_32614038a.jpg_DATEMAJ_25_06_2019-17_26_45?width=300&height=180&fit=cover\",\"https://file.bienici.com/photo/ag440414-225507691_photos.ubiflow.net_440414_225507691_photos_1.jpg_20191114185847?width=300&height=180&fit=cover\",\"https://file.bienici.com/photo/ag440414-212765508_photos.ubiflow.net_440414_212765508_photos_1.jpg_20191126145042?width=300&height=180&fit=cover\",\"https://file.bienici.com/photo/citya-immobilier-1289-TAPP422525_cityabox-web.ics.infoclip.fr_icsbox_cit_CITYA_FLANDRES_jdd_transaction_photo_filigrane-2--3989774459365924394.jpg?width=300&height=180&fit=cover\",\"https://file.bienici.com/photo/pericles-25038823_a?width=300&height=180&fit=cover\",\"https://file.bienici.com/photo/ag592837-227283511_photos.ubiflow.net_592837_227283511_photos_1.jpg_20191129023826?width=300&height=180&fit=cover\",\"https://file.bienici.com/photo/ag752451-209382087_photos.ubiflow.net_752451_209382087_photos_1.jpg_20191213204035?width=300&height=180&fit=cover\",\"https://file.bienici.com/photo/ag594019-228452107_photos.ubiflow.net_594019_228452107_photos_1.jpg_20191207094215?width=300&height=180&fit=cover\"],\"index\":[0,1,2,3,4,5,6,7,8,9,10,11,12,13,14,15,16,17,18,19,20,21,22,23,24,25,26,27,28,29,30,31,32,33,34,35,36,37,38,39,40,41,42,43,44,45,46,47,48,49,50,51,52,53,54,55,56,57,58,59,60],\"nbr_rooms\":[6,10,7,8,10,10,5,5,5,4,4,6,5,4,5,5,3,3,4,3,3,3,5,4,4,3,3,3,3,4,3,3,3,4,2,4,2,2,4,3,2,2,2,6,5,6,4,2,5,2,4,4,2,2,2,3,2,1,2,3,1],\"pincode\":[59170,59290,59170,59170,59170,59170,59290,59290,59290,59290,59290,59170,59290,59170,59170,59290,59290,59290,59170,59290,59290,59290,59290,59290,59290,59170,59170,59170,59290,59170,59170,59170,59170,59290,59170,59290,59170,59170,59290,59290,59290,59290,59290,59170,59170,59170,59290,59290,59170,59170,59170,59170,59170,59170,59170,59170,59290,59170,59170,59170,59170],\"price\":[1355000,1290000,1050000,1040000,694790,660000,649000,590000,510000,479000,479000,475000,385000,360000,330000,298000,288000,276900,266500,262900,258900,250000,242500,240000,240000,231000,215000,207750,200000,196000,185755,183600,180000,179760,179000,175000,170000,170000,169000,168000,154145,153900,148500,148500,147900,146500,145600,140000,138500,137000,135990,135000,125000,118000,115990,115000,114500,104000,99000,96505,80000],\"serial\":[53,35,63,69,3,21,50,48,43,25,27,59,55,8,47,28,49,22,16,31,30,58,2,64,44,40,62,45,17,56,19,11,24,34,60,52,65,7,38,68,39,46,57,6,32,67,54,41,66,61,29,23,10,15,9,14,4,42,5,1,18],\"street\":[\"Fer \\u00e0 Cheval\",\"Grand Cottignies\",\"Centre-ville\",\"NaN\",\"Centre-ville\",\"Saint-Pierre\",\"NaN\",\"NaN\",\"Centre-ville - Pharos - Site Saint-Nicolas\",\"Centre-ville - Pharos - Site Saint-Nicolas\",\"Boers - Haut Vinage - Or\\u00e9e du Golf - Petit Wasquehal\",\"NaN\",\"NaN\",\"Saint-Pierre\",\"NaN\",\"Boers - Haut Vinage - Or\\u00e9e du Golf - Petit Wasquehal\",\"Capreau\",\"Centre-ville - Pharos - Site Saint-Nicolas\",\"Fer \\u00e0 Cheval\",\"Grand Cottignies\",\"Grand Cottignies\",\"NaN\",\"Centre-ville - Pharos - Site Saint-Nicolas\",\"NaN\",\"Boers - Haut Vinage - Or\\u00e9e du Golf - Petit Wasquehal\",\"Saint-Pierre\",\"NaN\",\"Saint-Pierre\",\"Grand Cottignies\",\"NaN\",\"Saint-Pierre\",\"Saint-Pierre\",\"Fer \\u00e0 Cheval\",\"Capreau\",\"NaN\",\"Capreau\",\"NaN\",\"Saint-Pierre\",\"Capreau\",\"NaN\",\"Grand Cottignies\",\"Grand Cottignies\",\"NaN\",\"Saint-Pierre\",\"Saint-Pierre\",\"NaN\",\"Centre-ville - Pharos - Site Saint-Nicolas\",\"Grand Cottignies\",\"NaN\",\"NaN\",\"Saint-Pierre\",\"Saint-Pierre\",\"Fer \\u00e0 Cheval\",\"Saint-Pierre\",\"Saint-Pierre\",\"Fer \\u00e0 Cheval\",\"Noir Bonnet - Rue Pasteur\",\"Fer \\u00e0 Cheval\",\"Saint-Pierre\",\"Saint-Pierre\",\"Centre-ville\"]},\"selected\":{\"id\":\"143666\",\"type\":\"Selection\"},\"selection_policy\":{\"id\":\"143667\",\"type\":\"UnionRenderers\"}},\"id\":\"141588\",\"type\":\"ColumnDataSource\"},{\"attributes\":{},\"id\":\"139108\",\"type\":\"WheelZoomTool\"},{\"attributes\":{},\"id\":\"141230\",\"type\":\"BasicTickFormatter\"},{\"attributes\":{\"dimension\":1,\"ticker\":{\"id\":\"132580\",\"type\":\"BasicTicker\"}},\"id\":\"132583\",\"type\":\"Grid\"},{\"attributes\":{\"child\":{\"id\":\"132564\",\"subtype\":\"Figure\",\"type\":\"Plot\"},\"title\":\"Types per City\"},\"id\":\"132624\",\"type\":\"Panel\"},{\"attributes\":{},\"id\":\"132586\",\"type\":\"ZoomInTool\"},{\"attributes\":{\"bottom_units\":\"screen\",\"fill_alpha\":{\"value\":0.5},\"fill_color\":{\"value\":\"lightgrey\"},\"left_units\":\"screen\",\"level\":\"overlay\",\"line_alpha\":{\"value\":1.0},\"line_color\":{\"value\":\"black\"},\"line_dash\":[4,4],\"line_width\":{\"value\":2},\"render_mode\":\"css\",\"right_units\":\"screen\",\"top_units\":\"screen\"},\"id\":\"132605\",\"type\":\"BoxAnnotation\"},{\"attributes\":{\"data_source\":{\"id\":\"136912\",\"type\":\"ColumnDataSource\"},\"glyph\":{\"id\":\"136944\",\"type\":\"VBar\"},\"hover_glyph\":null,\"muted_glyph\":{\"id\":\"136946\",\"type\":\"VBar\"},\"nonselection_glyph\":{\"id\":\"136945\",\"type\":\"VBar\"},\"selection_glyph\":null,\"view\":{\"id\":\"136948\",\"type\":\"CDSView\"}},\"id\":\"136947\",\"type\":\"GlyphRenderer\"},{\"attributes\":{\"bottom_units\":\"screen\",\"fill_alpha\":{\"value\":0.5},\"fill_color\":{\"value\":\"lightgrey\"},\"left_units\":\"screen\",\"level\":\"overlay\",\"line_alpha\":{\"value\":1.0},\"line_color\":{\"value\":\"black\"},\"line_dash\":[4,4],\"line_width\":{\"value\":2},\"render_mode\":\"css\",\"right_units\":\"screen\",\"top_units\":\"screen\"},\"id\":\"134776\",\"type\":\"BoxAnnotation\"},{\"attributes\":{\"bottom_units\":\"screen\",\"fill_alpha\":{\"value\":0.5},\"fill_color\":{\"value\":\"lightgrey\"},\"left_units\":\"screen\",\"level\":\"overlay\",\"line_alpha\":{\"value\":1.0},\"line_color\":{\"value\":\"black\"},\"line_dash\":[4,4],\"line_width\":{\"value\":2},\"render_mode\":\"css\",\"right_units\":\"screen\",\"top_units\":\"screen\"},\"id\":\"136954\",\"type\":\"BoxAnnotation\"},{\"attributes\":{\"overlay\":{\"id\":\"141237\",\"type\":\"BoxAnnotation\"}},\"id\":\"139109\",\"type\":\"BoxZoomTool\"},{\"attributes\":{\"children\":[{\"id\":\"141587\",\"type\":\"Div\"}]},\"id\":\"141644\",\"type\":\"Row\"},{\"attributes\":{},\"id\":\"139110\",\"type\":\"SaveTool\"},{\"attributes\":{},\"id\":\"141232\",\"type\":\"BasicTicker\"},{\"attributes\":{\"fill_alpha\":{\"value\":0.1},\"fill_color\":{\"value\":\"#1f77b4\"},\"line_alpha\":{\"value\":0.1},\"line_color\":{\"value\":\"#1f77b4\"},\"top\":{\"field\":\"Appartement\"},\"width\":{\"value\":0.3},\"x\":{\"field\":\"city\",\"transform\":{\"id\":\"132593\",\"type\":\"Dodge\"}}},\"id\":\"132596\",\"type\":\"VBar\"},{\"attributes\":{},\"id\":\"141233\",\"type\":\"BasicTickFormatter\"},{\"attributes\":{\"fill_color\":{\"value\":\"orange\"},\"line_color\":{\"value\":\"orange\"},\"top\":{\"field\":\"Maison\"},\"width\":{\"value\":0.3},\"x\":{\"field\":\"city\",\"transform\":{\"id\":\"132608\",\"type\":\"Dodge\"}}},\"id\":\"132610\",\"type\":\"VBar\"}],\"root_ids\":[\"143783\"]},\"title\":\"Bokeh Application\",\"version\":\"1.2.0\"}};\n",
       "  var render_items = [{\"docid\":\"4e69eee2-394b-4c26-845d-25fe23c7bd88\",\"roots\":{\"143783\":\"4a903313-1ff8-4e46-b737-677734f11f61\"}}];\n",
       "  root.Bokeh.embed.embed_items_notebook(docs_json, render_items);\n",
       "\n",
       "  }\n",
       "  if (root.Bokeh !== undefined) {\n",
       "    embed_document(root);\n",
       "  } else {\n",
       "    var attempts = 0;\n",
       "    var timer = setInterval(function(root) {\n",
       "      if (root.Bokeh !== undefined) {\n",
       "        embed_document(root);\n",
       "        clearInterval(timer);\n",
       "      }\n",
       "      attempts++;\n",
       "      if (attempts > 100) {\n",
       "        console.log(\"Bokeh: ERROR: Unable to run BokehJS code because BokehJS library is missing\");\n",
       "        clearInterval(timer);\n",
       "      }\n",
       "    }, 10, root)\n",
       "  }\n",
       "})(window);"
      ],
      "application/vnd.bokehjs_exec.v0+json": ""
     },
     "metadata": {
      "application/vnd.bokehjs_exec.v0+json": {
       "id": "143783"
      }
     },
     "output_type": "display_data"
    }
   ],
   "source": [
    "tabs = Tabs(tabs=[ tab1, tab2, tab3, tab4, tab5])\n",
    "\n",
    "show(tabs)"
   ]
  },
  {
   "cell_type": "markdown",
   "metadata": {},
   "source": [
    "# Under developement"
   ]
  },
  {
   "cell_type": "code",
   "execution_count": null,
   "metadata": {},
   "outputs": [],
   "source": [
    "# Here I am trying to change the axis dynamically by using widgets which will replicate the chart4 comparisons all in one graph"
   ]
  },
  {
   "cell_type": "code",
   "execution_count": null,
   "metadata": {},
   "outputs": [],
   "source": [
    "############################### experimentation ####################################################"
   ]
  },
  {
   "cell_type": "code",
   "execution_count": 801,
   "metadata": {},
   "outputs": [
    {
     "name": "stderr",
     "output_type": "stream",
     "text": [
      "WARNING:bokeh.embed.util:\n",
      "You are generating standalone HTML/JS output, but trying to use real Python\n",
      "callbacks (i.e. with on_change or on_event). This combination cannot work.\n",
      "\n",
      "Only JavaScript callbacks may be used with standalone output. For more\n",
      "information on JavaScript callbacks with Bokeh, see:\n",
      "\n",
      "    http://bokeh.pydata.org/en/latest/docs/user_guide/interaction/callbacks.html\n",
      "\n",
      "Alternatively, to use real Python callbacks, a Bokeh server application may\n",
      "be used. For more information on building and running Bokeh applications, see:\n",
      "\n",
      "    http://bokeh.pydata.org/en/latest/docs/user_guide/server.html\n",
      "\n"
     ]
    },
    {
     "data": {
      "text/html": [
       "\n",
       "\n",
       "\n",
       "\n",
       "\n",
       "\n",
       "  <div class=\"bk-root\" id=\"6c066ead-061c-4c74-9b35-4edca5c104b5\" data-root-id=\"76606\"></div>\n"
      ]
     },
     "metadata": {},
     "output_type": "display_data"
    },
    {
     "data": {
      "application/javascript": [
       "(function(root) {\n",
       "  function embed_document(root) {\n",
       "    \n",
       "  var docs_json = {\"f788e320-95d7-41e9-9f0d-0f3af9d4112f\":{\"roots\":{\"references\":[{\"attributes\":{\"children\":[{\"id\":\"76605\",\"type\":\"Row\"}]},\"id\":\"76606\",\"type\":\"Column\"},{\"attributes\":{},\"id\":\"77455\",\"type\":\"BasicTickFormatter\"},{\"attributes\":{\"children\":[{\"id\":\"76604\",\"type\":\"Column\"},{\"id\":\"76565\",\"subtype\":\"Figure\",\"type\":\"Plot\"}]},\"id\":\"76605\",\"type\":\"Row\"},{\"attributes\":{\"callback\":null,\"options\":[\"Area per ms\",\"Number of rooms\",\"Price of house\"],\"title\":\"X Axis\",\"value\":\"Price of house\"},\"id\":\"76562\",\"type\":\"Select\"},{\"attributes\":{\"axis_label\":\"Number of rooms\",\"formatter\":{\"id\":\"77455\",\"type\":\"BasicTickFormatter\"},\"ticker\":{\"id\":\"76582\",\"type\":\"BasicTicker\"}},\"id\":\"76581\",\"type\":\"LinearAxis\"},{\"attributes\":{\"dimension\":1,\"ticker\":{\"id\":\"76582\",\"type\":\"BasicTicker\"}},\"id\":\"76585\",\"type\":\"Grid\"},{\"attributes\":{\"callback\":null,\"options\":[\"Area per ms\",\"Number of rooms\",\"Price of house\"],\"title\":\"Y Axis\",\"value\":\"Number of rooms\"},\"id\":\"76563\",\"type\":\"Select\"},{\"attributes\":{\"ticker\":{\"id\":\"76577\",\"type\":\"BasicTicker\"}},\"id\":\"76580\",\"type\":\"Grid\"},{\"attributes\":{},\"id\":\"76582\",\"type\":\"BasicTicker\"},{\"attributes\":{\"fill_color\":{\"value\":\"red\"},\"line_color\":{\"value\":null},\"size\":{\"units\":\"screen\",\"value\":7},\"x\":{\"field\":\"x\"},\"y\":{\"field\":\"y\"}},\"id\":\"76600\",\"type\":\"Circle\"},{\"attributes\":{\"callback\":null,\"data\":{\"x\":[1355000,1290000,1050000,1040000,694790,660000,649000,590000,510000,479000,479000,475000,385000,360000,330000,298000,288000,276900,266500,262900,258900,250000,242500,240000,240000,231000,215000,207750,200000,196000,185755,183600,180000,179760,179000,175000,170000,170000,169000,168000,154145,153900,148500,148500,147900,146500,145600,140000,138500,137000,135990,135000,125000,118000,115990,115000,114500,104000,99000,96505,80000],\"y\":[6,10,7,8,10,10,5,5,5,4,4,6,5,4,5,5,3,3,4,3,3,3,5,4,4,3,3,3,3,4,3,3,3,4,2,4,2,2,4,3,2,2,2,6,5,6,4,2,5,2,4,4,2,2,2,3,2,1,2,3,1]},\"selected\":{\"id\":\"77460\",\"type\":\"Selection\"},\"selection_policy\":{\"id\":\"77461\",\"type\":\"UnionRenderers\"}},\"id\":\"76564\",\"type\":\"ColumnDataSource\"},{\"attributes\":{\"below\":[{\"id\":\"76576\",\"type\":\"LinearAxis\"}],\"center\":[{\"id\":\"76580\",\"type\":\"Grid\"},{\"id\":\"76585\",\"type\":\"Grid\"}],\"left\":[{\"id\":\"76581\",\"type\":\"LinearAxis\"}],\"plot_height\":500,\"renderers\":[{\"id\":\"76602\",\"type\":\"GlyphRenderer\"}],\"sizing_mode\":\"scale_both\",\"title\":{\"id\":\"76566\",\"type\":\"Title\"},\"toolbar\":{\"id\":\"76592\",\"type\":\"Toolbar\"},\"toolbar_location\":null,\"x_range\":{\"id\":\"76568\",\"type\":\"DataRange1d\"},\"x_scale\":{\"id\":\"76572\",\"type\":\"LinearScale\"},\"y_range\":{\"id\":\"76570\",\"type\":\"DataRange1d\"},\"y_scale\":{\"id\":\"76574\",\"type\":\"LinearScale\"}},\"id\":\"76565\",\"subtype\":\"Figure\",\"type\":\"Plot\"},{\"attributes\":{\"fill_alpha\":{\"value\":0.1},\"fill_color\":{\"value\":\"#1f77b4\"},\"line_alpha\":{\"value\":0.1},\"line_color\":{\"value\":\"#1f77b4\"},\"size\":{\"units\":\"screen\",\"value\":7},\"x\":{\"field\":\"x\"},\"y\":{\"field\":\"y\"}},\"id\":\"76601\",\"type\":\"Circle\"},{\"attributes\":{},\"id\":\"76577\",\"type\":\"BasicTicker\"},{\"attributes\":{\"source\":{\"id\":\"76564\",\"type\":\"ColumnDataSource\"}},\"id\":\"76603\",\"type\":\"CDSView\"},{\"attributes\":{\"axis_label\":\"Price of house\",\"formatter\":{\"id\":\"77457\",\"type\":\"BasicTickFormatter\"},\"ticker\":{\"id\":\"76577\",\"type\":\"BasicTicker\"}},\"id\":\"76576\",\"type\":\"LinearAxis\"},{\"attributes\":{\"overlay\":{\"id\":\"77459\",\"type\":\"BoxAnnotation\"}},\"id\":\"76588\",\"type\":\"BoxZoomTool\"},{\"attributes\":{},\"id\":\"76586\",\"type\":\"PanTool\"},{\"attributes\":{},\"id\":\"76574\",\"type\":\"LinearScale\"},{\"attributes\":{},\"id\":\"76587\",\"type\":\"WheelZoomTool\"},{\"attributes\":{},\"id\":\"77460\",\"type\":\"Selection\"},{\"attributes\":{\"text\":\"\"},\"id\":\"76566\",\"type\":\"Title\"},{\"attributes\":{\"bottom_units\":\"screen\",\"fill_alpha\":{\"value\":0.5},\"fill_color\":{\"value\":\"lightgrey\"},\"left_units\":\"screen\",\"level\":\"overlay\",\"line_alpha\":{\"value\":1.0},\"line_color\":{\"value\":\"black\"},\"line_dash\":[4,4],\"line_width\":{\"value\":2},\"render_mode\":\"css\",\"right_units\":\"screen\",\"top_units\":\"screen\"},\"id\":\"77459\",\"type\":\"BoxAnnotation\"},{\"attributes\":{\"callback\":null},\"id\":\"76568\",\"type\":\"DataRange1d\"},{\"attributes\":{},\"id\":\"76591\",\"type\":\"HelpTool\"},{\"attributes\":{\"data_source\":{\"id\":\"76564\",\"type\":\"ColumnDataSource\"},\"glyph\":{\"id\":\"76600\",\"type\":\"Circle\"},\"hover_glyph\":null,\"muted_glyph\":null,\"nonselection_glyph\":{\"id\":\"76601\",\"type\":\"Circle\"},\"selection_glyph\":null,\"view\":{\"id\":\"76603\",\"type\":\"CDSView\"}},\"id\":\"76602\",\"type\":\"GlyphRenderer\"},{\"attributes\":{},\"id\":\"76589\",\"type\":\"SaveTool\"},{\"attributes\":{},\"id\":\"76590\",\"type\":\"ResetTool\"},{\"attributes\":{},\"id\":\"77461\",\"type\":\"UnionRenderers\"},{\"attributes\":{},\"id\":\"76572\",\"type\":\"LinearScale\"},{\"attributes\":{\"children\":[{\"id\":\"76562\",\"type\":\"Select\"},{\"id\":\"76563\",\"type\":\"Select\"}],\"height\":1000,\"sizing_mode\":\"fixed\",\"width\":320},\"id\":\"76604\",\"type\":\"Column\"},{\"attributes\":{},\"id\":\"77457\",\"type\":\"BasicTickFormatter\"},{\"attributes\":{\"callback\":null},\"id\":\"76570\",\"type\":\"DataRange1d\"},{\"attributes\":{\"active_drag\":\"auto\",\"active_inspect\":\"auto\",\"active_multi\":null,\"active_scroll\":\"auto\",\"active_tap\":\"auto\",\"tools\":[{\"id\":\"76586\",\"type\":\"PanTool\"},{\"id\":\"76587\",\"type\":\"WheelZoomTool\"},{\"id\":\"76588\",\"type\":\"BoxZoomTool\"},{\"id\":\"76589\",\"type\":\"SaveTool\"},{\"id\":\"76590\",\"type\":\"ResetTool\"},{\"id\":\"76591\",\"type\":\"HelpTool\"}]},\"id\":\"76592\",\"type\":\"Toolbar\"}],\"root_ids\":[\"76606\"]},\"title\":\"Bokeh Application\",\"version\":\"1.2.0\"}};\n",
       "  var render_items = [{\"docid\":\"f788e320-95d7-41e9-9f0d-0f3af9d4112f\",\"roots\":{\"76606\":\"6c066ead-061c-4c74-9b35-4edca5c104b5\"}}];\n",
       "  root.Bokeh.embed.embed_items_notebook(docs_json, render_items);\n",
       "\n",
       "  }\n",
       "  if (root.Bokeh !== undefined) {\n",
       "    embed_document(root);\n",
       "  } else {\n",
       "    var attempts = 0;\n",
       "    var timer = setInterval(function(root) {\n",
       "      if (root.Bokeh !== undefined) {\n",
       "        embed_document(root);\n",
       "        clearInterval(timer);\n",
       "      }\n",
       "      attempts++;\n",
       "      if (attempts > 100) {\n",
       "        console.log(\"Bokeh: ERROR: Unable to run BokehJS code because BokehJS library is missing\");\n",
       "        clearInterval(timer);\n",
       "      }\n",
       "    }, 10, root)\n",
       "  }\n",
       "})(window);"
      ],
      "application/vnd.bokehjs_exec.v0+json": ""
     },
     "metadata": {
      "application/vnd.bokehjs_exec.v0+json": {
       "id": "76606"
      }
     },
     "output_type": "display_data"
    },
    {
     "name": "stderr",
     "output_type": "stream",
     "text": [
      "WARNING:bokeh.embed.util:\n",
      "You are generating standalone HTML/JS output, but trying to use real Python\n",
      "callbacks (i.e. with on_change or on_event). This combination cannot work.\n",
      "\n",
      "Only JavaScript callbacks may be used with standalone output. For more\n",
      "information on JavaScript callbacks with Bokeh, see:\n",
      "\n",
      "    http://bokeh.pydata.org/en/latest/docs/user_guide/interaction/callbacks.html\n",
      "\n",
      "Alternatively, to use real Python callbacks, a Bokeh server application may\n",
      "be used. For more information on building and running Bokeh applications, see:\n",
      "\n",
      "    http://bokeh.pydata.org/en/latest/docs/user_guide/server.html\n",
      "\n"
     ]
    }
   ],
   "source": [
    "\n",
    "\n",
    "\n",
    "axis_map = {\n",
    "    \"Price of house\": \"price\",\n",
    "    \"Number of rooms\": \"nbr_rooms\",\n",
    "    \"Area per ms\": \"area\",\n",
    "}\n",
    "\n",
    "x_axis = Select(title=\"X Axis\", options=sorted(axis_map.keys()), value=\"Price of house\")\n",
    "y_axis = Select(title=\"Y Axis\", options=sorted(axis_map.keys()), value=\"Number of rooms\")\n",
    "\n",
    "source = ColumnDataSource(data=dict(x=[], y=[]))\n",
    "\n",
    "pa = figure(plot_height=500, plot_width=600, title=\"\", toolbar_location=None, sizing_mode=\"scale_both\")\n",
    "pa.circle(x=\"x\", y=\"y\", source=source, size=7, color=\"red\", line_color=None)\n",
    "\n",
    "\n",
    "\n",
    "def update():\n",
    "    df = datah\n",
    "    x_name = axis_map[x_axis.value]\n",
    "    y_name = axis_map[y_axis.value]\n",
    "\n",
    "    pa.xaxis.axis_label = x_axis.value\n",
    "    pa.yaxis.axis_label = y_axis.value\n",
    "    source.data = dict(\n",
    "        x=df[x_name],\n",
    "        y=df[y_name],\n",
    "    )\n",
    "\n",
    "\n",
    "controls = [x_axis, y_axis]\n",
    "for control in controls:\n",
    "    control.on_change('value', lambda attr, old, new: update())\n",
    "    \n",
    "inputs = column(*controls, width=320, height=1000)\n",
    "inputs.sizing_mode = \"fixed\"\n",
    "l = layout([\n",
    "    [inputs, pa]\n",
    "])  \n",
    " \n",
    "\n",
    "\n",
    "update()  # initial load of the data\n",
    "\n",
    "#curdoc().add_root(column(x_axis,y_axis,pa))\n",
    "#curdoc().title = \"Movies\"\n",
    "#layout1 = row(x_axis,y_axis)\n",
    "#layout2 = column(layout1,pa)\n",
    "\n",
    "show(l)\n",
    "\n"
   ]
  },
  {
   "cell_type": "code",
   "execution_count": 845,
   "metadata": {},
   "outputs": [
    {
     "data": {
      "text/html": [
       "\n",
       "\n",
       "\n",
       "\n",
       "\n",
       "\n",
       "  <div class=\"bk-root\" id=\"a35634d2-58d0-4f54-ae35-5db02bac2483\" data-root-id=\"113498\"></div>\n"
      ]
     },
     "metadata": {},
     "output_type": "display_data"
    },
    {
     "data": {
      "application/javascript": [
       "(function(root) {\n",
       "  function embed_document(root) {\n",
       "    \n",
       "  var docs_json = {\"e4564000-f588-4e6c-9932-f2306759e1e2\":{\"roots\":{\"references\":[{\"attributes\":{\"below\":[{\"id\":\"113509\",\"type\":\"LinearAxis\"}],\"center\":[{\"id\":\"113513\",\"type\":\"Grid\"},{\"id\":\"113518\",\"type\":\"Grid\"}],\"left\":[{\"id\":\"113514\",\"type\":\"LinearAxis\"}],\"plot_height\":500,\"renderers\":[{\"id\":\"113535\",\"type\":\"GlyphRenderer\"}],\"sizing_mode\":\"scale_both\",\"title\":{\"id\":\"113499\",\"type\":\"Title\"},\"toolbar\":{\"id\":\"113525\",\"type\":\"Toolbar\"},\"toolbar_location\":null,\"x_range\":{\"id\":\"113501\",\"type\":\"DataRange1d\"},\"x_scale\":{\"id\":\"113505\",\"type\":\"LinearScale\"},\"y_range\":{\"id\":\"113503\",\"type\":\"DataRange1d\"},\"y_scale\":{\"id\":\"113507\",\"type\":\"LinearScale\"}},\"id\":\"113498\",\"subtype\":\"Figure\",\"type\":\"Plot\"},{\"attributes\":{},\"id\":\"113523\",\"type\":\"ResetTool\"},{\"attributes\":{\"callback\":null,\"data\":{\"Type\":[\"Maison\",\"Maison\",\"Maison\",\"Maison\",\"Maison\",\"Maison\",\"Appartement\",\"Maison\",\"Maison\",\"Appartement\",\"Appartement\",\"Maison\",\"Maison\",\"Appartement\",\"Maison\",\"Appartement\",\"Appartement\",\"Appartement\",\"Appartement\",\"Appartement\",\"Appartement\",\"Maison\",\"Maison\",\"Maison\",\"Maison\",\"Appartement\",\"Appartement\",\"Maison\",\"Appartement\",\"Appartement\",\"Maison\",\"Appartement\",\"Appartement\",\"Maison\",\"Appartement\",\"Maison\",\"Appartement\",\"Appartement\",\"Maison\",\"Maison\",\"Appartement\",\"Appartement\",\"Appartement\",\"Maison\",\"Maison\",\"Maison\",\"Appartement\",\"Appartement\",\"Maison\",\"Appartement\",\"Maison\",\"Maison\",\"Appartement\",\"Appartement\",\"Appartement\",\"Appartement\",\"Appartement\",\"Appartement\",\"Appartement\",\"Appartement\",\"Appartement\"],\"address\":[\"Croix 59170 (Fer \\u00e0 Cheval)\",\"Wasquehal 59290 (Grand Cottignies)\",\"Croix 59170 (Centre-ville)\",\"Croix 59170\",\"Croix 59170 (Centre-ville)\",\"Croix 59170 (Saint-Pierre)\",\"Wasquehal 59290\",\"Wasquehal 59290\",\"Wasquehal 59290 (Centre-ville - Pharos - Site Saint-Nicolas)\",\"Wasquehal 59290 (Centre-ville - Pharos - Site Saint-Nicolas)\",\"Wasquehal 59290 (Boers - Haut Vinage - Or\\u00e9e du Golf - Petit Wasquehal)\",\"Croix 59170\",\"Wasquehal 59290\",\"Croix 59170 (Saint-Pierre)\",\"Croix 59170\",\"Wasquehal 59290 (Boers - Haut Vinage - Or\\u00e9e du Golf - Petit Wasquehal)\",\"Wasquehal 59290 (Capreau)\",\"Wasquehal 59290 (Centre-ville - Pharos - Site Saint-Nicolas)\",\"Croix 59170 (Fer \\u00e0 Cheval)\",\"Wasquehal 59290 (Grand Cottignies)\",\"Wasquehal 59290 (Grand Cottignies)\",\"Wasquehal 59290\",\"Wasquehal 59290 (Centre-ville - Pharos - Site Saint-Nicolas)\",\"Wasquehal 59290\",\"Wasquehal 59290 (Boers - Haut Vinage - Or\\u00e9e du Golf - Petit Wasquehal)\",\"Croix 59170 (Saint-Pierre)\",\"Croix 59170\",\"Croix 59170 (Saint-Pierre)\",\"Wasquehal 59290 (Grand Cottignies)\",\"Croix 59170\",\"Croix 59170 (Saint-Pierre)\",\"Croix 59170 (Saint-Pierre)\",\"Croix 59170 (Fer \\u00e0 Cheval)\",\"Wasquehal 59290 (Capreau)\",\"Croix 59170\",\"Wasquehal 59290 (Capreau)\",\"Croix 59170\",\"Croix 59170 (Saint-Pierre)\",\"Wasquehal 59290 (Capreau)\",\"Wasquehal 59290\",\"Wasquehal 59290 (Grand Cottignies)\",\"Wasquehal 59290 (Grand Cottignies)\",\"Wasquehal 59290\",\"Croix 59170 (Saint-Pierre)\",\"Croix 59170 (Saint-Pierre)\",\"Croix 59170\",\"Wasquehal 59290 (Centre-ville - Pharos - Site Saint-Nicolas)\",\"Wasquehal 59290 (Grand Cottignies)\",\"Croix 59170\",\"Croix 59170\",\"Croix 59170 (Saint-Pierre)\",\"Croix 59170 (Saint-Pierre)\",\"Croix 59170 (Fer \\u00e0 Cheval)\",\"Croix 59170 (Saint-Pierre)\",\"Croix 59170 (Saint-Pierre)\",\"Croix 59170 (Fer \\u00e0 Cheval)\",\"Wasquehal 59290 (Noir Bonnet - Rue Pasteur)\",\"Croix 59170 (Fer \\u00e0 Cheval)\",\"Croix 59170 (Saint-Pierre)\",\"Croix 59170 (Saint-Pierre)\",\"Croix 59170 (Centre-ville)\"],\"area\":{\"__ndarray__\":\"AAAAAAAgckAAAAAAAIBxQAAAAAAAQG5AAAAAAAAAbkAAAAAAADB0QAAAAAAA4HVAAAAAAABAYkAAAAAAAABpQAAAAAAAQGVAAAAAAABAXUAAAAAAAEBdQAAAAAAAYGNAAAAAAAAAXkAAAAAAAABVQAAAAAAA4GBAAAAAAACAW0AAAAAAAIBTQAAAAAAAwFBAAAAAAAAAVUAAAAAAAABRQAAAAAAAAFBAAAAAAACAVkAAAAAAAMBSQAAAAAAAAFlAAAAAAAAA+H8AAAAAAABOQAAAAAAAQFNAAAAAAABAWkAAAAAAAIBQQAAAAAAAAFhAAAAAAABAWkAAAAAAAABPQAAAAAAAgFhAAAAAAAAAWUAAAAAAAABFQAAAAAAAgFZAAAAAAAAAT0AAAAAAAIBEQAAAAAAAgFZAAAAAAABAUEAAAAAAAIBGQAAAAAAAAERAAAAAAAAAREAAAAAAAIBYQAAAAAAAwFhAAAAAAAAAWUAAAAAAAEBVQAAAAAAAgERAAAAAAABAVUAAAAAAAIBKQAAAAAAAQFVAAAAAAAAAVEAAAAAAAIBPQAAAAAAAgEZAAAAAAAAAS0AAAAAAAIBWQAAAAAAAAPh/AAAAAACARUAAAAAAAIBKQAAAAAAAwFdAAAAAAAAARUA=\",\"dtype\":\"float64\",\"shape\":[61]},\"category\":[\"Maison 6 pi\\u00e8ces 290 m\\u00b2\\nCroix 59170 (Fer \\u00e0 Cheval)\",\"Maison 10 pi\\u00e8ces 280 m\\u00b2\\nWasquehal 59290 (Grand Cottignies)\",\"Maison 7 pi\\u00e8ces 242 m\\u00b2\\nCroix 59170 (Centre-ville)\",\"Maison 8 pi\\u00e8ces 240 m\\u00b2\\nCroix 59170\",\"Maison 10 pi\\u00e8ces 323 m\\u00b2\\nCroix 59170 (Centre-ville)\",\"Maison 10 pi\\u00e8ces 350 m\\u00b2\\nCroix 59170 (Saint-Pierre)\",\"Appartement 5 pi\\u00e8ces 146 m\\u00b2\\nWasquehal 59290\",\"Maison 5 pi\\u00e8ces 200 m\\u00b2\\nWasquehal 59290\",\"Maison 5 pi\\u00e8ces 170 m\\u00b2\\nWasquehal 59290 (Centre-ville - Pharos - Site Saint-Nicolas)\",\"Appartement 4 pi\\u00e8ces 117 m\\u00b2\\nWasquehal 59290 (Centre-ville - Pharos - Site Saint-Nicolas)\",\"Appartement 4 pi\\u00e8ces 117 m\\u00b2\\nWasquehal 59290 (Boers - Haut Vinage - Or\\u00e9e du Golf - Petit Wasquehal)\",\"Maison 6 pi\\u00e8ces 155 m\\u00b2\\nCroix 59170\",\"Maison 5 pi\\u00e8ces 120 m\\u00b2\\nWasquehal 59290\",\"Appartement 4 pi\\u00e8ces 84 m\\u00b2\\nCroix 59170 (Saint-Pierre)\",\"Maison 5 pi\\u00e8ces 135 m\\u00b2\\nCroix 59170\",\"Appartement 5 pi\\u00e8ces 110 m\\u00b2\\nWasquehal 59290 (Boers - Haut Vinage - Or\\u00e9e du Golf - Petit Wasquehal)\",\"Appartement 3 pi\\u00e8ces 78 m\\u00b2\\nWasquehal 59290 (Capreau)\",\"Appartement 3 pi\\u00e8ces 67 m\\u00b2\\nWasquehal 59290 (Centre-ville - Pharos - Site Saint-Nicolas)\",\"Appartement 4 pi\\u00e8ces 84 m\\u00b2\\nCroix 59170 (Fer \\u00e0 Cheval)\",\"Appartement 3 pi\\u00e8ces 68 m\\u00b2\\nWasquehal 59290 (Grand Cottignies)\",\"Appartement 3 pi\\u00e8ces 64 m\\u00b2\\nWasquehal 59290 (Grand Cottignies)\",\"Maison 3 pi\\u00e8ces 90 m\\u00b2\\nWasquehal 59290\",\"Maison 5 pi\\u00e8ces 75 m\\u00b2\\nWasquehal 59290 (Centre-ville - Pharos - Site Saint-Nicolas)\",\"Maison 4 pi\\u00e8ces 100 m\\u00b2\\nWasquehal 59290\",\"Maison 4 pi\\u00e8ces\\nWasquehal 59290 (Boers - Haut Vinage - Or\\u00e9e du Golf - Petit Wasquehal)\",\"Appartement 3 pi\\u00e8ces 60 m\\u00b2\\nCroix 59170 (Saint-Pierre)\",\"Appartement 3 pi\\u00e8ces 77 m\\u00b2\\nCroix 59170\",\"Maison 3 pi\\u00e8ces 105 m\\u00b2\\nCroix 59170 (Saint-Pierre)\",\"Appartement 3 pi\\u00e8ces 66 m\\u00b2\\nWasquehal 59290 (Grand Cottignies)\",\"Appartement 4 pi\\u00e8ces 96 m\\u00b2\\nCroix 59170\",\"Maison 3 pi\\u00e8ces 105 m\\u00b2\\nCroix 59170 (Saint-Pierre)\",\"Appartement 3 pi\\u00e8ces 62 m\\u00b2\\nCroix 59170 (Saint-Pierre)\",\"Appartement 3 pi\\u00e8ces 98 m\\u00b2\\nCroix 59170 (Fer \\u00e0 Cheval)\",\"Maison 4 pi\\u00e8ces 100 m\\u00b2\\nWasquehal 59290 (Capreau)\",\"Appartement 2 pi\\u00e8ces 42 m\\u00b2\\nCroix 59170\",\"Maison 4 pi\\u00e8ces 90 m\\u00b2\\nWasquehal 59290 (Capreau)\",\"Appartement 2 pi\\u00e8ces 62 m\\u00b2\\nCroix 59170\",\"Appartement 2 pi\\u00e8ces 41 m\\u00b2\\nCroix 59170 (Saint-Pierre)\",\"Maison 4 pi\\u00e8ces 90 m\\u00b2\\nWasquehal 59290 (Capreau)\",\"Maison 3 pi\\u00e8ces 65 m\\u00b2\\nWasquehal 59290\",\"Appartement 2 pi\\u00e8ces 45 m\\u00b2\\nWasquehal 59290 (Grand Cottignies)\",\"Appartement 2 pi\\u00e8ces 40 m\\u00b2\\nWasquehal 59290 (Grand Cottignies)\",\"Appartement 2 pi\\u00e8ces 40 m\\u00b2\\nWasquehal 59290\",\"Maison 6 pi\\u00e8ces 98 m\\u00b2\\nCroix 59170 (Saint-Pierre)\",\"Maison 5 pi\\u00e8ces 99 m\\u00b2\\nCroix 59170 (Saint-Pierre)\",\"Maison 6 pi\\u00e8ces 100 m\\u00b2\\nCroix 59170\",\"Appartement 4 pi\\u00e8ces 85 m\\u00b2\\nWasquehal 59290 (Centre-ville - Pharos - Site Saint-Nicolas)\",\"Appartement 2 pi\\u00e8ces 41 m\\u00b2\\nWasquehal 59290 (Grand Cottignies)\",\"Maison 5 pi\\u00e8ces 85 m\\u00b2\\nCroix 59170\",\"Appartement 2 pi\\u00e8ces 53 m\\u00b2\\nCroix 59170\",\"Maison 4 pi\\u00e8ces 85 m\\u00b2\\nCroix 59170 (Saint-Pierre)\",\"Maison 4 pi\\u00e8ces 80 m\\u00b2\\nCroix 59170 (Saint-Pierre)\",\"Appartement 2 pi\\u00e8ces 63 m\\u00b2\\nCroix 59170 (Fer \\u00e0 Cheval)\",\"Appartement 2 pi\\u00e8ces 45 m\\u00b2\\nCroix 59170 (Saint-Pierre)\",\"Appartement 2 pi\\u00e8ces 54 m\\u00b2\\nCroix 59170 (Saint-Pierre)\",\"Appartement 3 pi\\u00e8ces 90 m\\u00b2\\nCroix 59170 (Fer \\u00e0 Cheval)\",\"Appartement 2 pi\\u00e8ces\\nWasquehal 59290 (Noir Bonnet - Rue Pasteur)\",\"Appartement 1 pi\\u00e8ce 43 m\\u00b2\\nCroix 59170 (Fer \\u00e0 Cheval)\",\"Appartement 2 pi\\u00e8ces 53 m\\u00b2\\nCroix 59170 (Saint-Pierre)\",\"Appartement 3 pi\\u00e8ces 95 m\\u00b2\\nCroix 59170 (Saint-Pierre)\",\"Appartement 1 pi\\u00e8ce 42 m\\u00b2\\nCroix 59170 (Centre-ville)\"],\"city\":[\"Croix\",\"Wasquehal\",\"Croix\",\"Croix\",\"Croix\",\"Croix\",\"Wasquehal\",\"Wasquehal\",\"Wasquehal\",\"Wasquehal\",\"Wasquehal\",\"Croix\",\"Wasquehal\",\"Croix\",\"Croix\",\"Wasquehal\",\"Wasquehal\",\"Wasquehal\",\"Croix\",\"Wasquehal\",\"Wasquehal\",\"Wasquehal\",\"Wasquehal\",\"Wasquehal\",\"Wasquehal\",\"Croix\",\"Croix\",\"Croix\",\"Wasquehal\",\"Croix\",\"Croix\",\"Croix\",\"Croix\",\"Wasquehal\",\"Croix\",\"Wasquehal\",\"Croix\",\"Croix\",\"Wasquehal\",\"Wasquehal\",\"Wasquehal\",\"Wasquehal\",\"Wasquehal\",\"Croix\",\"Croix\",\"Croix\",\"Wasquehal\",\"Wasquehal\",\"Croix\",\"Croix\",\"Croix\",\"Croix\",\"Croix\",\"Croix\",\"Croix\",\"Croix\",\"Wasquehal\",\"Croix\",\"Croix\",\"Croix\",\"Croix\"],\"image_link\":[\"https://file.bienici.com/photo/hektor-agveroniquefont-3183_agveroniquefont.staticlbi.com_original_images_biens_1_7f01c939761597f9b832694d4c381512_ef0105031d39a10a637e500bea7beefc.jpg?width=300&height=180&fit=cover\",\"https://file.bienici.com/photo/hektor-agveroniquefont-1596_agveroniquefont.staticlbi.com_original_images_biens_1_a368b0de8b91cfb3f91892fbf1ebd4b2_56b8b12117f04622247fdb4c55fb6b07.jpg?width=300&height=180&fit=cover\",\"https://file.bienici.com/photo/hektor-agveroniquefont-1018_agveroniquefont.staticlbi.com_original_images_biens_1_24146db4eb48c718b84cae0a0799dcfc_cb86702143a2e657da06b09191c6f497.jpg?width=300&height=180&fit=cover\",\"https://file.bienici.com/photo/hektor-agveroniquefont-2769_agveroniquefont.staticlbi.com_original_images_biens_1_d47844673f2db74d78da8687d794523d_5c5bac4caef5eecb67347c2deb20ad64.jpg?width=300&height=180&fit=cover\",\"https://file.bienici.com/photo/orpi-1-120001E1EHML_media6.ac3-distribution.com_office6_orpi_73336_catalog_images_pr_p_6_0_9_2_0_6_5_6092065a.jpg_DATEMAJ_201911151644?width=300&height=180&fit=cover\",\"https://file.bienici.com/photo/fnaim-44414715_images-raw.fnaim.fr_images1_img96_2969600VN1684T01.jpg?width=300&height=180&fit=cover\",\"https://file.bienici.com/photo/ag593804-216440889_photos.ubiflow.net_593804_216440889_photos_1.jpg_20191014194207?width=300&height=180&fit=cover\",\"https://file.bienici.com/photo/ag593804-219876426_photos.ubiflow.net_593804_219876426_photos_1.jpg_20191014194417?width=300&height=180&fit=cover\",\"https://file.bienici.com/photo/hektor-agveroniquefont-3807_agveroniquefont.staticlbi.com_original_images_biens_1_572de2f72d5731ff8a6744d12368d260_photo_8c9ca674d1f61fa5839b798bf9d85db6.jpg?width=300&height=180&fit=cover\",\"https://file.bienici.com/photo/century-21-202_3283_894_core.naxos-fr.net_imagesBien_202_3283_c21_202_3283_894_1_5579DDD1-1F2D-44B1-A69C-0D187D14464F.jpg?width=300&height=180&fit=cover\",\"https://file.bienici.com/photo/ag340378-229347814_photos.ubiflow.net_340378_229347814_photos_1.jpg_20191210031913?width=300&height=180&fit=cover\",\"https://file.bienici.com/photo/ag593804-221245957_photos.ubiflow.net_593804_221245957_photos_1.jpg_20191016141151?width=300&height=180&fit=cover\",\"https://file.bienici.com/photo/ag593804-227027287_photos.ubiflow.net_593804_227027287_photos_1.jpg_20191123172421?width=300&height=180&fit=cover\",\"https://file.bienici.com/photo/century-21-202_3283_971_core.naxos-fr.net_imagesBien_202_3283_c21_202_3283_971_1_C4D0F34C-C2FB-43A8-8375-8EA60B714C48.jpg?width=300&height=180&fit=cover\",\"https://file.bienici.com/photo/ag593804-220546338_photos.ubiflow.net_593804_220546338_photos_1.jpg_20191014194259?width=300&height=180&fit=cover\",\"https://file.bienici.com/photo/ag592469-221710204_photos.ubiflow.net_592469_221710204_photos_1.jpg_20191019041339?width=300&height=180&fit=cover\",\"https://file.bienici.com/photo/ag591569-217021893_photos.ubiflow.net_591569_217021893_photos_1.jpg_20190918124446?width=300&height=180&fit=cover\",\"https://file.bienici.com/photo/century-21-202_3283_944_core.naxos-fr.net_imagesBien_202_3283_c21_202_3283_944_1_CEF25ABC-A27E-4488-A453-35D74124780A.jpg?width=300&height=180&fit=cover\",\"https://file.bienici.com/photo/orpi-1-120037E19FML_media6.ac3-distribution.com_office6_orpi_73142_catalog_images_pr_p_5_6_5_5_8_3_3_5655833a.jpg_DATEMAJ_201902121541?width=300&height=180&fit=cover\",\"https://file.bienici.com/photo/century-21-202_3283_891_core.naxos-fr.net_imagesBien_202_3283_c21_202_3283_891_1_8B28FC8D-0C79-4592-9D73-503EAB5D9284.jpg?width=300&height=180&fit=cover\",\"https://file.bienici.com/photo/century-21-202_3283_892_core.naxos-fr.net_imagesBien_202_3283_c21_202_3283_892_1_73486669-E31A-4DFF-95A7-3C9739DFE1A6.jpg?width=300&height=180&fit=cover\",\"https://file.bienici.com/photo/ag593804-221609191_photos.ubiflow.net_593804_221609191_photos_1.jpg_20191018132830?width=300&height=180&fit=cover\",\"https://file.bienici.com/photo/orpi-1-120003E1GTND_media6.ac3-distribution.com_office6_orpi_73453_catalog_images_pr_p_6_2_2_6_0_5_7_6226057a.jpg_DATEMAJ_201911041600?width=300&height=180&fit=cover\",\"https://file.bienici.com/photo/ag591008-228608418_photos.ubiflow.net_591008_228608418_photos_1.jpg_20191204164026?width=300&height=180&fit=cover\",\"https://file.bienici.com/photo/ag591008-230764911_photos.ubiflow.net_591008_230764911_photos_1.jpg_20191219185249?width=300&height=180&fit=cover\",\"https://file.bienici.com/photo/ag440414-208485234_photos.ubiflow.net_440414_208485234_photos_1.jpg_20190718153413?width=300&height=180&fit=cover\",\"https://file.bienici.com/photo/ag593804-217576866_photos.ubiflow.net_593804_217576866_photos_1.jpg_20191014194201?width=300&height=180&fit=cover\",\"https://file.bienici.com/photo/orpi-1-120908E1FW7T_media6.ac3-distribution.com_office6_orpi_73336_catalog_images_pr_p_6_1_7_4_7_7_2_6174772a.jpg_DATEMAJ_201909241119?width=300&height=180&fit=cover\",\"https://file.bienici.com/photo/pericles-22959888_a?width=300&height=180&fit=cover\",\"https://file.bienici.com/photo/apimo-3428226_d1qfj231ug7wdu.cloudfront.net_pictures_estate_3429_3428226_2196580795dd80ae9006025.69620465_1920.jpg?width=300&height=180&fit=cover\",\"https://file.bienici.com/photo/ag440414-226888141_photos.ubiflow.net_440414_226888141_photos_1.jpg_20191122193043?width=300&height=180&fit=cover\",\"https://file.bienici.com/photo/pericles-26650268_a?width=300&height=180&fit=cover\",\"https://file.bienici.com/photo/pericles-27541440_a?width=300&height=180&fit=cover\",\"https://file.bienici.com/photo/orpi-1-120037E1CQC3_media6.ac3-distribution.com_office6_orpi_73142_catalog_images_pr_p_5_8_6_9_6_7_2_5869672a.jpg_DATEMAJ_201909101731?width=300&height=180&fit=cover\",\"https://file.bienici.com/photo/ag593804-218962977_photos.ubiflow.net_593804_218962977_photos_1.jpg_20191014194217?width=300&height=180&fit=cover\",\"https://file.bienici.com/photo/ag591569-197980825_photos.ubiflow.net_591569_197980825_photos_1.jpg_20190521112412?width=300&height=180&fit=cover\",\"https://file.bienici.com/photo/ag593804-223131715_photos.ubiflow.net_593804_223131715_photos_1.jpg_20191029174024?width=300&height=180&fit=cover\",\"https://file.bienici.com/photo/century-21-202_3283_972_core.naxos-fr.net_imagesBien_202_3283_c21_202_3283_972_1_2A939C23-D4EF-4FDD-984E-EB40A9F494B6.jpg?width=300&height=180&fit=cover\",\"https://file.bienici.com/photo/orpi-1-120037E1HI1E_media6.ac3-distribution.com_office6_orpi_73142_catalog_images_pr_p_6_2_7_1_1_0_1_6271101a.jpg_DATEMAJ_201911131029?width=300&height=180&fit=cover\",\"https://file.bienici.com/photo/ag593804-216810150_photos.ubiflow.net_593804_216810150_photos_1.jpg_20191014194245?width=300&height=180&fit=cover\",\"https://file.bienici.com/photo/orpi-1-120037E1HFQI_media6.ac3-distribution.com_office6_orpi_73142_catalog_images_pr_p_6_2_6_7_4_8_1_6267481a.jpg_DATEMAJ_201911121402?width=300&height=180&fit=cover\",\"https://file.bienici.com/photo/immo-facile-34136641_media.immo-facile.com_office2_exactimmo_catalog_images_pr_p_3_4_1_3_6_6_4_1_34136641a.jpg_DATEMAJ_22_10_2019-09_20_16?width=300&height=180&fit=cover\",\"https://file.bienici.com/photo/ag593804-222595345_photos.ubiflow.net_593804_222595345_photos_1.jpg_20191025132130?width=300&height=180&fit=cover\",\"https://file.bienici.com/photo/ag440414-227220979_photos.ubiflow.net_440414_227220979_photos_1.jpg_20191125152213?width=300&height=180&fit=cover\",\"https://file.bienici.com/photo/orpi-1-120901E1ER80_media6.ac3-distribution.com_office6_orpi_73336_catalog_images_pr_p_6_1_0_7_7_5_0_6107750a.jpg_DATEMAJ_201909271444?width=300&height=180&fit=cover\",\"https://file.bienici.com/photo/ag593804-220546365_photos.ubiflow.net_593804_220546365_photos_1.jpg_20191016213637?width=300&height=180&fit=cover\",\"https://file.bienici.com/photo/ag591008-210492347_photos.ubiflow.net_591008_210492347_photos_1.jpg_20190801120625?width=300&height=180&fit=cover\",\"https://file.bienici.com/photo/pericles-25803012_a?width=300&height=180&fit=cover\",\"https://file.bienici.com/photo/ag593804-221609209_photos.ubiflow.net_593804_221609209_photos_1.jpg_20191018132833?width=300&height=180&fit=cover\",\"https://file.bienici.com/photo/ag593804-218748273_photos.ubiflow.net_593804_218748273_photos_1.jpg_20191118214004?width=300&height=180&fit=cover\",\"https://file.bienici.com/photo/ag440414-221659210_photos.ubiflow.net_440414_221659210_photos_1.jpg_20191018190414?width=300&height=180&fit=cover\",\"https://file.bienici.com/photo/pericles-27660414_a?width=300&height=180&fit=cover\",\"https://file.bienici.com/photo/pericles-27875328_a?width=300&height=180&fit=cover\",\"https://file.bienici.com/photo/immo-facile-32614038_media.immo-facile.com_office16_immodefrance_npdc_catalog_images_pr_p_3_2_6_1_4_0_3_8_32614038a.jpg_DATEMAJ_25_06_2019-17_26_45?width=300&height=180&fit=cover\",\"https://file.bienici.com/photo/ag440414-225507691_photos.ubiflow.net_440414_225507691_photos_1.jpg_20191114185847?width=300&height=180&fit=cover\",\"https://file.bienici.com/photo/ag440414-212765508_photos.ubiflow.net_440414_212765508_photos_1.jpg_20191126145042?width=300&height=180&fit=cover\",\"https://file.bienici.com/photo/citya-immobilier-1289-TAPP422525_cityabox-web.ics.infoclip.fr_icsbox_cit_CITYA_FLANDRES_jdd_transaction_photo_filigrane-2--3989774459365924394.jpg?width=300&height=180&fit=cover\",\"https://file.bienici.com/photo/pericles-25038823_a?width=300&height=180&fit=cover\",\"https://file.bienici.com/photo/ag592837-227283511_photos.ubiflow.net_592837_227283511_photos_1.jpg_20191129023826?width=300&height=180&fit=cover\",\"https://file.bienici.com/photo/ag752451-209382087_photos.ubiflow.net_752451_209382087_photos_1.jpg_20191213204035?width=300&height=180&fit=cover\",\"https://file.bienici.com/photo/ag594019-228452107_photos.ubiflow.net_594019_228452107_photos_1.jpg_20191207094215?width=300&height=180&fit=cover\"],\"index\":[52,34,62,68,2,20,49,47,42,24,26,58,54,7,46,27,48,21,15,30,29,57,1,63,43,39,61,44,16,55,18,10,23,33,59,51,64,6,37,67,38,45,56,5,31,66,53,40,65,60,28,22,9,14,8,13,3,41,4,0,17],\"nbr_rooms\":[6,10,7,8,10,10,5,5,5,4,4,6,5,4,5,5,3,3,4,3,3,3,5,4,4,3,3,3,3,4,3,3,3,4,2,4,2,2,4,3,2,2,2,6,5,6,4,2,5,2,4,4,2,2,2,3,2,1,2,3,1],\"pincode\":[59170,59290,59170,59170,59170,59170,59290,59290,59290,59290,59290,59170,59290,59170,59170,59290,59290,59290,59170,59290,59290,59290,59290,59290,59290,59170,59170,59170,59290,59170,59170,59170,59170,59290,59170,59290,59170,59170,59290,59290,59290,59290,59290,59170,59170,59170,59290,59290,59170,59170,59170,59170,59170,59170,59170,59170,59290,59170,59170,59170,59170],\"price\":[1355000,1290000,1050000,1040000,694790,660000,649000,590000,510000,479000,479000,475000,385000,360000,330000,298000,288000,276900,266500,262900,258900,250000,242500,240000,240000,231000,215000,207750,200000,196000,185755,183600,180000,179760,179000,175000,170000,170000,169000,168000,154145,153900,148500,148500,147900,146500,145600,140000,138500,137000,135990,135000,125000,118000,115990,115000,114500,104000,99000,96505,80000],\"serial\":[53,35,63,69,3,21,50,48,43,25,27,59,55,8,47,28,49,22,16,31,30,58,2,64,44,40,62,45,17,56,19,11,24,34,60,52,65,7,38,68,39,46,57,6,32,67,54,41,66,61,29,23,10,15,9,14,4,42,5,1,18],\"street\":[\"Fer \\u00e0 Cheval\",\"Grand Cottignies\",\"Centre-ville\",\"NaN\",\"Centre-ville\",\"Saint-Pierre\",\"NaN\",\"NaN\",\"Centre-ville - Pharos - Site Saint-Nicolas\",\"Centre-ville - Pharos - Site Saint-Nicolas\",\"Boers - Haut Vinage - Or\\u00e9e du Golf - Petit Wasquehal\",\"NaN\",\"NaN\",\"Saint-Pierre\",\"NaN\",\"Boers - Haut Vinage - Or\\u00e9e du Golf - Petit Wasquehal\",\"Capreau\",\"Centre-ville - Pharos - Site Saint-Nicolas\",\"Fer \\u00e0 Cheval\",\"Grand Cottignies\",\"Grand Cottignies\",\"NaN\",\"Centre-ville - Pharos - Site Saint-Nicolas\",\"NaN\",\"Boers - Haut Vinage - Or\\u00e9e du Golf - Petit Wasquehal\",\"Saint-Pierre\",\"NaN\",\"Saint-Pierre\",\"Grand Cottignies\",\"NaN\",\"Saint-Pierre\",\"Saint-Pierre\",\"Fer \\u00e0 Cheval\",\"Capreau\",\"NaN\",\"Capreau\",\"NaN\",\"Saint-Pierre\",\"Capreau\",\"NaN\",\"Grand Cottignies\",\"Grand Cottignies\",\"NaN\",\"Saint-Pierre\",\"Saint-Pierre\",\"NaN\",\"Centre-ville - Pharos - Site Saint-Nicolas\",\"Grand Cottignies\",\"NaN\",\"NaN\",\"Saint-Pierre\",\"Saint-Pierre\",\"Fer \\u00e0 Cheval\",\"Saint-Pierre\",\"Saint-Pierre\",\"Fer \\u00e0 Cheval\",\"Noir Bonnet - Rue Pasteur\",\"Fer \\u00e0 Cheval\",\"Saint-Pierre\",\"Saint-Pierre\",\"Centre-ville\"]},\"selected\":{\"id\":\"114625\",\"type\":\"Selection\"},\"selection_policy\":{\"id\":\"114626\",\"type\":\"UnionRenderers\"}},\"id\":\"113497\",\"type\":\"ColumnDataSource\"},{\"attributes\":{\"ticker\":{\"id\":\"113510\",\"type\":\"BasicTicker\"}},\"id\":\"113513\",\"type\":\"Grid\"},{\"attributes\":{},\"id\":\"113522\",\"type\":\"SaveTool\"},{\"attributes\":{},\"id\":\"114626\",\"type\":\"UnionRenderers\"},{\"attributes\":{},\"id\":\"113520\",\"type\":\"WheelZoomTool\"},{\"attributes\":{\"formatter\":{\"id\":\"114622\",\"type\":\"BasicTickFormatter\"},\"ticker\":{\"id\":\"113510\",\"type\":\"BasicTicker\"}},\"id\":\"113509\",\"type\":\"LinearAxis\"},{\"attributes\":{\"fill_alpha\":{\"value\":0.1},\"fill_color\":{\"value\":\"#1f77b4\"},\"line_alpha\":{\"value\":0.1},\"line_color\":{\"value\":\"#1f77b4\"},\"size\":{\"units\":\"screen\",\"value\":7},\"x\":{\"field\":\"area\"},\"y\":{\"field\":\"price\"}},\"id\":\"113534\",\"type\":\"Circle\"},{\"attributes\":{\"source\":{\"id\":\"113497\",\"type\":\"ColumnDataSource\"}},\"id\":\"113536\",\"type\":\"CDSView\"},{\"attributes\":{\"data_source\":{\"id\":\"113497\",\"type\":\"ColumnDataSource\"},\"glyph\":{\"id\":\"113533\",\"type\":\"Circle\"},\"hover_glyph\":null,\"muted_glyph\":null,\"nonselection_glyph\":{\"id\":\"113534\",\"type\":\"Circle\"},\"selection_glyph\":null,\"view\":{\"id\":\"113536\",\"type\":\"CDSView\"}},\"id\":\"113535\",\"type\":\"GlyphRenderer\"},{\"attributes\":{},\"id\":\"113507\",\"type\":\"LinearScale\"},{\"attributes\":{},\"id\":\"113515\",\"type\":\"BasicTicker\"},{\"attributes\":{\"fill_color\":{\"value\":\"red\"},\"line_color\":{\"value\":null},\"size\":{\"units\":\"screen\",\"value\":7},\"x\":{\"field\":\"area\"},\"y\":{\"field\":\"price\"}},\"id\":\"113533\",\"type\":\"Circle\"},{\"attributes\":{\"text\":\"\"},\"id\":\"113499\",\"type\":\"Title\"},{\"attributes\":{},\"id\":\"113505\",\"type\":\"LinearScale\"},{\"attributes\":{\"callback\":null},\"id\":\"113503\",\"type\":\"DataRange1d\"},{\"attributes\":{},\"id\":\"113519\",\"type\":\"PanTool\"},{\"attributes\":{\"formatter\":{\"id\":\"114620\",\"type\":\"BasicTickFormatter\"},\"ticker\":{\"id\":\"113515\",\"type\":\"BasicTicker\"}},\"id\":\"113514\",\"type\":\"LinearAxis\"},{\"attributes\":{\"overlay\":{\"id\":\"114624\",\"type\":\"BoxAnnotation\"}},\"id\":\"113521\",\"type\":\"BoxZoomTool\"},{\"attributes\":{},\"id\":\"113510\",\"type\":\"BasicTicker\"},{\"attributes\":{\"callback\":null},\"id\":\"113501\",\"type\":\"DataRange1d\"},{\"attributes\":{\"active_drag\":\"auto\",\"active_inspect\":\"auto\",\"active_multi\":null,\"active_scroll\":\"auto\",\"active_tap\":\"auto\",\"tools\":[{\"id\":\"113519\",\"type\":\"PanTool\"},{\"id\":\"113520\",\"type\":\"WheelZoomTool\"},{\"id\":\"113521\",\"type\":\"BoxZoomTool\"},{\"id\":\"113522\",\"type\":\"SaveTool\"},{\"id\":\"113523\",\"type\":\"ResetTool\"},{\"id\":\"113524\",\"type\":\"HelpTool\"}]},\"id\":\"113525\",\"type\":\"Toolbar\"},{\"attributes\":{\"dimension\":1,\"ticker\":{\"id\":\"113515\",\"type\":\"BasicTicker\"}},\"id\":\"113518\",\"type\":\"Grid\"},{\"attributes\":{},\"id\":\"114620\",\"type\":\"BasicTickFormatter\"},{\"attributes\":{},\"id\":\"114622\",\"type\":\"BasicTickFormatter\"},{\"attributes\":{\"bottom_units\":\"screen\",\"fill_alpha\":{\"value\":0.5},\"fill_color\":{\"value\":\"lightgrey\"},\"left_units\":\"screen\",\"level\":\"overlay\",\"line_alpha\":{\"value\":1.0},\"line_color\":{\"value\":\"black\"},\"line_dash\":[4,4],\"line_width\":{\"value\":2},\"render_mode\":\"css\",\"right_units\":\"screen\",\"top_units\":\"screen\"},\"id\":\"114624\",\"type\":\"BoxAnnotation\"},{\"attributes\":{},\"id\":\"114625\",\"type\":\"Selection\"},{\"attributes\":{},\"id\":\"113524\",\"type\":\"HelpTool\"}],\"root_ids\":[\"113498\"]},\"title\":\"Bokeh Application\",\"version\":\"1.2.0\"}};\n",
       "  var render_items = [{\"docid\":\"e4564000-f588-4e6c-9932-f2306759e1e2\",\"notebook_comms_target\":\"114627\",\"roots\":{\"113498\":\"a35634d2-58d0-4f54-ae35-5db02bac2483\"}}];\n",
       "  root.Bokeh.embed.embed_items_notebook(docs_json, render_items);\n",
       "\n",
       "  }\n",
       "  if (root.Bokeh !== undefined) {\n",
       "    embed_document(root);\n",
       "  } else {\n",
       "    var attempts = 0;\n",
       "    var timer = setInterval(function(root) {\n",
       "      if (root.Bokeh !== undefined) {\n",
       "        embed_document(root);\n",
       "        clearInterval(timer);\n",
       "      }\n",
       "      attempts++;\n",
       "      if (attempts > 100) {\n",
       "        console.log(\"Bokeh: ERROR: Unable to run BokehJS code because BokehJS library is missing\");\n",
       "        clearInterval(timer);\n",
       "      }\n",
       "    }, 10, root)\n",
       "  }\n",
       "})(window);"
      ],
      "application/vnd.bokehjs_exec.v0+json": ""
     },
     "metadata": {
      "application/vnd.bokehjs_exec.v0+json": {
       "id": "113498"
      }
     },
     "output_type": "display_data"
    },
    {
     "data": {
      "application/vnd.jupyter.widget-view+json": {
       "model_id": "5b21ab3df958441689b7aa64edd56bb7",
       "version_major": 2,
       "version_minor": 0
      },
      "text/plain": [
       "interactive(children=(Dropdown(description='years:', options=('price', 'nbr_rooms', 'area'), value='price'), O…"
      ]
     },
     "metadata": {},
     "output_type": "display_data"
    },
    {
     "data": {
      "text/plain": [
       "<function __main__.update1(axs)>"
      ]
     },
     "execution_count": 845,
     "metadata": {},
     "output_type": "execute_result"
    }
   ],
   "source": [
    "from bokeh.io import curdoc\n",
    "from bokeh.layouts import column, layout,row\n",
    "from bokeh.models import ColumnDataSource, Div, Select, Slider, TextInput\n",
    "from bokeh.models.callbacks import CustomJS\n",
    "from bokeh.plotting import figure\n",
    "import ipywidgets\n",
    "from bokeh.models import Range1d\n",
    "\n",
    "\n",
    "\n",
    "\n",
    "# widget\n",
    "drop_down = ipywidgets.Dropdown(options=[\"price\",\"nbr_rooms\",\"area\"],\n",
    "                                value=\"price\",\n",
    "                                description='years:',\n",
    "                                disabled=False)\n",
    "\n",
    "\n",
    "source = ColumnDataSource(datah)\n",
    "\n",
    "pal = figure(plot_height=500, plot_width=600, title=\"\", toolbar_location=None, sizing_mode=\"scale_both\")\n",
    "gh = pal.circle(x=\"area\", y=\"price\", source=source, size=7, color=\"red\", line_color=None)\n",
    "\n",
    "\n",
    "\n",
    "def update1(axs):\n",
    "    pa.xaxis.axis_label = axs\n",
    "    source.data = dict(\n",
    "        x=datah[axs],\n",
    "    )\n",
    "    gh = pal.circle(x=x, y=\"price\", source=source, size=7, color=\"red\", line_color=None)\n",
    "    push_notebook()\n",
    "\n",
    " # initial load of the data\n",
    "\n",
    "#curdoc().add_root(column(x_axis,y_axis,pa))\n",
    "#curdoc().title = \"Movies\"\n",
    "#layout1 = row(x_axis,y_axis)\n",
    "#layout2 = column(layout1,pa)\n",
    "show(pal,notebook_handle=True)\n",
    "ipywidgets.interact(update1, axs=drop_down)\n",
    "\n",
    "\n"
   ]
  },
  {
   "cell_type": "code",
   "execution_count": 832,
   "metadata": {},
   "outputs": [
    {
     "data": {
      "text/html": [
       "\n",
       "\n",
       "\n",
       "\n",
       "\n",
       "\n",
       "  <div class=\"bk-root\" id=\"73286cc7-d629-45fc-be4e-ef99e4fe3e33\" data-root-id=\"98066\"></div>\n"
      ]
     },
     "metadata": {},
     "output_type": "display_data"
    },
    {
     "data": {
      "application/javascript": [
       "(function(root) {\n",
       "  function embed_document(root) {\n",
       "    \n",
       "  var docs_json = {\"a0c7f8bf-7625-452c-8b0b-308c6365f47e\":{\"roots\":{\"references\":[{\"attributes\":{\"children\":[{\"id\":\"98065\",\"type\":\"Row\"}]},\"id\":\"98066\",\"type\":\"Column\"},{\"attributes\":{},\"id\":\"98031\",\"type\":\"LinearScale\"},{\"attributes\":{},\"id\":\"96705\",\"type\":\"Selection\"},{\"attributes\":{\"fill_alpha\":{\"value\":0.1},\"fill_color\":{\"value\":\"#1f77b4\"},\"line_alpha\":{\"value\":0.1},\"line_color\":{\"value\":\"#1f77b4\"},\"size\":{\"units\":\"screen\",\"value\":7},\"x\":{\"field\":\"x\"},\"y\":{\"field\":\"y\"}},\"id\":\"98060\",\"type\":\"Circle\"},{\"attributes\":{},\"id\":\"96706\",\"type\":\"UnionRenderers\"},{\"attributes\":{\"fill_color\":{\"value\":\"red\"},\"line_color\":{\"value\":null},\"size\":{\"units\":\"screen\",\"value\":7},\"x\":{\"field\":\"x\"},\"y\":{\"field\":\"y\"}},\"id\":\"98059\",\"type\":\"Circle\"},{\"attributes\":{\"callback\":null},\"id\":\"98027\",\"type\":\"DataRange1d\"},{\"attributes\":{},\"id\":\"98045\",\"type\":\"PanTool\"},{\"attributes\":{},\"id\":\"98046\",\"type\":\"WheelZoomTool\"},{\"attributes\":{\"dimension\":1,\"ticker\":{\"id\":\"98041\",\"type\":\"BasicTicker\"}},\"id\":\"98044\",\"type\":\"Grid\"},{\"attributes\":{\"overlay\":{\"id\":\"99072\",\"type\":\"BoxAnnotation\"}},\"id\":\"98047\",\"type\":\"BoxZoomTool\"},{\"attributes\":{\"args\":{\"source\":{\"id\":\"95672\",\"type\":\"ColumnDataSource\"}},\"code\":\"\\n    df = datah\\n    x_name = axis_map[x_axis.value]\\n    y_name = axis_map[y_axis.value]\\n\\n    pa.xaxis.axis_label = x_axis.value\\n    pa.yaxis.axis_label = y_axis.value\\n    source.data = dict(\\n    x=df[x_name],\\n    y=df[y_name],)\\n    source.change.emit();\\n\"},\"id\":\"95712\",\"type\":\"CustomJS\"},{\"attributes\":{},\"id\":\"98048\",\"type\":\"SaveTool\"},{\"attributes\":{},\"id\":\"98049\",\"type\":\"ResetTool\"},{\"attributes\":{},\"id\":\"98050\",\"type\":\"HelpTool\"},{\"attributes\":{\"active_drag\":\"auto\",\"active_inspect\":\"auto\",\"active_multi\":null,\"active_scroll\":\"auto\",\"active_tap\":\"auto\",\"tools\":[{\"id\":\"98045\",\"type\":\"PanTool\"},{\"id\":\"98046\",\"type\":\"WheelZoomTool\"},{\"id\":\"98047\",\"type\":\"BoxZoomTool\"},{\"id\":\"98048\",\"type\":\"SaveTool\"},{\"id\":\"98049\",\"type\":\"ResetTool\"},{\"id\":\"98050\",\"type\":\"HelpTool\"}]},\"id\":\"98051\",\"type\":\"Toolbar\"},{\"attributes\":{},\"id\":\"98036\",\"type\":\"BasicTicker\"},{\"attributes\":{\"data_source\":{\"id\":\"98023\",\"type\":\"ColumnDataSource\"},\"glyph\":{\"id\":\"98059\",\"type\":\"Circle\"},\"hover_glyph\":null,\"muted_glyph\":null,\"nonselection_glyph\":{\"id\":\"98060\",\"type\":\"Circle\"},\"selection_glyph\":null,\"view\":{\"id\":\"98062\",\"type\":\"CDSView\"}},\"id\":\"98061\",\"type\":\"GlyphRenderer\"},{\"attributes\":{},\"id\":\"98041\",\"type\":\"BasicTicker\"},{\"attributes\":{\"source\":{\"id\":\"98023\",\"type\":\"ColumnDataSource\"}},\"id\":\"98062\",\"type\":\"CDSView\"},{\"attributes\":{},\"id\":\"99074\",\"type\":\"UnionRenderers\"},{\"attributes\":{\"children\":[{\"id\":\"95670\",\"type\":\"Select\"},{\"id\":\"95671\",\"type\":\"Select\"}],\"height\":1000,\"sizing_mode\":\"fixed\",\"width\":320},\"id\":\"98064\",\"type\":\"Column\"},{\"attributes\":{},\"id\":\"99068\",\"type\":\"BasicTickFormatter\"},{\"attributes\":{\"callback\":null,\"js_property_callbacks\":{\"change:value\":[{\"id\":\"95712\",\"type\":\"CustomJS\"}]},\"options\":[\"Area per ms\",\"Number of rooms\",\"Price of house\"],\"title\":\"Y Axis\",\"value\":\"Number of rooms\"},\"id\":\"95671\",\"type\":\"Select\"},{\"attributes\":{\"formatter\":{\"id\":\"99070\",\"type\":\"BasicTickFormatter\"},\"ticker\":{\"id\":\"98036\",\"type\":\"BasicTicker\"}},\"id\":\"98035\",\"type\":\"LinearAxis\"},{\"attributes\":{},\"id\":\"98033\",\"type\":\"LinearScale\"},{\"attributes\":{\"callback\":null,\"js_property_callbacks\":{\"change:value\":[{\"id\":\"95712\",\"type\":\"CustomJS\"}]},\"options\":[\"Area per ms\",\"Number of rooms\",\"Price of house\"],\"title\":\"X Axis\",\"value\":\"Price of house\"},\"id\":\"95670\",\"type\":\"Select\"},{\"attributes\":{},\"id\":\"99070\",\"type\":\"BasicTickFormatter\"},{\"attributes\":{\"children\":[{\"id\":\"98064\",\"type\":\"Column\"},{\"id\":\"98024\",\"subtype\":\"Figure\",\"type\":\"Plot\"}]},\"id\":\"98065\",\"type\":\"Row\"},{\"attributes\":{\"below\":[{\"id\":\"98035\",\"type\":\"LinearAxis\"}],\"center\":[{\"id\":\"98039\",\"type\":\"Grid\"},{\"id\":\"98044\",\"type\":\"Grid\"}],\"left\":[{\"id\":\"98040\",\"type\":\"LinearAxis\"}],\"plot_height\":500,\"renderers\":[{\"id\":\"98061\",\"type\":\"GlyphRenderer\"}],\"sizing_mode\":\"scale_both\",\"title\":{\"id\":\"98025\",\"type\":\"Title\"},\"toolbar\":{\"id\":\"98051\",\"type\":\"Toolbar\"},\"toolbar_location\":null,\"x_range\":{\"id\":\"98027\",\"type\":\"DataRange1d\"},\"x_scale\":{\"id\":\"98031\",\"type\":\"LinearScale\"},\"y_range\":{\"id\":\"98029\",\"type\":\"DataRange1d\"},\"y_scale\":{\"id\":\"98033\",\"type\":\"LinearScale\"}},\"id\":\"98024\",\"subtype\":\"Figure\",\"type\":\"Plot\"},{\"attributes\":{\"formatter\":{\"id\":\"99068\",\"type\":\"BasicTickFormatter\"},\"ticker\":{\"id\":\"98041\",\"type\":\"BasicTicker\"}},\"id\":\"98040\",\"type\":\"LinearAxis\"},{\"attributes\":{\"bottom_units\":\"screen\",\"fill_alpha\":{\"value\":0.5},\"fill_color\":{\"value\":\"lightgrey\"},\"left_units\":\"screen\",\"level\":\"overlay\",\"line_alpha\":{\"value\":1.0},\"line_color\":{\"value\":\"black\"},\"line_dash\":[4,4],\"line_width\":{\"value\":2},\"render_mode\":\"css\",\"right_units\":\"screen\",\"top_units\":\"screen\"},\"id\":\"99072\",\"type\":\"BoxAnnotation\"},{\"attributes\":{\"callback\":null},\"id\":\"98029\",\"type\":\"DataRange1d\"},{\"attributes\":{\"callback\":null,\"data\":{\"x\":[],\"y\":[]},\"selected\":{\"id\":\"96705\",\"type\":\"Selection\"},\"selection_policy\":{\"id\":\"96706\",\"type\":\"UnionRenderers\"}},\"id\":\"95672\",\"type\":\"ColumnDataSource\"},{\"attributes\":{\"callback\":null,\"data\":{\"x\":[],\"y\":[]},\"selected\":{\"id\":\"99073\",\"type\":\"Selection\"},\"selection_policy\":{\"id\":\"99074\",\"type\":\"UnionRenderers\"}},\"id\":\"98023\",\"type\":\"ColumnDataSource\"},{\"attributes\":{},\"id\":\"99073\",\"type\":\"Selection\"},{\"attributes\":{\"ticker\":{\"id\":\"98036\",\"type\":\"BasicTicker\"}},\"id\":\"98039\",\"type\":\"Grid\"},{\"attributes\":{\"text\":\"\"},\"id\":\"98025\",\"type\":\"Title\"}],\"root_ids\":[\"98066\"]},\"title\":\"Bokeh Application\",\"version\":\"1.2.0\"}};\n",
       "  var render_items = [{\"docid\":\"a0c7f8bf-7625-452c-8b0b-308c6365f47e\",\"roots\":{\"98066\":\"73286cc7-d629-45fc-be4e-ef99e4fe3e33\"}}];\n",
       "  root.Bokeh.embed.embed_items_notebook(docs_json, render_items);\n",
       "\n",
       "  }\n",
       "  if (root.Bokeh !== undefined) {\n",
       "    embed_document(root);\n",
       "  } else {\n",
       "    var attempts = 0;\n",
       "    var timer = setInterval(function(root) {\n",
       "      if (root.Bokeh !== undefined) {\n",
       "        embed_document(root);\n",
       "        clearInterval(timer);\n",
       "      }\n",
       "      attempts++;\n",
       "      if (attempts > 100) {\n",
       "        console.log(\"Bokeh: ERROR: Unable to run BokehJS code because BokehJS library is missing\");\n",
       "        clearInterval(timer);\n",
       "      }\n",
       "    }, 10, root)\n",
       "  }\n",
       "})(window);"
      ],
      "application/vnd.bokehjs_exec.v0+json": ""
     },
     "metadata": {
      "application/vnd.bokehjs_exec.v0+json": {
       "id": "98066"
      }
     },
     "output_type": "display_data"
    }
   ],
   "source": [
    "from bokeh.io import curdoc\n",
    "from bokeh.layouts import column, layout,row\n",
    "from bokeh.models import ColumnDataSource, Div, Select, Slider, TextInput\n",
    "from bokeh.models.callbacks import CustomJS\n",
    "from bokeh.plotting import figure\n",
    "\n",
    "\n",
    "axis_map = {\n",
    "    \"Price of house\": \"price\",\n",
    "    \"Number of rooms\": \"nbr_rooms\",\n",
    "    \"Area per ms\": \"area\",\n",
    "}\n",
    "\n",
    "x_axis = Select(title=\"X Axis\", options=[\"price\",\"nbr_rooms\",\"area\"], value=\"price\")\n",
    "\n",
    "\n",
    "source = ColumnDataSource(data=dict(x=[], y=[]))\n",
    "\n",
    "pa = figure(plot_height=500, plot_width=600, title=\"\", toolbar_location=None, sizing_mode=\"scale_both\")\n",
    "pa.circle(x=\"x\", y=\"y\", source=source, size=7, color=\"red\", line_color=None)\n",
    "\n",
    "\n",
    "update = CustomJS(args=dict(source=source), code=\"\"\"\n",
    "    var data = source.data\n",
    "    var f = x_axis.value\n",
    "    source.data[\"x\"] = data[f]\n",
    "    x_name = axis_map[x_axis.value]\n",
    "    pa.xaxis.axis_label = x_axis.value\n",
    "    source.change.emit();\n",
    "\"\"\")\n",
    "\n",
    "\n",
    "\n",
    "x_axis.js_on_change('value', update)\n",
    "    \n",
    "inputs = column(*controls, width=320, height=1000)\n",
    "inputs.sizing_mode = \"fixed\"\n",
    "l = layout([\n",
    "    [inputs, pa]\n",
    "])  \n",
    " \n",
    "\n",
    "\n",
    "#update()  # initial load of the data\n",
    "\n",
    "#curdoc().add_root(column(x_axis,y_axis,pa))\n",
    "#curdoc().title = \"Movies\"\n",
    "#layout1 = row(x_axis,y_axis)\n",
    "#layout2 = column(layout1,pa)\n",
    "\n",
    "show(l)\n",
    "\n"
   ]
  },
  {
   "cell_type": "code",
   "execution_count": 874,
   "metadata": {
    "scrolled": true
   },
   "outputs": [
    {
     "name": "stderr",
     "output_type": "stream",
     "text": [
      "WARNING:bokeh.embed.util:\n",
      "You are generating standalone HTML/JS output, but trying to use real Python\n",
      "callbacks (i.e. with on_change or on_event). This combination cannot work.\n",
      "\n",
      "Only JavaScript callbacks may be used with standalone output. For more\n",
      "information on JavaScript callbacks with Bokeh, see:\n",
      "\n",
      "    http://bokeh.pydata.org/en/latest/docs/user_guide/interaction/callbacks.html\n",
      "\n",
      "Alternatively, to use real Python callbacks, a Bokeh server application may\n",
      "be used. For more information on building and running Bokeh applications, see:\n",
      "\n",
      "    http://bokeh.pydata.org/en/latest/docs/user_guide/server.html\n",
      "\n"
     ]
    },
    {
     "data": {
      "text/html": [
       "\n",
       "\n",
       "\n",
       "\n",
       "\n",
       "\n",
       "  <div class=\"bk-root\" id=\"874ee07a-5bea-4b5b-9fd8-648c154ec3bf\" data-root-id=\"128745\"></div>\n"
      ]
     },
     "metadata": {},
     "output_type": "display_data"
    },
    {
     "data": {
      "application/javascript": [
       "(function(root) {\n",
       "  function embed_document(root) {\n",
       "    \n",
       "  var docs_json = {\"ce06186e-59d1-400c-9240-6d07d071332f\":{\"roots\":{\"references\":[{\"attributes\":{\"children\":[{\"id\":\"128707\",\"type\":\"Column\"},{\"id\":\"128708\",\"subtype\":\"Figure\",\"type\":\"Plot\"}]},\"id\":\"128745\",\"type\":\"Row\"},{\"attributes\":{\"ticker\":{\"id\":\"128718\",\"type\":\"BasicTicker\"}},\"id\":\"128721\",\"type\":\"Grid\"},{\"attributes\":{\"active_drag\":\"auto\",\"active_inspect\":\"auto\",\"active_multi\":null,\"active_scroll\":\"auto\",\"active_tap\":\"auto\",\"tools\":[{\"id\":\"128727\",\"type\":\"PanTool\"},{\"id\":\"128728\",\"type\":\"WheelZoomTool\"},{\"id\":\"128729\",\"type\":\"BoxZoomTool\"},{\"id\":\"128730\",\"type\":\"SaveTool\"},{\"id\":\"128731\",\"type\":\"ResetTool\"},{\"id\":\"128732\",\"type\":\"HelpTool\"}]},\"id\":\"128733\",\"type\":\"Toolbar\"},{\"attributes\":{},\"id\":\"128723\",\"type\":\"BasicTicker\"},{\"attributes\":{\"callback\":null},\"id\":\"128709\",\"type\":\"DataRange1d\"},{\"attributes\":{},\"id\":\"128715\",\"type\":\"LinearScale\"},{\"attributes\":{\"overlay\":{\"id\":\"129933\",\"type\":\"BoxAnnotation\"}},\"id\":\"128729\",\"type\":\"BoxZoomTool\"},{\"attributes\":{\"children\":[{\"id\":\"128705\",\"type\":\"Select\"},{\"id\":\"128706\",\"type\":\"Select\"}],\"width\":200},\"id\":\"128707\",\"type\":\"Column\"},{\"attributes\":{\"formatter\":{\"id\":\"129931\",\"type\":\"BasicTickFormatter\"},\"ticker\":{\"id\":\"128718\",\"type\":\"BasicTicker\"}},\"id\":\"128717\",\"type\":\"LinearAxis\"},{\"attributes\":{},\"id\":\"129934\",\"type\":\"Selection\"},{\"attributes\":{\"below\":[{\"id\":\"128717\",\"type\":\"LinearAxis\"}],\"center\":[{\"id\":\"128721\",\"type\":\"Grid\"},{\"id\":\"128726\",\"type\":\"Grid\"}],\"left\":[{\"id\":\"128722\",\"type\":\"LinearAxis\"}],\"plot_height\":500,\"renderers\":[{\"id\":\"128743\",\"type\":\"GlyphRenderer\"}],\"sizing_mode\":\"scale_both\",\"title\":{\"id\":\"129928\",\"type\":\"Title\"},\"toolbar\":{\"id\":\"128733\",\"type\":\"Toolbar\"},\"toolbar_location\":null,\"x_range\":{\"id\":\"128709\",\"type\":\"DataRange1d\"},\"x_scale\":{\"id\":\"128713\",\"type\":\"LinearScale\"},\"y_range\":{\"id\":\"128711\",\"type\":\"DataRange1d\"},\"y_scale\":{\"id\":\"128715\",\"type\":\"LinearScale\"}},\"id\":\"128708\",\"subtype\":\"Figure\",\"type\":\"Plot\"},{\"attributes\":{},\"id\":\"128732\",\"type\":\"HelpTool\"},{\"attributes\":{\"callback\":null,\"options\":[\"price\",\"nbr_rooms\",\"area\"],\"title\":\"Y Axis\",\"value\":\"nbr_rooms\"},\"id\":\"128706\",\"type\":\"Select\"},{\"attributes\":{\"bottom_units\":\"screen\",\"fill_alpha\":{\"value\":0.5},\"fill_color\":{\"value\":\"lightgrey\"},\"left_units\":\"screen\",\"level\":\"overlay\",\"line_alpha\":{\"value\":1.0},\"line_color\":{\"value\":\"black\"},\"line_dash\":[4,4],\"line_width\":{\"value\":2},\"render_mode\":\"css\",\"right_units\":\"screen\",\"top_units\":\"screen\"},\"id\":\"129933\",\"type\":\"BoxAnnotation\"},{\"attributes\":{},\"id\":\"128713\",\"type\":\"LinearScale\"},{\"attributes\":{\"callback\":null},\"id\":\"128711\",\"type\":\"DataRange1d\"},{\"attributes\":{},\"id\":\"128718\",\"type\":\"BasicTicker\"},{\"attributes\":{},\"id\":\"129931\",\"type\":\"BasicTickFormatter\"},{\"attributes\":{},\"id\":\"128730\",\"type\":\"SaveTool\"},{\"attributes\":{\"callback\":null,\"options\":[\"price\",\"nbr_rooms\",\"area\"],\"title\":\"X Axis\",\"value\":\"price\"},\"id\":\"128705\",\"type\":\"Select\"},{\"attributes\":{},\"id\":\"128728\",\"type\":\"WheelZoomTool\"},{\"attributes\":{\"text\":\"\"},\"id\":\"129928\",\"type\":\"Title\"},{\"attributes\":{\"data_source\":{\"id\":\"128740\",\"type\":\"ColumnDataSource\"},\"glyph\":{\"id\":\"128741\",\"type\":\"Circle\"},\"hover_glyph\":null,\"muted_glyph\":null,\"nonselection_glyph\":{\"id\":\"128742\",\"type\":\"Circle\"},\"selection_glyph\":null,\"view\":{\"id\":\"128744\",\"type\":\"CDSView\"}},\"id\":\"128743\",\"type\":\"GlyphRenderer\"},{\"attributes\":{},\"id\":\"129935\",\"type\":\"UnionRenderers\"},{\"attributes\":{},\"id\":\"128731\",\"type\":\"ResetTool\"},{\"attributes\":{\"dimension\":1,\"ticker\":{\"id\":\"128723\",\"type\":\"BasicTicker\"}},\"id\":\"128726\",\"type\":\"Grid\"},{\"attributes\":{\"fill_alpha\":{\"value\":0.1},\"fill_color\":{\"value\":\"#1f77b4\"},\"line_alpha\":{\"value\":0.1},\"line_color\":{\"value\":\"#1f77b4\"},\"size\":{\"units\":\"screen\",\"value\":7},\"x\":{\"field\":\"x\"},\"y\":{\"field\":\"y\"}},\"id\":\"128742\",\"type\":\"Circle\"},{\"attributes\":{\"formatter\":{\"id\":\"129929\",\"type\":\"BasicTickFormatter\"},\"ticker\":{\"id\":\"128723\",\"type\":\"BasicTicker\"}},\"id\":\"128722\",\"type\":\"LinearAxis\"},{\"attributes\":{},\"id\":\"128727\",\"type\":\"PanTool\"},{\"attributes\":{\"callback\":null,\"data\":{\"x\":[1355000,1290000,1050000,1040000,694790,660000,649000,590000,510000,479000,479000,475000,385000,360000,330000,298000,288000,276900,266500,262900,258900,250000,242500,240000,240000,231000,215000,207750,200000,196000,185755,183600,180000,179760,179000,175000,170000,170000,169000,168000,154145,153900,148500,148500,147900,146500,145600,140000,138500,137000,135990,135000,125000,118000,115990,115000,114500,104000,99000,96505,80000],\"y\":[6,10,7,8,10,10,5,5,5,4,4,6,5,4,5,5,3,3,4,3,3,3,5,4,4,3,3,3,3,4,3,3,3,4,2,4,2,2,4,3,2,2,2,6,5,6,4,2,5,2,4,4,2,2,2,3,2,1,2,3,1]},\"selected\":{\"id\":\"129934\",\"type\":\"Selection\"},\"selection_policy\":{\"id\":\"129935\",\"type\":\"UnionRenderers\"}},\"id\":\"128740\",\"type\":\"ColumnDataSource\"},{\"attributes\":{\"fill_color\":{\"value\":\"red\"},\"line_color\":{\"value\":null},\"size\":{\"units\":\"screen\",\"value\":7},\"x\":{\"field\":\"x\"},\"y\":{\"field\":\"y\"}},\"id\":\"128741\",\"type\":\"Circle\"},{\"attributes\":{},\"id\":\"129929\",\"type\":\"BasicTickFormatter\"},{\"attributes\":{\"source\":{\"id\":\"128740\",\"type\":\"ColumnDataSource\"}},\"id\":\"128744\",\"type\":\"CDSView\"}],\"root_ids\":[\"128745\"]},\"title\":\"Bokeh Application\",\"version\":\"1.2.0\"}};\n",
       "  var render_items = [{\"docid\":\"ce06186e-59d1-400c-9240-6d07d071332f\",\"roots\":{\"128745\":\"874ee07a-5bea-4b5b-9fd8-648c154ec3bf\"}}];\n",
       "  root.Bokeh.embed.embed_items_notebook(docs_json, render_items);\n",
       "\n",
       "  }\n",
       "  if (root.Bokeh !== undefined) {\n",
       "    embed_document(root);\n",
       "  } else {\n",
       "    var attempts = 0;\n",
       "    var timer = setInterval(function(root) {\n",
       "      if (root.Bokeh !== undefined) {\n",
       "        embed_document(root);\n",
       "        clearInterval(timer);\n",
       "      }\n",
       "      attempts++;\n",
       "      if (attempts > 100) {\n",
       "        console.log(\"Bokeh: ERROR: Unable to run BokehJS code because BokehJS library is missing\");\n",
       "        clearInterval(timer);\n",
       "      }\n",
       "    }, 10, root)\n",
       "  }\n",
       "})(window);"
      ],
      "application/vnd.bokehjs_exec.v0+json": ""
     },
     "metadata": {
      "application/vnd.bokehjs_exec.v0+json": {
       "id": "128745"
      }
     },
     "output_type": "display_data"
    },
    {
     "name": "stderr",
     "output_type": "stream",
     "text": [
      "WARNING:bokeh.embed.util:\n",
      "You are generating standalone HTML/JS output, but trying to use real Python\n",
      "callbacks (i.e. with on_change or on_event). This combination cannot work.\n",
      "\n",
      "Only JavaScript callbacks may be used with standalone output. For more\n",
      "information on JavaScript callbacks with Bokeh, see:\n",
      "\n",
      "    http://bokeh.pydata.org/en/latest/docs/user_guide/interaction/callbacks.html\n",
      "\n",
      "Alternatively, to use real Python callbacks, a Bokeh server application may\n",
      "be used. For more information on building and running Bokeh applications, see:\n",
      "\n",
      "    http://bokeh.pydata.org/en/latest/docs/user_guide/server.html\n",
      "\n"
     ]
    }
   ],
   "source": [
    "from bokeh.io import curdoc\n",
    "from bokeh.layouts import column, layout,row\n",
    "from bokeh.models import ColumnDataSource, Div, Select, Slider, TextInput\n",
    "from bokeh.models.callbacks import CustomJS\n",
    "from bokeh.plotting import figure\n",
    "\n",
    "\n",
    "df = datah.copy()\n",
    "\n",
    "\n",
    "\n",
    "def updated():\n",
    "    xs = df[x_chn.value].values\n",
    "    ys = df[y_chn.value].values\n",
    "    pa = figure(plot_height=500, plot_width=600, toolbar_location=None, sizing_mode=\"scale_both\")\n",
    "    pa.circle(x=xs, y=ys,size=7, color=\"red\", line_color=None)\n",
    "    return pa\n",
    "\n",
    "\n",
    "def chng(attr, old, new):\n",
    "    layout.children[1] = updated()\n",
    " \n",
    "\n",
    "\n",
    "x_chn = Select(title=\"X Axis\", options= [\"price\",\"nbr_rooms\",\"area\"], value=\"price\")\n",
    "x_chn.on_change('value', chng)\n",
    "\n",
    "y_chn = Select(title=\"Y Axis\", options= [\"price\",\"nbr_rooms\",\"area\"], value=\"nbr_rooms\")\n",
    "y_chn.on_change('value', chng)\n",
    "\n",
    " # initial load of the data\n",
    "\n",
    "#curdoc().add_root(column(x_axis,y_axis,pa))\n",
    "#curdoc().title = \"Movies\"\n",
    "#layout1 = row(x_axis,y_axis)\n",
    "#layout2 = column(layout1,pa)\n",
    "\n",
    "\n",
    "\n",
    "controls = column(x_chn, y_chn, width=200)\n",
    "layout = row(controls, updated())\n",
    "\n",
    "show(layout)\n",
    "\n"
   ]
  },
  {
   "cell_type": "code",
   "execution_count": 871,
   "metadata": {},
   "outputs": [
    {
     "data": {
      "text/html": [
       "\n",
       "\n",
       "\n",
       "\n",
       "\n",
       "\n",
       "  <div class=\"bk-root\" id=\"c8a5a04d-96bf-4f31-bcc9-4eab974d1891\" data-root-id=\"124819\"></div>\n"
      ]
     },
     "metadata": {},
     "output_type": "display_data"
    },
    {
     "data": {
      "application/javascript": [
       "(function(root) {\n",
       "  function embed_document(root) {\n",
       "    \n",
       "  var docs_json = {\"2be6a6e6-5363-4c5d-8d7a-dbb80d5567aa\":{\"roots\":{\"references\":[{\"attributes\":{\"below\":[{\"id\":\"124830\",\"type\":\"LinearAxis\"}],\"center\":[{\"id\":\"124834\",\"type\":\"Grid\"},{\"id\":\"124839\",\"type\":\"Grid\"}],\"left\":[{\"id\":\"124835\",\"type\":\"LinearAxis\"}],\"plot_width\":800,\"renderers\":[{\"id\":\"124852\",\"type\":\"GlyphRenderer\"}],\"title\":{\"id\":\"124820\",\"type\":\"Title\"},\"toolbar\":{\"id\":\"124844\",\"type\":\"Toolbar\"},\"x_range\":{\"id\":\"124822\",\"type\":\"DataRange1d\"},\"x_scale\":{\"id\":\"124826\",\"type\":\"LinearScale\"},\"y_range\":{\"id\":\"124824\",\"type\":\"DataRange1d\"},\"y_scale\":{\"id\":\"124828\",\"type\":\"LinearScale\"}},\"id\":\"124819\",\"subtype\":\"Figure\",\"type\":\"Plot\"},{\"attributes\":{},\"id\":\"126020\",\"type\":\"Selection\"},{\"attributes\":{\"dimension\":1,\"ticker\":{\"id\":\"124836\",\"type\":\"BasicTicker\"}},\"id\":\"124839\",\"type\":\"Grid\"},{\"attributes\":{},\"id\":\"124842\",\"type\":\"ZoomInTool\"},{\"attributes\":{\"callback\":null,\"overlay\":{\"id\":\"126019\",\"type\":\"BoxAnnotation\"}},\"id\":\"124841\",\"type\":\"BoxSelectTool\"},{\"attributes\":{},\"id\":\"126021\",\"type\":\"UnionRenderers\"},{\"attributes\":{\"ticker\":{\"id\":\"124831\",\"type\":\"BasicTicker\"}},\"id\":\"124834\",\"type\":\"Grid\"},{\"attributes\":{\"bottom_units\":\"screen\",\"fill_alpha\":{\"value\":0.5},\"fill_color\":{\"value\":\"lightgrey\"},\"left_units\":\"screen\",\"level\":\"overlay\",\"line_alpha\":{\"value\":1.0},\"line_color\":{\"value\":\"black\"},\"line_dash\":[4,4],\"line_width\":{\"value\":2},\"render_mode\":\"css\",\"right_units\":\"screen\",\"top_units\":\"screen\"},\"id\":\"126019\",\"type\":\"BoxAnnotation\"},{\"attributes\":{},\"id\":\"124826\",\"type\":\"LinearScale\"},{\"attributes\":{},\"id\":\"126017\",\"type\":\"BasicTickFormatter\"},{\"attributes\":{\"callback\":null,\"data\":{\"Type\":[\"Maison\",\"Maison\",\"Maison\",\"Maison\",\"Maison\",\"Maison\",\"Appartement\",\"Maison\",\"Maison\",\"Appartement\",\"Appartement\",\"Maison\",\"Maison\",\"Appartement\",\"Maison\",\"Appartement\",\"Appartement\",\"Appartement\",\"Appartement\",\"Appartement\",\"Appartement\",\"Maison\",\"Maison\",\"Maison\",\"Maison\",\"Appartement\",\"Appartement\",\"Maison\",\"Appartement\",\"Appartement\",\"Maison\",\"Appartement\",\"Appartement\",\"Maison\",\"Appartement\",\"Maison\",\"Appartement\",\"Appartement\",\"Maison\",\"Maison\",\"Appartement\",\"Appartement\",\"Appartement\",\"Maison\",\"Maison\",\"Maison\",\"Appartement\",\"Appartement\",\"Maison\",\"Appartement\",\"Maison\",\"Maison\",\"Appartement\",\"Appartement\",\"Appartement\",\"Appartement\",\"Appartement\",\"Appartement\",\"Appartement\",\"Appartement\",\"Appartement\"],\"Unnamed: 0\":[52,34,62,68,2,20,49,47,42,24,26,58,54,7,46,27,48,21,15,30,29,57,1,63,43,39,61,44,16,55,18,10,23,33,59,51,64,6,37,67,38,45,56,5,31,66,53,40,65,60,28,22,9,14,8,13,3,41,4,0,17],\"address\":[\"Croix 59170 (Fer \\u00e0 Cheval)\",\"Wasquehal 59290 (Grand Cottignies)\",\"Croix 59170 (Centre-ville)\",\"Croix 59170\",\"Croix 59170 (Centre-ville)\",\"Croix 59170 (Saint-Pierre)\",\"Wasquehal 59290\",\"Wasquehal 59290\",\"Wasquehal 59290 (Centre-ville - Pharos - Site Saint-Nicolas)\",\"Wasquehal 59290 (Centre-ville - Pharos - Site Saint-Nicolas)\",\"Wasquehal 59290 (Boers - Haut Vinage - Or\\u00e9e du Golf - Petit Wasquehal)\",\"Croix 59170\",\"Wasquehal 59290\",\"Croix 59170 (Saint-Pierre)\",\"Croix 59170\",\"Wasquehal 59290 (Boers - Haut Vinage - Or\\u00e9e du Golf - Petit Wasquehal)\",\"Wasquehal 59290 (Capreau)\",\"Wasquehal 59290 (Centre-ville - Pharos - Site Saint-Nicolas)\",\"Croix 59170 (Fer \\u00e0 Cheval)\",\"Wasquehal 59290 (Grand Cottignies)\",\"Wasquehal 59290 (Grand Cottignies)\",\"Wasquehal 59290\",\"Wasquehal 59290 (Centre-ville - Pharos - Site Saint-Nicolas)\",\"Wasquehal 59290\",\"Wasquehal 59290 (Boers - Haut Vinage - Or\\u00e9e du Golf - Petit Wasquehal)\",\"Croix 59170 (Saint-Pierre)\",\"Croix 59170\",\"Croix 59170 (Saint-Pierre)\",\"Wasquehal 59290 (Grand Cottignies)\",\"Croix 59170\",\"Croix 59170 (Saint-Pierre)\",\"Croix 59170 (Saint-Pierre)\",\"Croix 59170 (Fer \\u00e0 Cheval)\",\"Wasquehal 59290 (Capreau)\",\"Croix 59170\",\"Wasquehal 59290 (Capreau)\",\"Croix 59170\",\"Croix 59170 (Saint-Pierre)\",\"Wasquehal 59290 (Capreau)\",\"Wasquehal 59290\",\"Wasquehal 59290 (Grand Cottignies)\",\"Wasquehal 59290 (Grand Cottignies)\",\"Wasquehal 59290\",\"Croix 59170 (Saint-Pierre)\",\"Croix 59170 (Saint-Pierre)\",\"Croix 59170\",\"Wasquehal 59290 (Centre-ville - Pharos - Site Saint-Nicolas)\",\"Wasquehal 59290 (Grand Cottignies)\",\"Croix 59170\",\"Croix 59170\",\"Croix 59170 (Saint-Pierre)\",\"Croix 59170 (Saint-Pierre)\",\"Croix 59170 (Fer \\u00e0 Cheval)\",\"Croix 59170 (Saint-Pierre)\",\"Croix 59170 (Saint-Pierre)\",\"Croix 59170 (Fer \\u00e0 Cheval)\",\"Wasquehal 59290 (Noir Bonnet - Rue Pasteur)\",\"Croix 59170 (Fer \\u00e0 Cheval)\",\"Croix 59170 (Saint-Pierre)\",\"Croix 59170 (Saint-Pierre)\",\"Croix 59170 (Centre-ville)\"],\"area\":{\"__ndarray__\":\"AAAAAAAgckAAAAAAAIBxQAAAAAAAQG5AAAAAAAAAbkAAAAAAADB0QAAAAAAA4HVAAAAAAABAYkAAAAAAAABpQAAAAAAAQGVAAAAAAABAXUAAAAAAAEBdQAAAAAAAYGNAAAAAAAAAXkAAAAAAAABVQAAAAAAA4GBAAAAAAACAW0AAAAAAAIBTQAAAAAAAwFBAAAAAAAAAVUAAAAAAAABRQAAAAAAAAFBAAAAAAACAVkAAAAAAAMBSQAAAAAAAAFlAAAAAAAAA+H8AAAAAAABOQAAAAAAAQFNAAAAAAABAWkAAAAAAAIBQQAAAAAAAAFhAAAAAAABAWkAAAAAAAABPQAAAAAAAgFhAAAAAAAAAWUAAAAAAAABFQAAAAAAAgFZAAAAAAAAAT0AAAAAAAIBEQAAAAAAAgFZAAAAAAABAUEAAAAAAAIBGQAAAAAAAAERAAAAAAAAAREAAAAAAAIBYQAAAAAAAwFhAAAAAAAAAWUAAAAAAAEBVQAAAAAAAgERAAAAAAABAVUAAAAAAAIBKQAAAAAAAQFVAAAAAAAAAVEAAAAAAAIBPQAAAAAAAgEZAAAAAAAAAS0AAAAAAAIBWQAAAAAAAAPh/AAAAAACARUAAAAAAAIBKQAAAAAAAwFdAAAAAAAAARUA=\",\"dtype\":\"float64\",\"shape\":[61]},\"category\":[\"Maison 6 pi\\u00e8ces 290 m\\u00b2\\nCroix 59170 (Fer \\u00e0 Cheval)\",\"Maison 10 pi\\u00e8ces 280 m\\u00b2\\nWasquehal 59290 (Grand Cottignies)\",\"Maison 7 pi\\u00e8ces 242 m\\u00b2\\nCroix 59170 (Centre-ville)\",\"Maison 8 pi\\u00e8ces 240 m\\u00b2\\nCroix 59170\",\"Maison 10 pi\\u00e8ces 323 m\\u00b2\\nCroix 59170 (Centre-ville)\",\"Maison 10 pi\\u00e8ces 350 m\\u00b2\\nCroix 59170 (Saint-Pierre)\",\"Appartement 5 pi\\u00e8ces 146 m\\u00b2\\nWasquehal 59290\",\"Maison 5 pi\\u00e8ces 200 m\\u00b2\\nWasquehal 59290\",\"Maison 5 pi\\u00e8ces 170 m\\u00b2\\nWasquehal 59290 (Centre-ville - Pharos - Site Saint-Nicolas)\",\"Appartement 4 pi\\u00e8ces 117 m\\u00b2\\nWasquehal 59290 (Centre-ville - Pharos - Site Saint-Nicolas)\",\"Appartement 4 pi\\u00e8ces 117 m\\u00b2\\nWasquehal 59290 (Boers - Haut Vinage - Or\\u00e9e du Golf - Petit Wasquehal)\",\"Maison 6 pi\\u00e8ces 155 m\\u00b2\\nCroix 59170\",\"Maison 5 pi\\u00e8ces 120 m\\u00b2\\nWasquehal 59290\",\"Appartement 4 pi\\u00e8ces 84 m\\u00b2\\nCroix 59170 (Saint-Pierre)\",\"Maison 5 pi\\u00e8ces 135 m\\u00b2\\nCroix 59170\",\"Appartement 5 pi\\u00e8ces 110 m\\u00b2\\nWasquehal 59290 (Boers - Haut Vinage - Or\\u00e9e du Golf - Petit Wasquehal)\",\"Appartement 3 pi\\u00e8ces 78 m\\u00b2\\nWasquehal 59290 (Capreau)\",\"Appartement 3 pi\\u00e8ces 67 m\\u00b2\\nWasquehal 59290 (Centre-ville - Pharos - Site Saint-Nicolas)\",\"Appartement 4 pi\\u00e8ces 84 m\\u00b2\\nCroix 59170 (Fer \\u00e0 Cheval)\",\"Appartement 3 pi\\u00e8ces 68 m\\u00b2\\nWasquehal 59290 (Grand Cottignies)\",\"Appartement 3 pi\\u00e8ces 64 m\\u00b2\\nWasquehal 59290 (Grand Cottignies)\",\"Maison 3 pi\\u00e8ces 90 m\\u00b2\\nWasquehal 59290\",\"Maison 5 pi\\u00e8ces 75 m\\u00b2\\nWasquehal 59290 (Centre-ville - Pharos - Site Saint-Nicolas)\",\"Maison 4 pi\\u00e8ces 100 m\\u00b2\\nWasquehal 59290\",\"Maison 4 pi\\u00e8ces\\nWasquehal 59290 (Boers - Haut Vinage - Or\\u00e9e du Golf - Petit Wasquehal)\",\"Appartement 3 pi\\u00e8ces 60 m\\u00b2\\nCroix 59170 (Saint-Pierre)\",\"Appartement 3 pi\\u00e8ces 77 m\\u00b2\\nCroix 59170\",\"Maison 3 pi\\u00e8ces 105 m\\u00b2\\nCroix 59170 (Saint-Pierre)\",\"Appartement 3 pi\\u00e8ces 66 m\\u00b2\\nWasquehal 59290 (Grand Cottignies)\",\"Appartement 4 pi\\u00e8ces 96 m\\u00b2\\nCroix 59170\",\"Maison 3 pi\\u00e8ces 105 m\\u00b2\\nCroix 59170 (Saint-Pierre)\",\"Appartement 3 pi\\u00e8ces 62 m\\u00b2\\nCroix 59170 (Saint-Pierre)\",\"Appartement 3 pi\\u00e8ces 98 m\\u00b2\\nCroix 59170 (Fer \\u00e0 Cheval)\",\"Maison 4 pi\\u00e8ces 100 m\\u00b2\\nWasquehal 59290 (Capreau)\",\"Appartement 2 pi\\u00e8ces 42 m\\u00b2\\nCroix 59170\",\"Maison 4 pi\\u00e8ces 90 m\\u00b2\\nWasquehal 59290 (Capreau)\",\"Appartement 2 pi\\u00e8ces 62 m\\u00b2\\nCroix 59170\",\"Appartement 2 pi\\u00e8ces 41 m\\u00b2\\nCroix 59170 (Saint-Pierre)\",\"Maison 4 pi\\u00e8ces 90 m\\u00b2\\nWasquehal 59290 (Capreau)\",\"Maison 3 pi\\u00e8ces 65 m\\u00b2\\nWasquehal 59290\",\"Appartement 2 pi\\u00e8ces 45 m\\u00b2\\nWasquehal 59290 (Grand Cottignies)\",\"Appartement 2 pi\\u00e8ces 40 m\\u00b2\\nWasquehal 59290 (Grand Cottignies)\",\"Appartement 2 pi\\u00e8ces 40 m\\u00b2\\nWasquehal 59290\",\"Maison 6 pi\\u00e8ces 98 m\\u00b2\\nCroix 59170 (Saint-Pierre)\",\"Maison 5 pi\\u00e8ces 99 m\\u00b2\\nCroix 59170 (Saint-Pierre)\",\"Maison 6 pi\\u00e8ces 100 m\\u00b2\\nCroix 59170\",\"Appartement 4 pi\\u00e8ces 85 m\\u00b2\\nWasquehal 59290 (Centre-ville - Pharos - Site Saint-Nicolas)\",\"Appartement 2 pi\\u00e8ces 41 m\\u00b2\\nWasquehal 59290 (Grand Cottignies)\",\"Maison 5 pi\\u00e8ces 85 m\\u00b2\\nCroix 59170\",\"Appartement 2 pi\\u00e8ces 53 m\\u00b2\\nCroix 59170\",\"Maison 4 pi\\u00e8ces 85 m\\u00b2\\nCroix 59170 (Saint-Pierre)\",\"Maison 4 pi\\u00e8ces 80 m\\u00b2\\nCroix 59170 (Saint-Pierre)\",\"Appartement 2 pi\\u00e8ces 63 m\\u00b2\\nCroix 59170 (Fer \\u00e0 Cheval)\",\"Appartement 2 pi\\u00e8ces 45 m\\u00b2\\nCroix 59170 (Saint-Pierre)\",\"Appartement 2 pi\\u00e8ces 54 m\\u00b2\\nCroix 59170 (Saint-Pierre)\",\"Appartement 3 pi\\u00e8ces 90 m\\u00b2\\nCroix 59170 (Fer \\u00e0 Cheval)\",\"Appartement 2 pi\\u00e8ces\\nWasquehal 59290 (Noir Bonnet - Rue Pasteur)\",\"Appartement 1 pi\\u00e8ce 43 m\\u00b2\\nCroix 59170 (Fer \\u00e0 Cheval)\",\"Appartement 2 pi\\u00e8ces 53 m\\u00b2\\nCroix 59170 (Saint-Pierre)\",\"Appartement 3 pi\\u00e8ces 95 m\\u00b2\\nCroix 59170 (Saint-Pierre)\",\"Appartement 1 pi\\u00e8ce 42 m\\u00b2\\nCroix 59170 (Centre-ville)\"],\"city\":[\"Croix\",\"Wasquehal\",\"Croix\",\"Croix\",\"Croix\",\"Croix\",\"Wasquehal\",\"Wasquehal\",\"Wasquehal\",\"Wasquehal\",\"Wasquehal\",\"Croix\",\"Wasquehal\",\"Croix\",\"Croix\",\"Wasquehal\",\"Wasquehal\",\"Wasquehal\",\"Croix\",\"Wasquehal\",\"Wasquehal\",\"Wasquehal\",\"Wasquehal\",\"Wasquehal\",\"Wasquehal\",\"Croix\",\"Croix\",\"Croix\",\"Wasquehal\",\"Croix\",\"Croix\",\"Croix\",\"Croix\",\"Wasquehal\",\"Croix\",\"Wasquehal\",\"Croix\",\"Croix\",\"Wasquehal\",\"Wasquehal\",\"Wasquehal\",\"Wasquehal\",\"Wasquehal\",\"Croix\",\"Croix\",\"Croix\",\"Wasquehal\",\"Wasquehal\",\"Croix\",\"Croix\",\"Croix\",\"Croix\",\"Croix\",\"Croix\",\"Croix\",\"Croix\",\"Wasquehal\",\"Croix\",\"Croix\",\"Croix\",\"Croix\"],\"image_link\":[\"https://file.bienici.com/photo/hektor-agveroniquefont-3183_agveroniquefont.staticlbi.com_original_images_biens_1_7f01c939761597f9b832694d4c381512_ef0105031d39a10a637e500bea7beefc.jpg?width=300&height=180&fit=cover\",\"https://file.bienici.com/photo/hektor-agveroniquefont-1596_agveroniquefont.staticlbi.com_original_images_biens_1_a368b0de8b91cfb3f91892fbf1ebd4b2_56b8b12117f04622247fdb4c55fb6b07.jpg?width=300&height=180&fit=cover\",\"https://file.bienici.com/photo/hektor-agveroniquefont-1018_agveroniquefont.staticlbi.com_original_images_biens_1_24146db4eb48c718b84cae0a0799dcfc_cb86702143a2e657da06b09191c6f497.jpg?width=300&height=180&fit=cover\",\"https://file.bienici.com/photo/hektor-agveroniquefont-2769_agveroniquefont.staticlbi.com_original_images_biens_1_d47844673f2db74d78da8687d794523d_5c5bac4caef5eecb67347c2deb20ad64.jpg?width=300&height=180&fit=cover\",\"https://file.bienici.com/photo/orpi-1-120001E1EHML_media6.ac3-distribution.com_office6_orpi_73336_catalog_images_pr_p_6_0_9_2_0_6_5_6092065a.jpg_DATEMAJ_201911151644?width=300&height=180&fit=cover\",\"https://file.bienici.com/photo/fnaim-44414715_images-raw.fnaim.fr_images1_img96_2969600VN1684T01.jpg?width=300&height=180&fit=cover\",\"https://file.bienici.com/photo/ag593804-216440889_photos.ubiflow.net_593804_216440889_photos_1.jpg_20191014194207?width=300&height=180&fit=cover\",\"https://file.bienici.com/photo/ag593804-219876426_photos.ubiflow.net_593804_219876426_photos_1.jpg_20191014194417?width=300&height=180&fit=cover\",\"https://file.bienici.com/photo/hektor-agveroniquefont-3807_agveroniquefont.staticlbi.com_original_images_biens_1_572de2f72d5731ff8a6744d12368d260_photo_8c9ca674d1f61fa5839b798bf9d85db6.jpg?width=300&height=180&fit=cover\",\"https://file.bienici.com/photo/century-21-202_3283_894_core.naxos-fr.net_imagesBien_202_3283_c21_202_3283_894_1_5579DDD1-1F2D-44B1-A69C-0D187D14464F.jpg?width=300&height=180&fit=cover\",\"https://file.bienici.com/photo/ag340378-229347814_photos.ubiflow.net_340378_229347814_photos_1.jpg_20191210031913?width=300&height=180&fit=cover\",\"https://file.bienici.com/photo/ag593804-221245957_photos.ubiflow.net_593804_221245957_photos_1.jpg_20191016141151?width=300&height=180&fit=cover\",\"https://file.bienici.com/photo/ag593804-227027287_photos.ubiflow.net_593804_227027287_photos_1.jpg_20191123172421?width=300&height=180&fit=cover\",\"https://file.bienici.com/photo/century-21-202_3283_971_core.naxos-fr.net_imagesBien_202_3283_c21_202_3283_971_1_C4D0F34C-C2FB-43A8-8375-8EA60B714C48.jpg?width=300&height=180&fit=cover\",\"https://file.bienici.com/photo/ag593804-220546338_photos.ubiflow.net_593804_220546338_photos_1.jpg_20191014194259?width=300&height=180&fit=cover\",\"https://file.bienici.com/photo/ag592469-221710204_photos.ubiflow.net_592469_221710204_photos_1.jpg_20191019041339?width=300&height=180&fit=cover\",\"https://file.bienici.com/photo/ag591569-217021893_photos.ubiflow.net_591569_217021893_photos_1.jpg_20190918124446?width=300&height=180&fit=cover\",\"https://file.bienici.com/photo/century-21-202_3283_944_core.naxos-fr.net_imagesBien_202_3283_c21_202_3283_944_1_CEF25ABC-A27E-4488-A453-35D74124780A.jpg?width=300&height=180&fit=cover\",\"https://file.bienici.com/photo/orpi-1-120037E19FML_media6.ac3-distribution.com_office6_orpi_73142_catalog_images_pr_p_5_6_5_5_8_3_3_5655833a.jpg_DATEMAJ_201902121541?width=300&height=180&fit=cover\",\"https://file.bienici.com/photo/century-21-202_3283_891_core.naxos-fr.net_imagesBien_202_3283_c21_202_3283_891_1_8B28FC8D-0C79-4592-9D73-503EAB5D9284.jpg?width=300&height=180&fit=cover\",\"https://file.bienici.com/photo/century-21-202_3283_892_core.naxos-fr.net_imagesBien_202_3283_c21_202_3283_892_1_73486669-E31A-4DFF-95A7-3C9739DFE1A6.jpg?width=300&height=180&fit=cover\",\"https://file.bienici.com/photo/ag593804-221609191_photos.ubiflow.net_593804_221609191_photos_1.jpg_20191018132830?width=300&height=180&fit=cover\",\"https://file.bienici.com/photo/orpi-1-120003E1GTND_media6.ac3-distribution.com_office6_orpi_73453_catalog_images_pr_p_6_2_2_6_0_5_7_6226057a.jpg_DATEMAJ_201911041600?width=300&height=180&fit=cover\",\"https://file.bienici.com/photo/ag591008-228608418_photos.ubiflow.net_591008_228608418_photos_1.jpg_20191204164026?width=300&height=180&fit=cover\",\"https://file.bienici.com/photo/ag591008-230764911_photos.ubiflow.net_591008_230764911_photos_1.jpg_20191219185249?width=300&height=180&fit=cover\",\"https://file.bienici.com/photo/ag440414-208485234_photos.ubiflow.net_440414_208485234_photos_1.jpg_20190718153413?width=300&height=180&fit=cover\",\"https://file.bienici.com/photo/ag593804-217576866_photos.ubiflow.net_593804_217576866_photos_1.jpg_20191014194201?width=300&height=180&fit=cover\",\"https://file.bienici.com/photo/orpi-1-120908E1FW7T_media6.ac3-distribution.com_office6_orpi_73336_catalog_images_pr_p_6_1_7_4_7_7_2_6174772a.jpg_DATEMAJ_201909241119?width=300&height=180&fit=cover\",\"https://file.bienici.com/photo/pericles-22959888_a?width=300&height=180&fit=cover\",\"https://file.bienici.com/photo/apimo-3428226_d1qfj231ug7wdu.cloudfront.net_pictures_estate_3429_3428226_2196580795dd80ae9006025.69620465_1920.jpg?width=300&height=180&fit=cover\",\"https://file.bienici.com/photo/ag440414-226888141_photos.ubiflow.net_440414_226888141_photos_1.jpg_20191122193043?width=300&height=180&fit=cover\",\"https://file.bienici.com/photo/pericles-26650268_a?width=300&height=180&fit=cover\",\"https://file.bienici.com/photo/pericles-27541440_a?width=300&height=180&fit=cover\",\"https://file.bienici.com/photo/orpi-1-120037E1CQC3_media6.ac3-distribution.com_office6_orpi_73142_catalog_images_pr_p_5_8_6_9_6_7_2_5869672a.jpg_DATEMAJ_201909101731?width=300&height=180&fit=cover\",\"https://file.bienici.com/photo/ag593804-218962977_photos.ubiflow.net_593804_218962977_photos_1.jpg_20191014194217?width=300&height=180&fit=cover\",\"https://file.bienici.com/photo/ag591569-197980825_photos.ubiflow.net_591569_197980825_photos_1.jpg_20190521112412?width=300&height=180&fit=cover\",\"https://file.bienici.com/photo/ag593804-223131715_photos.ubiflow.net_593804_223131715_photos_1.jpg_20191029174024?width=300&height=180&fit=cover\",\"https://file.bienici.com/photo/century-21-202_3283_972_core.naxos-fr.net_imagesBien_202_3283_c21_202_3283_972_1_2A939C23-D4EF-4FDD-984E-EB40A9F494B6.jpg?width=300&height=180&fit=cover\",\"https://file.bienici.com/photo/orpi-1-120037E1HI1E_media6.ac3-distribution.com_office6_orpi_73142_catalog_images_pr_p_6_2_7_1_1_0_1_6271101a.jpg_DATEMAJ_201911131029?width=300&height=180&fit=cover\",\"https://file.bienici.com/photo/ag593804-216810150_photos.ubiflow.net_593804_216810150_photos_1.jpg_20191014194245?width=300&height=180&fit=cover\",\"https://file.bienici.com/photo/orpi-1-120037E1HFQI_media6.ac3-distribution.com_office6_orpi_73142_catalog_images_pr_p_6_2_6_7_4_8_1_6267481a.jpg_DATEMAJ_201911121402?width=300&height=180&fit=cover\",\"https://file.bienici.com/photo/immo-facile-34136641_media.immo-facile.com_office2_exactimmo_catalog_images_pr_p_3_4_1_3_6_6_4_1_34136641a.jpg_DATEMAJ_22_10_2019-09_20_16?width=300&height=180&fit=cover\",\"https://file.bienici.com/photo/ag593804-222595345_photos.ubiflow.net_593804_222595345_photos_1.jpg_20191025132130?width=300&height=180&fit=cover\",\"https://file.bienici.com/photo/ag440414-227220979_photos.ubiflow.net_440414_227220979_photos_1.jpg_20191125152213?width=300&height=180&fit=cover\",\"https://file.bienici.com/photo/orpi-1-120901E1ER80_media6.ac3-distribution.com_office6_orpi_73336_catalog_images_pr_p_6_1_0_7_7_5_0_6107750a.jpg_DATEMAJ_201909271444?width=300&height=180&fit=cover\",\"https://file.bienici.com/photo/ag593804-220546365_photos.ubiflow.net_593804_220546365_photos_1.jpg_20191016213637?width=300&height=180&fit=cover\",\"https://file.bienici.com/photo/ag591008-210492347_photos.ubiflow.net_591008_210492347_photos_1.jpg_20190801120625?width=300&height=180&fit=cover\",\"https://file.bienici.com/photo/pericles-25803012_a?width=300&height=180&fit=cover\",\"https://file.bienici.com/photo/ag593804-221609209_photos.ubiflow.net_593804_221609209_photos_1.jpg_20191018132833?width=300&height=180&fit=cover\",\"https://file.bienici.com/photo/ag593804-218748273_photos.ubiflow.net_593804_218748273_photos_1.jpg_20191118214004?width=300&height=180&fit=cover\",\"https://file.bienici.com/photo/ag440414-221659210_photos.ubiflow.net_440414_221659210_photos_1.jpg_20191018190414?width=300&height=180&fit=cover\",\"https://file.bienici.com/photo/pericles-27660414_a?width=300&height=180&fit=cover\",\"https://file.bienici.com/photo/pericles-27875328_a?width=300&height=180&fit=cover\",\"https://file.bienici.com/photo/immo-facile-32614038_media.immo-facile.com_office16_immodefrance_npdc_catalog_images_pr_p_3_2_6_1_4_0_3_8_32614038a.jpg_DATEMAJ_25_06_2019-17_26_45?width=300&height=180&fit=cover\",\"https://file.bienici.com/photo/ag440414-225507691_photos.ubiflow.net_440414_225507691_photos_1.jpg_20191114185847?width=300&height=180&fit=cover\",\"https://file.bienici.com/photo/ag440414-212765508_photos.ubiflow.net_440414_212765508_photos_1.jpg_20191126145042?width=300&height=180&fit=cover\",\"https://file.bienici.com/photo/citya-immobilier-1289-TAPP422525_cityabox-web.ics.infoclip.fr_icsbox_cit_CITYA_FLANDRES_jdd_transaction_photo_filigrane-2--3989774459365924394.jpg?width=300&height=180&fit=cover\",\"https://file.bienici.com/photo/pericles-25038823_a?width=300&height=180&fit=cover\",\"https://file.bienici.com/photo/ag592837-227283511_photos.ubiflow.net_592837_227283511_photos_1.jpg_20191129023826?width=300&height=180&fit=cover\",\"https://file.bienici.com/photo/ag752451-209382087_photos.ubiflow.net_752451_209382087_photos_1.jpg_20191213204035?width=300&height=180&fit=cover\",\"https://file.bienici.com/photo/ag594019-228452107_photos.ubiflow.net_594019_228452107_photos_1.jpg_20191207094215?width=300&height=180&fit=cover\"],\"index\":[0,1,2,3,4,5,6,7,8,9,10,11,12,13,14,15,16,17,18,19,20,21,22,23,24,25,26,27,28,29,30,31,32,33,34,35,36,37,38,39,40,41,42,43,44,45,46,47,48,49,50,51,52,53,54,55,56,57,58,59,60],\"nbr_rooms\":[6,10,7,8,10,10,5,5,5,4,4,6,5,4,5,5,3,3,4,3,3,3,5,4,4,3,3,3,3,4,3,3,3,4,2,4,2,2,4,3,2,2,2,6,5,6,4,2,5,2,4,4,2,2,2,3,2,1,2,3,1],\"pincode\":[59170,59290,59170,59170,59170,59170,59290,59290,59290,59290,59290,59170,59290,59170,59170,59290,59290,59290,59170,59290,59290,59290,59290,59290,59290,59170,59170,59170,59290,59170,59170,59170,59170,59290,59170,59290,59170,59170,59290,59290,59290,59290,59290,59170,59170,59170,59290,59290,59170,59170,59170,59170,59170,59170,59170,59170,59290,59170,59170,59170,59170],\"price\":[1355000,1290000,1050000,1040000,694790,660000,649000,590000,510000,479000,479000,475000,385000,360000,330000,298000,288000,276900,266500,262900,258900,250000,242500,240000,240000,231000,215000,207750,200000,196000,185755,183600,180000,179760,179000,175000,170000,170000,169000,168000,154145,153900,148500,148500,147900,146500,145600,140000,138500,137000,135990,135000,125000,118000,115990,115000,114500,104000,99000,96505,80000],\"serial\":[53,35,63,69,3,21,50,48,43,25,27,59,55,8,47,28,49,22,16,31,30,58,2,64,44,40,62,45,17,56,19,11,24,34,60,52,65,7,38,68,39,46,57,6,32,67,54,41,66,61,29,23,10,15,9,14,4,42,5,1,18],\"street\":[\"Fer \\u00e0 Cheval\",\"Grand Cottignies\",\"Centre-ville\",\"NaN\",\"Centre-ville\",\"Saint-Pierre\",\"NaN\",\"NaN\",\"Centre-ville - Pharos - Site Saint-Nicolas\",\"Centre-ville - Pharos - Site Saint-Nicolas\",\"Boers - Haut Vinage - Or\\u00e9e du Golf - Petit Wasquehal\",\"NaN\",\"NaN\",\"Saint-Pierre\",\"NaN\",\"Boers - Haut Vinage - Or\\u00e9e du Golf - Petit Wasquehal\",\"Capreau\",\"Centre-ville - Pharos - Site Saint-Nicolas\",\"Fer \\u00e0 Cheval\",\"Grand Cottignies\",\"Grand Cottignies\",\"NaN\",\"Centre-ville - Pharos - Site Saint-Nicolas\",\"NaN\",\"Boers - Haut Vinage - Or\\u00e9e du Golf - Petit Wasquehal\",\"Saint-Pierre\",\"NaN\",\"Saint-Pierre\",\"Grand Cottignies\",\"NaN\",\"Saint-Pierre\",\"Saint-Pierre\",\"Fer \\u00e0 Cheval\",\"Capreau\",\"NaN\",\"Capreau\",\"NaN\",\"Saint-Pierre\",\"Capreau\",\"NaN\",\"Grand Cottignies\",\"Grand Cottignies\",\"NaN\",\"Saint-Pierre\",\"Saint-Pierre\",\"NaN\",\"Centre-ville - Pharos - Site Saint-Nicolas\",\"Grand Cottignies\",\"NaN\",\"NaN\",\"Saint-Pierre\",\"Saint-Pierre\",\"Fer \\u00e0 Cheval\",\"Saint-Pierre\",\"Saint-Pierre\",\"Fer \\u00e0 Cheval\",\"Noir Bonnet - Rue Pasteur\",\"Fer \\u00e0 Cheval\",\"Saint-Pierre\",\"Saint-Pierre\",\"Centre-ville\"]},\"selected\":{\"id\":\"126020\",\"type\":\"Selection\"},\"selection_policy\":{\"id\":\"126021\",\"type\":\"UnionRenderers\"}},\"id\":\"124818\",\"type\":\"ColumnDataSource\"},{\"attributes\":{\"callback\":null},\"id\":\"124822\",\"type\":\"DataRange1d\"},{\"attributes\":{},\"id\":\"124836\",\"type\":\"BasicTicker\"},{\"attributes\":{\"axis_label\":\"price\",\"formatter\":{\"id\":\"126017\",\"type\":\"BasicTickFormatter\"},\"ticker\":{\"id\":\"124831\",\"type\":\"BasicTicker\"}},\"id\":\"124830\",\"type\":\"LinearAxis\"},{\"attributes\":{\"active_drag\":\"auto\",\"active_inspect\":\"auto\",\"active_multi\":null,\"active_scroll\":\"auto\",\"active_tap\":\"auto\",\"tools\":[{\"id\":\"124840\",\"type\":\"PanTool\"},{\"id\":\"124841\",\"type\":\"BoxSelectTool\"},{\"id\":\"124842\",\"type\":\"ZoomInTool\"},{\"id\":\"124843\",\"type\":\"ZoomOutTool\"},{\"id\":\"124854\",\"type\":\"HoverTool\"}]},\"id\":\"124844\",\"type\":\"Toolbar\"},{\"attributes\":{\"callback\":null},\"id\":\"124824\",\"type\":\"DataRange1d\"},{\"attributes\":{\"callback\":null,\"tooltips\":\"\\n<div>\\n    <h3>@address</h3>\\n    <div><strong>Price(\\u00a3): </div>@price</strong>\\n    <div><strong>City: </div>@city</strong>\\n    <div><strong>Rooms: </div>@nbr_rooms</strong>\\n    <div><img src=\\\"@image_link\\\" alt=\\\"\\\" /></div>\\n</div>\\n\"},\"id\":\"124854\",\"type\":\"HoverTool\"},{\"attributes\":{},\"id\":\"124831\",\"type\":\"BasicTicker\"},{\"attributes\":{},\"id\":\"124840\",\"type\":\"PanTool\"},{\"attributes\":{},\"id\":\"126015\",\"type\":\"BasicTickFormatter\"},{\"attributes\":{},\"id\":\"124843\",\"type\":\"ZoomOutTool\"},{\"attributes\":{\"data_source\":{\"id\":\"124818\",\"type\":\"ColumnDataSource\"},\"glyph\":{\"id\":\"124850\",\"type\":\"HBar\"},\"hover_glyph\":null,\"muted_glyph\":null,\"nonselection_glyph\":{\"id\":\"124851\",\"type\":\"HBar\"},\"selection_glyph\":null,\"view\":{\"id\":\"124853\",\"type\":\"CDSView\"}},\"id\":\"124852\",\"type\":\"GlyphRenderer\"},{\"attributes\":{\"fill_alpha\":{\"value\":0.1},\"fill_color\":{\"value\":\"#1f77b4\"},\"height\":{\"value\":0.6},\"line_alpha\":{\"value\":0.1},\"line_color\":{\"value\":\"#1f77b4\"},\"right\":{\"field\":\"price\"},\"y\":{\"field\":\"area\"}},\"id\":\"124851\",\"type\":\"HBar\"},{\"attributes\":{\"source\":{\"id\":\"124818\",\"type\":\"ColumnDataSource\"}},\"id\":\"124853\",\"type\":\"CDSView\"},{\"attributes\":{\"axis_label\":\"houses\",\"formatter\":{\"id\":\"126015\",\"type\":\"BasicTickFormatter\"},\"ticker\":{\"id\":\"124836\",\"type\":\"BasicTicker\"}},\"id\":\"124835\",\"type\":\"LinearAxis\"},{\"attributes\":{\"fill_color\":{\"value\":\"#1f77b4\"},\"height\":{\"value\":0.6},\"line_color\":{\"value\":\"#1f77b4\"},\"right\":{\"field\":\"price\"},\"y\":{\"field\":\"area\"}},\"id\":\"124850\",\"type\":\"HBar\"},{\"attributes\":{},\"id\":\"124828\",\"type\":\"LinearScale\"},{\"attributes\":{\"text\":\"city vs rooms\"},\"id\":\"124820\",\"type\":\"Title\"}],\"root_ids\":[\"124819\"]},\"title\":\"Bokeh Application\",\"version\":\"1.2.0\"}};\n",
       "  var render_items = [{\"docid\":\"2be6a6e6-5363-4c5d-8d7a-dbb80d5567aa\",\"roots\":{\"124819\":\"c8a5a04d-96bf-4f31-bcc9-4eab974d1891\"}}];\n",
       "  root.Bokeh.embed.embed_items_notebook(docs_json, render_items);\n",
       "\n",
       "  }\n",
       "  if (root.Bokeh !== undefined) {\n",
       "    embed_document(root);\n",
       "  } else {\n",
       "    var attempts = 0;\n",
       "    var timer = setInterval(function(root) {\n",
       "      if (root.Bokeh !== undefined) {\n",
       "        embed_document(root);\n",
       "        clearInterval(timer);\n",
       "      }\n",
       "      attempts++;\n",
       "      if (attempts > 100) {\n",
       "        console.log(\"Bokeh: ERROR: Unable to run BokehJS code because BokehJS library is missing\");\n",
       "        clearInterval(timer);\n",
       "      }\n",
       "    }, 10, root)\n",
       "  }\n",
       "})(window);"
      ],
      "application/vnd.bokehjs_exec.v0+json": ""
     },
     "metadata": {
      "application/vnd.bokehjs_exec.v0+json": {
       "id": "124819"
      }
     },
     "output_type": "display_data"
    }
   ],
   "source": [
    "\n",
    "\n",
    "dt = ColumnDataSource(datah)\n",
    "\n",
    "\n",
    "p = figure(\n",
    "    #y = datah['serial'],\n",
    "    title = 'city vs rooms',\n",
    "    plot_width = 800,\n",
    "    plot_height = 600,\n",
    "    x_axis_label = 'price',\n",
    "    y_axis_label = 'houses',\n",
    "    tools = \"pan,box_select,zoom_in,zoom_out\"\n",
    ")\n",
    "\n",
    "p.hbar(y = 'area',\n",
    "       right = 'price',\n",
    "       left = 0,\n",
    "       height = 0.6,\n",
    "       source = dt\n",
    "      \n",
    "      )\n",
    "hover = HoverTool()\n",
    "hover.tooltips = \"\"\"\n",
    "<div>\n",
    "    <h3>@address</h3>\n",
    "    <div><strong>Price(£): </div>@price</strong>\n",
    "    <div><strong>City: </div>@city</strong>\n",
    "    <div><strong>Rooms: </div>@nbr_rooms</strong>\n",
    "    <div><img src=\"@image_link\" alt=\"\" /></div>\n",
    "</div>\n",
    "\"\"\"\n",
    "p.add_tools(hover)\n",
    "\n",
    "show(p)"
   ]
  }
 ],
 "metadata": {
  "kernelspec": {
   "display_name": "Python 3",
   "language": "python",
   "name": "python3"
  },
  "language_info": {
   "codemirror_mode": {
    "name": "ipython",
    "version": 3
   },
   "file_extension": ".py",
   "mimetype": "text/x-python",
   "name": "python",
   "nbconvert_exporter": "python",
   "pygments_lexer": "ipython3",
   "version": "3.7.3"
  }
 },
 "nbformat": 4,
 "nbformat_minor": 2
}
