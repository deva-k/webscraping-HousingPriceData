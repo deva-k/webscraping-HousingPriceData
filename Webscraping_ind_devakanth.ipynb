{
 "cells": [
  {
   "cell_type": "markdown",
   "metadata": {},
   "source": [
    "# Web Scraping"
   ]
  },
  {
   "cell_type": "code",
   "execution_count": null,
   "metadata": {},
   "outputs": [],
   "source": [
    "Name : DEVAKANTH KALAPATI"
   ]
  },
  {
   "cell_type": "code",
   "execution_count": null,
   "metadata": {},
   "outputs": [],
   "source": [
    "pip install selenium"
   ]
  },
  {
   "cell_type": "code",
   "execution_count": null,
   "metadata": {},
   "outputs": [],
   "source": [
    "from selenium import webdriver\n",
    "import pandas as pd \n",
    "import time\n",
    "import numpy as np\n",
    "import os\n",
    "from os.path import dirname, join"
   ]
  },
  {
   "cell_type": "code",
   "execution_count": null,
   "metadata": {},
   "outputs": [],
   "source": [
    "#setting up the web driver\n",
    "driver = webdriver.Chrome(executable_path=join(os.path.dirname(\"__file__\"), 'chromedriver.exe'))\n",
    "driver.implicitly_wait(60)\n",
    "driver.get(\"https://www.bienici.com/recherche/achat/croix-59170,wasquehal-59290\")\n"
   ]
  },
  {
   "cell_type": "code",
   "execution_count": null,
   "metadata": {},
   "outputs": [],
   "source": [
    "#options_firefox = webdriver.FirefoxOptions()\n",
    "#optionss.add_argument(\"-headless\")\n",
    "#optionss.headless = True\n",
    "#options_firefox.set_preference(\"dom.push.enabled\", False)\n",
    "#driver = webdriver.Firefox(executable_path=r'C:\\Users\\dkalapati\\Desktop\\python individual\\geckodriver.exe')"
   ]
  },
  {
   "cell_type": "code",
   "execution_count": null,
   "metadata": {},
   "outputs": [],
   "source": [
    "#creating lists to store our scraped data\n",
    "\n",
    "details_list = []\n",
    "address_list = []\n",
    "price_list = []\n",
    "reference_list = []\n",
    "img_list = []"
   ]
  },
  {
   "cell_type": "code",
   "execution_count": null,
   "metadata": {},
   "outputs": [],
   "source": [
    "#using click method of selenium to go to a different page\n",
    "\n",
    "driver.find_element_by_xpath('//*[@id=\"searchSideHeader\"]/div/div[2]/div/div/div/div[2]').click()"
   ]
  },
  {
   "cell_type": "code",
   "execution_count": null,
   "metadata": {},
   "outputs": [],
   "source": [
    "#getting the number of pages of data present for our search results\n",
    "\n",
    "p = driver.find_elements_by_xpath('//*[@id=\"searchResultsContainer\"]/div[3]/div/div[2]')\n",
    "ph=[]\n",
    "for i in p:\n",
    "    s = i.text\n",
    "    s = s.replace('\\n',\" \")\n",
    "ph = s.split(\" \")\n",
    "for k in range(len(ph)):\n",
    "    ph[k] = int(ph[k])\n",
    "#del ph[0]\n",
    "print(ph)\n",
    "\n",
    "\n"
   ]
  },
  {
   "cell_type": "code",
   "execution_count": null,
   "metadata": {},
   "outputs": [],
   "source": [
    "#code block to get the data into the lists\n",
    "\n",
    "#p = driver.find_elements_by_xpath('//*[@id=\"searchResultsContainer\"]/div[3]/div/div[2]')\n",
    "\n",
    "for page_num in ph:\n",
    "    driver.implicitly_wait(60)\n",
    "\n",
    "    #print(\"pagenumber \",i) \n",
    "    details = driver.find_elements_by_class_name('descriptionTitle')\n",
    "    \n",
    "    address = driver.find_elements_by_class_name('descriptionTitleAddress')\n",
    "    \n",
    "    price = driver.find_elements_by_class_name('thePrice')\n",
    "    \n",
    "    #price_per_sqm = driver.find_elements_by_class_name('searchItemPhoto')\n",
    "    #reference_id = driver.find_elements_by_class_name('reference')\n",
    "    \n",
    "    img = driver.find_elements_by_class_name('searchItemPhoto')\n",
    "    \n",
    "    \n",
    "\n",
    "    for a in details:\n",
    "        details_list.append(a.text)\n",
    "    \n",
    "    for b in address:\n",
    "        address_list.append(b.text)\n",
    "        \n",
    "    for c in price:\n",
    "        if c.text != \"\":\n",
    "            price_list.append(c.text)\n",
    "    \n",
    "    for p in img:\n",
    "            img_list.append(p.get_attribute('src'))\n",
    "            \n",
    "    #for d in price_per_sqm:\n",
    "         #if not any(g in d.text for g in data[\"price_per_sqm\"]):\n",
    "            #data[\"price_per_sqm\"] = d.text\n",
    "            \n",
    "    #for e in reference_id:\n",
    "        #reference_list.append(e.text)\n",
    "        \n",
    "    \n",
    "        \n",
    "    if page_num == ph[-1]:\n",
    "        break\n",
    "    else:\n",
    "        pageiterator = f'//*[@id=\"searchResultsContainer\"]/div[3]/div/div[2]/a[{page_num}]'\n",
    "        time.sleep(10)\n",
    "        driver.find_element_by_xpath(pageiterator).click()\n",
    "        #pageiterator = f'https://www.bienici.com/recherche/achat/croix-59170,wasquehal-59290?page={page_num+1}'\n",
    "        #driver.find_element_by_link_text(pageiterator).click()\n",
    "        \n",
    "    \n",
    "    \n"
   ]
  },
  {
   "cell_type": "code",
   "execution_count": null,
   "metadata": {},
   "outputs": [],
   "source": [
    "#closing the web driver\n",
    "driver.quit()"
   ]
  },
  {
   "cell_type": "code",
   "execution_count": null,
   "metadata": {},
   "outputs": [],
   "source": [
    "#converting the lists into dictionary\n",
    "data_dict = {'category' : details_list,'address' : address_list, 'price' : price_list,'image_link' : img_list}"
   ]
  },
  {
   "cell_type": "code",
   "execution_count": null,
   "metadata": {},
   "outputs": [],
   "source": [
    "data_dict"
   ]
  },
  {
   "cell_type": "code",
   "execution_count": null,
   "metadata": {},
   "outputs": [],
   "source": [
    "#changing the default settings of column width of pandas dataframe to read in data of greater length\n",
    "\n",
    "pd.options.display.max_colwidth = 250"
   ]
  },
  {
   "cell_type": "code",
   "execution_count": null,
   "metadata": {},
   "outputs": [],
   "source": [
    "#converting the dictionary into dataframe\n",
    "datah = pd.DataFrame(data_dict)"
   ]
  },
  {
   "cell_type": "markdown",
   "metadata": {},
   "source": [
    "# cleaning data\n"
   ]
  },
  {
   "cell_type": "code",
   "execution_count": null,
   "metadata": {},
   "outputs": [],
   "source": [
    "datah['price'] = datah['price'].str.replace(' ','')\n",
    "#extracting number from price column\n",
    "datah['price'] = datah['price'].str.extract('(\\d+)', expand=False)\n",
    "#converting price column to int\n",
    "datah['price'] = datah['price'].transform(lambda h: int(h))"
   ]
  },
  {
   "cell_type": "code",
   "execution_count": null,
   "metadata": {},
   "outputs": [],
   "source": [
    "datah['pincode'] = datah['address'].str.extract('(\\d+)', expand=False)\n",
    "datah['pincode'] = datah['pincode'].transform(lambda j: int(j))"
   ]
  },
  {
   "cell_type": "code",
   "execution_count": null,
   "metadata": {},
   "outputs": [],
   "source": [
    "datah['city'] = datah['address'].transform(lambda t: t.str.split(' ',1).str[0])"
   ]
  },
  {
   "cell_type": "code",
   "execution_count": null,
   "metadata": {},
   "outputs": [],
   "source": [
    "datah['street'] = datah['address'].transform(lambda t: t.str.split('(',1).str[1])\n",
    "datah['street'] = datah['street'].str.replace(')','')"
   ]
  },
  {
   "cell_type": "code",
   "execution_count": null,
   "metadata": {},
   "outputs": [],
   "source": [
    "datah['Type'] = datah['category'].transform(lambda t: t.str.split(' ',1).str[0])"
   ]
  },
  {
   "cell_type": "code",
   "execution_count": null,
   "metadata": {},
   "outputs": [],
   "source": [
    "datah['nbr_rooms'] = datah['category'].str.extract('(\\d+)', expand=False)\n",
    "datah['nbr_rooms'] = datah['nbr_rooms'].transform(lambda t: float(t))"
   ]
  },
  {
   "cell_type": "code",
   "execution_count": null,
   "metadata": {},
   "outputs": [],
   "source": [
    "datah['area'] = datah['category'].transform(lambda t: t.str.split('pièce').str[1])\n",
    "datah['area'] = datah['area'].str.extract('(\\d+)', expand=False)\n",
    "datah['area'] = datah['area'].transform(lambda t: float(t))\n",
    "datah['area'] = np.where(datah['area'] < 1000,datah['area'],np.nan)"
   ]
  },
  {
   "cell_type": "code",
   "execution_count": null,
   "metadata": {},
   "outputs": [],
   "source": [
    "datah = datah[(datah['Type'] == \"Maison\") | (datah['Type'] ==\"Appartement\")]"
   ]
  },
  {
   "cell_type": "code",
   "execution_count": null,
   "metadata": {},
   "outputs": [],
   "source": [
    "#saving dataframe to csv file\n",
    "\n",
    "datah.to_csv(join(os.path.dirname(\"__file__\"), \"ind_data_latest.csv\"))"
   ]
  }
 ],
 "metadata": {
  "kernelspec": {
   "display_name": "Python 3",
   "language": "python",
   "name": "python3"
  },
  "language_info": {
   "codemirror_mode": {
    "name": "ipython",
    "version": 3
   },
   "file_extension": ".py",
   "mimetype": "text/x-python",
   "name": "python",
   "nbconvert_exporter": "python",
   "pygments_lexer": "ipython3",
   "version": "3.7.4"
  }
 },
 "nbformat": 4,
 "nbformat_minor": 2
}
